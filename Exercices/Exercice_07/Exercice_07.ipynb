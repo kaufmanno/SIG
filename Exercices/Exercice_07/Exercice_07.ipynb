{
 "cells": [
  {
   "cell_type": "markdown",
   "metadata": {},
   "source": [
    "# Exercice 7: Manipulation de couches vecteur avec QGIS\n",
    "O. Kaufmann 2023."
   ]
  },
  {
   "cell_type": "code",
   "execution_count": 1,
   "metadata": {},
   "outputs": [
    {
     "name": "stdout",
     "output_type": "stream",
     "text": [
      "# @info: Exécutez-moi pour cacher le code, puis sauvegardez le notebook\n"
     ]
    }
   ],
   "source": [
    "# @info: Exécutez-moi pour activer les questions interactives\n",
    "# -----------------------------------------------------------\n",
    "\n",
    "from IPython.display import HTML\n",
    "import codecs\n",
    "\n",
    "# @hidden\n",
    "HTML('''\n",
    "<script>\n",
    "code_show=true;\n",
    "function code_toggle() {\n",
    " if (code_show){\n",
    "  $('.cm-comment:contains(@hidden)').closest('div.input').hide();\n",
    " } else {\n",
    "  $('.cm-comment:contains(@hidden)').closest('div.input').show();\n",
    " }\n",
    " code_show = !code_show\n",
    "}\n",
    "$( document ).ready(code_toggle);\n",
    "</script>\n",
    "<div># @info: Exécutez-moi pour activer les questions interactives </div>\n",
    "''')"
   ]
  },
  {
   "cell_type": "markdown",
   "metadata": {},
   "source": [
    "***\n",
    "## 1. Préparation"
   ]
  },
  {
   "cell_type": "markdown",
   "metadata": {},
   "source": [
    "<div class=\"alert alert-block alert-info\">\n",
    "<b>Info:</b><br>     Cet exercice est à réaliser dans QGIS. Le notebook ne sert qu'à vous guider dans la réalisation de l'exercice. Lancez QGIS avant de continuer.\n",
    "</div>"
   ]
  },
  {
   "cell_type": "markdown",
   "metadata": {},
   "source": [
    "<div class=\"alert alert-block alert-success\">\n",
    "\t<b>1.1 Préliminaire</b>\n",
    "</div>"
   ]
  },
  {
   "cell_type": "markdown",
   "metadata": {},
   "source": [
    "<div class=\"alert alert-block alert-warning\">\n",
    "<b>Question: </b><br>Faites une copie du projet QGIS Exercice_07.qgz et ouvrez-la.\n",
    "</div>"
   ]
  },
  {
   "cell_type": "markdown",
   "metadata": {},
   "source": [
    "***\n",
    "## 2. Couches vecteur"
   ]
  },
  {
   "cell_type": "markdown",
   "metadata": {},
   "source": [
    "<div class=\"alert alert-block alert-warning\">\n",
    "<b>Question: </b><br>Créez une couche vecteur (au format shapefile) de type polygone définie dans le crs Lambert Belge et nommée 'aoi.shp' (aoi = area of interest).      \n",
    "</div>"
   ]
  },
  {
   "cell_type": "code",
   "execution_count": null,
   "metadata": {},
   "outputs": [
    {
     "name": "stdout",
     "output_type": "stream",
     "text": [
      "# @info: Exécutez-moi pour afficher la question interactive\n"
     ]
    }
   ],
   "source": [
    "# @hidden\n",
    "sx=b'3c64697620636c6173733d22616c65727420616c6572742d626c6f636b20616c6572742d7761726e696e67223e0a3c623e5175657374696f6e3a203c2f623e3c62723e416a6f7574657a20756e6520616972652072656374616e67756c616972652064c3a96c696d6974c3a96520706172206c657320706f696e747320646520636f6f72646f6e6ec3a96573204c42373220283131393530302c203132383030302920657420283132313530302c20313236303030292072657072c3a973656e74616e7420726573706563746976656d656e74206c657320636f696e73206e6f72642d6f75657374206574207375642d657374206465206c27616972652e0a202020200a0a3c2f6469763e203c62723e0a3c627574746f6e20646174612d746f67676c653d22636f6c6c61707365220a2020202020202020202020202020202020202020646174612d7461726765743d22237175657374696f6e5f30303032223e4166666963686572206c612072c3a9706f6e73653c2f627574746f6e3e0a0a3c6469762069643d227175657374696f6e5f30303032220a2020202020202020202020202020202020202020636c6173733d22636f6c6c61707365223e202020205574696c6973657a206c276f7574696c206465206e6f6575647320706f7572206669786572207072c3a9636973c3a96d656e74206c657320636f6f72646f6e6ec3a965732e0a3c2f6469763e0a'\n",
    "HTML(codecs.decode(codecs.decode(sx,'hex'), 'utf8'))"
   ]
  },
  {
   "attachments": {},
   "cell_type": "markdown",
   "metadata": {},
   "source": [
    "<div class=\"alert alert-block alert-warning\">\n",
    "<b>Question: </b><br>Fixez l'échelle à 1/10000. <img src=\"data:image/png;base64,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\" >  \n",
    "    Affichez l'aire d'intérêt sans remplissage et son contour représenté en rouge avec un trait de 0.5 mm.\n",
    "</div>"
   ]
  },
  {
   "cell_type": "markdown",
   "metadata": {},
   "source": [
    "<div class=\"alert alert-block alert-success\">\n",
    "\t<b>2.1 Vectorisation de la carte géologique</b>\n",
    "</div>"
   ]
  },
  {
   "cell_type": "markdown",
   "metadata": {},
   "source": [
    "<div class=\"alert alert-block alert-warning\">\n",
    "<b>Question: </b><br>Créez un geopackage nommé 'geologie.gpkg' et ajoutez-y une couche 'geologie' de type polygone dans le crs EPSG:31370 avec 'etage' comme attribut texte.\n",
    "</div>"
   ]
  },
  {
   "cell_type": "markdown",
   "metadata": {},
   "source": [
    "<div class=\"alert alert-block alert-warning\">\n",
    "<b>Question: </b><br>Ajoutez le raster représentant la carte géologique de Mons-Givry à votre carte et organisez l'ordre d'affichage des couches pour faciliter la vectorisation.\n",
    "</div>"
   ]
  },
  {
   "cell_type": "markdown",
   "metadata": {},
   "source": [
    "<div class=\"alert alert-block alert-warning\">\n",
    "<b>Question: </b><br>Ajoutez la couche aoi au geopakage.  \n",
    "    Copiez le style que vous aviez crée et recopiez-le sur la couche aoi du geopackage.  \n",
    "    Retirez la couche aoi au format shapefile du projet.\n",
    "</div>"
   ]
  },
  {
   "cell_type": "markdown",
   "metadata": {},
   "source": [
    "<div class=\"alert alert-block alert-warning\">\n",
    "<b>Question: </b><br>Vectorisez l'étendue de l'étage Y1b sur la butte de Mons.  \n",
    "    Attention, la partie sud est recouverte par des alluvions, la limite y est figurée par un fin pointillé.  \n",
    "    A la fin de la vectorisation, n'oubliez pas d'encoder la valeur de l'attribut etage.\n",
    "</div>"
   ]
  },
  {
   "cell_type": "markdown",
   "metadata": {},
   "source": [
    "<div class=\"alert alert-block alert-warning\">\n",
    "<b>Question: </b><br>En utilisant les options d'accrochage et d'édition topologique, vectorisez l'étendue de l'étage Y1a au sein de l'aire d'intérêt. Dans le cadre de cet exercice, on souhaite représenter le premier étage de l'ère tertiaire que rencontrerait un forage.\n",
    "</div>"
   ]
  },
  {
   "cell_type": "markdown",
   "metadata": {},
   "source": [
    "<div class=\"alert alert-block alert-warning\">\n",
    "<b>Question: </b><br>En utilisant les options d'accrochage et d'édition topologique, vectorisez l'étendue des étages L1 et Y1b au sein de l'aire d'intérêt.  \n",
    "    Réfléchissez à une stratégie efficace.\n",
    "</div>"
   ]
  },
  {
   "cell_type": "markdown",
   "metadata": {},
   "source": [
    "<div class=\"alert alert-block alert-warning\">\n",
    "<b>Question: </b><br>Enregistrez vos modifications et définissez pour la couche geologie une symbologie qui ressemble à celle de la carte originale.  \n",
    "    Affichez la couche avec cette symbologie.\n",
    "</div>"
   ]
  },
  {
   "cell_type": "markdown",
   "metadata": {},
   "source": [
    "<div class=\"alert alert-block alert-success\">\n",
    "\t<b>2.2 Sélections</b>\n",
    "</div>"
   ]
  },
  {
   "cell_type": "markdown",
   "metadata": {},
   "source": [
    "<div class=\"alert alert-block alert-warning\">\n",
    "<b>Question: </b><br>Ajoutez la couche wells.shp à votre carte.\n",
    "</div>"
   ]
  },
  {
   "cell_type": "markdown",
   "metadata": {},
   "source": [
    "<div class=\"alert alert-block alert-warning\">\n",
    "<b>Question: </b><br>Affichez la couche wells en utilisant un rond rouge pour symboliser les puits.\n",
    "</div>"
   ]
  },
  {
   "cell_type": "markdown",
   "metadata": {},
   "source": [
    "<div class=\"alert alert-block alert-warning\">\n",
    "<b>Question: </b><br>A l'aide d'une sélection attributaire recherchez le puits 16. Où se trouve-t-il? \n",
    "</div>"
   ]
  },
  {
   "cell_type": "markdown",
   "metadata": {},
   "source": [
    "<div class=\"alert alert-block alert-warning\">\n",
    "<b>Question: </b><br>Affichez les numéros des puits à côté du symbole.\n",
    "</div>"
   ]
  },
  {
   "cell_type": "markdown",
   "metadata": {},
   "source": [
    "<div class=\"alert alert-block alert-warning\">\n",
    "<b>Question: </b><br>A l'aide d'une sélection spatiale, recherchez tous les puits qui sont situés directement au droit de l'étage L1 (éventuellement sous les alluvions). De quels puits s'agit-il?\n",
    "</div>"
   ]
  }
 ],
 "metadata": {
  "kernelspec": {
   "display_name": "Python 3 (ipykernel)",
   "language": "python",
   "name": "python3"
  },
  "language_info": {
   "codemirror_mode": {
    "name": "ipython",
    "version": 3
   },
   "file_extension": ".py",
   "mimetype": "text/x-python",
   "name": "python",
   "nbconvert_exporter": "python",
   "pygments_lexer": "ipython3",
   "version": "3.8.10"
  }
 },
 "nbformat": 4,
 "nbformat_minor": 4
}
