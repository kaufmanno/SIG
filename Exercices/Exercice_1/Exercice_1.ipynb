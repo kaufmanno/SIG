{
 "cells": [
  {
   "cell_type": "markdown",
   "metadata": {},
   "source": [
    "# Exercice 1: Création et manipulation d'une base de données simple\n",
    "O. Kaufmann 2018, 2022.\n",
    "\n",
    "<div class=\"alert alert-block alert-info\">\n",
    "    <b>Tip:</b> Exécuter une à une les cellules déjà présentes en prenant soin de comprendre leur contenu.<br>\n",
    "    Compléter le notebook là où c'est nécessaire. Un encadré vert expliquant le complément attendu précède la section à compléter.\n",
    "</div>\n",
    "\n",
    "<div class=\"alert alert-block alert-warning\">\n",
    "    <b>Avertissement:</b><br> Ce notebook nécessite que votre environnement virtuel soit actif et à jour, vous aurez besoin des packages matplotlib, ipython-sql, pandas et eralchemy...<br>\n",
    "</div> "
   ]
  },
  {
   "cell_type": "markdown",
   "metadata": {},
   "source": [
    "***\n",
    "## 1. Initialisation du notebook"
   ]
  },
  {
   "cell_type": "code",
   "execution_count": 1,
   "metadata": {},
   "outputs": [
    {
     "name": "stdout",
     "output_type": "stream",
     "text": [
      "# @info: Exécutez-moi pour cacher le code, puis sauvegardez le notebook\n"
     ]
    }
   ],
   "source": [
    "# @info: Exécutez-moi pour activer les questions interactives\n",
    "# -----------------------------------------------------------\n",
    "\n",
    "from IPython.display import HTML\n",
    "import codecs\n",
    "\n",
    "# @hidden\n",
    "HTML('''\n",
    "<script>\n",
    "code_show=true;\n",
    "function code_toggle() {\n",
    " if (code_show){\n",
    "  $('.cm-comment:contains(@hidden)').closest('div.input').hide();\n",
    " } else {\n",
    "  $('.cm-comment:contains(@hidden)').closest('div.input').show();\n",
    " }\n",
    " code_show = !code_show\n",
    "}\n",
    "$( document ).ready(code_toggle);\n",
    "</script>\n",
    "<div># @info: Exécutez-moi pour activer les questions interactives </div>\n",
    "''')"
   ]
  },
  {
   "cell_type": "markdown",
   "metadata": {},
   "source": [
    "<div class=\"alert alert-block alert-success\">\n",
    "\t<b>1.1 Chargement des <i>packages</i> python</b>\n",
    "</div>"
   ]
  },
  {
   "cell_type": "markdown",
   "metadata": {},
   "source": [
    "### Chargement des packages python\n",
    "<div class=\"alert alert-block alert-info\">\n",
    "    <i>matplotlib</i> sert à créer des graphiques au départ de données<br>\n",
    "    <i>pandas</i> sert à manipuler des tableaux<br>\n",
    "    <i>render_er</i> sert à créer une représentation graphique de la base de données<br> \n",
    "    <i>SVG</i> sert à afficher des graphiques SVG dans le notebook\n",
    "</div>  "
   ]
  },
  {
   "cell_type": "code",
   "execution_count": 2,
   "metadata": {},
   "outputs": [],
   "source": [
    "%matplotlib inline\n",
    "import matplotlib.pyplot as plt\n",
    "import pandas as pd\n",
    "from eralchemy import render_er\n",
    "from IPython.display import SVG, Image"
   ]
  },
  {
   "cell_type": "markdown",
   "metadata": {},
   "source": [
    "<div class=\"alert alert-block alert-success\">\n",
    "\t<b>1.2 Chargement de l'extension sql pour jupyter et ouverture d'une base de donnée sqlite3</b>\n",
    "</div>"
   ]
  },
  {
   "cell_type": "markdown",
   "metadata": {},
   "source": [
    "Charger l'extension de Jupyter pour traiter SQL"
   ]
  },
  {
   "cell_type": "code",
   "execution_count": 3,
   "metadata": {},
   "outputs": [],
   "source": [
    "%load_ext sql"
   ]
  },
  {
   "cell_type": "markdown",
   "metadata": {},
   "source": [
    "Obtenir de l'aide sur une fonction dans un notebook avec '?'"
   ]
  },
  {
   "cell_type": "raw",
   "metadata": {},
   "source": [
    "? %%sql"
   ]
  },
  {
   "cell_type": "code",
   "execution_count": 4,
   "metadata": {},
   "outputs": [],
   "source": [
    "! rm example_db.db"
   ]
  },
  {
   "cell_type": "markdown",
   "metadata": {},
   "source": [
    "Création d'une base de données vide (car elle n'existe pas puisqu'on vient d'effacer le fichier!)  \n",
    "<div class=\"alert alert-block alert-info\">\n",
    "    <b>Tip:</b> Si le fichier existait, on pourrait se connecter à la base existante de la même façon...\n",
    "</div>  "
   ]
  },
  {
   "cell_type": "code",
   "execution_count": 5,
   "metadata": {},
   "outputs": [],
   "source": [
    "%sql sqlite:///example_db.db"
   ]
  },
  {
   "cell_type": "markdown",
   "metadata": {},
   "source": [
    "<div class=\"alert alert-block alert-success\">\n",
    "\t<b>1.3 Création des tables</b>\n",
    "</div>"
   ]
  },
  {
   "cell_type": "code",
   "execution_count": 6,
   "metadata": {},
   "outputs": [
    {
     "name": "stdout",
     "output_type": "stream",
     "text": [
      " * sqlite:///example_db.db\n",
      "Done.\n"
     ]
    },
    {
     "data": {
      "text/plain": [
       "[]"
      ]
     },
     "execution_count": 6,
     "metadata": {},
     "output_type": "execute_result"
    }
   ],
   "source": [
    "%%sql \n",
    "CREATE TABLE ouvrages(\n",
    "    nom TEXT PRIMARY KEY,\n",
    "    commune TEXT  \n",
    ");"
   ]
  },
  {
   "cell_type": "code",
   "execution_count": 7,
   "metadata": {},
   "outputs": [
    {
     "name": "stdout",
     "output_type": "stream",
     "text": [
      " * sqlite:///example_db.db\n",
      "Done.\n"
     ]
    },
    {
     "data": {
      "text/plain": [
       "[]"
      ]
     },
     "execution_count": 7,
     "metadata": {},
     "output_type": "execute_result"
    }
   ],
   "source": [
    "%%sql\n",
    "CREATE TABLE piezometres(\n",
    "    nom TEXT, \n",
    "    enregistreur TEXT,\n",
    "    PRIMARY KEY(nom),\n",
    "    FOREIGN KEY(nom) REFERENCES ouvrages(nom) ON DELETE CASCADE\n",
    ");"
   ]
  },
  {
   "cell_type": "code",
   "execution_count": 8,
   "metadata": {},
   "outputs": [
    {
     "name": "stdout",
     "output_type": "stream",
     "text": [
      " * sqlite:///example_db.db\n",
      "Done.\n"
     ]
    },
    {
     "data": {
      "text/plain": [
       "[]"
      ]
     },
     "execution_count": 8,
     "metadata": {},
     "output_type": "execute_result"
    }
   ],
   "source": [
    "%%sql\n",
    "CREATE TABLE puits_captages(\n",
    "    nom TEXT,\n",
    "    type_pompe TEXT,\n",
    "    PRIMARY KEY(nom),\n",
    "    FOREIGN KEY(nom) REFERENCES ouvrages(nom) ON DELETE CASCADE\n",
    ");"
   ]
  },
  {
   "cell_type": "code",
   "execution_count": 10,
   "metadata": {},
   "outputs": [
    {
     "name": "stdout",
     "output_type": "stream",
     "text": [
      " * sqlite:///example_db.db\n",
      "Done.\n"
     ]
    },
    {
     "data": {
      "text/plain": [
       "[]"
      ]
     },
     "execution_count": 10,
     "metadata": {},
     "output_type": "execute_result"
    }
   ],
   "source": [
    "%%sql\n",
    "CREATE TABLE prelevements(\n",
    "    nom_puits TEXT,\n",
    "    annee INTEGER,\n",
    "    volume REAL,\n",
    "    PRIMARY KEY(nom_puits, annee),\n",
    "    FOREIGN KEY(nom_puits) REFERENCES puits_captages(nom) ON DELETE CASCADE\n",
    "    );"
   ]
  },
  {
   "cell_type": "markdown",
   "metadata": {},
   "source": [
    "<div class=\"alert alert-block alert-success\">\n",
    "\t<b>1.4 Afficher le schéma de la base de données sous forme graphique  \n",
    "<div class=\"alert alert-block alert-info\">\n",
    "    <b>Tip:</b> render_er crée un fichier image au format \".png\" du schéma de la base de données qui est ensuite affiché dans le notebook avec la méthode Image().\n",
    "    <br> <br>\n",
    "    Il est aussi possible de générer un schéma dans un fichier image vectoriel au format \".svg\" (Scalable Vector Graphics). Le fichier ainsi créé peut être affiché avec la méthode SVG().\n",
    "</div>  </b>\n",
    "</div>"
   ]
  },
  {
   "cell_type": "code",
   "execution_count": 49,
   "metadata": {},
   "outputs": [
    {
     "data": {
      "image/png": "[encoded data removed]",
      "text/plain": [
       "<IPython.core.display.Image object>"
      ]
     },
     "execution_count": 49,
     "metadata": {},
     "output_type": "execute_result"
    }
   ],
   "source": [
    "render_er('sqlite:///example_db.db', 'example_db_schema.png')\n",
    "Image(filename='example_db_schema.png')"
   ]
  },
  {
   "cell_type": "markdown",
   "metadata": {},
   "source": [
    "<div class=\"alert alert-block alert-warning\">\n",
    "Ajouter la définition de la table \"niveaux\" reprenant les niveaux relevés dans les piezomètres.<br> \n",
    "Les champs seront nommés \"nom_piezo\", \"date_releve\" et \"niveau\".\n",
    "</div>"
   ]
  },
  {
   "cell_type": "code",
   "execution_count": null,
   "metadata": {},
   "outputs": [
    {
     "name": "stdout",
     "output_type": "stream",
     "text": [
      " * sqlite:///example_db.db\n",
      "(sqlite3.OperationalError) table niveaux already exists\n",
      "[SQL: CREATE TABLE niveaux(nom_piezo TEXT, date_releve DATE, niveau REAL, PRIMARY KEY(nom_piezo, date_releve), FOREIGN KEY(nom_piezo) REFERENCES piezometres(nom) ON DELETE CASCADE);]\n",
      "(Background on this error at: http://sqlalche.me/e/13/e3q8)\n"
     ]
    }
   ],
   "source": [
    "# Résultat attendu ci-dessous..."
   ]
  },
  {
   "cell_type": "markdown",
   "metadata": {},
   "source": [
    "<div class=\"alert alert-block alert-success\">\n",
    "\t<b>1.5  Activer de l'intégrité référentielle\n",
    "<div class=\"alert alert-block alert-info\">\n",
    "    <b>Tip:</b> pour des raisons de rétro-compatibilité, l'intégrité référentielle n'est pas activée par défaut dans sqlite...\n",
    "</div>  </b>\n",
    "</div>"
   ]
  },
  {
   "cell_type": "code",
   "execution_count": 51,
   "metadata": {},
   "outputs": [
    {
     "name": "stdout",
     "output_type": "stream",
     "text": [
      " * sqlite:///example_db.db\n",
      "Done.\n",
      "Done.\n"
     ]
    },
    {
     "data": {
      "text/html": [
       "<table>\n",
       "    <tr>\n",
       "        <th>foreign_keys</th>\n",
       "    </tr>\n",
       "    <tr>\n",
       "        <td>1</td>\n",
       "    </tr>\n",
       "</table>"
      ],
      "text/plain": [
       "[(1,)]"
      ]
     },
     "execution_count": 51,
     "metadata": {},
     "output_type": "execute_result"
    }
   ],
   "source": [
    "%%sql\n",
    "PRAGMA foreign_keys = ON;\n",
    "PRAGMA foreign_keys;"
   ]
  },
  {
   "cell_type": "markdown",
   "metadata": {},
   "source": [
    "<div class=\"alert alert-block alert-success\">\n",
    "\t<b>1.6 Afficher le schéma complété sous forme graphique</b>\n",
    "</div>"
   ]
  },
  {
   "cell_type": "markdown",
   "metadata": {},
   "source": [
    "<div class=\"alert alert-block alert-success\">\n",
    "    Ajouter les commandes nécessaires pour afficher le schéma complété de la base de données en utilisant le format \".svg\"\n",
    "</div>  "
   ]
  },
  {
   "cell_type": "code",
   "execution_count": 52,
   "metadata": {},
   "outputs": [
    {
     "name": "stdout",
     "output_type": "stream",
     "text": [
      "# @info: Exécutez-moi pour accéder à l'aide interactive\n"
     ]
    }
   ],
   "source": [
    "# @hidden\n",
    "sx=b'3c64697620636c6173733d22616c65727420616c6572742d626c6f636b20616c6572742d7761726e696e67223e0a09536920766f757320c3aa74726520626c6f7175c3a92865292c0a2020202020202020202020202020202020202020616666696368657a20756e6520736f6c7574696f6e20656e207072657373616e7420737572206c6520626f75746f6e2063692d646573736f75732e3c62723e0a095665696c6c657a20c3a0203c623e636f6d7072656e6472653c2f623e206c6120736f6c7574696f6e0a2020202020202020202020202020202020202020657420c3a0206c61207465737465722070617220766f75732d6dc3aa6d652e0a3c2f6469763e203c62723e0a0a3c627574746f6e20646174612d746f67676c653d22636f6c6c617073652220646174612d7461726765743d222372657665616c5f30303030223e0a20202020202020202020202020202020202020204166666963686572206c6520636f64653c2f627574746f6e3e0a3c6469762069643d2272657665616c5f303030302220636c6173733d22636f6c6c61707365223e0a3c62723e3c636f64653e23204472617720736368656d612066726f6d2064617461626173653c62723e0a72656e6465725f6572282773716c6974653a2f2f2f6578616d706c655f64622e6462272c20276578616d706c655f64625f736368656d612e73766727293c62723e0a53564728276578616d706c655f64625f736368656d612e73766727290a3c2f636f64653e0a3c2f6469763e0a0a2020202020202020202020202020202020202020'\n",
    "HTML(codecs.decode(codecs.decode(sx,'hex'), 'utf8'))"
   ]
  },
  {
   "cell_type": "markdown",
   "metadata": {},
   "source": [
    "<div class=\"alert alert-block alert-success\">\n",
    "\t<b>1.7 Afficher la liste des tables de la base de données\n",
    "<div class=\"alert alert-block alert-info\">\n",
    "    <b>Tip:</b> sqlite_master est une table particulière dans laquelle SQLite stocke les informations propres à la structure de la base de données\n",
    "</div>  </b>\n",
    "</div>"
   ]
  },
  {
   "cell_type": "code",
   "execution_count": 15,
   "metadata": {
    "scrolled": true
   },
   "outputs": [
    {
     "name": "stdout",
     "output_type": "stream",
     "text": [
      " * sqlite:///example_db.db\n",
      "Done.\n"
     ]
    },
    {
     "data": {
      "text/html": [
       "<table>\n",
       "    <tr>\n",
       "        <th>name</th>\n",
       "        <th>sql</th>\n",
       "    </tr>\n",
       "    <tr>\n",
       "        <td>niveaux</td>\n",
       "        <td>CREATE TABLE niveaux(nom_piezo TEXT, date_releve DATE, niveau REAL, PRIMARY KEY(nom_piezo, date_releve), FOREIGN KEY(nom_piezo) REFERENCES piezometres(nom) ON DELETE CASCADE)</td>\n",
       "    </tr>\n",
       "    <tr>\n",
       "        <td>ouvrages</td>\n",
       "        <td>CREATE TABLE ouvrages( nom TEXT PRIMARY KEY,<br>    commune TEXT  <br>)</td>\n",
       "    </tr>\n",
       "    <tr>\n",
       "        <td>piezometres</td>\n",
       "        <td>CREATE TABLE piezometres( nom TEXT, <br>    enregistreur TEXT,<br>    PRIMARY KEY(nom),<br>    FOREIGN KEY(nom) REFERENCES ouvrages(nom) ON DELETE CASCADE<br>)</td>\n",
       "    </tr>\n",
       "    <tr>\n",
       "        <td>prelevements</td>\n",
       "        <td>CREATE TABLE prelevements( nom_puits TEXT,<br>    annee INTEGER,<br>    volume REAL,<br>    PRIMARY KEY(nom_puits, annee),<br>    FOREIGN KEY(nom_puits) REFERENCES puits_captages(nom) ON DELETE CASCADE<br>    )</td>\n",
       "    </tr>\n",
       "    <tr>\n",
       "        <td>puits_captages</td>\n",
       "        <td>CREATE TABLE puits_captages( nom TEXT,<br>    type_pompe TEXT,<br>    PRIMARY KEY(nom),<br>    FOREIGN KEY(nom) REFERENCES ouvrages(nom) ON DELETE CASCADE<br>)</td>\n",
       "    </tr>\n",
       "</table>"
      ],
      "text/plain": [
       "[('niveaux', 'CREATE TABLE niveaux(nom_piezo TEXT, date_releve DATE, niveau REAL, PRIMARY KEY(nom_piezo, date_releve), FOREIGN KEY(nom_piezo) REFERENCES piezometres(nom) ON DELETE CASCADE)'),\n",
       " ('ouvrages', 'CREATE TABLE ouvrages( nom TEXT PRIMARY KEY,\\n    commune TEXT  \\n)'),\n",
       " ('piezometres', 'CREATE TABLE piezometres( nom TEXT, \\n    enregistreur TEXT,\\n    PRIMARY KEY(nom),\\n    FOREIGN KEY(nom) REFERENCES ouvrages(nom) ON DELETE CASCADE\\n)'),\n",
       " ('prelevements', 'CREATE TABLE prelevements( nom_puits TEXT,\\n    annee INTEGER,\\n    volume REAL,\\n    PRIMARY KEY(nom_puits, annee),\\n    FOREIGN KEY(nom_puits) REFERENCES puits_captages(nom) ON DELETE CASCADE\\n    )'),\n",
       " ('puits_captages', 'CREATE TABLE puits_captages( nom TEXT,\\n    type_pompe TEXT,\\n    PRIMARY KEY(nom),\\n    FOREIGN KEY(nom) REFERENCES ouvrages(nom) ON DELETE CASCADE\\n)')]"
      ]
     },
     "execution_count": 15,
     "metadata": {},
     "output_type": "execute_result"
    }
   ],
   "source": [
    "%%sql\n",
    "SELECT name, sql FROM sqlite_master\n",
    "WHERE type='table'\n",
    "ORDER BY name;"
   ]
  },
  {
   "cell_type": "markdown",
   "metadata": {},
   "source": [
    "<div class=\"alert alert-block alert-success\">\n",
    "\t<b>1.8 Insérer des données</b>\n",
    "</div>"
   ]
  },
  {
   "cell_type": "code",
   "execution_count": 16,
   "metadata": {},
   "outputs": [
    {
     "name": "stdout",
     "output_type": "stream",
     "text": [
      " * sqlite:///example_db.db\n",
      "1 rows affected.\n"
     ]
    },
    {
     "data": {
      "text/plain": [
       "[]"
      ]
     },
     "execution_count": 16,
     "metadata": {},
     "output_type": "execute_result"
    }
   ],
   "source": [
    "%%sql\n",
    "INSERT INTO ouvrages VALUES('A','Beloeil');"
   ]
  },
  {
   "cell_type": "markdown",
   "metadata": {},
   "source": [
    "<div class=\"alert alert-block alert-success\">\n",
    "    Insérer le fait que la pompe installée dans le captage A est du type RK822W\n",
    "</div>  "
   ]
  },
  {
   "cell_type": "code",
   "execution_count": 17,
   "metadata": {},
   "outputs": [
    {
     "name": "stdout",
     "output_type": "stream",
     "text": [
      "# @info: Exécutez-moi pour accéder à l'aide interactive\n"
     ]
    }
   ],
   "source": [
    "# @hidden\n",
    "sx=b'3c64697620636c6173733d22616c65727420616c6572742d626c6f636b20616c6572742d7761726e696e67223e0a09536920766f757320c3aa74726520626c6f7175c3a92865292c0a2020202020202020202020202020202020202020616666696368657a20756e6520736f6c7574696f6e20656e207072657373616e7420737572206c6520626f75746f6e2063692d646573736f75732e3c62723e0a095665696c6c657a20c3a0203c623e636f6d7072656e6472653c2f623e206c6120736f6c7574696f6e0a2020202020202020202020202020202020202020657420c3a0206c61207465737465722070617220766f75732d6dc3aa6d652e0a3c2f6469763e203c62723e0a0a3c627574746f6e20646174612d746f67676c653d22636f6c6c617073652220646174612d7461726765743d222372657665616c5f30303031223e0a20202020202020202020202020202020202020204166666963686572206c6520636f64653c2f627574746f6e3e0a3c6469762069643d2272657665616c5f303030312220636c6173733d22636f6c6c61707365223e0a3c62723e3c636f64653e2573716c20494e5345525420494e544f2070756974735f63617074616765732028276e6f6d272c27747970655f706f6d706527292056414c55455320282741272c27524b3832325727293b0a3c2f636f64653e0a3c2f6469763e0a0a2020202020202020202020202020202020202020'\n",
    "HTML(codecs.decode(codecs.decode(sx,'hex'), 'utf8'))"
   ]
  },
  {
   "cell_type": "markdown",
   "metadata": {},
   "source": [
    "<div class=\"alert alert-block alert-success\">\n",
    "    Vérifier que l'information a bien été ajoutée\n",
    "</div>  "
   ]
  },
  {
   "cell_type": "code",
   "execution_count": 18,
   "metadata": {},
   "outputs": [
    {
     "name": "stdout",
     "output_type": "stream",
     "text": [
      "# @info: Exécutez-moi pour accéder à l'aide interactive\n"
     ]
    }
   ],
   "source": [
    "# @hidden\n",
    "sx=b'3c64697620636c6173733d22616c65727420616c6572742d626c6f636b20616c6572742d7761726e696e67223e0a09536920766f757320c3aa74726520626c6f7175c3a92865292c0a2020202020202020202020202020202020202020616666696368657a20756e6520736f6c7574696f6e20656e207072657373616e7420737572206c6520626f75746f6e2063692d646573736f75732e3c62723e0a095665696c6c657a20c3a0203c623e636f6d7072656e6472653c2f623e206c6120736f6c7574696f6e0a2020202020202020202020202020202020202020657420c3a0206c61207465737465722070617220766f75732d6dc3aa6d652e0a3c2f6469763e203c62723e0a0a3c627574746f6e20646174612d746f67676c653d22636f6c6c617073652220646174612d7461726765743d222372657665616c5f30303032223e0a20202020202020202020202020202020202020204166666963686572206c6520636f64653c2f627574746f6e3e0a3c6469762069643d2272657665616c5f303030322220636c6173733d22636f6c6c61707365223e0a3c62723e3c636f64653e2573716c2053454c454354202a2046524f4d2070756974735f63617074616765733b0a3c2f636f64653e0a3c2f6469763e0a0a2020202020202020202020202020202020202020'\n",
    "HTML(codecs.decode(codecs.decode(sx,'hex'), 'utf8'))"
   ]
  },
  {
   "cell_type": "markdown",
   "metadata": {},
   "source": [
    "<div class=\"alert alert-block alert-success\">\n",
    "\t<b>1.9 Effacer un enregistrement et ceux qui y sont liés en cascade</b>\n",
    "</div>"
   ]
  },
  {
   "cell_type": "code",
   "execution_count": 19,
   "metadata": {},
   "outputs": [
    {
     "name": "stdout",
     "output_type": "stream",
     "text": [
      " * sqlite:///example_db.db\n",
      "1 rows affected.\n"
     ]
    },
    {
     "data": {
      "text/plain": [
       "[]"
      ]
     },
     "execution_count": 19,
     "metadata": {},
     "output_type": "execute_result"
    }
   ],
   "source": [
    "%%sql\n",
    "DELETE FROM ouvrages WHERE nom='A';"
   ]
  },
  {
   "cell_type": "markdown",
   "metadata": {},
   "source": [
    "<div class=\"alert alert-block alert-success\">\n",
    "    Ecrire une requête pour contrôler que l'integrité référentielle a bien fonctionné\n",
    "</div>  "
   ]
  },
  {
   "cell_type": "code",
   "execution_count": 20,
   "metadata": {},
   "outputs": [
    {
     "name": "stdout",
     "output_type": "stream",
     "text": [
      "# @info: Exécutez-moi pour accéder à l'aide interactive\n"
     ]
    }
   ],
   "source": [
    "# @hidden\n",
    "sx=b'3c64697620636c6173733d22616c65727420616c6572742d626c6f636b20616c6572742d7761726e696e67223e0a09536920766f757320c3aa74726520626c6f7175c3a92865292c0a2020202020202020202020202020202020202020616666696368657a20756e6520736f6c7574696f6e20656e207072657373616e7420737572206c6520626f75746f6e2063692d646573736f75732e3c62723e0a095665696c6c657a20c3a0203c623e636f6d7072656e6472653c2f623e206c6120736f6c7574696f6e0a2020202020202020202020202020202020202020657420c3a0206c61207465737465722070617220766f75732d6dc3aa6d652e0a3c2f6469763e203c62723e0a0a3c627574746f6e20646174612d746f67676c653d22636f6c6c617073652220646174612d7461726765743d222372657665616c5f30303033223e0a20202020202020202020202020202020202020204166666963686572206c6520636f64653c2f627574746f6e3e0a3c6469762069643d2272657665616c5f303030332220636c6173733d22636f6c6c61707365223e0a3c62723e3c636f64653e2573716c2053454c454354202a2046524f4d2070756974735f63617074616765733b0a3c2f636f64653e0a3c2f6469763e0a0a2020202020202020202020202020202020202020'\n",
    "HTML(codecs.decode(codecs.decode(sx,'hex'), 'utf8'))"
   ]
  },
  {
   "cell_type": "markdown",
   "metadata": {},
   "source": [
    "<div class=\"alert alert-block alert-success\">\n",
    "\t<b>1.10 Insertion des valeurs dans la table des ouvrages</b>\n",
    "</div>"
   ]
  },
  {
   "cell_type": "code",
   "execution_count": 21,
   "metadata": {},
   "outputs": [
    {
     "name": "stdout",
     "output_type": "stream",
     "text": [
      " * sqlite:///example_db.db\n",
      "1 rows affected.\n",
      "1 rows affected.\n",
      "1 rows affected.\n",
      "1 rows affected.\n",
      "1 rows affected.\n"
     ]
    },
    {
     "data": {
      "text/plain": [
       "[]"
      ]
     },
     "execution_count": 21,
     "metadata": {},
     "output_type": "execute_result"
    }
   ],
   "source": [
    "%%sql\n",
    "INSERT INTO ouvrages VALUES('A','Beloeil');\n",
    "INSERT INTO ouvrages VALUES('B','Mons');\n",
    "INSERT INTO ouvrages VALUES('C','Quevaucamps');\n",
    "INSERT INTO ouvrages VALUES('D','Ciply');\n",
    "INSERT INTO ouvrages VALUES('E','Hyon');"
   ]
  },
  {
   "cell_type": "code",
   "execution_count": 22,
   "metadata": {},
   "outputs": [
    {
     "name": "stdout",
     "output_type": "stream",
     "text": [
      " * sqlite:///example_db.db\n",
      "Done.\n"
     ]
    },
    {
     "data": {
      "text/html": [
       "<table>\n",
       "    <tr>\n",
       "        <th>nom</th>\n",
       "        <th>commune</th>\n",
       "    </tr>\n",
       "    <tr>\n",
       "        <td>A</td>\n",
       "        <td>Beloeil</td>\n",
       "    </tr>\n",
       "    <tr>\n",
       "        <td>B</td>\n",
       "        <td>Mons</td>\n",
       "    </tr>\n",
       "    <tr>\n",
       "        <td>C</td>\n",
       "        <td>Quevaucamps</td>\n",
       "    </tr>\n",
       "    <tr>\n",
       "        <td>D</td>\n",
       "        <td>Ciply</td>\n",
       "    </tr>\n",
       "    <tr>\n",
       "        <td>E</td>\n",
       "        <td>Hyon</td>\n",
       "    </tr>\n",
       "</table>"
      ],
      "text/plain": [
       "[('A', 'Beloeil'),\n",
       " ('B', 'Mons'),\n",
       " ('C', 'Quevaucamps'),\n",
       " ('D', 'Ciply'),\n",
       " ('E', 'Hyon')]"
      ]
     },
     "execution_count": 22,
     "metadata": {},
     "output_type": "execute_result"
    }
   ],
   "source": [
    "%%sql \n",
    "SELECT * FROM ouvrages;"
   ]
  },
  {
   "cell_type": "markdown",
   "metadata": {},
   "source": [
    "<div class=\"alert alert-block alert-success\">\n",
    "\t<b>1.11 Insertion de valeurs dans la table des puits de captage</b>\n",
    "</div>"
   ]
  },
  {
   "cell_type": "markdown",
   "metadata": {},
   "source": [
    "<div class=\"alert alert-block alert-success\">\n",
    "    Ecrire une requête pour afficher le contenu de la table puits_captages\n",
    "</div>"
   ]
  },
  {
   "cell_type": "code",
   "execution_count": 23,
   "metadata": {},
   "outputs": [
    {
     "name": "stdout",
     "output_type": "stream",
     "text": [
      " * sqlite:///example_db.db\n",
      "Done.\n"
     ]
    },
    {
     "data": {
      "text/html": [
       "<table>\n",
       "    <tr>\n",
       "        <th>nom</th>\n",
       "        <th>type_pompe</th>\n",
       "    </tr>\n",
       "</table>"
      ],
      "text/plain": [
       "[]"
      ]
     },
     "execution_count": 23,
     "metadata": {},
     "output_type": "execute_result"
    }
   ],
   "source": [
    "# @question\n",
    "%sql SELECT * FROM puits_captages;"
   ]
  },
  {
   "cell_type": "code",
   "execution_count": 24,
   "metadata": {},
   "outputs": [
    {
     "name": "stdout",
     "output_type": "stream",
     "text": [
      " * sqlite:///example_db.db\n",
      "1 rows affected.\n",
      "1 rows affected.\n",
      "1 rows affected.\n",
      "1 rows affected.\n",
      "1 rows affected.\n"
     ]
    },
    {
     "data": {
      "text/plain": [
       "[]"
      ]
     },
     "execution_count": 24,
     "metadata": {},
     "output_type": "execute_result"
    }
   ],
   "source": [
    "%%sql\n",
    "INSERT INTO puits_captages ('nom','type_pompe') VALUES ('A','RK822W');\n",
    "INSERT INTO puits_captages ('nom','type_pompe') VALUES ('B','RK622W');\n",
    "INSERT INTO puits_captages ('nom','type_pompe') VALUES ('C','ABB226');\n",
    "INSERT INTO puits_captages ('nom','type_pompe') VALUES ('D','6-DDR-3');\n",
    "INSERT INTO puits_captages ('nom','type_pompe') VALUES ('E','RK822W');"
   ]
  },
  {
   "cell_type": "markdown",
   "metadata": {},
   "source": [
    "<div class=\"alert alert-block alert-success\">\n",
    "    Ecrire une requête pour contrôler que l'ajout s'est bien passé\n",
    "</div>"
   ]
  },
  {
   "cell_type": "code",
   "execution_count": null,
   "metadata": {},
   "outputs": [
    {
     "name": "stdout",
     "output_type": "stream",
     "text": [
      " * sqlite:///example_db.db\n",
      "Done.\n"
     ]
    },
    {
     "data": {
      "text/html": [
       "<table>\n",
       "    <tr>\n",
       "        <th>nom</th>\n",
       "        <th>type_pompe</th>\n",
       "    </tr>\n",
       "    <tr>\n",
       "        <td>A</td>\n",
       "        <td>RK822W</td>\n",
       "    </tr>\n",
       "    <tr>\n",
       "        <td>B</td>\n",
       "        <td>RK622W</td>\n",
       "    </tr>\n",
       "    <tr>\n",
       "        <td>C</td>\n",
       "        <td>ABB226</td>\n",
       "    </tr>\n",
       "    <tr>\n",
       "        <td>D</td>\n",
       "        <td>6-DDR-3</td>\n",
       "    </tr>\n",
       "    <tr>\n",
       "        <td>E</td>\n",
       "        <td>RK822W</td>\n",
       "    </tr>\n",
       "</table>"
      ],
      "text/plain": [
       "[('A', 'RK822W'),\n",
       " ('B', 'RK622W'),\n",
       " ('C', 'ABB226'),\n",
       " ('D', '6-DDR-3'),\n",
       " ('E', 'RK822W')]"
      ]
     },
     "execution_count": 25,
     "metadata": {},
     "output_type": "execute_result"
    }
   ],
   "source": [
    "# Résultat attendu ci-dessous..."
   ]
  },
  {
   "cell_type": "markdown",
   "metadata": {},
   "source": [
    "<div class=\"alert alert-block alert-success\">\n",
    "\t<b>1.12 Insertion de volumes captés</b>\n",
    "</div>"
   ]
  },
  {
   "cell_type": "code",
   "execution_count": 26,
   "metadata": {},
   "outputs": [
    {
     "name": "stdout",
     "output_type": "stream",
     "text": [
      " * sqlite:///example_db.db\n",
      "1 rows affected.\n",
      "1 rows affected.\n",
      "1 rows affected.\n",
      "1 rows affected.\n",
      "1 rows affected.\n",
      "1 rows affected.\n",
      "1 rows affected.\n",
      "1 rows affected.\n",
      "1 rows affected.\n",
      "1 rows affected.\n",
      "1 rows affected.\n",
      "1 rows affected.\n",
      "1 rows affected.\n",
      "1 rows affected.\n"
     ]
    },
    {
     "data": {
      "text/plain": [
       "[]"
      ]
     },
     "execution_count": 26,
     "metadata": {},
     "output_type": "execute_result"
    }
   ],
   "source": [
    "%%sql\n",
    "INSERT INTO prelevements ('nom_puits', 'annee', 'volume') VALUES ('A','2014', 144208);\n",
    "INSERT INTO prelevements ('nom_puits', 'annee', 'volume') VALUES ('A','2015', 98537);\n",
    "INSERT INTO prelevements ('nom_puits', 'annee', 'volume') VALUES ('A','2016', 37145);\n",
    "INSERT INTO prelevements ('nom_puits', 'annee', 'volume') VALUES ('B','2016', 178403);\n",
    "INSERT INTO prelevements ('nom_puits', 'annee', 'volume') VALUES ('C','2016', 17528);\n",
    "INSERT INTO prelevements ('nom_puits', 'annee', 'volume') VALUES ('A','2017', 24454);\n",
    "INSERT INTO prelevements ('nom_puits', 'annee', 'volume') VALUES ('B','2017', 224269);\n",
    "INSERT INTO prelevements ('nom_puits', 'annee', 'volume') VALUES ('C','2017', 47364);\n",
    "INSERT INTO prelevements ('nom_puits', 'annee', 'volume') VALUES ('D','2017', 341077);\n",
    "INSERT INTO prelevements ('nom_puits', 'annee', 'volume') VALUES ('E','2017', 72354);\n",
    "INSERT INTO prelevements ('nom_puits', 'annee', 'volume') VALUES ('A','2018', 98759);\n",
    "INSERT INTO prelevements ('nom_puits', 'annee', 'volume') VALUES ('B','2018', 517541);\n",
    "INSERT INTO prelevements ('nom_puits', 'annee', 'volume') VALUES ('C','2018', 64);\n",
    "INSERT INTO prelevements ('nom_puits', 'annee', 'volume') VALUES ('D','2018', 34717);"
   ]
  },
  {
   "cell_type": "markdown",
   "metadata": {},
   "source": [
    "<div class=\"alert alert-block alert-success\">\n",
    "    Ajouter les volumes captés suivants pour l'année 2019:<br>\n",
    "    <table style=\"width:30%\">\n",
    "      <tr>\n",
    "        <th>Captage</th>\n",
    "        <th>Volume</th>\n",
    "      </tr>\n",
    "      <tr>\n",
    "        <td>A</td>\n",
    "        <td>22354</td>\n",
    "      </tr>\n",
    "      <tr>\n",
    "        <td>B</td>\n",
    "        <td>174256</td>\n",
    "      </tr>\n",
    "            <tr>\n",
    "        <td>C</td>\n",
    "        <td>122634</td>\n",
    "      </tr>\n",
    "      <tr>\n",
    "        <td>D</td>\n",
    "        <td>374456</td>\n",
    "      </tr>\n",
    "    </table> \n",
    "</div>  "
   ]
  },
  {
   "cell_type": "code",
   "execution_count": 27,
   "metadata": {},
   "outputs": [
    {
     "name": "stdout",
     "output_type": "stream",
     "text": [
      "# @info: Exécutez-moi pour accéder à l'aide interactive\n"
     ]
    }
   ],
   "source": [
    "# @hidden\n",
    "sx=b'3c64697620636c6173733d22616c65727420616c6572742d626c6f636b20616c6572742d7761726e696e67223e0a09536920766f757320c3aa74726520626c6f7175c3a92865292c0a2020202020202020202020202020202020202020616666696368657a20756e6520736f6c7574696f6e20656e207072657373616e7420737572206c6520626f75746f6e2063692d646573736f75732e3c62723e0a095665696c6c657a20c3a0203c623e636f6d7072656e6472653c2f623e206c6120736f6c7574696f6e0a2020202020202020202020202020202020202020657420c3a0206c61207465737465722070617220766f75732d6dc3aa6d652e0a3c2f6469763e203c62723e0a0a3c627574746f6e20646174612d746f67676c653d22636f6c6c617073652220646174612d7461726765743d222372657665616c5f30303034223e0a20202020202020202020202020202020202020204166666963686572206c6520636f64653c2f627574746f6e3e0a3c6469762069643d2272657665616c5f303030342220636c6173733d22636f6c6c61707365223e0a3c62723e3c636f64653e2573716c20494e5345525420494e544f207072656c6576656d656e74732028276e6f6d5f7075697473272c2027616e6e6565272c2027766f6c756d6527292056414c55455320282741272c2732303139272c203232333534293b3c62723e0a2573716c20494e5345525420494e544f207072656c6576656d656e74732028276e6f6d5f7075697473272c2027616e6e6565272c2027766f6c756d6527292056414c55455320282742272c2732303139272c20313734323536293b3c62723e0a2573716c20494e5345525420494e544f207072656c6576656d656e74732028276e6f6d5f7075697473272c2027616e6e6565272c2027766f6c756d6527292056414c55455320282743272c2732303139272c20313232333634293b3c62723e0a2573716c20494e5345525420494e544f207072656c6576656d656e74732028276e6f6d5f7075697473272c2027616e6e6565272c2027766f6c756d6527292056414c55455320282744272c2732303139272c20333734343536293b0a3c2f636f64653e0a3c2f6469763e0a0a2020202020202020202020202020202020202020'\n",
    "HTML(codecs.decode(codecs.decode(sx,'hex'), 'utf8'))"
   ]
  },
  {
   "cell_type": "markdown",
   "metadata": {},
   "source": [
    "<div class=\"alert alert-block alert-success\">\n",
    "    Ecrire une requête pour calculer la somme des volumes captés en 2018\n",
    "</div>  "
   ]
  },
  {
   "cell_type": "code",
   "execution_count": 53,
   "metadata": {},
   "outputs": [
    {
     "name": "stdout",
     "output_type": "stream",
     "text": [
      "# @info: Exécutez-moi pour accéder à l'aide interactive\n"
     ]
    }
   ],
   "source": [
    "# @hidden\n",
    "sx=b'3c64697620636c6173733d22616c65727420616c6572742d626c6f636b20616c6572742d7761726e696e67223e0a09536920766f757320c3aa74726520626c6f7175c3a92865292c0a2020202020202020202020202020202020202020616666696368657a20756e6520736f6c7574696f6e20656e207072657373616e7420737572206c6520626f75746f6e2063692d646573736f75732e3c62723e0a095665696c6c657a20c3a0203c623e636f6d7072656e6472653c2f623e206c6120736f6c7574696f6e0a2020202020202020202020202020202020202020657420c3a0206c61207465737465722070617220766f75732d6dc3aa6d652e0a3c2f6469763e203c62723e0a0a3c627574746f6e20646174612d746f67676c653d22636f6c6c617073652220646174612d7461726765743d222372657665616c5f30303035223e0a20202020202020202020202020202020202020204166666963686572206c6520636f64653c2f627574746f6e3e0a3c6469762069643d2272657665616c5f303030352220636c6173733d22636f6c6c61707365223e0a3c62723e3c636f64653e2573716c2053454c4543542073756d28766f6c756d65292046524f4d207072656c6576656d656e747320574845524520616e6e65653d323031383b0a3c2f636f64653e0a3c2f6469763e0a0a2020202020202020202020202020202020202020'\n",
    "HTML(codecs.decode(codecs.decode(sx,'hex'), 'utf8'))"
   ]
  },
  {
   "cell_type": "markdown",
   "metadata": {},
   "source": [
    "<div class=\"alert alert-block alert-success\">\n",
    "    Ecrire une requête calculer la somme, pour chacun des captages, des volumes captés entre début 2017 et fin 2019\n",
    "</div>  "
   ]
  },
  {
   "cell_type": "code",
   "execution_count": 54,
   "metadata": {
    "scrolled": true
   },
   "outputs": [
    {
     "name": "stdout",
     "output_type": "stream",
     "text": [
      "# @info: Exécutez-moi pour accéder à l'aide interactive\n"
     ]
    }
   ],
   "source": [
    "# @hidden\n",
    "sx=b'3c64697620636c6173733d22616c65727420616c6572742d626c6f636b20616c6572742d7761726e696e67223e0a09536920766f757320c3aa74726520626c6f7175c3a92865292c0a2020202020202020202020202020202020202020616666696368657a20756e6520736f6c7574696f6e20656e207072657373616e7420737572206c6520626f75746f6e2063692d646573736f75732e3c62723e0a095665696c6c657a20c3a0203c623e636f6d7072656e6472653c2f623e206c6120736f6c7574696f6e0a2020202020202020202020202020202020202020657420c3a0206c61207465737465722070617220766f75732d6dc3aa6d652e0a3c2f6469763e203c62723e0a0a3c627574746f6e20646174612d746f67676c653d22636f6c6c617073652220646174612d7461726765743d222372657665616c5f30303036223e0a20202020202020202020202020202020202020204166666963686572206c6520636f64653c2f627574746f6e3e0a3c6469762069643d2272657665616c5f303030362220636c6173733d22636f6c6c61707365223e0a3c62723e3c636f64653e2573716c2053454c454354206e6f6d5f70756974732c2073756d28766f6c756d65292046524f4d207072656c6576656d656e747320574845524520616e6e6565204245545745454e203230313720414e4420323031392047524f5550204259206e6f6d5f7075697473204f52444552204259206e6f6d5f70756974733b0a3c2f636f64653e0a3c2f6469763e0a0a2020202020202020202020202020202020202020'\n",
    "HTML(codecs.decode(codecs.decode(sx,'hex'), 'utf8'))"
   ]
  },
  {
   "cell_type": "markdown",
   "metadata": {},
   "source": [
    "## @Subsection | Utiliser pandas pour afficher l'historique des prélèvements sur le captage 'A'"
   ]
  },
  {
   "cell_type": "markdown",
   "metadata": {},
   "source": [
    "<div class=\"alert alert-block alert-info\">\n",
    "    <b>Tip:</b> Grâce à l'extension ipython-sql, il est possible de récupérer la réponse à une requête SQL dans un dataframe pandas et d'utiliser le dataframe pour produire une sortie graphique. <br> Pour information, il est aussi possible d'interroger directement une base de données avec pandas via une requête sql (cf. <code>pd.read_sql(...)</code>)\n",
    "</div>  "
   ]
  },
  {
   "cell_type": "markdown",
   "metadata": {},
   "source": [
    "<div class=\"alert alert-block alert-success\">\n",
    "    Ecrire une requête calculer la somme, pour chacun des captages, des volumes captés entre début 2017 et fin 2019\n",
    "</div>  "
   ]
  },
  {
   "cell_type": "code",
   "execution_count": 55,
   "metadata": {},
   "outputs": [
    {
     "name": "stdout",
     "output_type": "stream",
     "text": [
      "# @info: Exécutez-moi pour accéder à l'aide interactive\n"
     ]
    }
   ],
   "source": [
    "# @hidden\n",
    "sx=b'3c64697620636c6173733d22616c65727420616c6572742d626c6f636b20616c6572742d7761726e696e67223e0a09536920766f757320c3aa74726520626c6f7175c3a92865292c0a2020202020202020202020202020202020202020616666696368657a20756e6520736f6c7574696f6e20656e207072657373616e7420737572206c6520626f75746f6e2063692d646573736f75732e3c62723e0a095665696c6c657a20c3a0203c623e636f6d7072656e6472653c2f623e206c6120736f6c7574696f6e0a2020202020202020202020202020202020202020657420c3a0206c61207465737465722070617220766f75732d6dc3aa6d652e0a3c2f6469763e203c62723e0a0a3c627574746f6e20646174612d746f67676c653d22636f6c6c617073652220646174612d7461726765743d222372657665616c5f30303037223e0a20202020202020202020202020202020202020204166666963686572206c6520636f64653c2f627574746f6e3e0a3c6469762069643d2272657665616c5f303030372220636c6173733d22636f6c6c61707365223e0a3c62723e3c636f64653e6f7574203d202573716c2053454c45435420616e6e65652c20766f6c756d652046524f4d207072656c6576656d656e7473205748455245206e6f6d5f70756974733d274127204f5244455220425920616e6e6565204153433b3c62723e0a6466203d206f75742e446174614672616d6528293c62723e0a64662e706c6f7428783d27616e6e6565272c20793d27766f6c756d6527290a3c2f636f64653e0a3c2f6469763e0a0a2020202020202020202020202020202020202020'\n",
    "HTML(codecs.decode(codecs.decode(sx,'hex'), 'utf8'))"
   ]
  },
  {
   "cell_type": "markdown",
   "metadata": {},
   "source": [
    "### Alternative"
   ]
  },
  {
   "cell_type": "code",
   "execution_count": 31,
   "metadata": {},
   "outputs": [
    {
     "data": {
      "text/plain": [
       "<AxesSubplot:xlabel='annee'>"
      ]
     },
     "execution_count": 31,
     "metadata": {},
     "output_type": "execute_result"
    },
    {
     "data": {
      "image/png": "[encoded data removed]",
      "text/plain": [
       "<Figure size 432x288 with 1 Axes>"
      ]
     },
     "metadata": {
      "needs_background": "light"
     },
     "output_type": "display_data"
    }
   ],
   "source": [
    "import sqlite3\n",
    "sql_query = \"SELECT annee, volume FROM prelevements WHERE nom_puits='A' ORDER BY annee ASC;\"\n",
    "db_connection = sqlite3.connect('example_db.db') \n",
    "df = pd.read_sql(sql_query, db_connection)\n",
    "df.plot(x='annee', y='volume')"
   ]
  },
  {
   "cell_type": "markdown",
   "metadata": {},
   "source": [
    "### Insertion des releves piezométriques"
   ]
  },
  {
   "cell_type": "markdown",
   "metadata": {},
   "source": [
    "<div class=\"alert alert-block alert-success\">\n",
    "    Les enregistreurs suivants sont présents dans les piezomètres:<br>   \n",
    "    <table style=\"width:50%\">\n",
    "      <tr>\n",
    "        <th>Piezomètre</th>\n",
    "        <th>Commune</th>\n",
    "        <th>Type d'enregistreur</th>\n",
    "      </tr>\n",
    "      <tr>\n",
    "        <td>F</td>\n",
    "        <td>Mons</td>\n",
    "        <td>SLB-Diver</td>\n",
    "      </tr>\n",
    "      <tr>\n",
    "        <td>G</td>\n",
    "        <td>Harmignies</td>\n",
    "        <td>SLB-Diver</td>\n",
    "      </tr>\n",
    "      <tr>\n",
    "        <td>H</td>\n",
    "        <td>Genly</td>\n",
    "        <td>SLB-Diver-2</td>\n",
    "      </tr>\n",
    "      <tr>\n",
    "        <td>I</td>\n",
    "        <td>Flénu</td>\n",
    "        <td>SLB-Diver</td>\n",
    "      </tr>\n",
    "      <tr>\n",
    "        <td>J</td>\n",
    "        <td>Cuesmes</td>\n",
    "        <td>SLB-Diver-2</td>\n",
    "      </tr>\n",
    "    </table> <br>\n",
    "    Entrer ces données dans la base de données\n",
    "</div>  "
   ]
  },
  {
   "cell_type": "code",
   "execution_count": 32,
   "metadata": {},
   "outputs": [
    {
     "name": "stdout",
     "output_type": "stream",
     "text": [
      "# @info: Exécutez-moi pour accéder à l'aide interactive\n"
     ]
    }
   ],
   "source": [
    "# @hidden\n",
    "sx=b'3c64697620636c6173733d22616c65727420616c6572742d626c6f636b20616c6572742d7761726e696e67223e0a09536920766f757320c3aa74726520626c6f7175c3a92865292c0a2020202020202020202020202020202020202020616666696368657a20756e6520736f6c7574696f6e20656e207072657373616e7420737572206c6520626f75746f6e2063692d646573736f75732e3c62723e0a095665696c6c657a20c3a0203c623e636f6d7072656e6472653c2f623e206c6120736f6c7574696f6e0a2020202020202020202020202020202020202020657420c3a0206c61207465737465722070617220766f75732d6dc3aa6d652e0a3c2f6469763e203c62723e0a0a3c627574746f6e20646174612d746f67676c653d22636f6c6c617073652220646174612d7461726765743d222372657665616c5f30303038223e0a20202020202020202020202020202020202020204166666963686572206c6520636f64653c2f627574746f6e3e0a3c6469762069643d2272657665616c5f303030382220636c6173733d22636f6c6c61707365223e0a3c62723e3c636f64653e2573716c20494e5345525420494e544f206f757672616765732056414c554553282746272c274d6f6e7327293b3c62723e0a2573716c20494e5345525420494e544f206f757672616765732056414c554553282747272c274861726d69676e69657327293b3c62723e0a2573716c20494e5345525420494e544f206f757672616765732056414c554553282748272c2747656e6c7927293b3c62723e0a2573716c20494e5345525420494e544f206f757672616765732056414c554553282749272c27466cc3a96e7527293b3c62723e0a2573716c20494e5345525420494e544f206f757672616765732056414c55455328274a272c27437565736d657327293b0a3c2f636f64653e0a3c2f6469763e0a0a2020202020202020202020202020202020202020'\n",
    "HTML(codecs.decode(codecs.decode(sx,'hex'), 'utf8'))"
   ]
  },
  {
   "cell_type": "markdown",
   "metadata": {},
   "source": [
    "### Insertion de valeurs dans la table des piézomètres"
   ]
  },
  {
   "cell_type": "code",
   "execution_count": 33,
   "metadata": {},
   "outputs": [
    {
     "name": "stdout",
     "output_type": "stream",
     "text": [
      " * sqlite:///example_db.db\n",
      "1 rows affected.\n",
      "1 rows affected.\n",
      "1 rows affected.\n",
      "1 rows affected.\n",
      "1 rows affected.\n"
     ]
    },
    {
     "data": {
      "text/plain": [
       "[]"
      ]
     },
     "execution_count": 33,
     "metadata": {},
     "output_type": "execute_result"
    }
   ],
   "source": [
    "%%sql\n",
    "INSERT INTO piezometres ('nom','enregistreur') VALUES ('F','SLB-Diver');\n",
    "INSERT INTO piezometres ('nom','enregistreur') VALUES ('G','SLB-Diver');\n",
    "INSERT INTO piezometres ('nom','enregistreur') VALUES ('H','SLB-Diver-2');\n",
    "INSERT INTO piezometres ('nom','enregistreur') VALUES ('I','SLB-Diver');\n",
    "INSERT INTO piezometres ('nom','enregistreur') VALUES ('J','SLB-Diver-2');"
   ]
  },
  {
   "cell_type": "code",
   "execution_count": 34,
   "metadata": {},
   "outputs": [
    {
     "name": "stdout",
     "output_type": "stream",
     "text": [
      " * sqlite:///example_db.db\n",
      "Done.\n"
     ]
    },
    {
     "data": {
      "text/html": [
       "<table>\n",
       "    <tr>\n",
       "        <th>nom</th>\n",
       "        <th>enregistreur</th>\n",
       "    </tr>\n",
       "    <tr>\n",
       "        <td>F</td>\n",
       "        <td>SLB-Diver</td>\n",
       "    </tr>\n",
       "    <tr>\n",
       "        <td>G</td>\n",
       "        <td>SLB-Diver</td>\n",
       "    </tr>\n",
       "    <tr>\n",
       "        <td>H</td>\n",
       "        <td>SLB-Diver-2</td>\n",
       "    </tr>\n",
       "    <tr>\n",
       "        <td>I</td>\n",
       "        <td>SLB-Diver</td>\n",
       "    </tr>\n",
       "    <tr>\n",
       "        <td>J</td>\n",
       "        <td>SLB-Diver-2</td>\n",
       "    </tr>\n",
       "</table>"
      ],
      "text/plain": [
       "[('F', 'SLB-Diver'),\n",
       " ('G', 'SLB-Diver'),\n",
       " ('H', 'SLB-Diver-2'),\n",
       " ('I', 'SLB-Diver'),\n",
       " ('J', 'SLB-Diver-2')]"
      ]
     },
     "execution_count": 34,
     "metadata": {},
     "output_type": "execute_result"
    }
   ],
   "source": [
    "%%sql\n",
    "SELECT * FROM piezometres;"
   ]
  },
  {
   "cell_type": "code",
   "execution_count": 35,
   "metadata": {},
   "outputs": [
    {
     "name": "stdout",
     "output_type": "stream",
     "text": [
      " * sqlite:///example_db.db\n",
      "1 rows affected.\n"
     ]
    },
    {
     "data": {
      "text/plain": [
       "[]"
      ]
     },
     "execution_count": 35,
     "metadata": {},
     "output_type": "execute_result"
    }
   ],
   "source": [
    "%%sql\n",
    "INSERT INTO piezometres ('nom','enregistreur') VALUES ('E','SLB-Diver-CTD');"
   ]
  },
  {
   "cell_type": "markdown",
   "metadata": {},
   "source": [
    "### Insertion de niveaux enregistrés"
   ]
  },
  {
   "cell_type": "code",
   "execution_count": 36,
   "metadata": {},
   "outputs": [
    {
     "name": "stdout",
     "output_type": "stream",
     "text": [
      " * sqlite:///example_db.db\n",
      "1 rows affected.\n",
      "1 rows affected.\n",
      "1 rows affected.\n",
      "1 rows affected.\n",
      "1 rows affected.\n",
      "1 rows affected.\n",
      "1 rows affected.\n",
      "1 rows affected.\n",
      "1 rows affected.\n",
      "1 rows affected.\n",
      "1 rows affected.\n",
      "1 rows affected.\n",
      "1 rows affected.\n",
      "1 rows affected.\n",
      "1 rows affected.\n",
      "1 rows affected.\n",
      "1 rows affected.\n",
      "1 rows affected.\n",
      "1 rows affected.\n",
      "1 rows affected.\n",
      "1 rows affected.\n",
      "1 rows affected.\n",
      "1 rows affected.\n",
      "1 rows affected.\n",
      "1 rows affected.\n"
     ]
    },
    {
     "data": {
      "text/plain": [
       "[]"
      ]
     },
     "execution_count": 36,
     "metadata": {},
     "output_type": "execute_result"
    }
   ],
   "source": [
    "%%sql\n",
    "INSERT INTO niveaux ('nom_piezo', 'date_releve', 'niveau') VALUES ('F','2016-04-27', '23.4');\n",
    "INSERT INTO niveaux ('nom_piezo', 'date_releve', 'niveau') VALUES ('G','2016-02-17', '22.3');\n",
    "INSERT INTO niveaux ('nom_piezo', 'date_releve', 'niveau') VALUES ('I','2016-07-19', '22.8');\n",
    "INSERT INTO niveaux ('nom_piezo', 'date_releve', 'niveau') VALUES ('F','2016-09-07', '23.4');\n",
    "INSERT INTO niveaux ('nom_piezo', 'date_releve', 'niveau') VALUES ('F','2016-11-13', '21.3');\n",
    "INSERT INTO niveaux ('nom_piezo', 'date_releve', 'niveau') VALUES ('F','2017-02-28', '20.1');\n",
    "INSERT INTO niveaux ('nom_piezo', 'date_releve', 'niveau') VALUES ('H','2017-02-17', '36.6');\n",
    "INSERT INTO niveaux ('nom_piezo', 'date_releve', 'niveau') VALUES ('H','2018-06-27', '36.1');\n",
    "INSERT INTO niveaux ('nom_piezo', 'date_releve', 'niveau') VALUES ('G','2016-09-22', '21.0');\n",
    "INSERT INTO niveaux ('nom_piezo', 'date_releve', 'niveau') VALUES ('G','2017-02-22', '21.0');\n",
    "INSERT INTO niveaux ('nom_piezo', 'date_releve', 'niveau') VALUES ('F','2017-07-04', '19.6');\n",
    "INSERT INTO niveaux ('nom_piezo', 'date_releve', 'niveau') VALUES ('F','2017-10-14', '20.5');\n",
    "INSERT INTO niveaux ('nom_piezo', 'date_releve', 'niveau') VALUES ('F','2017-12-11', '23.4');\n",
    "INSERT INTO niveaux ('nom_piezo', 'date_releve', 'niveau') VALUES ('F','2018-05-17', '19.2');\n",
    "INSERT INTO niveaux ('nom_piezo', 'date_releve', 'niveau') VALUES ('F','2018-08-14', '21.9');\n",
    "INSERT INTO niveaux ('nom_piezo', 'date_releve', 'niveau') VALUES ('F','2018-12-09', '22.7');\n",
    "INSERT INTO niveaux ('nom_piezo', 'date_releve', 'niveau') VALUES ('F','2019-02-17', '23.9');\n",
    "INSERT INTO niveaux ('nom_piezo', 'date_releve', 'niveau') VALUES ('F','2019-07-29', '22.5');\n",
    "INSERT INTO niveaux ('nom_piezo', 'date_releve', 'niveau') VALUES ('E','2018-12-17', '48.1');\n",
    "INSERT INTO niveaux ('nom_piezo', 'date_releve', 'niveau') VALUES ('E','2019-01-21', '42.4');\n",
    "INSERT INTO niveaux ('nom_piezo', 'date_releve', 'niveau') VALUES ('E','2019-07-12', '40.7');\n",
    "INSERT INTO niveaux ('nom_piezo', 'date_releve', 'niveau') VALUES ('E','2019-08-01', '39.9');\n",
    "INSERT INTO niveaux ('nom_piezo', 'date_releve', 'niveau') VALUES ('E','2019-10-22', '37.1');\n",
    "INSERT INTO niveaux ('nom_piezo', 'date_releve', 'niveau') VALUES ('E','2017-11-09', '38.9');\n",
    "INSERT INTO niveaux ('nom_piezo', 'date_releve', 'niveau') VALUES ('E','2020-01-20', '40.5');"
   ]
  },
  {
   "cell_type": "code",
   "execution_count": 37,
   "metadata": {
    "scrolled": true
   },
   "outputs": [
    {
     "name": "stdout",
     "output_type": "stream",
     "text": [
      " * sqlite:///example_db.db\n",
      "Done.\n"
     ]
    },
    {
     "data": {
      "text/html": [
       "<table>\n",
       "    <tr>\n",
       "        <th>nom_piezo</th>\n",
       "        <th>date_releve</th>\n",
       "        <th>niveau</th>\n",
       "    </tr>\n",
       "    <tr>\n",
       "        <td>E</td>\n",
       "        <td>2017-11-09</td>\n",
       "        <td>38.9</td>\n",
       "    </tr>\n",
       "    <tr>\n",
       "        <td>E</td>\n",
       "        <td>2018-12-17</td>\n",
       "        <td>48.1</td>\n",
       "    </tr>\n",
       "    <tr>\n",
       "        <td>E</td>\n",
       "        <td>2019-01-21</td>\n",
       "        <td>42.4</td>\n",
       "    </tr>\n",
       "    <tr>\n",
       "        <td>E</td>\n",
       "        <td>2019-07-12</td>\n",
       "        <td>40.7</td>\n",
       "    </tr>\n",
       "    <tr>\n",
       "        <td>E</td>\n",
       "        <td>2019-08-01</td>\n",
       "        <td>39.9</td>\n",
       "    </tr>\n",
       "    <tr>\n",
       "        <td>E</td>\n",
       "        <td>2019-10-22</td>\n",
       "        <td>37.1</td>\n",
       "    </tr>\n",
       "    <tr>\n",
       "        <td>E</td>\n",
       "        <td>2020-01-20</td>\n",
       "        <td>40.5</td>\n",
       "    </tr>\n",
       "    <tr>\n",
       "        <td>F</td>\n",
       "        <td>2016-04-27</td>\n",
       "        <td>23.4</td>\n",
       "    </tr>\n",
       "    <tr>\n",
       "        <td>F</td>\n",
       "        <td>2016-09-07</td>\n",
       "        <td>23.4</td>\n",
       "    </tr>\n",
       "    <tr>\n",
       "        <td>F</td>\n",
       "        <td>2016-11-13</td>\n",
       "        <td>21.3</td>\n",
       "    </tr>\n",
       "    <tr>\n",
       "        <td>F</td>\n",
       "        <td>2017-02-28</td>\n",
       "        <td>20.1</td>\n",
       "    </tr>\n",
       "    <tr>\n",
       "        <td>F</td>\n",
       "        <td>2017-07-04</td>\n",
       "        <td>19.6</td>\n",
       "    </tr>\n",
       "    <tr>\n",
       "        <td>F</td>\n",
       "        <td>2017-10-14</td>\n",
       "        <td>20.5</td>\n",
       "    </tr>\n",
       "    <tr>\n",
       "        <td>F</td>\n",
       "        <td>2017-12-11</td>\n",
       "        <td>23.4</td>\n",
       "    </tr>\n",
       "    <tr>\n",
       "        <td>F</td>\n",
       "        <td>2018-05-17</td>\n",
       "        <td>19.2</td>\n",
       "    </tr>\n",
       "    <tr>\n",
       "        <td>F</td>\n",
       "        <td>2018-08-14</td>\n",
       "        <td>21.9</td>\n",
       "    </tr>\n",
       "    <tr>\n",
       "        <td>F</td>\n",
       "        <td>2018-12-09</td>\n",
       "        <td>22.7</td>\n",
       "    </tr>\n",
       "    <tr>\n",
       "        <td>F</td>\n",
       "        <td>2019-02-17</td>\n",
       "        <td>23.9</td>\n",
       "    </tr>\n",
       "    <tr>\n",
       "        <td>F</td>\n",
       "        <td>2019-07-29</td>\n",
       "        <td>22.5</td>\n",
       "    </tr>\n",
       "    <tr>\n",
       "        <td>G</td>\n",
       "        <td>2016-02-17</td>\n",
       "        <td>22.3</td>\n",
       "    </tr>\n",
       "    <tr>\n",
       "        <td>G</td>\n",
       "        <td>2016-09-22</td>\n",
       "        <td>21.0</td>\n",
       "    </tr>\n",
       "    <tr>\n",
       "        <td>G</td>\n",
       "        <td>2017-02-22</td>\n",
       "        <td>21.0</td>\n",
       "    </tr>\n",
       "    <tr>\n",
       "        <td>H</td>\n",
       "        <td>2017-02-17</td>\n",
       "        <td>36.6</td>\n",
       "    </tr>\n",
       "    <tr>\n",
       "        <td>H</td>\n",
       "        <td>2018-06-27</td>\n",
       "        <td>36.1</td>\n",
       "    </tr>\n",
       "    <tr>\n",
       "        <td>I</td>\n",
       "        <td>2016-07-19</td>\n",
       "        <td>22.8</td>\n",
       "    </tr>\n",
       "</table>"
      ],
      "text/plain": [
       "[('E', '2017-11-09', 38.9),\n",
       " ('E', '2018-12-17', 48.1),\n",
       " ('E', '2019-01-21', 42.4),\n",
       " ('E', '2019-07-12', 40.7),\n",
       " ('E', '2019-08-01', 39.9),\n",
       " ('E', '2019-10-22', 37.1),\n",
       " ('E', '2020-01-20', 40.5),\n",
       " ('F', '2016-04-27', 23.4),\n",
       " ('F', '2016-09-07', 23.4),\n",
       " ('F', '2016-11-13', 21.3),\n",
       " ('F', '2017-02-28', 20.1),\n",
       " ('F', '2017-07-04', 19.6),\n",
       " ('F', '2017-10-14', 20.5),\n",
       " ('F', '2017-12-11', 23.4),\n",
       " ('F', '2018-05-17', 19.2),\n",
       " ('F', '2018-08-14', 21.9),\n",
       " ('F', '2018-12-09', 22.7),\n",
       " ('F', '2019-02-17', 23.9),\n",
       " ('F', '2019-07-29', 22.5),\n",
       " ('G', '2016-02-17', 22.3),\n",
       " ('G', '2016-09-22', 21.0),\n",
       " ('G', '2017-02-22', 21.0),\n",
       " ('H', '2017-02-17', 36.6),\n",
       " ('H', '2018-06-27', 36.1),\n",
       " ('I', '2016-07-19', 22.8)]"
      ]
     },
     "execution_count": 37,
     "metadata": {},
     "output_type": "execute_result"
    }
   ],
   "source": [
    "%%sql\n",
    "SELECT * FROM niveaux ORDER BY nom_piezo, date_releve;"
   ]
  },
  {
   "cell_type": "markdown",
   "metadata": {},
   "source": [
    "### Rechercher les enregistreurs installés dans les piezomètres ainsi que tous les niveaux enregistrés"
   ]
  },
  {
   "cell_type": "markdown",
   "metadata": {},
   "source": [
    "<div class=\"alert alert-block alert-success\">\n",
    "    Ecrire une requête premettant d'afficher pour chaque piézomètre le type d'enregistreur installé et les niveaux relevés\n",
    "</div>  "
   ]
  },
  {
   "cell_type": "code",
   "execution_count": 38,
   "metadata": {},
   "outputs": [
    {
     "name": "stdout",
     "output_type": "stream",
     "text": [
      " * sqlite:///example_db.db\n",
      "Done.\n"
     ]
    },
    {
     "data": {
      "text/html": [
       "<table>\n",
       "    <tr>\n",
       "        <th>nom</th>\n",
       "        <th>enregistreur</th>\n",
       "        <th>date_releve</th>\n",
       "        <th>niveau</th>\n",
       "    </tr>\n",
       "    <tr>\n",
       "        <td>J</td>\n",
       "        <td>SLB-Diver-2</td>\n",
       "        <td>None</td>\n",
       "        <td>None</td>\n",
       "    </tr>\n",
       "    <tr>\n",
       "        <td>E</td>\n",
       "        <td>SLB-Diver-CTD</td>\n",
       "        <td>2017-11-09</td>\n",
       "        <td>38.9</td>\n",
       "    </tr>\n",
       "    <tr>\n",
       "        <td>E</td>\n",
       "        <td>SLB-Diver-CTD</td>\n",
       "        <td>2018-12-17</td>\n",
       "        <td>48.1</td>\n",
       "    </tr>\n",
       "    <tr>\n",
       "        <td>E</td>\n",
       "        <td>SLB-Diver-CTD</td>\n",
       "        <td>2019-01-21</td>\n",
       "        <td>42.4</td>\n",
       "    </tr>\n",
       "    <tr>\n",
       "        <td>E</td>\n",
       "        <td>SLB-Diver-CTD</td>\n",
       "        <td>2019-07-12</td>\n",
       "        <td>40.7</td>\n",
       "    </tr>\n",
       "    <tr>\n",
       "        <td>E</td>\n",
       "        <td>SLB-Diver-CTD</td>\n",
       "        <td>2019-08-01</td>\n",
       "        <td>39.9</td>\n",
       "    </tr>\n",
       "    <tr>\n",
       "        <td>E</td>\n",
       "        <td>SLB-Diver-CTD</td>\n",
       "        <td>2019-10-22</td>\n",
       "        <td>37.1</td>\n",
       "    </tr>\n",
       "    <tr>\n",
       "        <td>E</td>\n",
       "        <td>SLB-Diver-CTD</td>\n",
       "        <td>2020-01-20</td>\n",
       "        <td>40.5</td>\n",
       "    </tr>\n",
       "    <tr>\n",
       "        <td>F</td>\n",
       "        <td>SLB-Diver</td>\n",
       "        <td>2016-04-27</td>\n",
       "        <td>23.4</td>\n",
       "    </tr>\n",
       "    <tr>\n",
       "        <td>F</td>\n",
       "        <td>SLB-Diver</td>\n",
       "        <td>2016-09-07</td>\n",
       "        <td>23.4</td>\n",
       "    </tr>\n",
       "    <tr>\n",
       "        <td>F</td>\n",
       "        <td>SLB-Diver</td>\n",
       "        <td>2016-11-13</td>\n",
       "        <td>21.3</td>\n",
       "    </tr>\n",
       "    <tr>\n",
       "        <td>F</td>\n",
       "        <td>SLB-Diver</td>\n",
       "        <td>2017-02-28</td>\n",
       "        <td>20.1</td>\n",
       "    </tr>\n",
       "    <tr>\n",
       "        <td>F</td>\n",
       "        <td>SLB-Diver</td>\n",
       "        <td>2017-07-04</td>\n",
       "        <td>19.6</td>\n",
       "    </tr>\n",
       "    <tr>\n",
       "        <td>F</td>\n",
       "        <td>SLB-Diver</td>\n",
       "        <td>2017-10-14</td>\n",
       "        <td>20.5</td>\n",
       "    </tr>\n",
       "    <tr>\n",
       "        <td>F</td>\n",
       "        <td>SLB-Diver</td>\n",
       "        <td>2017-12-11</td>\n",
       "        <td>23.4</td>\n",
       "    </tr>\n",
       "    <tr>\n",
       "        <td>F</td>\n",
       "        <td>SLB-Diver</td>\n",
       "        <td>2018-05-17</td>\n",
       "        <td>19.2</td>\n",
       "    </tr>\n",
       "    <tr>\n",
       "        <td>F</td>\n",
       "        <td>SLB-Diver</td>\n",
       "        <td>2018-08-14</td>\n",
       "        <td>21.9</td>\n",
       "    </tr>\n",
       "    <tr>\n",
       "        <td>F</td>\n",
       "        <td>SLB-Diver</td>\n",
       "        <td>2018-12-09</td>\n",
       "        <td>22.7</td>\n",
       "    </tr>\n",
       "    <tr>\n",
       "        <td>F</td>\n",
       "        <td>SLB-Diver</td>\n",
       "        <td>2019-02-17</td>\n",
       "        <td>23.9</td>\n",
       "    </tr>\n",
       "    <tr>\n",
       "        <td>F</td>\n",
       "        <td>SLB-Diver</td>\n",
       "        <td>2019-07-29</td>\n",
       "        <td>22.5</td>\n",
       "    </tr>\n",
       "    <tr>\n",
       "        <td>G</td>\n",
       "        <td>SLB-Diver</td>\n",
       "        <td>2016-02-17</td>\n",
       "        <td>22.3</td>\n",
       "    </tr>\n",
       "    <tr>\n",
       "        <td>G</td>\n",
       "        <td>SLB-Diver</td>\n",
       "        <td>2016-09-22</td>\n",
       "        <td>21.0</td>\n",
       "    </tr>\n",
       "    <tr>\n",
       "        <td>G</td>\n",
       "        <td>SLB-Diver</td>\n",
       "        <td>2017-02-22</td>\n",
       "        <td>21.0</td>\n",
       "    </tr>\n",
       "    <tr>\n",
       "        <td>H</td>\n",
       "        <td>SLB-Diver-2</td>\n",
       "        <td>2017-02-17</td>\n",
       "        <td>36.6</td>\n",
       "    </tr>\n",
       "    <tr>\n",
       "        <td>H</td>\n",
       "        <td>SLB-Diver-2</td>\n",
       "        <td>2018-06-27</td>\n",
       "        <td>36.1</td>\n",
       "    </tr>\n",
       "    <tr>\n",
       "        <td>I</td>\n",
       "        <td>SLB-Diver</td>\n",
       "        <td>2016-07-19</td>\n",
       "        <td>22.8</td>\n",
       "    </tr>\n",
       "</table>"
      ],
      "text/plain": [
       "[('J', 'SLB-Diver-2', None, None),\n",
       " ('E', 'SLB-Diver-CTD', '2017-11-09', 38.9),\n",
       " ('E', 'SLB-Diver-CTD', '2018-12-17', 48.1),\n",
       " ('E', 'SLB-Diver-CTD', '2019-01-21', 42.4),\n",
       " ('E', 'SLB-Diver-CTD', '2019-07-12', 40.7),\n",
       " ('E', 'SLB-Diver-CTD', '2019-08-01', 39.9),\n",
       " ('E', 'SLB-Diver-CTD', '2019-10-22', 37.1),\n",
       " ('E', 'SLB-Diver-CTD', '2020-01-20', 40.5),\n",
       " ('F', 'SLB-Diver', '2016-04-27', 23.4),\n",
       " ('F', 'SLB-Diver', '2016-09-07', 23.4),\n",
       " ('F', 'SLB-Diver', '2016-11-13', 21.3),\n",
       " ('F', 'SLB-Diver', '2017-02-28', 20.1),\n",
       " ('F', 'SLB-Diver', '2017-07-04', 19.6),\n",
       " ('F', 'SLB-Diver', '2017-10-14', 20.5),\n",
       " ('F', 'SLB-Diver', '2017-12-11', 23.4),\n",
       " ('F', 'SLB-Diver', '2018-05-17', 19.2),\n",
       " ('F', 'SLB-Diver', '2018-08-14', 21.9),\n",
       " ('F', 'SLB-Diver', '2018-12-09', 22.7),\n",
       " ('F', 'SLB-Diver', '2019-02-17', 23.9),\n",
       " ('F', 'SLB-Diver', '2019-07-29', 22.5),\n",
       " ('G', 'SLB-Diver', '2016-02-17', 22.3),\n",
       " ('G', 'SLB-Diver', '2016-09-22', 21.0),\n",
       " ('G', 'SLB-Diver', '2017-02-22', 21.0),\n",
       " ('H', 'SLB-Diver-2', '2017-02-17', 36.6),\n",
       " ('H', 'SLB-Diver-2', '2018-06-27', 36.1),\n",
       " ('I', 'SLB-Diver', '2016-07-19', 22.8)]"
      ]
     },
     "execution_count": 38,
     "metadata": {},
     "output_type": "execute_result"
    }
   ],
   "source": [
    "%%sql\n",
    "SELECT nom, enregistreur, date_releve, niveau FROM piezometres LEFT JOIN niveaux ON piezometres.nom=niveaux.nom_piezo ORDER BY nom_piezo, date_releve;"
   ]
  },
  {
   "cell_type": "markdown",
   "metadata": {},
   "source": [
    "### Utiliser pandas pour afficher l'historique des relevés sur  différents piézomètres\n",
    "<div class=\"alert alert-block alert-info\">\n",
    "    <b>Tip:</b> Grâce à l'extension ipython-sql, il est possible de récupérer la réponse à une requête SQL dans un dataframe pandas et d'utiliser le dataframe pour produire une sortie graphique. <br> Pour information, il est aussi possible d'interroger directement une base de données avec pandas via une requête sql (cf. <code>pd.read_sql(...)</code>)\n",
    "</div>  "
   ]
  },
  {
   "cell_type": "markdown",
   "metadata": {},
   "source": [
    "Afficher un graphique de l'évolution temporelle des niveaux dans le pizéomètre F"
   ]
  },
  {
   "cell_type": "code",
   "execution_count": 39,
   "metadata": {},
   "outputs": [
    {
     "name": "stdout",
     "output_type": "stream",
     "text": [
      " * sqlite:///example_db.db\n",
      "Done.\n"
     ]
    }
   ],
   "source": [
    "out = %sql SELECT date_releve, niveau FROM piezometres INNER JOIN niveaux ON piezometres.nom=niveaux.nom_piezo WHERE piezometres.nom=='F' ORDER BY date_releve;\n",
    "df = out.DataFrame()"
   ]
  },
  {
   "cell_type": "code",
   "execution_count": 40,
   "metadata": {},
   "outputs": [
    {
     "data": {
      "text/html": [
       "<div>\n",
       "<style scoped>\n",
       "    .dataframe tbody tr th:only-of-type {\n",
       "        vertical-align: middle;\n",
       "    }\n",
       "\n",
       "    .dataframe tbody tr th {\n",
       "        vertical-align: top;\n",
       "    }\n",
       "\n",
       "    .dataframe thead th {\n",
       "        text-align: right;\n",
       "    }\n",
       "</style>\n",
       "<table border=\"1\" class=\"dataframe\">\n",
       "  <thead>\n",
       "    <tr style=\"text-align: right;\">\n",
       "      <th></th>\n",
       "      <th>date_releve</th>\n",
       "      <th>niveau</th>\n",
       "    </tr>\n",
       "  </thead>\n",
       "  <tbody>\n",
       "    <tr>\n",
       "      <th>0</th>\n",
       "      <td>2016-04-27</td>\n",
       "      <td>23.4</td>\n",
       "    </tr>\n",
       "    <tr>\n",
       "      <th>1</th>\n",
       "      <td>2016-09-07</td>\n",
       "      <td>23.4</td>\n",
       "    </tr>\n",
       "    <tr>\n",
       "      <th>2</th>\n",
       "      <td>2016-11-13</td>\n",
       "      <td>21.3</td>\n",
       "    </tr>\n",
       "    <tr>\n",
       "      <th>3</th>\n",
       "      <td>2017-02-28</td>\n",
       "      <td>20.1</td>\n",
       "    </tr>\n",
       "    <tr>\n",
       "      <th>4</th>\n",
       "      <td>2017-07-04</td>\n",
       "      <td>19.6</td>\n",
       "    </tr>\n",
       "  </tbody>\n",
       "</table>\n",
       "</div>"
      ],
      "text/plain": [
       "  date_releve  niveau\n",
       "0  2016-04-27    23.4\n",
       "1  2016-09-07    23.4\n",
       "2  2016-11-13    21.3\n",
       "3  2017-02-28    20.1\n",
       "4  2017-07-04    19.6"
      ]
     },
     "execution_count": 40,
     "metadata": {},
     "output_type": "execute_result"
    }
   ],
   "source": [
    "df.head()"
   ]
  },
  {
   "cell_type": "code",
   "execution_count": 41,
   "metadata": {},
   "outputs": [],
   "source": [
    "df['date_releve'] = pd.to_datetime(df['date_releve'])\n",
    "df.set_index('date_releve', inplace=True)"
   ]
  },
  {
   "cell_type": "code",
   "execution_count": 42,
   "metadata": {},
   "outputs": [
    {
     "data": {
      "text/plain": [
       "Text(0, 0.5, 'niveau [m]')"
      ]
     },
     "execution_count": 42,
     "metadata": {},
     "output_type": "execute_result"
    },
    {
     "data": {
      "image/png": "[encoded data removed]",
      "text/plain": [
       "<Figure size 720x432 with 1 Axes>"
      ]
     },
     "metadata": {
      "needs_background": "light"
     },
     "output_type": "display_data"
    }
   ],
   "source": [
    "fig, ax = plt.subplots(figsize=(10,6))\n",
    "df.plot(title='Evolution des niveaux dans le piézomètre F', ax=ax, style='o-')\n",
    "ax.set_xlabel(\"date\")\n",
    "ax.set_ylabel(\"niveau [m]\")"
   ]
  },
  {
   "cell_type": "markdown",
   "metadata": {},
   "source": [
    "<div class=\"alert alert-block alert-success\">\n",
    "    Ecrire une requête et le code python associé pour afficher un graphique montrant au cours du temps les niveaux inférieurs à 40m dans les relevés du pizéomètre E \n",
    "</div>  "
   ]
  },
  {
   "cell_type": "code",
   "execution_count": 43,
   "metadata": {},
   "outputs": [
    {
     "name": "stdout",
     "output_type": "stream",
     "text": [
      " * sqlite:///example_db.db\n",
      "Done.\n"
     ]
    }
   ],
   "source": [
    "out = %sql SELECT date_releve, niveau FROM piezometres INNER JOIN niveaux ON piezometres.nom=niveaux.nom_piezo WHERE piezometres.nom=='E' AND niveau<40. ORDER BY date_releve;\n",
    "df = out.DataFrame()"
   ]
  },
  {
   "cell_type": "code",
   "execution_count": 44,
   "metadata": {},
   "outputs": [
    {
     "data": {
      "text/html": [
       "<div>\n",
       "<style scoped>\n",
       "    .dataframe tbody tr th:only-of-type {\n",
       "        vertical-align: middle;\n",
       "    }\n",
       "\n",
       "    .dataframe tbody tr th {\n",
       "        vertical-align: top;\n",
       "    }\n",
       "\n",
       "    .dataframe thead th {\n",
       "        text-align: right;\n",
       "    }\n",
       "</style>\n",
       "<table border=\"1\" class=\"dataframe\">\n",
       "  <thead>\n",
       "    <tr style=\"text-align: right;\">\n",
       "      <th></th>\n",
       "      <th>date_releve</th>\n",
       "      <th>niveau</th>\n",
       "    </tr>\n",
       "  </thead>\n",
       "  <tbody>\n",
       "    <tr>\n",
       "      <th>0</th>\n",
       "      <td>2017-11-09</td>\n",
       "      <td>38.9</td>\n",
       "    </tr>\n",
       "    <tr>\n",
       "      <th>1</th>\n",
       "      <td>2019-08-01</td>\n",
       "      <td>39.9</td>\n",
       "    </tr>\n",
       "    <tr>\n",
       "      <th>2</th>\n",
       "      <td>2019-10-22</td>\n",
       "      <td>37.1</td>\n",
       "    </tr>\n",
       "  </tbody>\n",
       "</table>\n",
       "</div>"
      ],
      "text/plain": [
       "  date_releve  niveau\n",
       "0  2017-11-09    38.9\n",
       "1  2019-08-01    39.9\n",
       "2  2019-10-22    37.1"
      ]
     },
     "execution_count": 44,
     "metadata": {},
     "output_type": "execute_result"
    }
   ],
   "source": [
    "df.head()"
   ]
  },
  {
   "cell_type": "code",
   "execution_count": 45,
   "metadata": {},
   "outputs": [],
   "source": [
    "df['date_releve'] = pd.to_datetime(df['date_releve'])\n",
    "df.set_index('date_releve', inplace=True)"
   ]
  },
  {
   "cell_type": "code",
   "execution_count": 46,
   "metadata": {},
   "outputs": [
    {
     "data": {
      "text/plain": [
       "Text(0, 0.5, 'niveau [m]')"
      ]
     },
     "execution_count": 46,
     "metadata": {},
     "output_type": "execute_result"
    },
    {
     "data": {
      "image/png": "[encoded data removed]",
      "text/plain": [
       "<Figure size 720x432 with 1 Axes>"
      ]
     },
     "metadata": {
      "needs_background": "light"
     },
     "output_type": "display_data"
    }
   ],
   "source": [
    "fig, ax = plt.subplots(figsize=(10,6))\n",
    "df.plot(title='Dates pour lesquelles les niveaux relevés dans le piézomètre E sont inférieurs à 40m', ax=ax, style='o')\n",
    "ax.set_xlabel(\"date\")\n",
    "ax.set_ylabel(\"niveau [m]\")"
   ]
  }
 ],
 "metadata": {
  "kernelspec": {
   "display_name": "Python 3 (ipykernel)",
   "language": "python",
   "name": "python3"
  },
  "language_info": {
   "codemirror_mode": {
    "name": "ipython",
    "version": 3
   },
   "file_extension": ".py",
   "mimetype": "text/x-python",
   "name": "python",
   "nbconvert_exporter": "python",
   "pygments_lexer": "ipython3",
   "version": "3.8.10"
  }
 },
 "nbformat": 4,
 "nbformat_minor": 1
}
