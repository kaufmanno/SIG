{
 "cells": [
  {
   "cell_type": "markdown",
   "metadata": {},
   "source": [
    "# Exercice 6: Manipulation de rasters avec QGIS - partie 2\n",
    "O. Kaufmann 2023."
   ]
  },
  {
   "cell_type": "code",
   "execution_count": 1,
   "metadata": {},
   "outputs": [
    {
     "name": "stdout",
     "output_type": "stream",
     "text": [
      "# @info: Exécutez-moi pour cacher le code, puis sauvegardez le notebook\n"
     ]
    }
   ],
   "source": [
    "# @info: Exécutez-moi pour activer les questions interactives\n",
    "# -----------------------------------------------------------\n",
    "\n",
    "from IPython.display import HTML\n",
    "import codecs\n",
    "\n",
    "# @hidden\n",
    "HTML('''\n",
    "<script>\n",
    "code_show=true;\n",
    "function code_toggle() {\n",
    " if (code_show){\n",
    "  $('.cm-comment:contains(@hidden)').closest('div.input').hide();\n",
    " } else {\n",
    "  $('.cm-comment:contains(@hidden)').closest('div.input').show();\n",
    " }\n",
    " code_show = !code_show\n",
    "}\n",
    "$( document ).ready(code_toggle);\n",
    "</script>\n",
    "<div># @info: Exécutez-moi pour activer les questions interactives </div>\n",
    "''')"
   ]
  },
  {
   "cell_type": "markdown",
   "metadata": {},
   "source": [
    "***\n",
    "## 1. Préparation"
   ]
  },
  {
   "cell_type": "markdown",
   "metadata": {},
   "source": [
    "<div class=\"alert alert-block alert-info\">\n",
    "<b>Info:</b><br>     Cet exercice est à réaliser dans QGIS. Le notebook ne sert qu'à vous guider dans la réalisation de l'exercice. Lancez QGIS avant de continuer.\n",
    "</div>"
   ]
  },
  {
   "cell_type": "markdown",
   "metadata": {},
   "source": [
    "<div class=\"alert alert-block alert-success\">\n",
    "\t<b>1.1 Préliminaire</b>\n",
    "</div>"
   ]
  },
  {
   "cell_type": "markdown",
   "metadata": {},
   "source": [
    "<div class=\"alert alert-block alert-warning\">\n",
    "<b>Question: </b><br>Faites une copie du projet QGIS Exercice_06.qgz et ouvrez-la.\n",
    "</div>"
   ]
  },
  {
   "cell_type": "markdown",
   "metadata": {},
   "source": [
    "***\n",
    "## 2. Couches raster"
   ]
  },
  {
   "cell_type": "markdown",
   "metadata": {},
   "source": [
    "<div class=\"alert alert-block alert-success\">\n",
    "\t<b>2.1 Exploitation de couches de services externes</b>\n",
    "</div>"
   ]
  },
  {
   "cell_type": "markdown",
   "metadata": {},
   "source": [
    "<div class=\"alert alert-block alert-warning\">\n",
    "<b>Question: </b><br>En vous basant sur la couche OpenTopoMap, déterminez l'altitude approximative de la gare de Mons. \n",
    "</div>"
   ]
  },
  {
   "cell_type": "markdown",
   "metadata": {},
   "source": [
    "<div class=\"alert alert-block alert-warning\">\n",
    "<b>Question: </b><br>Vérifiez votre estimation à l'aide de la couche DEM_v11_Masked2\n",
    "</div>"
   ]
  },
  {
   "cell_type": "markdown",
   "metadata": {},
   "source": [
    "<div class=\"alert alert-block alert-success\">\n",
    "\t<b>2.2 Ajout d'un raster grid</b>\n",
    "</div>"
   ]
  },
  {
   "cell_type": "markdown",
   "metadata": {},
   "source": [
    "<b>Note:</b><br>    Pour cet exercice un fichier raster représentant un modèle numérique de terrain de la région montoise vous est fourni. \n"
   ]
  },
  {
   "cell_type": "markdown",
   "metadata": {},
   "source": [
    "<div class=\"alert alert-block alert-warning\">\n",
    "<b>Question: </b><br>Ajoutez une couche représentant le modèle numérique de terrain à votre carte. \n",
    "</div>"
   ]
  },
  {
   "cell_type": "markdown",
   "metadata": {},
   "source": [
    "<div class=\"alert alert-block alert-success\">\n",
    "\t<b>2.3 Définition d'une colormap et classification</b>\n",
    "</div>"
   ]
  },
  {
   "cell_type": "markdown",
   "metadata": {},
   "source": [
    "<div class=\"alert alert-block alert-warning\">\n",
    "<b>Question: </b><br>Définissez une colormap comme celle ci-dessous:\n",
    "<img src=\"data:image/png;base64,iVBORw0KGgoAAAANSUhEUgAAA0gAAABECAYAAAC7zRU9AAAABmJLR0QAAAAAAAD5Q7t/AAAACXBIWXMAAC4jAAAuIwF4pT92AAAAB3RJTUUH5wIaFCoOEQ2PggAAABl0RVh0Q29tbWVudABDcmVhdGVkIHdpdGggR0lNUFeBDhcAAAOySURBVHja7dvLbRsxFAXQx4m78T6uIFWkFq9cS6pIBcredagDMQvNh+SQYwvOx4nPAQSN+HmkaGBGF0HS+XzOAQAAQEyOAAAAQEACAACo3J1OJ6cAAAB8SA8PD3VA6jUCAAD873r/WHS3XHz+8i0iRURK1XuK5fO+b3uPmAdHOhqT0nWxoi+Nag/WTYN1R3tLg3VH3+nV33eumY5qRrv+tuWtfxu77je2OuX4em5xdru5abBWs5dqrea7r+O3mvvx7Vk0+4neWdxer/4T5HWLU9s2f546bdf3PPfVbSlF3d7Mn8qx5TrF/PpPn4u9LX2ddZqaU7Onqr1pW/Y4Rf98ps6e6n2nYm+pWa/8nKo63b6izjTqmz9Pu76031enb7d209ddu6kzDfY87CvqTIO+HJe45Bw5LpEjR56vL5Ej57lt7qvHzW1xmefMfXmdXcwvx219a++u1raXbdRlsLeyVj2/2u9ub+W4do3OXtZzOthLjsg5ruPm6xxLW1zn5PLz8spbW9Tt9bimTrS1xvX3tZt9DuoP99nWj4M6ubPPONhn3m6rUdxiY21PdftwXNnen5Ny9NvbmfloTHGdl+v0Qt3R2ungex+tnYY1e/fx7V7WfwYM79nls6F33x6stdWsn4G7Z9HgOfbic6f3zBzV7T1Le8/TwXMzYrr+7lnuwGndYdX++nEpUpqacfv5t43rr1XOPx63tR+tddu4/Vrl+1uul9+ib6vx0tj4xfVuW+c1Z9Dyf5AAAAAEJAAAAAEJAABAQAIAABCQAAAABCQAAAABCQAAQEACAAAQkAAAAAQkAAAAAQkAAEBAAgAAEJAAAAAEJAAAAAEJAABAQAIAABCQAAAABCQAAAABCQAAQEACAAAQkAAAAAQkAAAAAQkAAEBAAgAAEJAAAAAEJAAAAAEJAABAQAIAABCQAAAABCQAAAABCQAAQEACAAAQkAAAAAQkAAAAAQkAAEBAAgAAEJAAAAAQkAAAAAQkAAAAAQkAAEBAAgAAEJAAAAAEJAAAAAEJAABAQAIAABCQAAAABCQAAAABCQAAQEACAAAQkAAAAAQkAAAAAQkAAEBAAgAAEJAAAAAEJAAAAAEJAABAQAIAABCQAAAABCQAAIB37G65+PH9q9MA3rc8uH6jyx/8Cml+RUR8em/nmwbXAPC3Hv35+vo9PyryOCCdTienDwAAfHjpfD7niIinp6eIiHh8fHQqb/T8/BwREff39w7DWTpLZ4nzdJbO0lk6S2f5D53lT9O405JdGhobAAAAAElFTkSuQmCC\" />\n",
    "</div>"
   ]
  },
  {
   "cell_type": "markdown",
   "metadata": {},
   "source": [
    "<div class=\"alert alert-block alert-warning\">\n",
    "<b>Question: </b><br>Affichez le modèle numérique de terrain avec cette colormap.\n",
    "</div>"
   ]
  },
  {
   "cell_type": "markdown",
   "metadata": {},
   "source": [
    "<div class=\"alert alert-block alert-warning\">\n",
    "<b>Question: </b><br>Quelle est l'altitude de la Gare de Mons fournie par ce modèle numérique de terrain?\n",
    "    Est-ce compatible avec votre estimation?\n",
    "</div>"
   ]
  },
  {
   "cell_type": "markdown",
   "metadata": {},
   "source": [
    "<div class=\"alert alert-block alert-warning\">\n",
    "<b>Question: </b><br>Essayez de modifier la colormap de DEM_v11_Masked2 de la même manière que précédemment. Que constatez-vous? Pourquoi?\n",
    "</div>"
   ]
  },
  {
   "cell_type": "code",
   "execution_count": null,
   "metadata": {},
   "outputs": [],
   "source": []
  }
 ],
 "metadata": {
  "kernelspec": {
   "display_name": "Python 3 (ipykernel)",
   "language": "python",
   "name": "python3"
  },
  "language_info": {
   "codemirror_mode": {
    "name": "ipython",
    "version": 3
   },
   "file_extension": ".py",
   "mimetype": "text/x-python",
   "name": "python",
   "nbconvert_exporter": "python",
   "pygments_lexer": "ipython3",
   "version": "3.8.10"
  }
 },
 "nbformat": 4,
 "nbformat_minor": 1
}
