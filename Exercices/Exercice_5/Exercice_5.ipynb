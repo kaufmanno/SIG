{
 "cells": [
  {
   "cell_type": "markdown",
   "id": "4e31cb62",
   "metadata": {},
   "source": [
    "# Exercice 5: Création et manipulation de géométries simples avec shapely\n",
    "O. Kaufmann 2020, 2022"
   ]
  },
  {
   "cell_type": "code",
   "execution_count": 1,
   "id": "21cc90f7",
   "metadata": {},
   "outputs": [
    {
     "data": {
      "text/html": [
       "\n",
       "<script>\n",
       "code_show=true;\n",
       "function code_toggle() {\n",
       " if (code_show){\n",
       "  $('.cm-comment:contains(@hidden)').closest('div.input').hide();\n",
       " } else {\n",
       "  $('.cm-comment:contains(@hidden)').closest('div.input').show();\n",
       " }\n",
       " code_show = !code_show\n",
       "}\n",
       "$( document ).ready(code_toggle);\n",
       "</script>\n",
       "<div># @info: Exécutez-moi pour activer les questions interactives </div>\n"
      ],
      "text/plain": [
       "<IPython.core.display.HTML object>"
      ]
     },
     "execution_count": 1,
     "metadata": {},
     "output_type": "execute_result"
    }
   ],
   "source": [
    "# @info: Exécutez-moi pour activer les questions interactives\n",
    "# -----------------------------------------------------------\n",
    "\n",
    "from IPython.display import HTML\n",
    "import codecs\n",
    "\n",
    "# @hidden\n",
    "HTML('''\n",
    "<script>\n",
    "code_show=true;\n",
    "function code_toggle() {\n",
    " if (code_show){\n",
    "  $('.cm-comment:contains(@hidden)').closest('div.input').hide();\n",
    " } else {\n",
    "  $('.cm-comment:contains(@hidden)').closest('div.input').show();\n",
    " }\n",
    " code_show = !code_show\n",
    "}\n",
    "$( document ).ready(code_toggle);\n",
    "</script>\n",
    "<div># @info: Exécutez-moi pour activer les questions interactives </div>\n",
    "''')"
   ]
  },
  {
   "cell_type": "markdown",
   "id": "26c62741",
   "metadata": {},
   "source": [
    "***\n",
    "## 1. Imports"
   ]
  },
  {
   "cell_type": "markdown",
   "id": "21e04322",
   "metadata": {},
   "source": [
    "<div class=\"alert alert-block alert-warning\">\n",
    "<b>Question: </b><br>Importez le package numpy et importez les classes Point, LineString, LinearRing et Polygon du package shapely\n",
    "</div>"
   ]
  },
  {
   "cell_type": "markdown",
   "id": "8bcb35bd",
   "metadata": {},
   "source": [
    "<b>Note:</b><br>    Pour numpy on utilise classiquement l'alias 'np'.<br>\n",
    "    Les classes Point, LineString et Polygon sont dans le module geometry de shapely\n"
   ]
  },
  {
   "cell_type": "code",
   "execution_count": 2,
   "id": "fa704140",
   "metadata": {},
   "outputs": [
    {
     "data": {
      "text/html": [
       "<div class=\"alert alert-block alert-warning\">\n",
       "\tSi vous être bloqué(e),\n",
       "                    affichez une solution en pressant sur le bouton ci-dessous.<br>\n",
       "\tVeillez à <b>comprendre</b> la solution\n",
       "                    et à la tester par vous-même.\n",
       "</div> <br>\n",
       "\n",
       "<button data-toggle=\"collapse\" data-target=\"#reveal_0000\">\n",
       "                    Afficher le code</button>\n",
       "<div id=\"reveal_0000\" class=\"collapse\">\n",
       "<br><code>import numpy as np<br>\n",
       "from shapely.geometry import Point, LineString, LinearRing, Polygon \n",
       "</code>\n",
       "</div>\n",
       "\n",
       "                    "
      ],
      "text/plain": [
       "<IPython.core.display.HTML object>"
      ]
     },
     "execution_count": 2,
     "metadata": {},
     "output_type": "execute_result"
    }
   ],
   "source": [
    "# @hidden\n",
    "sx=b'3c64697620636c6173733d22616c65727420616c6572742d626c6f636b20616c6572742d7761726e696e67223e0a09536920766f757320c3aa74726520626c6f7175c3a92865292c0a2020202020202020202020202020202020202020616666696368657a20756e6520736f6c7574696f6e20656e207072657373616e7420737572206c6520626f75746f6e2063692d646573736f75732e3c62723e0a095665696c6c657a20c3a0203c623e636f6d7072656e6472653c2f623e206c6120736f6c7574696f6e0a2020202020202020202020202020202020202020657420c3a0206c61207465737465722070617220766f75732d6dc3aa6d652e0a3c2f6469763e203c62723e0a0a3c627574746f6e20646174612d746f67676c653d22636f6c6c617073652220646174612d7461726765743d222372657665616c5f30303030223e0a20202020202020202020202020202020202020204166666963686572206c6520636f64653c2f627574746f6e3e0a3c6469762069643d2272657665616c5f303030302220636c6173733d22636f6c6c61707365223e0a3c62723e3c636f64653e696d706f7274206e756d7079206173206e703c62723e0a66726f6d2073686170656c792e67656f6d6574727920696d706f727420506f696e742c204c696e65537472696e672c204c696e65617252696e672c20506f6c79676f6e200a3c2f636f64653e0a3c2f6469763e0a0a2020202020202020202020202020202020202020'\n",
    "HTML(codecs.decode(codecs.decode(sx,'hex'), 'utf8'))"
   ]
  },
  {
   "cell_type": "markdown",
   "id": "0257e704",
   "metadata": {},
   "source": [
    "<div class=\"alert alert-block alert-info\">\n",
    "<b>Info:</b><br>     Vous trouverez la  <a href=\"https://shapely.readthedocs.io/en/stable/manual.html\">documentation de shapely</a> en suivant ce lien<br>\n",
    "    \n",
    "</div>"
   ]
  },
  {
   "cell_type": "markdown",
   "id": "collectible-april",
   "metadata": {},
   "source": [
    "***\n",
    "## 2. Création d'un point de coordonnées (10,10)"
   ]
  },
  {
   "cell_type": "code",
   "execution_count": null,
   "id": "indoor-battlefield",
   "metadata": {},
   "outputs": [],
   "source": []
  },
  {
   "cell_type": "code",
   "execution_count": 3,
   "id": "distributed-vertex",
   "metadata": {},
   "outputs": [
    {
     "data": {
      "text/html": [
       "<div class=\"alert alert-block alert-warning\">\n",
       "\tSi vous être bloqué(e),\n",
       "                    affichez une solution en pressant sur le bouton ci-dessous.<br>\n",
       "\tVeillez à <b>comprendre</b> la solution\n",
       "                    et à la tester par vous-même.\n",
       "</div> <br>\n",
       "\n",
       "<button data-toggle=\"collapse\" data-target=\"#reveal_0001\">\n",
       "                    Afficher le code</button>\n",
       "<div id=\"reveal_0001\" class=\"collapse\">\n",
       "<br><code>Point(10,10)\n",
       "</code>\n",
       "</div>\n",
       "\n",
       "                    "
      ],
      "text/plain": [
       "<IPython.core.display.HTML object>"
      ]
     },
     "execution_count": 3,
     "metadata": {},
     "output_type": "execute_result"
    }
   ],
   "source": [
    "# @hidden\n",
    "sx=b'3c64697620636c6173733d22616c65727420616c6572742d626c6f636b20616c6572742d7761726e696e67223e0a09536920766f757320c3aa74726520626c6f7175c3a92865292c0a2020202020202020202020202020202020202020616666696368657a20756e6520736f6c7574696f6e20656e207072657373616e7420737572206c6520626f75746f6e2063692d646573736f75732e3c62723e0a095665696c6c657a20c3a0203c623e636f6d7072656e6472653c2f623e206c6120736f6c7574696f6e0a2020202020202020202020202020202020202020657420c3a0206c61207465737465722070617220766f75732d6dc3aa6d652e0a3c2f6469763e203c62723e0a0a3c627574746f6e20646174612d746f67676c653d22636f6c6c617073652220646174612d7461726765743d222372657665616c5f30303031223e0a20202020202020202020202020202020202020204166666963686572206c6520636f64653c2f627574746f6e3e0a3c6469762069643d2272657665616c5f303030312220636c6173733d22636f6c6c61707365223e0a3c62723e3c636f64653e506f696e742831302c3130290a3c2f636f64653e0a3c2f6469763e0a0a2020202020202020202020202020202020202020'\n",
    "HTML(codecs.decode(codecs.decode(sx,'hex'), 'utf8'))"
   ]
  },
  {
   "cell_type": "markdown",
   "id": "designing-march",
   "metadata": {},
   "source": [
    "<div class=\"alert alert-block alert-warning\">\n",
    "<b>Question: </b><br>Examinez les alternatives suivantes.  \n",
    "    Pensez-vous qu'elles fonctionnent? Vérifiez et expliquez.\n",
    "        1) Point([10, 10])  \n",
    "        2) Point((10, 10))  \n",
    "        3) Point('10, 10')  \n",
    "        4) Point(10, 10, 0)\n",
    "</div>"
   ]
  },
  {
   "cell_type": "code",
   "execution_count": null,
   "id": "scheduled-infrastructure",
   "metadata": {},
   "outputs": [],
   "source": []
  },
  {
   "cell_type": "markdown",
   "id": "solid-myrtle",
   "metadata": {},
   "source": [
    "<div class=\"alert alert-block alert-warning\">\n",
    "<b>Question: </b><br>Testez une alternative utilisant un numpy array pour créer un point\n",
    "</div>"
   ]
  },
  {
   "cell_type": "code",
   "execution_count": 4,
   "id": "metropolitan-sherman",
   "metadata": {},
   "outputs": [
    {
     "data": {
      "text/html": [
       "<div class=\"alert alert-block alert-warning\">\n",
       "\tSi vous être bloqué(e),\n",
       "                    affichez une solution en pressant sur le bouton ci-dessous.<br>\n",
       "\tVeillez à <b>comprendre</b> la solution\n",
       "                    et à la tester par vous-même.\n",
       "</div> <br>\n",
       "\n",
       "<button data-toggle=\"collapse\" data-target=\"#reveal_0002\">\n",
       "                    Afficher le code</button>\n",
       "<div id=\"reveal_0002\" class=\"collapse\">\n",
       "<br><code>vecteur_coordonnees = np.array((10, 10))\n",
       "</code>\n",
       "</div>\n",
       "\n",
       "                    "
      ],
      "text/plain": [
       "<IPython.core.display.HTML object>"
      ]
     },
     "execution_count": 4,
     "metadata": {},
     "output_type": "execute_result"
    }
   ],
   "source": [
    "# @hidden\n",
    "sx=b'3c64697620636c6173733d22616c65727420616c6572742d626c6f636b20616c6572742d7761726e696e67223e0a09536920766f757320c3aa74726520626c6f7175c3a92865292c0a2020202020202020202020202020202020202020616666696368657a20756e6520736f6c7574696f6e20656e207072657373616e7420737572206c6520626f75746f6e2063692d646573736f75732e3c62723e0a095665696c6c657a20c3a0203c623e636f6d7072656e6472653c2f623e206c6120736f6c7574696f6e0a2020202020202020202020202020202020202020657420c3a0206c61207465737465722070617220766f75732d6dc3aa6d652e0a3c2f6469763e203c62723e0a0a3c627574746f6e20646174612d746f67676c653d22636f6c6c617073652220646174612d7461726765743d222372657665616c5f30303032223e0a20202020202020202020202020202020202020204166666963686572206c6520636f64653c2f627574746f6e3e0a3c6469762069643d2272657665616c5f303030322220636c6173733d22636f6c6c61707365223e0a3c62723e3c636f64653e766563746575725f636f6f72646f6e6e656573203d206e702e6172726179282831302c20313029290a3c2f636f64653e0a3c2f6469763e0a0a2020202020202020202020202020202020202020'\n",
    "HTML(codecs.decode(codecs.decode(sx,'hex'), 'utf8'))"
   ]
  },
  {
   "cell_type": "code",
   "execution_count": null,
   "id": "fatal-wrapping",
   "metadata": {},
   "outputs": [],
   "source": []
  },
  {
   "cell_type": "markdown",
   "id": "hazardous-picture",
   "metadata": {},
   "source": [
    "***\n",
    "## 3. Créer des objets géométriques de type ligne, anneau et polygone  "
   ]
  },
  {
   "cell_type": "markdown",
   "id": "699a779d",
   "metadata": {},
   "source": [
    "<div class=\"alert alert-block alert-success\">\n",
    "\t<b>3.1 Création et manipulation d'un objet ligne</b>\n",
    "</div>"
   ]
  },
  {
   "cell_type": "markdown",
   "id": "requested-austria",
   "metadata": {},
   "source": [
    "<div class=\"alert alert-block alert-warning\">\n",
    "<b>Question: </b><br>Créez un objet <i>LineString</i> sur base des points suivants :\n",
    "    (10, 10), (15, 25), (40, 10)  \n",
    "</div>"
   ]
  },
  {
   "cell_type": "code",
   "execution_count": 5,
   "id": "dangerous-spirituality",
   "metadata": {},
   "outputs": [
    {
     "data": {
      "text/html": [
       "<div class=\"alert alert-block alert-warning\">\n",
       "\tSi vous être bloqué(e),\n",
       "                    affichez une solution en pressant sur le bouton ci-dessous.<br>\n",
       "\tVeillez à <b>comprendre</b> la solution\n",
       "                    et à la tester par vous-même.\n",
       "</div> <br>\n",
       "\n",
       "<button data-toggle=\"collapse\" data-target=\"#reveal_0003\">\n",
       "                    Afficher le code</button>\n",
       "<div id=\"reveal_0003\" class=\"collapse\">\n",
       "<br><code>LineString(((10, 10), (15, 25), (40, 10)))\n",
       "</code>\n",
       "</div>\n",
       "\n",
       "                    "
      ],
      "text/plain": [
       "<IPython.core.display.HTML object>"
      ]
     },
     "execution_count": 5,
     "metadata": {},
     "output_type": "execute_result"
    }
   ],
   "source": [
    "# @hidden\n",
    "sx=b'3c64697620636c6173733d22616c65727420616c6572742d626c6f636b20616c6572742d7761726e696e67223e0a09536920766f757320c3aa74726520626c6f7175c3a92865292c0a2020202020202020202020202020202020202020616666696368657a20756e6520736f6c7574696f6e20656e207072657373616e7420737572206c6520626f75746f6e2063692d646573736f75732e3c62723e0a095665696c6c657a20c3a0203c623e636f6d7072656e6472653c2f623e206c6120736f6c7574696f6e0a2020202020202020202020202020202020202020657420c3a0206c61207465737465722070617220766f75732d6dc3aa6d652e0a3c2f6469763e203c62723e0a0a3c627574746f6e20646174612d746f67676c653d22636f6c6c617073652220646174612d7461726765743d222372657665616c5f30303033223e0a20202020202020202020202020202020202020204166666963686572206c6520636f64653c2f627574746f6e3e0a3c6469762069643d2272657665616c5f303030332220636c6173733d22636f6c6c61707365223e0a3c62723e3c636f64653e4c696e65537472696e6728282831302c203130292c202831352c203235292c202834302c2031302929290a3c2f636f64653e0a3c2f6469763e0a0a2020202020202020202020202020202020202020'\n",
    "HTML(codecs.decode(codecs.decode(sx,'hex'), 'utf8'))"
   ]
  },
  {
   "cell_type": "markdown",
   "id": "naval-organ",
   "metadata": {},
   "source": [
    "<div class=\"alert alert-block alert-info\">\n",
    "<b>Info:</b><br>     Vous pouvez aussi définir un objet <i>LineString</i> au départ d'objets <i>Point</i><br>\n",
    "</div>  \n",
    "</div>"
   ]
  },
  {
   "cell_type": "markdown",
   "id": "d2988c76",
   "metadata": {},
   "source": [
    "<div class=\"alert alert-block alert-warning\">\n",
    "<b>Question: </b><br>Créez trois points et servez-vous en pour créer une ligne brisée\n",
    "</div>"
   ]
  },
  {
   "cell_type": "code",
   "execution_count": null,
   "id": "municipal-public",
   "metadata": {},
   "outputs": [],
   "source": []
  },
  {
   "cell_type": "code",
   "execution_count": 6,
   "id": "brown-singer",
   "metadata": {},
   "outputs": [
    {
     "data": {
      "text/html": [
       "<div class=\"alert alert-block alert-warning\">\n",
       "\tSi vous être bloqué(e),\n",
       "                    affichez une solution en pressant sur le bouton ci-dessous.<br>\n",
       "\tVeillez à <b>comprendre</b> la solution\n",
       "                    et à la tester par vous-même.\n",
       "</div> <br>\n",
       "\n",
       "<button data-toggle=\"collapse\" data-target=\"#reveal_0004\">\n",
       "                    Afficher le code</button>\n",
       "<div id=\"reveal_0004\" class=\"collapse\">\n",
       "<br><code>l1 = LineString((p1,p2,p3))<br>\n",
       "l1\n",
       "</code>\n",
       "</div>\n",
       "\n",
       "                    "
      ],
      "text/plain": [
       "<IPython.core.display.HTML object>"
      ]
     },
     "execution_count": 6,
     "metadata": {},
     "output_type": "execute_result"
    }
   ],
   "source": [
    "# @hidden\n",
    "sx=b'3c64697620636c6173733d22616c65727420616c6572742d626c6f636b20616c6572742d7761726e696e67223e0a09536920766f757320c3aa74726520626c6f7175c3a92865292c0a2020202020202020202020202020202020202020616666696368657a20756e6520736f6c7574696f6e20656e207072657373616e7420737572206c6520626f75746f6e2063692d646573736f75732e3c62723e0a095665696c6c657a20c3a0203c623e636f6d7072656e6472653c2f623e206c6120736f6c7574696f6e0a2020202020202020202020202020202020202020657420c3a0206c61207465737465722070617220766f75732d6dc3aa6d652e0a3c2f6469763e203c62723e0a0a3c627574746f6e20646174612d746f67676c653d22636f6c6c617073652220646174612d7461726765743d222372657665616c5f30303034223e0a20202020202020202020202020202020202020204166666963686572206c6520636f64653c2f627574746f6e3e0a3c6469762069643d2272657665616c5f303030342220636c6173733d22636f6c6c61707365223e0a3c62723e3c636f64653e6c31203d204c696e65537472696e67282870312c70322c703329293c62723e0a6c310a3c2f636f64653e0a3c2f6469763e0a0a2020202020202020202020202020202020202020'\n",
    "HTML(codecs.decode(codecs.decode(sx,'hex'), 'utf8'))"
   ]
  },
  {
   "cell_type": "code",
   "execution_count": 7,
   "id": "insured-breakfast",
   "metadata": {},
   "outputs": [
    {
     "data": {
      "text/html": [
       "<div class=\"alert alert-block alert-warning\">\n",
       "<b>Question: </b><br>Calculez la longueur de l'objet <i>LineString</i> que vous avez créé</b>\n",
       "\n",
       "\n",
       "</div> <br>\n",
       "<button data-toggle=\"collapse\"\n",
       "                    data-target=\"#question_0005\">Afficher la réponse</button>\n",
       "\n",
       "<div id=\"question_0005\"\n",
       "                    class=\"collapse\">    Vous pouvez trouver les propriétés et méthodes d'un objet en plaçant un point derrière le nom de l'objet puis en pressant la touche TAB\n",
       "</div>\n"
      ],
      "text/plain": [
       "<IPython.core.display.HTML object>"
      ]
     },
     "execution_count": 7,
     "metadata": {},
     "output_type": "execute_result"
    }
   ],
   "source": [
    "# @hidden\n",
    "sx=b'3c64697620636c6173733d22616c65727420616c6572742d626c6f636b20616c6572742d7761726e696e67223e0a3c623e5175657374696f6e3a203c2f623e3c62723e43616c63756c657a206c61206c6f6e6775657572206465206c276f626a6574203c693e4c696e65537472696e673c2f693e2071756520766f7573206176657a206372c3a9c3a93c2f623e0a0a0a3c2f6469763e203c62723e0a3c627574746f6e20646174612d746f67676c653d22636f6c6c61707365220a2020202020202020202020202020202020202020646174612d7461726765743d22237175657374696f6e5f30303035223e4166666963686572206c612072c3a9706f6e73653c2f627574746f6e3e0a0a3c6469762069643d227175657374696f6e5f30303035220a2020202020202020202020202020202020202020636c6173733d22636f6c6c61707365223e20202020566f757320706f7576657a2074726f75766572206c65732070726f707269c3a974c3a973206574206dc3a974686f646573206427756e206f626a657420656e20706c61c3a7616e7420756e20706f696e74206465727269c3a87265206c65206e6f6d206465206c276f626a6574207075697320656e207072657373616e74206c6120746f75636865205441420a3c2f6469763e0a'\n",
    "HTML(codecs.decode(codecs.decode(sx,'hex'), 'utf8'))"
   ]
  },
  {
   "cell_type": "code",
   "execution_count": null,
   "id": "motivated-novelty",
   "metadata": {},
   "outputs": [],
   "source": []
  },
  {
   "cell_type": "markdown",
   "id": "cheap-lucas",
   "metadata": {},
   "source": [
    "<div class=\"alert alert-block alert-success\">\n",
    "\t<b>3.2 Creation d'un anneau</b>\n",
    "</div>"
   ]
  },
  {
   "cell_type": "markdown",
   "id": "0cfeeaa3",
   "metadata": {},
   "source": [
    "<div class=\"alert alert-block alert-warning\">\n",
    "<b>Question: </b><br>Créez un objet <i>LinearRing</i> sur base des même points que ceux de la question précédente\n",
    "</div>"
   ]
  },
  {
   "cell_type": "code",
   "execution_count": null,
   "id": "positive-westminster",
   "metadata": {},
   "outputs": [],
   "source": []
  },
  {
   "cell_type": "markdown",
   "id": "192c2d51",
   "metadata": {},
   "source": [
    "<div class=\"alert alert-block alert-success\">\n",
    "\t<b>3.3 Création de polygones</b>\n",
    "</div>"
   ]
  },
  {
   "cell_type": "markdown",
   "id": "broke-ancient",
   "metadata": {},
   "source": [
    "<div class=\"alert alert-block alert-warning\">\n",
    "<b>Question: </b><br>Créez un objet <i>Polygon</i> sur base des points suivants : (0, 0), (60, 5), (70, 60), (20,80)\n",
    "</div>"
   ]
  },
  {
   "cell_type": "code",
   "execution_count": null,
   "id": "likely-blind",
   "metadata": {},
   "outputs": [],
   "source": []
  },
  {
   "cell_type": "code",
   "execution_count": 8,
   "id": "limited-inflation",
   "metadata": {},
   "outputs": [
    {
     "data": {
      "text/html": [
       "<div class=\"alert alert-block alert-warning\">\n",
       "<b>Question: </b><br>Dans le cas d'un polygone qui contient des trous, comment peut-on déterminer une frontière 'intérieure' et une frontière 'extérieure' du polygone?\n",
       "\n",
       "\n",
       "</div> <br>\n",
       "<button data-toggle=\"collapse\"\n",
       "                    data-target=\"#question_0008\">Afficher la réponse</button>\n",
       "\n",
       "<div id=\"question_0008\"\n",
       "                    class=\"collapse\">    Par défaut, les coordonnées fournies sont celles de points qui déterminent la frontière extérieure, il faut fournir une liste d'anneaux qui déterminent les fontières intérieure et extérieure dans le cas d'un polygone possédant des trous. (cf. aide de shapely)\n",
       "</div>\n"
      ],
      "text/plain": [
       "<IPython.core.display.HTML object>"
      ]
     },
     "execution_count": 8,
     "metadata": {},
     "output_type": "execute_result"
    }
   ],
   "source": [
    "# @hidden\n",
    "sx=b'3c64697620636c6173733d22616c65727420616c6572742d626c6f636b20616c6572742d7761726e696e67223e0a3c623e5175657374696f6e3a203c2f623e3c62723e44616e73206c6520636173206427756e20706f6c79676f6e652071756920636f6e7469656e74206465732074726f75732c20636f6d6d656e7420706575742d6f6e2064c3a97465726d696e657220756e652066726f6e7469c3a872652027696e74c3a97269657572652720657420756e652066726f6e7469c3a872652027657874c3a97269657572652720647520706f6c79676f6e653f0a0a0a3c2f6469763e203c62723e0a3c627574746f6e20646174612d746f67676c653d22636f6c6c61707365220a2020202020202020202020202020202020202020646174612d7461726765743d22237175657374696f6e5f30303038223e4166666963686572206c612072c3a9706f6e73653c2f627574746f6e3e0a0a3c6469762069643d227175657374696f6e5f30303038220a2020202020202020202020202020202020202020636c6173733d22636f6c6c61707365223e202020205061722064c3a9666175742c206c657320636f6f72646f6e6ec3a9657320666f75726e69657320736f6e742063656c6c657320646520706f696e7473207175692064c3a97465726d696e656e74206c612066726f6e7469c3a8726520657874c3a97269657572652c20696c206661757420666f75726e697220756e65206c69737465206427616e6e65617578207175692064c3a97465726d696e656e74206c657320666f6e7469c3a872657320696e74c3a972696575726520657420657874c3a97269657572652064616e73206c6520636173206427756e20706f6c79676f6e6520706f7373c3a964616e74206465732074726f75732e202863662e20616964652064652073686170656c79290a3c2f6469763e0a'\n",
    "HTML(codecs.decode(codecs.decode(sx,'hex'), 'utf8'))"
   ]
  },
  {
   "cell_type": "markdown",
   "id": "double-brief",
   "metadata": {},
   "source": [
    "<div class=\"alert alert-block alert-warning\">\n",
    "<b>Question: </b><br>Créez un polygone dont la frontière externe est constituée d'un anneau construit sur les points de la question précédente et la frontière interne sur ceux de la section sur le création d'un anneau.\n",
    "</div>"
   ]
  },
  {
   "cell_type": "code",
   "execution_count": null,
   "id": "gorgeous-weather",
   "metadata": {},
   "outputs": [],
   "source": []
  }
 ],
 "metadata": {
  "kernelspec": {
   "display_name": "Python 3 (ipykernel)",
   "language": "python",
   "name": "python3"
  },
  "language_info": {
   "codemirror_mode": {
    "name": "ipython",
    "version": 3
   },
   "file_extension": ".py",
   "mimetype": "text/x-python",
   "name": "python",
   "nbconvert_exporter": "python",
   "pygments_lexer": "ipython3",
   "version": "3.8.10"
  }
 },
 "nbformat": 4,
 "nbformat_minor": 5
}
