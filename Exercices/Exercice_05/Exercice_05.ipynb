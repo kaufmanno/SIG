{
 "cells": [
  {
   "cell_type": "markdown",
   "metadata": {},
   "source": [
    "# Exercice 5: Premiers pas avec QGIS\n",
    "O. Kaufmann 2023."
   ]
  },
  {
   "cell_type": "code",
   "execution_count": 1,
   "metadata": {},
   "outputs": [
    {
     "name": "stdout",
     "output_type": "stream",
     "text": [
      "# @info: Exécutez-moi pour cacher le code, puis sauvegardez le notebook\n"
     ]
    }
   ],
   "source": [
    "# @info: Exécutez-moi pour activer les questions interactives\n",
    "# -----------------------------------------------------------\n",
    "\n",
    "from IPython.display import HTML\n",
    "import codecs\n",
    "\n",
    "# @hidden\n",
    "HTML('''\n",
    "<script>\n",
    "code_show=true;\n",
    "function code_toggle() {\n",
    " if (code_show){\n",
    "  $('.cm-comment:contains(@hidden)').closest('div.input').hide();\n",
    " } else {\n",
    "  $('.cm-comment:contains(@hidden)').closest('div.input').show();\n",
    " }\n",
    " code_show = !code_show\n",
    "}\n",
    "$( document ).ready(code_toggle);\n",
    "</script>\n",
    "<div># @info: Exécutez-moi pour activer les questions interactives </div>\n",
    "''')"
   ]
  },
  {
   "cell_type": "markdown",
   "metadata": {},
   "source": [
    "***\n",
    "## 1. Préparation"
   ]
  },
  {
   "cell_type": "markdown",
   "metadata": {},
   "source": [
    "@info\n",
    "   Charger le projet QGIS stocké dans le fichier Exercice_5.qgz"
   ]
  },
  {
   "cell_type": "markdown",
   "metadata": {},
   "source": [
    "<b>Note:</b><br>    Pour plus de facilité vous pouvez utiliser les bureaux de lubuntu. Les combinaisons de touches [Ctrl] + [Alt] + [->] et [Ctrl] + [Alt] + [<-] vous permettent de passer d'un bureau à l'autre rapidement. Les combinaison de touches [Shift] + [Ctrl] + [Alt] + [->] et [Shift] + [Ctrl] + [Alt] + [<-] vous permettent de déplacer la fenêtre courante d'un bureau à l'autre rapidement. Si vous placez ce notebook dans un bureau et QGIS dans le bureau voisin, vous pouvez ainsi basculer rapidement de l'un à l'autre.\n"
   ]
  },
  {
   "cell_type": "markdown",
   "metadata": {},
   "source": [
    "***\n",
    "## 2. Exploration de l'interface"
   ]
  },
  {
   "cell_type": "markdown",
   "metadata": {},
   "source": [
    "<div class=\"alert alert-block alert-info\">\n",
    "<b>Info:</b><br>     QGIS offre une interface graphique classique avec des menus, des barres d'outils ainsi que des panneaux. Prenez une minute pour faire un rapide tour des menus et des panneaux.\n",
    "</div>"
   ]
  },
  {
   "cell_type": "markdown",
   "metadata": {},
   "source": [
    "<b>Note:</b><br>    QGIS offre énormément de possibilités. Vous pouvez sélectionner à tout moment quels panneaux et quelles barres d'outils sont affichés dans le menu \"Vue\".\n"
   ]
  },
  {
   "cell_type": "markdown",
   "metadata": {},
   "source": [
    "***\n",
    "## 3. Examen de la carte"
   ]
  },
  {
   "cell_type": "markdown",
   "metadata": {},
   "source": [
    "<div class=\"alert alert-block alert-success\">\n",
    "\t<b>3.1 Couches d'information</b>\n",
    "</div>"
   ]
  },
  {
   "cell_type": "code",
   "execution_count": null,
   "metadata": {},
   "outputs": [
    {
     "name": "stdout",
     "output_type": "stream",
     "text": [
      "# @info: Exécutez-moi pour afficher la question interactive\n"
     ]
    }
   ],
   "source": [
    "# @hidden\n",
    "sx=b'3c64697620636c6173733d22616c65727420616c6572742d626c6f636b20616c6572742d7761726e696e67223e0a3c623e5175657374696f6e3a203c2f623e3c62723e5175656c6c6520636f75636865206427696e666f726d6174696f6e2065737420616666696368c3a96520c3a0206c276f75766572747572652064752070726f6a65743f0a202020200a0a3c2f6469763e203c62723e0a3c627574746f6e20646174612d746f67676c653d22636f6c6c61707365220a2020202020202020202020202020202020202020646174612d7461726765743d22237175657374696f6e5f30303030223e4166666963686572206c612072c3a9706f6e73653c2f627574746f6e3e0a0a3c6469762069643d227175657374696f6e5f30303030220a2020202020202020202020202020202020202020636c6173733d22636f6c6c61707365223e20202020496c20732761676974206465206c6120636f75636865204f70656e5374726565744d61702e204f70656e5374726565744d61702065737420756e65206361727465206475206d6f6e64652c206772617475697465206574206d6f6469666961626c652e204c61206361727465204f70656e5374726565744d61702065737420c3a967616c656d656e742061636365737369626c6520646972656374656d656e742064616e7320756e206e617669676174657572207765622065783a2068747470733a2f2f7777772e6f70656e7374726565746d61702e6f72672f236d61703d382f35302e3531302f342e3437350a3c2f6469763e0a'\n",
    "HTML(codecs.decode(codecs.decode(sx,'hex'), 'utf8'))"
   ]
  },
  {
   "cell_type": "markdown",
   "metadata": {},
   "source": [
    "<b>Note:</b><br>    Le projet utilise un lien vers un serveur d'OpenStreetMap pour accéder à la carte, vous devez donc avoir une connection internet active pour y accéder.\n"
   ]
  },
  {
   "cell_type": "markdown",
   "metadata": {},
   "source": [
    "<div class=\"alert alert-block alert-warning\">\n",
    "<b>Question: </b><br>Rechercher sur la carte le bâtiment FPMs de la rue de Houdain,9 à Mons \n",
    "</div>"
   ]
  },
  {
   "cell_type": "markdown",
   "metadata": {},
   "source": [
    "<div class=\"alert alert-block alert-warning\">\n",
    "<b>Question: </b><br>Afficher la couche ORTHO_2018\n",
    "</div>"
   ]
  },
  {
   "cell_type": "markdown",
   "metadata": {},
   "source": [
    "<div class=\"alert alert-block alert-warning\">\n",
    "<b>Question: </b><br>Afficher la carte OpenStreetMap au dessus de l'orthophoto avec une transparence (opacité de 70%)\n",
    "</div>"
   ]
  },
  {
   "cell_type": "markdown",
   "metadata": {},
   "source": [
    "<div class=\"alert alert-block alert-success\">\n",
    "\t<b>3.2 Systèmes de coordonnées et échelle </b>\n",
    "</div>"
   ]
  },
  {
   "cell_type": "code",
   "execution_count": null,
   "metadata": {},
   "outputs": [
    {
     "name": "stdout",
     "output_type": "stream",
     "text": [
      "# @info: Exécutez-moi pour afficher la question interactive\n"
     ]
    }
   ],
   "source": [
    "# @hidden\n",
    "sx=b'3c64697620636c6173733d22616c65727420616c6572742d626c6f636b20616c6572742d7761726e696e67223e0a3c623e5175657374696f6e3a203c2f623e3c62723e5175656c20657374206c652073797374c3a86d6520646520636f6f72646f6e6ec3a96573207574696c6973c3a920706f75722072657072c3a973656e746572206c612063617274653f0a202020200a0a3c2f6469763e203c62723e0a3c627574746f6e20646174612d746f67676c653d22636f6c6c61707365220a2020202020202020202020202020202020202020646174612d7461726765743d22237175657374696f6e5f30303034223e4166666963686572206c612072c3a9706f6e73653c2f627574746f6e3e0a0a3c6469762069643d227175657374696f6e5f30303034220a2020202020202020202020202020202020202020636c6173733d22636f6c6c61707365223e202020204327657374206c652073797374c3a86d6520455053473a3338353720617573736920617070656cc3a92070736575646f2d6d65726361746f722e0a3c2f6469763e0a'\n",
    "HTML(codecs.decode(codecs.decode(sx,'hex'), 'utf8'))"
   ]
  },
  {
   "cell_type": "markdown",
   "metadata": {},
   "source": [
    "<div class=\"alert alert-block alert-warning\">\n",
    "<b>Question: </b><br>Afficher la carte dans le système de coordonnées Lambert Belge 2008.\n",
    "</div>"
   ]
  },
  {
   "cell_type": "markdown",
   "metadata": {},
   "source": [
    "<div class=\"alert alert-block alert-warning\">\n",
    "<b>Question: </b><br>Mettre la carte à l'échelle 1:2000. \n",
    "</div>"
   ]
  },
  {
   "cell_type": "code",
   "execution_count": null,
   "metadata": {},
   "outputs": [
    {
     "name": "stdout",
     "output_type": "stream",
     "text": [
      "# @info: Exécutez-moi pour afficher la question interactive\n"
     ]
    }
   ],
   "source": [
    "# @hidden\n",
    "sx=b'3c64697620636c6173733d22616c65727420616c6572742d626c6f636b20616c6572742d7761726e696e67223e0a3c623e5175657374696f6e3a203c2f623e3c62723e5175656c6c657320736f6e74206c657320636f6f72646f6e6ec3a96573206465206c27656e7472c3a965206465206c6120636974c3a920486f757a6561752c20363920426f756c657661726420446f6c657a20c3a0204d6f6e732064616e73206c652073797374c3a86d652057475338343f0a202020200a0a3c2f6469763e203c62723e0a3c627574746f6e20646174612d746f67676c653d22636f6c6c61707365220a2020202020202020202020202020202020202020646174612d7461726765743d22237175657374696f6e5f30303037223e4166666963686572206c612072c3a9706f6e73653c2f627574746f6e3e0a0a3c6469762069643d227175657374696f6e5f30303037220a2020202020202020202020202020202020202020636c6173733d22636f6c6c61707365223e20202020332e393535303330c2b0206465206c6f6e67697475646520452065742035302e343438353032c2b0206465206c61746974756465204e2e200a3c2f6469763e0a'\n",
    "HTML(codecs.decode(codecs.decode(sx,'hex'), 'utf8'))"
   ]
  }
 ],
 "metadata": {
  "kernelspec": {
   "display_name": "Python 3 (ipykernel)",
   "language": "python",
   "name": "python3"
  },
  "language_info": {
   "codemirror_mode": {
    "name": "ipython",
    "version": 3
   },
   "file_extension": ".py",
   "mimetype": "text/x-python",
   "name": "python",
   "nbconvert_exporter": "python",
   "pygments_lexer": "ipython3",
   "version": "3.8.10"
  }
 },
 "nbformat": 4,
 "nbformat_minor": 1
}
