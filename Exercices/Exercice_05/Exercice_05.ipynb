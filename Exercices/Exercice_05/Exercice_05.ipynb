{
 "cells": [
  {
   "cell_type": "markdown",
   "metadata": {},
   "source": [
    "# Exercice 5: Manipulation de rasters avec QGIS - partie 1\n",
    "O. Kaufmann 2023."
   ]
  },
  {
   "cell_type": "code",
   "execution_count": 1,
   "metadata": {},
   "outputs": [
    {
     "name": "stdout",
     "output_type": "stream",
     "text": [
      "# @info: Exécutez-moi pour cacher le code, puis sauvegardez le notebook\n"
     ]
    }
   ],
   "source": [
    "# @info: Exécutez-moi pour activer les questions interactives\n",
    "# -----------------------------------------------------------\n",
    "\n",
    "from IPython.display import HTML\n",
    "import codecs\n",
    "\n",
    "# @hidden\n",
    "HTML('''\n",
    "<script>\n",
    "code_show=true;\n",
    "function code_toggle() {\n",
    " if (code_show){\n",
    "  $('.cm-comment:contains(@hidden)').closest('div.input').hide();\n",
    " } else {\n",
    "  $('.cm-comment:contains(@hidden)').closest('div.input').show();\n",
    " }\n",
    " code_show = !code_show\n",
    "}\n",
    "$( document ).ready(code_toggle);\n",
    "</script>\n",
    "<div># @info: Exécutez-moi pour activer les questions interactives </div>\n",
    "''')"
   ]
  },
  {
   "cell_type": "markdown",
   "metadata": {},
   "source": [
    "***\n",
    "## 1. Préparation"
   ]
  },
  {
   "cell_type": "markdown",
   "metadata": {},
   "source": [
    "<div class=\"alert alert-block alert-info\">\n",
    "<b>Info:</b><br>     Cet exercice est à réaliser dans QGIS. Le notebook ne sert qu'à vous guider dans la réalisation de l'exercice. Lancez QGIS avant de continuer.\n",
    "</div>"
   ]
  },
  {
   "cell_type": "markdown",
   "metadata": {},
   "source": [
    "<div class=\"alert alert-block alert-success\">\n",
    "\t<b>1.1 Préliminaire</b>\n",
    "</div>"
   ]
  },
  {
   "cell_type": "markdown",
   "metadata": {},
   "source": [
    "<div class=\"alert alert-block alert-warning\">\n",
    "<b>Question: </b><br>1- Créez un nouveau projet QGIS</br>\n",
    "    2- Ajoutez la couche openstreetmap;</br>\n",
    "    3- Utilisez la projection WGS84 / Pseudo-Mercator</br>\n",
    "    4- Centrez la carte sur la ville de Mons/br>\n",
    "    5- Fixez l'échelle à 1:50000.\n",
    "</div>"
   ]
  },
  {
   "cell_type": "markdown",
   "metadata": {},
   "source": [
    "***\n",
    "## 2. Couches raster"
   ]
  },
  {
   "cell_type": "markdown",
   "metadata": {},
   "source": [
    "<div class=\"alert alert-block alert-success\">\n",
    "\t<b>2.1 Ajout d'un raster local</b>\n",
    "</div>"
   ]
  },
  {
   "cell_type": "markdown",
   "metadata": {},
   "source": [
    "<b>Note:</b><br>    Pour cet exercice une image représentant la carte géologique de la planche Mons-Givry vous est fournie. \n"
   ]
  },
  {
   "cell_type": "code",
   "execution_count": null,
   "metadata": {},
   "outputs": [
    {
     "name": "stdout",
     "output_type": "stream",
     "text": [
      "# @info: Exécutez-moi pour afficher la question interactive\n"
     ]
    }
   ],
   "source": [
    "# @hidden\n",
    "sx=b'3c64697620636c6173733d22616c65727420616c6572742d626c6f636b20616c6572742d7761726e696e67223e0a3c623e5175657374696f6e3a203c2f623e3c62723e4176656320766f747265206e6176696761746575722064652066696368696572732074726f7576657a206c65206669636869657220696d61676520636f72726573706f6e64616e7420c3a0206c612063617274652067c3a96f6c6f6769717565207363616e6ec3a9652e205175656c2065737420736f6e206e6f6d206574207175656c20657374206c65207479706520646520666963686965723f0a0a0a3c2f6469763e203c62723e0a3c627574746f6e20646174612d746f67676c653d22636f6c6c61707365220a2020202020202020202020202020202020202020646174612d7461726765743d22237175657374696f6e5f30303031223e4166666963686572206c612072c3a9706f6e73653c2f627574746f6e3e0a0a3c6469762069643d227175657374696f6e5f30303031220a2020202020202020202020202020202020202020636c6173733d22636f6c6c61707365223e20202020496c207327616769742064752066696368696572204d6f6e732d47697672795f3135314d2834355f372d38292e706e672c20632765737420756e206669636869657220696d61676520617520666f726d617420506f727461626c65204e6574776f726b2047726170686963732e0a3c2f6469763e0a'\n",
    "HTML(codecs.decode(codecs.decode(sx,'hex'), 'utf8'))"
   ]
  },
  {
   "cell_type": "markdown",
   "metadata": {},
   "source": [
    "<div class=\"alert alert-block alert-warning\">\n",
    "<b>Question: </b><br>Le fichier image est accompagné d'un autre fichier dont seule l'extension diffère. Quel est l'utilité de ce fichier?\n",
    "</div>"
   ]
  },
  {
   "cell_type": "code",
   "execution_count": null,
   "metadata": {},
   "outputs": [
    {
     "name": "stdout",
     "output_type": "stream",
     "text": [
      "# @info: Exécutez-moi pour afficher la question interactive\n"
     ]
    }
   ],
   "source": [
    "# @hidden\n",
    "sx=b'3c64697620636c6173733d22616c65727420616c6572742d626c6f636b20616c6572742d7761726e696e67223e0a3c623e5175657374696f6e3a203c2f623e3c62723e4c6573206c69676e657320657420636f6c6f6e6e657320646520706978656c73206465206c27696d61676520736f6e742d656c6c657320616c69676ec3a9657320737572206c657320617865732064752073797374c3a86d6520646520636f6f72646f6e6ec3a965733f0a0a0a3c2f6469763e203c62723e0a3c627574746f6e20646174612d746f67676c653d22636f6c6c61707365220a2020202020202020202020202020202020202020646174612d7461726765743d22237175657374696f6e5f30303033223e4166666963686572206c612072c3a9706f6e73653c2f627574746f6e3e0a0a3c6469762069643d227175657374696f6e5f30303033220a2020202020202020202020202020202020202020636c6173733d22636f6c6c61707365223e20202020496e646963653a20416964657a2d766f757320647520636f6e74656e75206475206669636869657220717569206163636f6d7061676e65206c27696d61676520706f75722072c3a9706f6e6472652e0a3c2f6469763e0a'\n",
    "HTML(codecs.decode(codecs.decode(sx,'hex'), 'utf8'))"
   ]
  },
  {
   "cell_type": "markdown",
   "metadata": {},
   "source": [
    "<div class=\"alert alert-block alert-warning\">\n",
    "<b>Question: </b><br>Ajoutez une couche représentant la carte géologique de Mons-Givry à votre carte. \n",
    "</div>"
   ]
  },
  {
   "cell_type": "code",
   "execution_count": null,
   "metadata": {},
   "outputs": [
    {
     "name": "stdout",
     "output_type": "stream",
     "text": [
      "# @info: Exécutez-moi pour afficher la question interactive\n"
     ]
    }
   ],
   "source": [
    "# @hidden\n",
    "sx=b'3c64697620636c6173733d22616c65727420616c6572742d626c6f636b20616c6572742d7761726e696e67223e0a3c623e5175657374696f6e3a203c2f623e3c62723e4c612063617274652067c3a96f6c6f6769717565206e65207327616666696368652d742d656c6c653f0a202020200a0a3c2f6469763e203c62723e0a3c627574746f6e20646174612d746f67676c653d22636f6c6c61707365220a2020202020202020202020202020202020202020646174612d7461726765743d22237175657374696f6e5f30303035223e4166666963686572206c612072c3a9706f6e73653c2f627574746f6e3e0a0a3c6469762069643d227175657374696f6e5f30303035220a2020202020202020202020202020202020202020636c6173733d22636f6c6c61707365223e20202020496e646963653a20706f757220766f6972206fc3b920732761666669636865206c612063617274652067c3a96f6c6f6769717565207574696c6973657a206c276f7574696c203c693e7a6f6f6d657220737572206c6120636f756368653c2f693e0a3c2f6469763e0a'\n",
    "HTML(codecs.decode(codecs.decode(sx,'hex'), 'utf8'))"
   ]
  },
  {
   "cell_type": "code",
   "execution_count": null,
   "metadata": {},
   "outputs": [
    {
     "name": "stdout",
     "output_type": "stream",
     "text": [
      "# @info: Exécutez-moi pour afficher la question interactive\n"
     ]
    }
   ],
   "source": [
    "# @hidden\n",
    "sx=b'3c64697620636c6173733d22616c65727420616c6572742d626c6f636b20616c6572742d7761726e696e67223e0a3c623e5175657374696f6e3a203c2f623e3c62723e506f757271756f69206c612063617274652067c3a96f6c6f6769717565207327616666696368652d742d656c6c6520c3a02063657420656e64726f69743f0a202020200a0a3c2f6469763e203c62723e0a3c627574746f6e20646174612d746f67676c653d22636f6c6c61707365220a2020202020202020202020202020202020202020646174612d7461726765743d22237175657374696f6e5f30303036223e4166666963686572206c612072c3a9706f6e73653c2f627574746f6e3e0a0a3c6469762069643d227175657374696f6e5f30303036220a2020202020202020202020202020202020202020636c6173733d22636f6c6c61707365223e20202020496e646963653a205175656c6c657320736f6e74206c657320636f6f72646f6e6ec3a96573206465206c27656e64726f6974206fc3b920732761666669636865206c612063617274652e205175652072656e736569676e65206c6520666963686965722022576f726c64223f0a3c2f6469763e0a'\n",
    "HTML(codecs.decode(codecs.decode(sx,'hex'), 'utf8'))"
   ]
  },
  {
   "cell_type": "markdown",
   "metadata": {},
   "source": [
    "<div class=\"alert alert-block alert-warning\">\n",
    "<b>Question: </b><br>Affichez la carte géologique au bon endroit sur la carte.\n",
    "</div>"
   ]
  },
  {
   "cell_type": "markdown",
   "metadata": {},
   "source": [
    "<div class=\"alert alert-block alert-success\">\n",
    "\t<b>2.2 Rendu du raster</b>\n",
    "</div>"
   ]
  },
  {
   "cell_type": "code",
   "execution_count": null,
   "metadata": {},
   "outputs": [
    {
     "name": "stdout",
     "output_type": "stream",
     "text": [
      "# @info: Exécutez-moi pour afficher la question interactive\n"
     ]
    }
   ],
   "source": [
    "# @hidden\n",
    "sx=b'3c64697620636c6173733d22616c65727420616c6572742d626c6f636b20616c6572742d7761726e696e67223e0a3c623e5175657374696f6e3a203c2f623e3c62723e5175656c20657374206c6520747970652064652072656e6475206465206365207261737465723f0a202020200a0a3c2f6469763e203c62723e0a3c627574746f6e20646174612d746f67676c653d22636f6c6c61707365220a2020202020202020202020202020202020202020646174612d7461726765743d22237175657374696f6e5f30303038223e4166666963686572206c612072c3a9706f6e73653c2f627574746f6e3e0a0a3c6469762069643d227175657374696f6e5f30303038220a2020202020202020202020202020202020202020636c6173733d22636f6c6c61707365223e20202020496e646963653a20416666696368657a206c612073796d626f6c6f676965206465206c6120636f756368652e0a202020204c652072656e64752065737420626173c3a92073757220756e652070616c657474652064652032353620636f756c65757273206e756dc3a9726f74c3a96573206465203020c3a0203235352e20412063686171756520706978656c206573742061737369676ec3a9206c27696e64657820646520736120636f756c6575722064616e73206c612070616c657474652e200a3c2f6469763e0a'\n",
    "HTML(codecs.decode(codecs.decode(sx,'hex'), 'utf8'))"
   ]
  },
  {
   "cell_type": "markdown",
   "metadata": {},
   "source": [
    "<div class=\"alert alert-block alert-success\">\n",
    "\t<b>2.3 Sauvegarde d'une image avec les informations de la projection</b>\n",
    "</div>"
   ]
  },
  {
   "cell_type": "code",
   "execution_count": null,
   "metadata": {},
   "outputs": [
    {
     "name": "stdout",
     "output_type": "stream",
     "text": [
      "# @info: Exécutez-moi pour afficher la question interactive\n"
     ]
    }
   ],
   "source": [
    "# @hidden\n",
    "sx=b'3c64697620636c6173733d22616c65727420616c6572742d626c6f636b20616c6572742d7761726e696e67223e0a3c623e5175657374696f6e3a203c2f623e3c62723e436f6d6d656e7420666175742d696c20666169726520706f7572207175652063657474652063617274652073276166666963686520636f7272656374656d656e7420c3a0206c276176656e69723f204c6f727371756520766f7573206176657a2074726f7576c3a920756e6520736f6c7574696f6e2c206170706c697175657a2d6c612e0a200a0a3c2f6469763e203c62723e0a3c627574746f6e20646174612d746f67676c653d22636f6c6c61707365220a2020202020202020202020202020202020202020646174612d7461726765743d22237175657374696f6e5f30303039223e4166666963686572206c612072c3a9706f6e73653c2f627574746f6e3e0a0a3c6469762069643d227175657374696f6e5f30303039220a2020202020202020202020202020202020202020636c6173733d22636f6c6c61707365223e20202020496e646963653a2044616e73206c65206d656e75207261737465722c20696c2065786973746520756e6520666f6e6374696f6e20717569207065726d65742064652064c3a966696e6972206c612070726f6a656374696f6e206427756e207261737465722e20436570656e64616e742c206c61206269626c696f7468c3a8717565204744414c207574696c6973c3a965207061722051474953206e652070657574206d6f646966696572206c65206669636869657220504e4720706f757220792073746f636b6572206c612070726f6a656374696f6e2e20496c206661757420646f6e63206578706f72746572206c6120636f7563686520617520666f726d61742047656f5449464620706f757220696e73c3a9726572206c652067c3a96f72c3a966c3a972656e63656d656e74206574206c612070726f6a656374696f6e2064616e73206c65206669636869657220696d6167652e0a3c2f6469763e0a'\n",
    "HTML(codecs.decode(codecs.decode(sx,'hex'), 'utf8'))"
   ]
  },
  {
   "cell_type": "markdown",
   "metadata": {},
   "source": [
    "<div class=\"alert alert-block alert-warning\">\n",
    "<b>Question: </b><br>Lors de l'export d'un raster en GeoTIFF, vous avez le choix du mode de sortie. De quoi s'agit-il? Que préconisez-vous et pourquoi?\n",
    "</div>"
   ]
  },
  {
   "cell_type": "markdown",
   "metadata": {},
   "source": [
    "<div class=\"alert alert-block alert-warning\">\n",
    "<b>Question: </b><br>Retirez le raster png de votre carte et affichez le raster Geotiff.\n",
    "</div>"
   ]
  },
  {
   "cell_type": "code",
   "execution_count": null,
   "metadata": {},
   "outputs": [
    {
     "name": "stdout",
     "output_type": "stream",
     "text": [
      "# @info: Exécutez-moi pour afficher la question interactive\n"
     ]
    }
   ],
   "source": [
    "# @hidden\n",
    "sx=b'3c64697620636c6173733d22616c65727420616c6572742d626c6f636b20616c6572742d7761726e696e67223e0a3c623e5175657374696f6e3a203c2f623e3c62723e41206c2761696465206465206c276578706c6f7261746575722064652066696368696572732c20636f6d706172657a206c6573207461696c6c6573206465732066696368657273202e706e67206574202e7469662e204578706c697175657a206c612064696666c3a972656e63652e200a202020200a0a3c2f6469763e203c62723e0a3c627574746f6e20646174612d746f67676c653d22636f6c6c61707365220a2020202020202020202020202020202020202020646174612d7461726765743d22237175657374696f6e5f30303132223e4166666963686572206c612072c3a9706f6e73653c2f627574746f6e3e0a0a3c6469762069643d227175657374696f6e5f30303132220a2020202020202020202020202020202020202020636c6173733d22636f6c6c61707365223e20202020496e646963653a2044616e7320514749532076c3a972696669657a206c65206d6f64652064652072656e6475206465206c6120636f7563686520626173c3a96520737572206c652067656f544946462e0a3c2f6469763e0a'\n",
    "HTML(codecs.decode(codecs.decode(sx,'hex'), 'utf8'))"
   ]
  },
  {
   "cell_type": "markdown",
   "metadata": {},
   "source": [
    "<div class=\"alert alert-block alert-warning\">\n",
    "<b>Question: </b><br>Refaites l'export en choisissant les options qui permettent de réduire au mieux la taille du fichier .tif.\n",
    "</div>"
   ]
  },
  {
   "cell_type": "markdown",
   "metadata": {},
   "source": [
    "<b>Note:</b><br>Pour certaines options, la palette n'est pas stockée dans le fichier tif. Il est néanmoins possible d'exporter la palette du fichier .png sous forme d'un style QGIS à appliquer au raster importé.\n"
   ]
  }
 ],
 "metadata": {
  "kernelspec": {
   "display_name": "Python 3 (ipykernel)",
   "language": "python",
   "name": "python3"
  },
  "language_info": {
   "codemirror_mode": {
    "name": "ipython",
    "version": 3
   },
   "file_extension": ".py",
   "mimetype": "text/x-python",
   "name": "python",
   "nbconvert_exporter": "python",
   "pygments_lexer": "ipython3",
   "version": "3.8.10"
  }
 },
 "nbformat": 4,
 "nbformat_minor": 1
}
