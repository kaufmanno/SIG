{
 "cells": [
  {
   "cell_type": "markdown",
   "metadata": {},
   "source": [
    "# Exercice 3: Création d'une BD pour gérer des échantillons de roche au laboratoire\n",
    "O. Kaufmann 2018, 2022"
   ]
  },
  {
   "cell_type": "code",
   "execution_count": 1,
   "metadata": {},
   "outputs": [
    {
     "name": "stdout",
     "output_type": "stream",
     "text": [
      "# @info: Exécutez-moi pour cacher le code, puis sauvegardez le notebook\n"
     ]
    }
   ],
   "source": [
    "# @info: Exécutez-moi pour activer les questions interactives\n",
    "# -----------------------------------------------------------\n",
    "\n",
    "from IPython.display import HTML\n",
    "import codecs\n",
    "\n",
    "# @hidden\n",
    "HTML('''\n",
    "<script>\n",
    "code_show=true;\n",
    "function code_toggle() {\n",
    " if (code_show){\n",
    "  $('.cm-comment:contains(@hidden)').closest('div.input').hide();\n",
    " } else {\n",
    "  $('.cm-comment:contains(@hidden)').closest('div.input').show();\n",
    " }\n",
    " code_show = !code_show\n",
    "}\n",
    "$( document ).ready(code_toggle);\n",
    "</script>\n",
    "<div># @info: Exécutez-moi pour activer les questions interactives </div>\n",
    "''')"
   ]
  },
  {
   "cell_type": "markdown",
   "metadata": {},
   "source": [
    "***\n",
    "## 1. Imports et préparation"
   ]
  },
  {
   "cell_type": "code",
   "execution_count": 2,
   "metadata": {},
   "outputs": [],
   "source": [
    "%load_ext sql"
   ]
  },
  {
   "cell_type": "code",
   "execution_count": 3,
   "metadata": {},
   "outputs": [],
   "source": [
    "import pandas as pd\n",
    "from eralchemy import render_er\n",
    "from IPython.display import SVG, HTML"
   ]
  },
  {
   "cell_type": "markdown",
   "metadata": {},
   "source": [
    "Effacer le fichier de la base de données si il existe..."
   ]
  },
  {
   "cell_type": "code",
   "execution_count": 4,
   "metadata": {},
   "outputs": [],
   "source": [
    "! rm echantillons_db.db"
   ]
  },
  {
   "cell_type": "code",
   "execution_count": 5,
   "metadata": {},
   "outputs": [
    {
     "name": "stdout",
     "output_type": "stream",
     "text": [
      "Descriptions_et_interpretations.csv  Exercice_3_Solution.ipynb\r\n",
      "Echantillons.csv\t\t     Exercice_4_Solution.ipynb\r\n",
      "echantillons_db_schema_final.svg     Lieux_de_prelevements.csv\r\n",
      "echantillons_db_schema.svg\t     Manipulations.csv\r\n",
      "echantillons_db_schema_v1.svg\t     Personnes.csv\r\n",
      "Exercice_3_Correction.ipynb\t     Procedures.csv\r\n",
      "Exercice_3.ipynb\t\t     track.txt\r\n"
     ]
    }
   ],
   "source": [
    "! ls"
   ]
  },
  {
   "cell_type": "markdown",
   "metadata": {},
   "source": [
    "***\n",
    "## 2. Création de la base de données"
   ]
  },
  {
   "cell_type": "markdown",
   "metadata": {},
   "source": [
    "<div class=\"alert alert-block alert-success\">\n",
    "\t<b>2.1 création de la base de données SQLite</b>\n",
    "</div>"
   ]
  },
  {
   "cell_type": "code",
   "execution_count": 6,
   "metadata": {},
   "outputs": [],
   "source": []
  },
  {
   "cell_type": "code",
   "execution_count": 7,
   "metadata": {},
   "outputs": [
    {
     "name": "stdout",
     "output_type": "stream",
     "text": [
      "Descriptions_et_interpretations.csv  Exercice_3_Solution.ipynb\r\n",
      "Echantillons.csv\t\t     Exercice_4_Solution.ipynb\r\n",
      "echantillons_db.db\t\t     Lieux_de_prelevements.csv\r\n",
      "echantillons_db_schema_final.svg     Manipulations.csv\r\n",
      "echantillons_db_schema.svg\t     Personnes.csv\r\n",
      "echantillons_db_schema_v1.svg\t     Procedures.csv\r\n",
      "Exercice_3_Correction.ipynb\t     track.txt\r\n",
      "Exercice_3.ipynb\r\n"
     ]
    }
   ],
   "source": [
    "!ls"
   ]
  },
  {
   "cell_type": "markdown",
   "metadata": {},
   "source": [
    "<div class=\"alert alert-block alert-success\">\n",
    "\t<b>2.2 Définition de la structure des tables et des relations entre tables</b>\n",
    "</div>"
   ]
  },
  {
   "cell_type": "markdown",
   "metadata": {},
   "source": [
    "<div class=\"alert alert-block alert-info\">\n",
    "<b>Info:</b><br>     Le schéma de la base de données que l'on souhaite créer est repoduit ci-dessous.\n",
    "</div>"
   ]
  },
  {
   "cell_type": "code",
   "execution_count": 8,
   "metadata": {},
   "outputs": [
    {
     "data": {
      "image/svg+xml": [
       "<svg xmlns=\"http://www.w3.org/2000/svg\" xmlns:xlink=\"http://www.w3.org/1999/xlink\" width=\"862pt\" height=\"374pt\" viewBox=\"0.00 0.00 862.00 373.50\">\n",
       "<g id=\"graph0\" class=\"graph\" transform=\"scale(1 1) rotate(0) translate(4 369.5)\">\n",
       "<title>%3</title>\n",
       "<polygon fill=\"white\" stroke=\"transparent\" points=\"-4,4 -4,-369.5 858,-369.5 858,4 -4,4\"/>\n",
       "<!-- Descriptions_et_interpretations -->\n",
       "<g id=\"node1\" class=\"node\">\n",
       "<title>Descriptions_et_interpretations</title>\n",
       "<polygon fill=\"none\" stroke=\"black\" points=\"552,-333 552,-361 846,-361 846,-333 552,-333\"/>\n",
       "<text text-anchor=\"start\" x=\"557\" y=\"-344.2\" font-family=\"Helvetica,sans-Serif\" font-weight=\"bold\" font-size=\"16.00\">Descriptions_et_interpretations</text>\n",
       "<polygon fill=\"none\" stroke=\"black\" points=\"552,-308 552,-333 846,-333 846,-308 552,-308\"/>\n",
       "<text text-anchor=\"start\" x=\"557\" y=\"-317.8\" font-family=\"Helvetica,sans-Serif\" text-decoration=\"underline\" font-size=\"14.00\">NumInterp</text>\n",
       "<text text-anchor=\"start\" x=\"633\" y=\"-317.8\" font-family=\"Helvetica,sans-Serif\" font-size=\"14.00\"> [INTEGER]</text>\n",
       "<polygon fill=\"none\" stroke=\"black\" points=\"552,-283 552,-308 846,-308 846,-283 552,-283\"/>\n",
       "<text text-anchor=\"start\" x=\"557\" y=\"-292.8\" font-family=\"Helvetica,sans-Serif\" font-size=\"14.00\">NumAbs</text>\n",
       "<text text-anchor=\"start\" x=\"617\" y=\"-292.8\" font-family=\"Helvetica,sans-Serif\" font-size=\"14.00\"> [INTEGER]</text>\n",
       "<polygon fill=\"none\" stroke=\"black\" points=\"552,-258 552,-283 846,-283 846,-258 552,-258\"/>\n",
       "<text text-anchor=\"start\" x=\"557\" y=\"-267.8\" font-family=\"Helvetica,sans-Serif\" font-size=\"14.00\">Auteur</text>\n",
       "<text text-anchor=\"start\" x=\"605\" y=\"-267.8\" font-family=\"Helvetica,sans-Serif\" font-size=\"14.00\"> [TEXT]</text>\n",
       "<polygon fill=\"none\" stroke=\"black\" points=\"552,-233 552,-258 846,-258 846,-233 552,-233\"/>\n",
       "<text text-anchor=\"start\" x=\"557\" y=\"-242.8\" font-family=\"Helvetica,sans-Serif\" font-size=\"14.00\">Date</text>\n",
       "<text text-anchor=\"start\" x=\"590\" y=\"-242.8\" font-family=\"Helvetica,sans-Serif\" font-size=\"14.00\"> [DATETIME]</text>\n",
       "<polygon fill=\"none\" stroke=\"black\" points=\"552,-208 552,-233 846,-233 846,-208 552,-208\"/>\n",
       "<text text-anchor=\"start\" x=\"557\" y=\"-217.8\" font-family=\"Helvetica,sans-Serif\" font-size=\"14.00\">Commentaire</text>\n",
       "<text text-anchor=\"start\" x=\"651\" y=\"-217.8\" font-family=\"Helvetica,sans-Serif\" font-size=\"14.00\"> [TEXT]</text>\n",
       "</g>\n",
       "<!-- Personnes -->\n",
       "<g id=\"node2\" class=\"node\">\n",
       "<title>Personnes</title>\n",
       "<polygon fill=\"none\" stroke=\"black\" points=\"337.5,-275 337.5,-303 442.5,-303 442.5,-275 337.5,-275\"/>\n",
       "<text text-anchor=\"start\" x=\"342.5\" y=\"-286.2\" font-family=\"Helvetica,sans-Serif\" font-weight=\"bold\" font-size=\"16.00\">Personnes</text>\n",
       "<polygon fill=\"none\" stroke=\"black\" points=\"337.5,-250 337.5,-275 442.5,-275 442.5,-250 337.5,-250\"/>\n",
       "<text text-anchor=\"start\" x=\"342.5\" y=\"-259.8\" font-family=\"Helvetica,sans-Serif\" text-decoration=\"underline\" font-size=\"14.00\">Nom</text>\n",
       "<text text-anchor=\"start\" x=\"375.5\" y=\"-259.8\" font-family=\"Helvetica,sans-Serif\" font-size=\"14.00\"> [TEXT]</text>\n",
       "</g>\n",
       "<!-- Personnes&#45;&#45;Descriptions_et_interpretations -->\n",
       "<g id=\"edge1\" class=\"edge\">\n",
       "<title>Personnes--Descriptions_et_interpretations</title>\n",
       "<path fill=\"none\" stroke=\"#7f7f7f\" stroke-dasharray=\"5,2\" d=\"M450.15,-278.55C477.14,-279.25 510.4,-280.12 543.71,-280.99\"/>\n",
       "<text text-anchor=\"start\" x=\"502.71\" y=\"-269.79\" font-family=\"Times,serif\" font-size=\"14.00\">{0,1}</text>\n",
       "<text text-anchor=\"start\" x=\"450.15\" y=\"-267.35\" font-family=\"Times,serif\" font-size=\"14.00\">0..N</text>\n",
       "</g>\n",
       "<!-- Manipulations -->\n",
       "<g id=\"node3\" class=\"node\">\n",
       "<title>Manipulations</title>\n",
       "<polygon fill=\"none\" stroke=\"black\" points=\"618,-154 618,-182 781,-182 781,-154 618,-154\"/>\n",
       "<text text-anchor=\"start\" x=\"636\" y=\"-165.2\" font-family=\"Helvetica,sans-Serif\" font-weight=\"bold\" font-size=\"16.00\">Manipulations</text>\n",
       "<polygon fill=\"none\" stroke=\"black\" points=\"618,-129 618,-154 781,-154 781,-129 618,-129\"/>\n",
       "<text text-anchor=\"start\" x=\"623\" y=\"-138.8\" font-family=\"Helvetica,sans-Serif\" text-decoration=\"underline\" font-size=\"14.00\">NumManip</text>\n",
       "<text text-anchor=\"start\" x=\"699\" y=\"-138.8\" font-family=\"Helvetica,sans-Serif\" font-size=\"14.00\"> [INTEGER]</text>\n",
       "<polygon fill=\"none\" stroke=\"black\" points=\"618,-104 618,-129 781,-129 781,-104 618,-104\"/>\n",
       "<text text-anchor=\"start\" x=\"623\" y=\"-113.8\" font-family=\"Helvetica,sans-Serif\" font-size=\"14.00\">NumAbs</text>\n",
       "<text text-anchor=\"start\" x=\"683\" y=\"-113.8\" font-family=\"Helvetica,sans-Serif\" font-size=\"14.00\"> [INTEGER]</text>\n",
       "<polygon fill=\"none\" stroke=\"black\" points=\"618,-79 618,-104 781,-104 781,-79 618,-79\"/>\n",
       "<text text-anchor=\"start\" x=\"623\" y=\"-88.8\" font-family=\"Helvetica,sans-Serif\" font-size=\"14.00\">Operateur</text>\n",
       "<text text-anchor=\"start\" x=\"695\" y=\"-88.8\" font-family=\"Helvetica,sans-Serif\" font-size=\"14.00\"> [TEXT]</text>\n",
       "<polygon fill=\"none\" stroke=\"black\" points=\"618,-54 618,-79 781,-79 781,-54 618,-54\"/>\n",
       "<text text-anchor=\"start\" x=\"623\" y=\"-63.8\" font-family=\"Helvetica,sans-Serif\" font-size=\"14.00\">Procedure</text>\n",
       "<text text-anchor=\"start\" x=\"693\" y=\"-63.8\" font-family=\"Helvetica,sans-Serif\" font-size=\"14.00\"> [TEXT]</text>\n",
       "<polygon fill=\"none\" stroke=\"black\" points=\"618,-29 618,-54 781,-54 781,-29 618,-29\"/>\n",
       "<text text-anchor=\"start\" x=\"623\" y=\"-38.8\" font-family=\"Helvetica,sans-Serif\" font-size=\"14.00\">Date</text>\n",
       "<text text-anchor=\"start\" x=\"656\" y=\"-38.8\" font-family=\"Helvetica,sans-Serif\" font-size=\"14.00\"> [DATETIME]</text>\n",
       "<polygon fill=\"none\" stroke=\"black\" points=\"618,-4 618,-29 781,-29 781,-4 618,-4\"/>\n",
       "<text text-anchor=\"start\" x=\"623\" y=\"-13.8\" font-family=\"Helvetica,sans-Serif\" font-size=\"14.00\">Resultat</text>\n",
       "<text text-anchor=\"start\" x=\"681\" y=\"-13.8\" font-family=\"Helvetica,sans-Serif\" font-size=\"14.00\"> [TEXT]</text>\n",
       "</g>\n",
       "<!-- Personnes&#45;&#45;Manipulations -->\n",
       "<g id=\"edge2\" class=\"edge\">\n",
       "<title>Personnes--Manipulations</title>\n",
       "<path fill=\"none\" stroke=\"#7f7f7f\" stroke-dasharray=\"5,2\" d=\"M443.39,-246.27C452.61,-240.87 462.09,-235.29 471,-230 516.72,-202.86 567.39,-172.32 609.24,-146.98\"/>\n",
       "<text text-anchor=\"start\" x=\"568.24\" y=\"-135.78\" font-family=\"Times,serif\" font-size=\"14.00\">{0,1}</text>\n",
       "<text text-anchor=\"start\" x=\"412.39\" y=\"-235.07\" font-family=\"Times,serif\" font-size=\"14.00\">0..N</text>\n",
       "</g>\n",
       "<!-- Echantillons -->\n",
       "<g id=\"node4\" class=\"node\">\n",
       "<title>Echantillons</title>\n",
       "<polygon fill=\"none\" stroke=\"black\" points=\"316.5,-188 316.5,-216 463.5,-216 463.5,-188 316.5,-188\"/>\n",
       "<text text-anchor=\"start\" x=\"335\" y=\"-199.2\" font-family=\"Helvetica,sans-Serif\" font-weight=\"bold\" font-size=\"16.00\">Echantillons</text>\n",
       "<polygon fill=\"none\" stroke=\"black\" points=\"316.5,-163 316.5,-188 463.5,-188 463.5,-163 316.5,-163\"/>\n",
       "<text text-anchor=\"start\" x=\"321.5\" y=\"-172.8\" font-family=\"Helvetica,sans-Serif\" text-decoration=\"underline\" font-size=\"14.00\">NumAbs</text>\n",
       "<text text-anchor=\"start\" x=\"381.5\" y=\"-172.8\" font-family=\"Helvetica,sans-Serif\" font-size=\"14.00\"> [INTEGER]</text>\n",
       "<polygon fill=\"none\" stroke=\"black\" points=\"316.5,-138 316.5,-163 463.5,-163 463.5,-138 316.5,-138\"/>\n",
       "<text text-anchor=\"start\" x=\"321.5\" y=\"-147.8\" font-family=\"Helvetica,sans-Serif\" font-size=\"14.00\">Origine</text>\n",
       "<text text-anchor=\"start\" x=\"373.5\" y=\"-147.8\" font-family=\"Helvetica,sans-Serif\" font-size=\"14.00\"> [TEXT]</text>\n",
       "<polygon fill=\"none\" stroke=\"black\" points=\"316.5,-113 316.5,-138 463.5,-138 463.5,-113 316.5,-113\"/>\n",
       "<text text-anchor=\"start\" x=\"321.5\" y=\"-122.8\" font-family=\"Helvetica,sans-Serif\" font-size=\"14.00\">NumTerrain</text>\n",
       "<text text-anchor=\"start\" x=\"403.5\" y=\"-122.8\" font-family=\"Helvetica,sans-Serif\" font-size=\"14.00\"> [TEXT]</text>\n",
       "<polygon fill=\"none\" stroke=\"black\" points=\"316.5,-88 316.5,-113 463.5,-113 463.5,-88 316.5,-88\"/>\n",
       "<text text-anchor=\"start\" x=\"321.5\" y=\"-97.8\" font-family=\"Helvetica,sans-Serif\" font-size=\"14.00\">Stockage</text>\n",
       "<text text-anchor=\"start\" x=\"385.5\" y=\"-97.8\" font-family=\"Helvetica,sans-Serif\" font-size=\"14.00\"> [TEXT]</text>\n",
       "<polygon fill=\"none\" stroke=\"black\" points=\"316.5,-63 316.5,-88 463.5,-88 463.5,-63 316.5,-63\"/>\n",
       "<text text-anchor=\"start\" x=\"321.5\" y=\"-72.8\" font-family=\"Helvetica,sans-Serif\" font-size=\"14.00\">Remarques</text>\n",
       "<text text-anchor=\"start\" x=\"401.5\" y=\"-72.8\" font-family=\"Helvetica,sans-Serif\" font-size=\"14.00\"> [TEXT]</text>\n",
       "</g>\n",
       "<!-- Echantillons&#45;&#45;Descriptions_et_interpretations -->\n",
       "<g id=\"edge3\" class=\"edge\">\n",
       "<title>Echantillons--Descriptions_et_interpretations</title>\n",
       "<path fill=\"none\" stroke=\"#7f7f7f\" stroke-dasharray=\"5,2\" d=\"M471.29,-178.1C493.71,-188.67 518.83,-200.51 543.95,-212.36\"/>\n",
       "<text text-anchor=\"start\" x=\"502.95\" y=\"-201.16\" font-family=\"Times,serif\" font-size=\"14.00\">{0,1}</text>\n",
       "<text text-anchor=\"start\" x=\"471.29\" y=\"-166.9\" font-family=\"Times,serif\" font-size=\"14.00\">0..N</text>\n",
       "</g>\n",
       "<!-- Echantillons&#45;&#45;Manipulations -->\n",
       "<g id=\"edge4\" class=\"edge\">\n",
       "<title>Echantillons--Manipulations</title>\n",
       "<path fill=\"none\" stroke=\"#7f7f7f\" stroke-dasharray=\"5,2\" d=\"M471.29,-127.65C513.73,-121.16 565.83,-113.2 609.37,-106.55\"/>\n",
       "<text text-anchor=\"start\" x=\"568.37\" y=\"-95.35\" font-family=\"Times,serif\" font-size=\"14.00\">{0,1}</text>\n",
       "<text text-anchor=\"start\" x=\"471.29\" y=\"-116.45\" font-family=\"Times,serif\" font-size=\"14.00\">0..N</text>\n",
       "</g>\n",
       "<!-- Lieux_de_prelevements -->\n",
       "<g id=\"node5\" class=\"node\">\n",
       "<title>Lieux_de_prelevements</title>\n",
       "<polygon fill=\"none\" stroke=\"black\" points=\"8.5,-176 8.5,-204 227.5,-204 227.5,-176 8.5,-176\"/>\n",
       "<text text-anchor=\"start\" x=\"13.5\" y=\"-187.2\" font-family=\"Helvetica,sans-Serif\" font-weight=\"bold\" font-size=\"16.00\">Lieux_de_prelevements</text>\n",
       "<polygon fill=\"none\" stroke=\"black\" points=\"8.5,-151 8.5,-176 227.5,-176 227.5,-151 8.5,-151\"/>\n",
       "<text text-anchor=\"start\" x=\"13.5\" y=\"-160.8\" font-family=\"Helvetica,sans-Serif\" text-decoration=\"underline\" font-size=\"14.00\">NomLieu</text>\n",
       "<text text-anchor=\"start\" x=\"74.5\" y=\"-160.8\" font-family=\"Helvetica,sans-Serif\" font-size=\"14.00\"> [TEXT]</text>\n",
       "<polygon fill=\"none\" stroke=\"black\" points=\"8.5,-126 8.5,-151 227.5,-151 227.5,-126 8.5,-126\"/>\n",
       "<text text-anchor=\"start\" x=\"13.5\" y=\"-135.8\" font-family=\"Helvetica,sans-Serif\" font-size=\"14.00\">XL72</text>\n",
       "<text text-anchor=\"start\" x=\"49.5\" y=\"-135.8\" font-family=\"Helvetica,sans-Serif\" font-size=\"14.00\"> [REAL]</text>\n",
       "<polygon fill=\"none\" stroke=\"black\" points=\"8.5,-101 8.5,-126 227.5,-126 227.5,-101 8.5,-101\"/>\n",
       "<text text-anchor=\"start\" x=\"13.5\" y=\"-110.8\" font-family=\"Helvetica,sans-Serif\" font-size=\"14.00\">YL72</text>\n",
       "<text text-anchor=\"start\" x=\"47.5\" y=\"-110.8\" font-family=\"Helvetica,sans-Serif\" font-size=\"14.00\"> [REAL]</text>\n",
       "<polygon fill=\"none\" stroke=\"black\" points=\"8.5,-76 8.5,-101 227.5,-101 227.5,-76 8.5,-76\"/>\n",
       "<text text-anchor=\"start\" x=\"13.5\" y=\"-85.8\" font-family=\"Helvetica,sans-Serif\" font-size=\"14.00\">Altitude</text>\n",
       "<text text-anchor=\"start\" x=\"68.5\" y=\"-85.8\" font-family=\"Helvetica,sans-Serif\" font-size=\"14.00\"> [REAL]</text>\n",
       "</g>\n",
       "<!-- Lieux_de_prelevements&#45;&#45;Echantillons -->\n",
       "<g id=\"edge5\" class=\"edge\">\n",
       "<title>Lieux_de_prelevements--Echantillons</title>\n",
       "<path fill=\"none\" stroke=\"#7f7f7f\" stroke-dasharray=\"5,2\" d=\"M235.36,-140C259.73,-140 284.9,-140 307.62,-140\"/>\n",
       "<text text-anchor=\"start\" x=\"266.62\" y=\"-128.8\" font-family=\"Times,serif\" font-size=\"14.00\">{0,1}</text>\n",
       "<text text-anchor=\"start\" x=\"235.36\" y=\"-128.8\" font-family=\"Times,serif\" font-size=\"14.00\">0..N</text>\n",
       "</g>\n",
       "</g>\n",
       "</svg>"
      ],
      "text/plain": [
       "<IPython.core.display.SVG object>"
      ]
     },
     "execution_count": 8,
     "metadata": {},
     "output_type": "execute_result"
    }
   ],
   "source": [
    "SVG(filename='echantillons_db_schema_v1.svg')"
   ]
  },
  {
   "cell_type": "markdown",
   "metadata": {},
   "source": [
    "Création de la table \"Personnes\""
   ]
  },
  {
   "cell_type": "code",
   "execution_count": 9,
   "metadata": {},
   "outputs": [
    {
     "name": "stdout",
     "output_type": "stream",
     "text": [
      " * sqlite:///echantillons_db.db\n",
      "Done.\n"
     ]
    },
    {
     "data": {
      "text/plain": [
       "[]"
      ]
     },
     "execution_count": 9,
     "metadata": {},
     "output_type": "execute_result"
    }
   ],
   "source": [
    "%%sql \n",
    "CREATE TABLE `Personnes`\n",
    " (\n",
    " `Nom`   TEXT NOT NULL,\n",
    " PRIMARY KEY (`Nom`)\n",
    ");"
   ]
  },
  {
   "cell_type": "markdown",
   "metadata": {},
   "source": [
    "Création de la table \"Lieux_de_prelevement\""
   ]
  },
  {
   "cell_type": "code",
   "execution_count": 10,
   "metadata": {},
   "outputs": [
    {
     "name": "stdout",
     "output_type": "stream",
     "text": [
      " * sqlite:///echantillons_db.db\n",
      "Done.\n"
     ]
    },
    {
     "data": {
      "text/plain": [
       "[]"
      ]
     },
     "execution_count": 10,
     "metadata": {},
     "output_type": "execute_result"
    }
   ],
   "source": [
    "%%sql \n",
    "CREATE TABLE `Lieux_de_prelevements`\n",
    " (\n",
    " `NomLieu`   TEXT NOT NULL, \n",
    " `XL72`   REAL DEFAULT 0, \n",
    " `YL72`   REAL DEFAULT 0, \n",
    " `Altitude`   REAL DEFAULT 0,\n",
    " PRIMARY KEY (`NomLieu`)   \n",
    ");"
   ]
  },
  {
   "cell_type": "markdown",
   "metadata": {},
   "source": [
    "Création de la table \"Echantillons\""
   ]
  },
  {
   "cell_type": "code",
   "execution_count": 11,
   "metadata": {},
   "outputs": [
    {
     "name": "stdout",
     "output_type": "stream",
     "text": [
      " * sqlite:///echantillons_db.db\n",
      "Done.\n"
     ]
    },
    {
     "data": {
      "text/plain": [
       "[]"
      ]
     },
     "execution_count": 11,
     "metadata": {},
     "output_type": "execute_result"
    }
   ],
   "source": [
    "%%sql \n",
    "CREATE TABLE `Echantillons`\n",
    " (\n",
    " `NumAbs`   INTEGER NOT NULL, \n",
    " `Origine`   TEXT, \n",
    " `NumTerrain`   TEXT, \n",
    " `Stockage`   TEXT, \n",
    " `Remarques`   TEXT,\n",
    " PRIMARY KEY (`NumAbs`),\n",
    " FOREIGN KEY (`Origine`) REFERENCES `Lieux_de_prelevements`(`NomLieu`) ON UPDATE CASCADE\n",
    ");"
   ]
  },
  {
   "cell_type": "markdown",
   "metadata": {},
   "source": [
    "Création de la table \"Descriptions_et_interpretations\""
   ]
  },
  {
   "cell_type": "code",
   "execution_count": 12,
   "metadata": {},
   "outputs": [
    {
     "name": "stdout",
     "output_type": "stream",
     "text": [
      " * sqlite:///echantillons_db.db\n",
      "Done.\n"
     ]
    },
    {
     "data": {
      "text/plain": [
       "[]"
      ]
     },
     "execution_count": 12,
     "metadata": {},
     "output_type": "execute_result"
    }
   ],
   "source": [
    "%%sql \n",
    "CREATE TABLE `Descriptions_et_interpretations`\n",
    " (\n",
    " `NumInterp`   INTEGER NOT NULL, \n",
    " `NumAbs`   INTEGER, \n",
    " `Auteur`   TEXT, \n",
    " `Date`   DateTime, \n",
    " `Commentaire`   TEXT,\n",
    " PRIMARY KEY (`NumInterp`),\n",
    " FOREIGN KEY (`NumAbs`) REFERENCES `Echantillons`(`NumAbs`) ON UPDATE CASCADE,\n",
    " FOREIGN KEY (`Auteur`) REFERENCES `Personnes`(`Nom`) ON UPDATE CASCADE\n",
    ");"
   ]
  },
  {
   "cell_type": "markdown",
   "metadata": {},
   "source": [
    "<div class=\"alert alert-block alert-warning\">\n",
    "<b>Question: </b><br>Créez la table \"Manipulations\"\n",
    "</div>"
   ]
  },
  {
   "cell_type": "code",
   "execution_count": 13,
   "metadata": {},
   "outputs": [],
   "source": []
  },
  {
   "cell_type": "markdown",
   "metadata": {},
   "source": [
    "<div class=\"alert alert-block alert-warning\">\n",
    "<b>Question: </b><br>Activez de l'intégrité référentielle\n",
    "</div>"
   ]
  },
  {
   "cell_type": "code",
   "execution_count": 14,
   "metadata": {},
   "outputs": [
    {
     "name": "stdout",
     "output_type": "stream",
     "text": [
      "# @info: Exécutez-moi pour accéder à l'aide interactive\n"
     ]
    }
   ],
   "source": [
    "# @hidden\n",
    "sx=b'3c64697620636c6173733d22616c65727420616c6572742d626c6f636b20616c6572742d7761726e696e67223e0a09536920766f757320c3aa74726520626c6f7175c3a92865292c0a2020202020202020202020202020202020202020616666696368657a20756e6520736f6c7574696f6e20656e207072657373616e7420737572206c6520626f75746f6e2063692d646573736f75732e3c62723e0a095665696c6c657a20c3a0203c623e636f6d7072656e6472653c2f623e206c6120736f6c7574696f6e0a2020202020202020202020202020202020202020657420c3a0206c61207465737465722070617220766f75732d6dc3aa6d652e0a3c2f6469763e203c62723e0a0a3c627574746f6e20646174612d746f67676c653d22636f6c6c617073652220646174612d7461726765743d222372657665616c5f30303030223e0a20202020202020202020202020202020202020204166666963686572206c6520636f64653c2f627574746f6e3e0a3c6469762069643d2272657665616c5f303030302220636c6173733d22636f6c6c61707365223e0a3c62723e3c636f64653e2573716c20505241474d4120666f726569676e5f6b657973203d204f4e3b0a3c2f636f64653e0a3c2f6469763e0a0a2020202020202020202020202020202020202020'\n",
    "HTML(codecs.decode(codecs.decode(sx,'hex'), 'utf8'))"
   ]
  },
  {
   "cell_type": "markdown",
   "metadata": {},
   "source": [
    "<div class=\"alert alert-block alert-warning\">\n",
    "<b>Question: </b><br>Affichez le schéma de la base de donnée et comparez-le au schéma proposé plus haut.\n",
    "</div>"
   ]
  },
  {
   "cell_type": "code",
   "execution_count": 15,
   "metadata": {},
   "outputs": [
    {
     "data": {
      "image/svg+xml": [
       "<svg xmlns=\"http://www.w3.org/2000/svg\" xmlns:xlink=\"http://www.w3.org/1999/xlink\" width=\"862pt\" height=\"374pt\" viewBox=\"0.00 0.00 862.00 373.50\">\n",
       "<g id=\"graph0\" class=\"graph\" transform=\"scale(1 1) rotate(0) translate(4 369.5)\">\n",
       "<title>%3</title>\n",
       "<polygon fill=\"white\" stroke=\"transparent\" points=\"-4,4 -4,-369.5 858,-369.5 858,4 -4,4\"/>\n",
       "<!-- Descriptions_et_interpretations -->\n",
       "<g id=\"node1\" class=\"node\">\n",
       "<title>Descriptions_et_interpretations</title>\n",
       "<polygon fill=\"none\" stroke=\"black\" points=\"552,-333 552,-361 846,-361 846,-333 552,-333\"/>\n",
       "<text text-anchor=\"start\" x=\"557\" y=\"-344.2\" font-family=\"Helvetica,sans-Serif\" font-weight=\"bold\" font-size=\"16.00\">Descriptions_et_interpretations</text>\n",
       "<polygon fill=\"none\" stroke=\"black\" points=\"552,-308 552,-333 846,-333 846,-308 552,-308\"/>\n",
       "<text text-anchor=\"start\" x=\"557\" y=\"-317.8\" font-family=\"Helvetica,sans-Serif\" text-decoration=\"underline\" font-size=\"14.00\">NumInterp</text>\n",
       "<text text-anchor=\"start\" x=\"633\" y=\"-317.8\" font-family=\"Helvetica,sans-Serif\" font-size=\"14.00\"> [INTEGER]</text>\n",
       "<polygon fill=\"none\" stroke=\"black\" points=\"552,-283 552,-308 846,-308 846,-283 552,-283\"/>\n",
       "<text text-anchor=\"start\" x=\"557\" y=\"-292.8\" font-family=\"Helvetica,sans-Serif\" font-size=\"14.00\">NumAbs</text>\n",
       "<text text-anchor=\"start\" x=\"617\" y=\"-292.8\" font-family=\"Helvetica,sans-Serif\" font-size=\"14.00\"> [INTEGER]</text>\n",
       "<polygon fill=\"none\" stroke=\"black\" points=\"552,-258 552,-283 846,-283 846,-258 552,-258\"/>\n",
       "<text text-anchor=\"start\" x=\"557\" y=\"-267.8\" font-family=\"Helvetica,sans-Serif\" font-size=\"14.00\">Auteur</text>\n",
       "<text text-anchor=\"start\" x=\"605\" y=\"-267.8\" font-family=\"Helvetica,sans-Serif\" font-size=\"14.00\"> [TEXT]</text>\n",
       "<polygon fill=\"none\" stroke=\"black\" points=\"552,-233 552,-258 846,-258 846,-233 552,-233\"/>\n",
       "<text text-anchor=\"start\" x=\"557\" y=\"-242.8\" font-family=\"Helvetica,sans-Serif\" font-size=\"14.00\">Date</text>\n",
       "<text text-anchor=\"start\" x=\"590\" y=\"-242.8\" font-family=\"Helvetica,sans-Serif\" font-size=\"14.00\"> [DATETIME]</text>\n",
       "<polygon fill=\"none\" stroke=\"black\" points=\"552,-208 552,-233 846,-233 846,-208 552,-208\"/>\n",
       "<text text-anchor=\"start\" x=\"557\" y=\"-217.8\" font-family=\"Helvetica,sans-Serif\" font-size=\"14.00\">Commentaire</text>\n",
       "<text text-anchor=\"start\" x=\"651\" y=\"-217.8\" font-family=\"Helvetica,sans-Serif\" font-size=\"14.00\"> [TEXT]</text>\n",
       "</g>\n",
       "<!-- Personnes -->\n",
       "<g id=\"node2\" class=\"node\">\n",
       "<title>Personnes</title>\n",
       "<polygon fill=\"none\" stroke=\"black\" points=\"337.5,-275 337.5,-303 442.5,-303 442.5,-275 337.5,-275\"/>\n",
       "<text text-anchor=\"start\" x=\"342.5\" y=\"-286.2\" font-family=\"Helvetica,sans-Serif\" font-weight=\"bold\" font-size=\"16.00\">Personnes</text>\n",
       "<polygon fill=\"none\" stroke=\"black\" points=\"337.5,-250 337.5,-275 442.5,-275 442.5,-250 337.5,-250\"/>\n",
       "<text text-anchor=\"start\" x=\"342.5\" y=\"-259.8\" font-family=\"Helvetica,sans-Serif\" text-decoration=\"underline\" font-size=\"14.00\">Nom</text>\n",
       "<text text-anchor=\"start\" x=\"375.5\" y=\"-259.8\" font-family=\"Helvetica,sans-Serif\" font-size=\"14.00\"> [TEXT]</text>\n",
       "</g>\n",
       "<!-- Personnes&#45;&#45;Descriptions_et_interpretations -->\n",
       "<g id=\"edge1\" class=\"edge\">\n",
       "<title>Personnes--Descriptions_et_interpretations</title>\n",
       "<path fill=\"none\" stroke=\"#7f7f7f\" stroke-dasharray=\"5,2\" d=\"M450.15,-278.55C477.14,-279.25 510.4,-280.12 543.71,-280.99\"/>\n",
       "<text text-anchor=\"start\" x=\"502.71\" y=\"-269.79\" font-family=\"Times,serif\" font-size=\"14.00\">{0,1}</text>\n",
       "<text text-anchor=\"start\" x=\"450.15\" y=\"-267.35\" font-family=\"Times,serif\" font-size=\"14.00\">0..N</text>\n",
       "</g>\n",
       "<!-- Manipulations -->\n",
       "<g id=\"node3\" class=\"node\">\n",
       "<title>Manipulations</title>\n",
       "<polygon fill=\"none\" stroke=\"black\" points=\"618,-154 618,-182 781,-182 781,-154 618,-154\"/>\n",
       "<text text-anchor=\"start\" x=\"636\" y=\"-165.2\" font-family=\"Helvetica,sans-Serif\" font-weight=\"bold\" font-size=\"16.00\">Manipulations</text>\n",
       "<polygon fill=\"none\" stroke=\"black\" points=\"618,-129 618,-154 781,-154 781,-129 618,-129\"/>\n",
       "<text text-anchor=\"start\" x=\"623\" y=\"-138.8\" font-family=\"Helvetica,sans-Serif\" text-decoration=\"underline\" font-size=\"14.00\">NumManip</text>\n",
       "<text text-anchor=\"start\" x=\"699\" y=\"-138.8\" font-family=\"Helvetica,sans-Serif\" font-size=\"14.00\"> [INTEGER]</text>\n",
       "<polygon fill=\"none\" stroke=\"black\" points=\"618,-104 618,-129 781,-129 781,-104 618,-104\"/>\n",
       "<text text-anchor=\"start\" x=\"623\" y=\"-113.8\" font-family=\"Helvetica,sans-Serif\" font-size=\"14.00\">NumAbs</text>\n",
       "<text text-anchor=\"start\" x=\"683\" y=\"-113.8\" font-family=\"Helvetica,sans-Serif\" font-size=\"14.00\"> [INTEGER]</text>\n",
       "<polygon fill=\"none\" stroke=\"black\" points=\"618,-79 618,-104 781,-104 781,-79 618,-79\"/>\n",
       "<text text-anchor=\"start\" x=\"623\" y=\"-88.8\" font-family=\"Helvetica,sans-Serif\" font-size=\"14.00\">Operateur</text>\n",
       "<text text-anchor=\"start\" x=\"695\" y=\"-88.8\" font-family=\"Helvetica,sans-Serif\" font-size=\"14.00\"> [TEXT]</text>\n",
       "<polygon fill=\"none\" stroke=\"black\" points=\"618,-54 618,-79 781,-79 781,-54 618,-54\"/>\n",
       "<text text-anchor=\"start\" x=\"623\" y=\"-63.8\" font-family=\"Helvetica,sans-Serif\" font-size=\"14.00\">Procedure</text>\n",
       "<text text-anchor=\"start\" x=\"693\" y=\"-63.8\" font-family=\"Helvetica,sans-Serif\" font-size=\"14.00\"> [TEXT]</text>\n",
       "<polygon fill=\"none\" stroke=\"black\" points=\"618,-29 618,-54 781,-54 781,-29 618,-29\"/>\n",
       "<text text-anchor=\"start\" x=\"623\" y=\"-38.8\" font-family=\"Helvetica,sans-Serif\" font-size=\"14.00\">Date</text>\n",
       "<text text-anchor=\"start\" x=\"656\" y=\"-38.8\" font-family=\"Helvetica,sans-Serif\" font-size=\"14.00\"> [DATETIME]</text>\n",
       "<polygon fill=\"none\" stroke=\"black\" points=\"618,-4 618,-29 781,-29 781,-4 618,-4\"/>\n",
       "<text text-anchor=\"start\" x=\"623\" y=\"-13.8\" font-family=\"Helvetica,sans-Serif\" font-size=\"14.00\">Resultat</text>\n",
       "<text text-anchor=\"start\" x=\"681\" y=\"-13.8\" font-family=\"Helvetica,sans-Serif\" font-size=\"14.00\"> [TEXT]</text>\n",
       "</g>\n",
       "<!-- Personnes&#45;&#45;Manipulations -->\n",
       "<g id=\"edge2\" class=\"edge\">\n",
       "<title>Personnes--Manipulations</title>\n",
       "<path fill=\"none\" stroke=\"#7f7f7f\" stroke-dasharray=\"5,2\" d=\"M443.39,-246.27C452.61,-240.87 462.09,-235.29 471,-230 516.72,-202.86 567.39,-172.32 609.24,-146.98\"/>\n",
       "<text text-anchor=\"start\" x=\"568.24\" y=\"-135.78\" font-family=\"Times,serif\" font-size=\"14.00\">{0,1}</text>\n",
       "<text text-anchor=\"start\" x=\"412.39\" y=\"-235.07\" font-family=\"Times,serif\" font-size=\"14.00\">0..N</text>\n",
       "</g>\n",
       "<!-- Echantillons -->\n",
       "<g id=\"node4\" class=\"node\">\n",
       "<title>Echantillons</title>\n",
       "<polygon fill=\"none\" stroke=\"black\" points=\"316.5,-188 316.5,-216 463.5,-216 463.5,-188 316.5,-188\"/>\n",
       "<text text-anchor=\"start\" x=\"335\" y=\"-199.2\" font-family=\"Helvetica,sans-Serif\" font-weight=\"bold\" font-size=\"16.00\">Echantillons</text>\n",
       "<polygon fill=\"none\" stroke=\"black\" points=\"316.5,-163 316.5,-188 463.5,-188 463.5,-163 316.5,-163\"/>\n",
       "<text text-anchor=\"start\" x=\"321.5\" y=\"-172.8\" font-family=\"Helvetica,sans-Serif\" text-decoration=\"underline\" font-size=\"14.00\">NumAbs</text>\n",
       "<text text-anchor=\"start\" x=\"381.5\" y=\"-172.8\" font-family=\"Helvetica,sans-Serif\" font-size=\"14.00\"> [INTEGER]</text>\n",
       "<polygon fill=\"none\" stroke=\"black\" points=\"316.5,-138 316.5,-163 463.5,-163 463.5,-138 316.5,-138\"/>\n",
       "<text text-anchor=\"start\" x=\"321.5\" y=\"-147.8\" font-family=\"Helvetica,sans-Serif\" font-size=\"14.00\">Origine</text>\n",
       "<text text-anchor=\"start\" x=\"373.5\" y=\"-147.8\" font-family=\"Helvetica,sans-Serif\" font-size=\"14.00\"> [TEXT]</text>\n",
       "<polygon fill=\"none\" stroke=\"black\" points=\"316.5,-113 316.5,-138 463.5,-138 463.5,-113 316.5,-113\"/>\n",
       "<text text-anchor=\"start\" x=\"321.5\" y=\"-122.8\" font-family=\"Helvetica,sans-Serif\" font-size=\"14.00\">NumTerrain</text>\n",
       "<text text-anchor=\"start\" x=\"403.5\" y=\"-122.8\" font-family=\"Helvetica,sans-Serif\" font-size=\"14.00\"> [TEXT]</text>\n",
       "<polygon fill=\"none\" stroke=\"black\" points=\"316.5,-88 316.5,-113 463.5,-113 463.5,-88 316.5,-88\"/>\n",
       "<text text-anchor=\"start\" x=\"321.5\" y=\"-97.8\" font-family=\"Helvetica,sans-Serif\" font-size=\"14.00\">Stockage</text>\n",
       "<text text-anchor=\"start\" x=\"385.5\" y=\"-97.8\" font-family=\"Helvetica,sans-Serif\" font-size=\"14.00\"> [TEXT]</text>\n",
       "<polygon fill=\"none\" stroke=\"black\" points=\"316.5,-63 316.5,-88 463.5,-88 463.5,-63 316.5,-63\"/>\n",
       "<text text-anchor=\"start\" x=\"321.5\" y=\"-72.8\" font-family=\"Helvetica,sans-Serif\" font-size=\"14.00\">Remarques</text>\n",
       "<text text-anchor=\"start\" x=\"401.5\" y=\"-72.8\" font-family=\"Helvetica,sans-Serif\" font-size=\"14.00\"> [TEXT]</text>\n",
       "</g>\n",
       "<!-- Echantillons&#45;&#45;Descriptions_et_interpretations -->\n",
       "<g id=\"edge3\" class=\"edge\">\n",
       "<title>Echantillons--Descriptions_et_interpretations</title>\n",
       "<path fill=\"none\" stroke=\"#7f7f7f\" stroke-dasharray=\"5,2\" d=\"M471.29,-178.1C493.71,-188.67 518.83,-200.51 543.95,-212.36\"/>\n",
       "<text text-anchor=\"start\" x=\"502.95\" y=\"-201.16\" font-family=\"Times,serif\" font-size=\"14.00\">{0,1}</text>\n",
       "<text text-anchor=\"start\" x=\"471.29\" y=\"-166.9\" font-family=\"Times,serif\" font-size=\"14.00\">0..N</text>\n",
       "</g>\n",
       "<!-- Echantillons&#45;&#45;Manipulations -->\n",
       "<g id=\"edge4\" class=\"edge\">\n",
       "<title>Echantillons--Manipulations</title>\n",
       "<path fill=\"none\" stroke=\"#7f7f7f\" stroke-dasharray=\"5,2\" d=\"M471.29,-127.65C513.73,-121.16 565.83,-113.2 609.37,-106.55\"/>\n",
       "<text text-anchor=\"start\" x=\"568.37\" y=\"-95.35\" font-family=\"Times,serif\" font-size=\"14.00\">{0,1}</text>\n",
       "<text text-anchor=\"start\" x=\"471.29\" y=\"-116.45\" font-family=\"Times,serif\" font-size=\"14.00\">0..N</text>\n",
       "</g>\n",
       "<!-- Lieux_de_prelevements -->\n",
       "<g id=\"node5\" class=\"node\">\n",
       "<title>Lieux_de_prelevements</title>\n",
       "<polygon fill=\"none\" stroke=\"black\" points=\"8.5,-176 8.5,-204 227.5,-204 227.5,-176 8.5,-176\"/>\n",
       "<text text-anchor=\"start\" x=\"13.5\" y=\"-187.2\" font-family=\"Helvetica,sans-Serif\" font-weight=\"bold\" font-size=\"16.00\">Lieux_de_prelevements</text>\n",
       "<polygon fill=\"none\" stroke=\"black\" points=\"8.5,-151 8.5,-176 227.5,-176 227.5,-151 8.5,-151\"/>\n",
       "<text text-anchor=\"start\" x=\"13.5\" y=\"-160.8\" font-family=\"Helvetica,sans-Serif\" text-decoration=\"underline\" font-size=\"14.00\">NomLieu</text>\n",
       "<text text-anchor=\"start\" x=\"74.5\" y=\"-160.8\" font-family=\"Helvetica,sans-Serif\" font-size=\"14.00\"> [TEXT]</text>\n",
       "<polygon fill=\"none\" stroke=\"black\" points=\"8.5,-126 8.5,-151 227.5,-151 227.5,-126 8.5,-126\"/>\n",
       "<text text-anchor=\"start\" x=\"13.5\" y=\"-135.8\" font-family=\"Helvetica,sans-Serif\" font-size=\"14.00\">XL72</text>\n",
       "<text text-anchor=\"start\" x=\"49.5\" y=\"-135.8\" font-family=\"Helvetica,sans-Serif\" font-size=\"14.00\"> [REAL]</text>\n",
       "<polygon fill=\"none\" stroke=\"black\" points=\"8.5,-101 8.5,-126 227.5,-126 227.5,-101 8.5,-101\"/>\n",
       "<text text-anchor=\"start\" x=\"13.5\" y=\"-110.8\" font-family=\"Helvetica,sans-Serif\" font-size=\"14.00\">YL72</text>\n",
       "<text text-anchor=\"start\" x=\"47.5\" y=\"-110.8\" font-family=\"Helvetica,sans-Serif\" font-size=\"14.00\"> [REAL]</text>\n",
       "<polygon fill=\"none\" stroke=\"black\" points=\"8.5,-76 8.5,-101 227.5,-101 227.5,-76 8.5,-76\"/>\n",
       "<text text-anchor=\"start\" x=\"13.5\" y=\"-85.8\" font-family=\"Helvetica,sans-Serif\" font-size=\"14.00\">Altitude</text>\n",
       "<text text-anchor=\"start\" x=\"68.5\" y=\"-85.8\" font-family=\"Helvetica,sans-Serif\" font-size=\"14.00\"> [REAL]</text>\n",
       "</g>\n",
       "<!-- Lieux_de_prelevements&#45;&#45;Echantillons -->\n",
       "<g id=\"edge5\" class=\"edge\">\n",
       "<title>Lieux_de_prelevements--Echantillons</title>\n",
       "<path fill=\"none\" stroke=\"#7f7f7f\" stroke-dasharray=\"5,2\" d=\"M235.36,-140C259.73,-140 284.9,-140 307.62,-140\"/>\n",
       "<text text-anchor=\"start\" x=\"266.62\" y=\"-128.8\" font-family=\"Times,serif\" font-size=\"14.00\">{0,1}</text>\n",
       "<text text-anchor=\"start\" x=\"235.36\" y=\"-128.8\" font-family=\"Times,serif\" font-size=\"14.00\">0..N</text>\n",
       "</g>\n",
       "</g>\n",
       "</svg>"
      ],
      "text/plain": [
       "<IPython.core.display.SVG object>"
      ]
     },
     "execution_count": 15,
     "metadata": {},
     "output_type": "execute_result"
    }
   ],
   "source": [
    "# @question\n",
    "render_er('sqlite:///echantillons_db.db', 'echantillons_db_schema.svg')\n",
    "SVG('echantillons_db_schema.svg')"
   ]
  },
  {
   "cell_type": "markdown",
   "metadata": {},
   "source": [
    "<div class=\"alert alert-block alert-success\">\n",
    "\t<b>2.3 Complément à la base de données</b>\n",
    "</div>"
   ]
  },
  {
   "cell_type": "code",
   "execution_count": 16,
   "metadata": {},
   "outputs": [
    {
     "data": {
      "image/svg+xml": [
       "<svg xmlns=\"http://www.w3.org/2000/svg\" xmlns:xlink=\"http://www.w3.org/1999/xlink\" width=\"861pt\" height=\"428pt\" viewBox=\"0.00 0.00 861.00 427.50\">\n",
       "<g id=\"graph0\" class=\"graph\" transform=\"scale(1 1) rotate(0) translate(4 423.5)\">\n",
       "<title>%3</title>\n",
       "<polygon fill=\"#ffffff\" stroke=\"transparent\" points=\"-4,4 -4,-423.5 857,-423.5 857,4 -4,4\"/>\n",
       "<!-- Descriptions_et_interpretations -->\n",
       "<g id=\"node1\" class=\"node\">\n",
       "<title>Descriptions_et_interpretations</title>\n",
       "<polygon fill=\"none\" stroke=\"#000000\" points=\"594.5,-387 594.5,-415 845.5,-415 845.5,-387 594.5,-387\"/>\n",
       "<text text-anchor=\"start\" x=\"599.5\" y=\"-398.2\" font-family=\"Helvetica,sans-Serif\" font-weight=\"bold\" font-size=\"16.00\" fill=\"#000000\">Descriptions_et_interpretations</text>\n",
       "<polygon fill=\"none\" stroke=\"#000000\" points=\"594.5,-362 594.5,-387 845.5,-387 845.5,-362 594.5,-362\"/>\n",
       "<text text-anchor=\"start\" x=\"599.5\" y=\"-371.8\" font-family=\"Helvetica,sans-Serif\" text-decoration=\"underline\" font-size=\"14.00\" fill=\"#000000\">NumInterp</text>\n",
       "<text text-anchor=\"start\" x=\"663.5\" y=\"-371.8\" font-family=\"Helvetica,sans-Serif\" font-size=\"14.00\" fill=\"#000000\"> [INTEGER]</text>\n",
       "<polygon fill=\"none\" stroke=\"#000000\" points=\"594.5,-337 594.5,-362 845.5,-362 845.5,-337 594.5,-337\"/>\n",
       "<text text-anchor=\"start\" x=\"599.5\" y=\"-346.8\" font-family=\"Helvetica,sans-Serif\" font-size=\"14.00\" fill=\"#000000\">NumAbs</text>\n",
       "<text text-anchor=\"start\" x=\"652.5\" y=\"-346.8\" font-family=\"Helvetica,sans-Serif\" font-size=\"14.00\" fill=\"#000000\"> [INTEGER]</text>\n",
       "<polygon fill=\"none\" stroke=\"#000000\" points=\"594.5,-312 594.5,-337 845.5,-337 845.5,-312 594.5,-312\"/>\n",
       "<text text-anchor=\"start\" x=\"599.5\" y=\"-321.8\" font-family=\"Helvetica,sans-Serif\" font-size=\"14.00\" fill=\"#000000\">Auteur</text>\n",
       "<text text-anchor=\"start\" x=\"639.5\" y=\"-321.8\" font-family=\"Helvetica,sans-Serif\" font-size=\"14.00\" fill=\"#000000\"> [TEXT]</text>\n",
       "<polygon fill=\"none\" stroke=\"#000000\" points=\"594.5,-287 594.5,-312 845.5,-312 845.5,-287 594.5,-287\"/>\n",
       "<text text-anchor=\"start\" x=\"599.5\" y=\"-296.8\" font-family=\"Helvetica,sans-Serif\" font-size=\"14.00\" fill=\"#000000\">Date</text>\n",
       "<text text-anchor=\"start\" x=\"628.5\" y=\"-296.8\" font-family=\"Helvetica,sans-Serif\" font-size=\"14.00\" fill=\"#000000\"> [DATETIME]</text>\n",
       "<polygon fill=\"none\" stroke=\"#000000\" points=\"594.5,-262 594.5,-287 845.5,-287 845.5,-262 594.5,-262\"/>\n",
       "<text text-anchor=\"start\" x=\"599.5\" y=\"-271.8\" font-family=\"Helvetica,sans-Serif\" font-size=\"14.00\" fill=\"#000000\">Commentaire</text>\n",
       "<text text-anchor=\"start\" x=\"682.5\" y=\"-271.8\" font-family=\"Helvetica,sans-Serif\" font-size=\"14.00\" fill=\"#000000\"> [TEXT]</text>\n",
       "</g>\n",
       "<!-- Personnes -->\n",
       "<g id=\"node2\" class=\"node\">\n",
       "<title>Personnes</title>\n",
       "<polygon fill=\"none\" stroke=\"#000000\" points=\"351.5,-208 351.5,-236 443.5,-236 443.5,-208 351.5,-208\"/>\n",
       "<text text-anchor=\"start\" x=\"356.5\" y=\"-219.2\" font-family=\"Helvetica,sans-Serif\" font-weight=\"bold\" font-size=\"16.00\" fill=\"#000000\">Personnes</text>\n",
       "<polygon fill=\"none\" stroke=\"#000000\" points=\"351.5,-183 351.5,-208 443.5,-208 443.5,-183 351.5,-183\"/>\n",
       "<text text-anchor=\"start\" x=\"356.5\" y=\"-192.8\" font-family=\"Helvetica,sans-Serif\" text-decoration=\"underline\" font-size=\"14.00\" fill=\"#000000\">Nom</text>\n",
       "<text text-anchor=\"start\" x=\"386.5\" y=\"-192.8\" font-family=\"Helvetica,sans-Serif\" font-size=\"14.00\" fill=\"#000000\"> [TEXT]</text>\n",
       "<polygon fill=\"none\" stroke=\"#000000\" points=\"351.5,-158 351.5,-183 443.5,-183 443.5,-158 351.5,-158\"/>\n",
       "<text text-anchor=\"start\" x=\"356.5\" y=\"-167.8\" font-family=\"Helvetica,sans-Serif\" font-size=\"14.00\" fill=\"#000000\">Role</text>\n",
       "<text text-anchor=\"start\" x=\"384.5\" y=\"-167.8\" font-family=\"Helvetica,sans-Serif\" font-size=\"14.00\" fill=\"#000000\"> [TEXT]</text>\n",
       "</g>\n",
       "<!-- Personnes&#45;&#45;Descriptions_et_interpretations -->\n",
       "<g id=\"edge1\" class=\"edge\">\n",
       "<title>Personnes--Descriptions_et_interpretations</title>\n",
       "<path fill=\"none\" stroke=\"#7f7f7f\" stroke-dasharray=\"5,2\" d=\"M451.7588,-220.9278C488.5017,-237.1312 538.7438,-259.2876 585.785,-280.0325\"/>\n",
       "<text text-anchor=\"start\" x=\"554.785\" y=\"-268.8325\" font-family=\"Times,serif\" font-size=\"14.00\" fill=\"#000000\">{0,1}</text>\n",
       "<text text-anchor=\"start\" x=\"451.7588\" y=\"-209.7278\" font-family=\"Times,serif\" font-size=\"14.00\" fill=\"#000000\">0..N</text>\n",
       "</g>\n",
       "<!-- Manipulations -->\n",
       "<g id=\"node3\" class=\"node\">\n",
       "<title>Manipulations</title>\n",
       "<polygon fill=\"none\" stroke=\"#000000\" points=\"644.5,-208 644.5,-236 794.5,-236 794.5,-208 644.5,-208\"/>\n",
       "<text text-anchor=\"start\" x=\"665\" y=\"-219.2\" font-family=\"Helvetica,sans-Serif\" font-weight=\"bold\" font-size=\"16.00\" fill=\"#000000\">Manipulations</text>\n",
       "<polygon fill=\"none\" stroke=\"#000000\" points=\"644.5,-183 644.5,-208 794.5,-208 794.5,-183 644.5,-183\"/>\n",
       "<text text-anchor=\"start\" x=\"649.5\" y=\"-192.8\" font-family=\"Helvetica,sans-Serif\" text-decoration=\"underline\" font-size=\"14.00\" fill=\"#000000\">NumManip</text>\n",
       "<text text-anchor=\"start\" x=\"716.5\" y=\"-192.8\" font-family=\"Helvetica,sans-Serif\" font-size=\"14.00\" fill=\"#000000\"> [INTEGER]</text>\n",
       "<polygon fill=\"none\" stroke=\"#000000\" points=\"644.5,-158 644.5,-183 794.5,-183 794.5,-158 644.5,-158\"/>\n",
       "<text text-anchor=\"start\" x=\"649.5\" y=\"-167.8\" font-family=\"Helvetica,sans-Serif\" font-size=\"14.00\" fill=\"#000000\">NumAbs</text>\n",
       "<text text-anchor=\"start\" x=\"702.5\" y=\"-167.8\" font-family=\"Helvetica,sans-Serif\" font-size=\"14.00\" fill=\"#000000\"> [INTEGER]</text>\n",
       "<polygon fill=\"none\" stroke=\"#000000\" points=\"644.5,-133 644.5,-158 794.5,-158 794.5,-133 644.5,-133\"/>\n",
       "<text text-anchor=\"start\" x=\"649.5\" y=\"-142.8\" font-family=\"Helvetica,sans-Serif\" font-size=\"14.00\" fill=\"#000000\">Operateur</text>\n",
       "<text text-anchor=\"start\" x=\"711.5\" y=\"-142.8\" font-family=\"Helvetica,sans-Serif\" font-size=\"14.00\" fill=\"#000000\"> [TEXT]</text>\n",
       "<polygon fill=\"none\" stroke=\"#000000\" points=\"644.5,-108 644.5,-133 794.5,-133 794.5,-108 644.5,-108\"/>\n",
       "<text text-anchor=\"start\" x=\"649.5\" y=\"-117.8\" font-family=\"Helvetica,sans-Serif\" font-size=\"14.00\" fill=\"#000000\">Procedure</text>\n",
       "<text text-anchor=\"start\" x=\"712.5\" y=\"-117.8\" font-family=\"Helvetica,sans-Serif\" font-size=\"14.00\" fill=\"#000000\"> [TEXT]</text>\n",
       "<polygon fill=\"none\" stroke=\"#000000\" points=\"644.5,-83 644.5,-108 794.5,-108 794.5,-83 644.5,-83\"/>\n",
       "<text text-anchor=\"start\" x=\"649.5\" y=\"-92.8\" font-family=\"Helvetica,sans-Serif\" font-size=\"14.00\" fill=\"#000000\">Date</text>\n",
       "<text text-anchor=\"start\" x=\"678.5\" y=\"-92.8\" font-family=\"Helvetica,sans-Serif\" font-size=\"14.00\" fill=\"#000000\"> [DATETIME]</text>\n",
       "<polygon fill=\"none\" stroke=\"#000000\" points=\"644.5,-58 644.5,-83 794.5,-83 794.5,-58 644.5,-58\"/>\n",
       "<text text-anchor=\"start\" x=\"649.5\" y=\"-67.8\" font-family=\"Helvetica,sans-Serif\" font-size=\"14.00\" fill=\"#000000\">Resultat</text>\n",
       "<text text-anchor=\"start\" x=\"699.5\" y=\"-67.8\" font-family=\"Helvetica,sans-Serif\" font-size=\"14.00\" fill=\"#000000\"> [TEXT]</text>\n",
       "</g>\n",
       "<!-- Personnes&#45;&#45;Manipulations -->\n",
       "<g id=\"edge2\" class=\"edge\">\n",
       "<title>Personnes--Manipulations</title>\n",
       "<path fill=\"none\" stroke=\"#7f7f7f\" stroke-dasharray=\"5,2\" d=\"M451.7588,-188.5747C502.213,-180.7402 578.1215,-168.9532 636.2429,-159.9281\"/>\n",
       "<text text-anchor=\"start\" x=\"605.2429\" y=\"-148.7281\" font-family=\"Times,serif\" font-size=\"14.00\" fill=\"#000000\">{0,1}</text>\n",
       "<text text-anchor=\"start\" x=\"451.7588\" y=\"-177.3747\" font-family=\"Times,serif\" font-size=\"14.00\" fill=\"#000000\">0..N</text>\n",
       "</g>\n",
       "<!-- Echantillons -->\n",
       "<g id=\"node4\" class=\"node\">\n",
       "<title>Echantillons</title>\n",
       "<polygon fill=\"none\" stroke=\"#000000\" points=\"329.5,-387 329.5,-415 465.5,-415 465.5,-387 329.5,-387\"/>\n",
       "<text text-anchor=\"start\" x=\"349.5\" y=\"-398.2\" font-family=\"Helvetica,sans-Serif\" font-weight=\"bold\" font-size=\"16.00\" fill=\"#000000\">Echantillons</text>\n",
       "<polygon fill=\"none\" stroke=\"#000000\" points=\"329.5,-362 329.5,-387 465.5,-387 465.5,-362 329.5,-362\"/>\n",
       "<text text-anchor=\"start\" x=\"334.5\" y=\"-371.8\" font-family=\"Helvetica,sans-Serif\" text-decoration=\"underline\" font-size=\"14.00\" fill=\"#000000\">NumAbs</text>\n",
       "<text text-anchor=\"start\" x=\"387.5\" y=\"-371.8\" font-family=\"Helvetica,sans-Serif\" font-size=\"14.00\" fill=\"#000000\"> [INTEGER]</text>\n",
       "<polygon fill=\"none\" stroke=\"#000000\" points=\"329.5,-337 329.5,-362 465.5,-362 465.5,-337 329.5,-337\"/>\n",
       "<text text-anchor=\"start\" x=\"334.5\" y=\"-346.8\" font-family=\"Helvetica,sans-Serif\" font-size=\"14.00\" fill=\"#000000\">Origine</text>\n",
       "<text text-anchor=\"start\" x=\"379.5\" y=\"-346.8\" font-family=\"Helvetica,sans-Serif\" font-size=\"14.00\" fill=\"#000000\"> [TEXT]</text>\n",
       "<polygon fill=\"none\" stroke=\"#000000\" points=\"329.5,-312 329.5,-337 465.5,-337 465.5,-312 329.5,-312\"/>\n",
       "<text text-anchor=\"start\" x=\"334.5\" y=\"-321.8\" font-family=\"Helvetica,sans-Serif\" font-size=\"14.00\" fill=\"#000000\">NumTerrain</text>\n",
       "<text text-anchor=\"start\" x=\"407.5\" y=\"-321.8\" font-family=\"Helvetica,sans-Serif\" font-size=\"14.00\" fill=\"#000000\"> [TEXT]</text>\n",
       "<polygon fill=\"none\" stroke=\"#000000\" points=\"329.5,-287 329.5,-312 465.5,-312 465.5,-287 329.5,-287\"/>\n",
       "<text text-anchor=\"start\" x=\"334.5\" y=\"-296.8\" font-family=\"Helvetica,sans-Serif\" font-size=\"14.00\" fill=\"#000000\">Stockage</text>\n",
       "<text text-anchor=\"start\" x=\"391.5\" y=\"-296.8\" font-family=\"Helvetica,sans-Serif\" font-size=\"14.00\" fill=\"#000000\"> [TEXT]</text>\n",
       "<polygon fill=\"none\" stroke=\"#000000\" points=\"329.5,-262 329.5,-287 465.5,-287 465.5,-262 329.5,-262\"/>\n",
       "<text text-anchor=\"start\" x=\"334.5\" y=\"-271.8\" font-family=\"Helvetica,sans-Serif\" font-size=\"14.00\" fill=\"#000000\">Remarques</text>\n",
       "<text text-anchor=\"start\" x=\"405.5\" y=\"-271.8\" font-family=\"Helvetica,sans-Serif\" font-size=\"14.00\" fill=\"#000000\"> [TEXT]</text>\n",
       "</g>\n",
       "<!-- Echantillons&#45;&#45;Descriptions_et_interpretations -->\n",
       "<g id=\"edge3\" class=\"edge\">\n",
       "<title>Echantillons--Descriptions_et_interpretations</title>\n",
       "<path fill=\"none\" stroke=\"#7f7f7f\" stroke-dasharray=\"5,2\" d=\"M473.8095,-339C507.2852,-339 547.5897,-339 585.7841,-339\"/>\n",
       "<text text-anchor=\"start\" x=\"554.7841\" y=\"-327.8\" font-family=\"Times,serif\" font-size=\"14.00\" fill=\"#000000\">{0,1}</text>\n",
       "<text text-anchor=\"start\" x=\"473.8095\" y=\"-327.8\" font-family=\"Times,serif\" font-size=\"14.00\" fill=\"#000000\">0..N</text>\n",
       "</g>\n",
       "<!-- Echantillons&#45;&#45;Manipulations -->\n",
       "<g id=\"edge4\" class=\"edge\">\n",
       "<title>Echantillons--Manipulations</title>\n",
       "<path fill=\"none\" stroke=\"#7f7f7f\" stroke-dasharray=\"5,2\" d=\"M473.8095,-293.4987C522.7212,-264.3339 586.2114,-226.4764 636.3971,-196.552\"/>\n",
       "<text text-anchor=\"start\" x=\"605.3971\" y=\"-185.352\" font-family=\"Times,serif\" font-size=\"14.00\" fill=\"#000000\">{0,1}</text>\n",
       "<text text-anchor=\"start\" x=\"473.8095\" y=\"-282.2987\" font-family=\"Times,serif\" font-size=\"14.00\" fill=\"#000000\">0..N</text>\n",
       "</g>\n",
       "<!-- Lieux_de_prelevements -->\n",
       "<g id=\"node5\" class=\"node\">\n",
       "<title>Lieux_de_prelevements</title>\n",
       "<polygon fill=\"none\" stroke=\"#000000\" points=\"8.5,-375 8.5,-403 201.5,-403 201.5,-375 8.5,-375\"/>\n",
       "<text text-anchor=\"start\" x=\"13.5\" y=\"-386.2\" font-family=\"Helvetica,sans-Serif\" font-weight=\"bold\" font-size=\"16.00\" fill=\"#000000\">Lieux_de_prelevements</text>\n",
       "<polygon fill=\"none\" stroke=\"#000000\" points=\"8.5,-350 8.5,-375 201.5,-375 201.5,-350 8.5,-350\"/>\n",
       "<text text-anchor=\"start\" x=\"13.5\" y=\"-359.8\" font-family=\"Helvetica,sans-Serif\" text-decoration=\"underline\" font-size=\"14.00\" fill=\"#000000\">NomLieu</text>\n",
       "<text text-anchor=\"start\" x=\"68.5\" y=\"-359.8\" font-family=\"Helvetica,sans-Serif\" font-size=\"14.00\" fill=\"#000000\"> [TEXT]</text>\n",
       "<polygon fill=\"none\" stroke=\"#000000\" points=\"8.5,-325 8.5,-350 201.5,-350 201.5,-325 8.5,-325\"/>\n",
       "<text text-anchor=\"start\" x=\"13.5\" y=\"-334.8\" font-family=\"Helvetica,sans-Serif\" font-size=\"14.00\" fill=\"#000000\">XL72</text>\n",
       "<text text-anchor=\"start\" x=\"45.5\" y=\"-334.8\" font-family=\"Helvetica,sans-Serif\" font-size=\"14.00\" fill=\"#000000\"> [REAL]</text>\n",
       "<polygon fill=\"none\" stroke=\"#000000\" points=\"8.5,-300 8.5,-325 201.5,-325 201.5,-300 8.5,-300\"/>\n",
       "<text text-anchor=\"start\" x=\"13.5\" y=\"-309.8\" font-family=\"Helvetica,sans-Serif\" font-size=\"14.00\" fill=\"#000000\">YL72</text>\n",
       "<text text-anchor=\"start\" x=\"45.5\" y=\"-309.8\" font-family=\"Helvetica,sans-Serif\" font-size=\"14.00\" fill=\"#000000\"> [REAL]</text>\n",
       "<polygon fill=\"none\" stroke=\"#000000\" points=\"8.5,-275 8.5,-300 201.5,-300 201.5,-275 8.5,-275\"/>\n",
       "<text text-anchor=\"start\" x=\"13.5\" y=\"-284.8\" font-family=\"Helvetica,sans-Serif\" font-size=\"14.00\" fill=\"#000000\">Altitude</text>\n",
       "<text text-anchor=\"start\" x=\"59.5\" y=\"-284.8\" font-family=\"Helvetica,sans-Serif\" font-size=\"14.00\" fill=\"#000000\"> [REAL]</text>\n",
       "</g>\n",
       "<!-- Lieux_de_prelevements&#45;&#45;Echantillons -->\n",
       "<g id=\"edge5\" class=\"edge\">\n",
       "<title>Lieux_de_prelevements--Echantillons</title>\n",
       "<path fill=\"none\" stroke=\"#7f7f7f\" stroke-dasharray=\"5,2\" d=\"M209.0388,-339C246.0168,-339 286.89,-339 321.0938,-339\"/>\n",
       "<text text-anchor=\"start\" x=\"290.0938\" y=\"-327.8\" font-family=\"Times,serif\" font-size=\"14.00\" fill=\"#000000\">{0,1}</text>\n",
       "<text text-anchor=\"start\" x=\"209.0388\" y=\"-327.8\" font-family=\"Times,serif\" font-size=\"14.00\" fill=\"#000000\">0..N</text>\n",
       "</g>\n",
       "<!-- Procedures -->\n",
       "<g id=\"node6\" class=\"node\">\n",
       "<title>Procedures</title>\n",
       "<polygon fill=\"none\" stroke=\"#000000\" points=\"290.5,-104 290.5,-132 505.5,-132 505.5,-104 290.5,-104\"/>\n",
       "<text text-anchor=\"start\" x=\"354\" y=\"-115.2\" font-family=\"Helvetica,sans-Serif\" font-weight=\"bold\" font-size=\"16.00\" fill=\"#000000\">Procedures</text>\n",
       "<polygon fill=\"none\" stroke=\"#000000\" points=\"290.5,-79 290.5,-104 505.5,-104 505.5,-79 290.5,-79\"/>\n",
       "<text text-anchor=\"start\" x=\"295.5\" y=\"-88.8\" font-family=\"Helvetica,sans-Serif\" text-decoration=\"underline\" font-size=\"14.00\" fill=\"#000000\">Nom</text>\n",
       "<text text-anchor=\"start\" x=\"325.5\" y=\"-88.8\" font-family=\"Helvetica,sans-Serif\" font-size=\"14.00\" fill=\"#000000\"> [TEXT]</text>\n",
       "<polygon fill=\"none\" stroke=\"#000000\" points=\"290.5,-54 290.5,-79 505.5,-79 505.5,-54 290.5,-54\"/>\n",
       "<text text-anchor=\"start\" x=\"295.5\" y=\"-63.8\" font-family=\"Helvetica,sans-Serif\" font-size=\"14.00\" fill=\"#000000\">Type_de_manipulation</text>\n",
       "<text text-anchor=\"start\" x=\"433.5\" y=\"-63.8\" font-family=\"Helvetica,sans-Serif\" font-size=\"14.00\" fill=\"#000000\"> [TEXT]</text>\n",
       "<polygon fill=\"none\" stroke=\"#000000\" points=\"290.5,-29 290.5,-54 505.5,-54 505.5,-29 290.5,-29\"/>\n",
       "<text text-anchor=\"start\" x=\"295.5\" y=\"-38.8\" font-family=\"Helvetica,sans-Serif\" font-size=\"14.00\" fill=\"#000000\">Equipement</text>\n",
       "<text text-anchor=\"start\" x=\"368.5\" y=\"-38.8\" font-family=\"Helvetica,sans-Serif\" font-size=\"14.00\" fill=\"#000000\"> [TEXT]</text>\n",
       "<polygon fill=\"none\" stroke=\"#000000\" points=\"290.5,-4 290.5,-29 505.5,-29 505.5,-4 290.5,-4\"/>\n",
       "<text text-anchor=\"start\" x=\"295.5\" y=\"-13.8\" font-family=\"Helvetica,sans-Serif\" font-size=\"14.00\" fill=\"#000000\">Description_de_procedure</text>\n",
       "<text text-anchor=\"start\" x=\"454.5\" y=\"-13.8\" font-family=\"Helvetica,sans-Serif\" font-size=\"14.00\" fill=\"#000000\"> [TEXT]</text>\n",
       "</g>\n",
       "<!-- Procedures&#45;&#45;Manipulations -->\n",
       "<g id=\"edge6\" class=\"edge\">\n",
       "<title>Procedures--Manipulations</title>\n",
       "<path fill=\"none\" stroke=\"#7f7f7f\" stroke-dasharray=\"5,2\" d=\"M513.2945,-96.4092C553.8622,-106.3622 598.597,-117.3375 636.0019,-126.5144\"/>\n",
       "<text text-anchor=\"start\" x=\"605.0019\" y=\"-115.3144\" font-family=\"Times,serif\" font-size=\"14.00\" fill=\"#000000\">{0,1}</text>\n",
       "<text text-anchor=\"start\" x=\"513.2945\" y=\"-85.2092\" font-family=\"Times,serif\" font-size=\"14.00\" fill=\"#000000\">0..N</text>\n",
       "</g>\n",
       "</g>\n",
       "</svg>"
      ],
      "text/plain": [
       "<IPython.core.display.SVG object>"
      ]
     },
     "execution_count": 16,
     "metadata": {},
     "output_type": "execute_result"
    }
   ],
   "source": [
    "SVG(filename='echantillons_db_schema_final.svg')"
   ]
  },
  {
   "cell_type": "markdown",
   "metadata": {},
   "source": [
    "<div class=\"alert alert-block alert-warning\">\n",
    "<b>Question: </b><br>Ajoutez la définition de la table \"Procedures\" reprenant les procédures qui peuvent être utilisées lors des manipulations en vous basant sur le schéma complété ci-dessus.\n",
    "</div>"
   ]
  },
  {
   "cell_type": "code",
   "execution_count": 17,
   "metadata": {},
   "outputs": [
    {
     "name": "stdout",
     "output_type": "stream",
     "text": [
      "# @info: Exécutez-moi pour accéder à l'aide interactive\n"
     ]
    }
   ],
   "source": [
    "# @hidden\n",
    "sx=b'3c64697620636c6173733d22616c65727420616c6572742d626c6f636b20616c6572742d7761726e696e67223e0a09536920766f757320c3aa74726520626c6f7175c3a92865292c0a2020202020202020202020202020202020202020616666696368657a20756e6520736f6c7574696f6e20656e207072657373616e7420737572206c6520626f75746f6e2063692d646573736f75732e3c62723e0a095665696c6c657a20c3a0203c623e636f6d7072656e6472653c2f623e206c6120736f6c7574696f6e0a2020202020202020202020202020202020202020657420c3a0206c61207465737465722070617220766f75732d6dc3aa6d652e0a3c2f6469763e203c62723e0a0a3c627574746f6e20646174612d746f67676c653d22636f6c6c617073652220646174612d7461726765743d222372657665616c5f30303031223e0a20202020202020202020202020202020202020204166666963686572206c6520636f64653c2f627574746f6e3e0a3c6469762069643d2272657665616c5f303030312220636c6173733d22636f6c6c61707365223e0a3c62723e3c636f64653e2573716c20435245415445205441424c45206050726f636564757265736028604e6f6d6020202054455854204e4f54204e554c4c2c2060547970655f64655f6d616e6970756c6174696f6e60202020544558542c20604571756970656d656e7460202020544558542c20604465736372697074696f6e5f64655f70726f63656475726560202020544558542c5052494d415259204b45592028604e6f6d6029293b0a3c2f636f64653e0a3c2f6469763e0a0a2020202020202020202020202020202020202020'\n",
    "HTML(codecs.decode(codecs.decode(sx,'hex'), 'utf8'))"
   ]
  },
  {
   "cell_type": "code",
   "execution_count": null,
   "metadata": {},
   "outputs": [
    {
     "name": "stdout",
     "output_type": "stream",
     "text": [
      "# @info: Exécutez-moi pour afficher la question interactive\n"
     ]
    }
   ],
   "source": [
    "# @hidden\n",
    "sx=b'3c64697620636c6173733d22616c65727420616c6572742d626c6f636b20616c6572742d7761726e696e67223e0a3c623e5175657374696f6e3a203c2f623e3c62723e416666696368657a206c6520736368c3a96d61206465206c61206261736520646520646f6e6ec3a96520657420636f6d706172657a2d6c6520617520736368c3a96d612070726f706f73c3a920706c757320686175742e2051756520636f6e73746174657a2d766f75733f0a0a0a3c2f6469763e203c62723e0a3c627574746f6e20646174612d746f67676c653d22636f6c6c61707365220a2020202020202020202020202020202020202020646174612d7461726765743d22237175657374696f6e5f30303034223e4166666963686572206c612072c3a9706f6e73653c2f627574746f6e3e0a0a3c6469762069643d227175657374696f6e5f30303034220a2020202020202020202020202020202020202020636c6173733d22636f6c6c61707365223e202020204c612072656c6174696f6e20656e747265206c61207461626c6520224d616e6970756c6174696f6e7322206574206c61207461626c65202250726f63c3a9647572657322206e6520666967757265207061732064616e73206c6520736368c3a96d612e0a3c2f6469763e0a'\n",
    "HTML(codecs.decode(codecs.decode(sx,'hex'), 'utf8'))"
   ]
  },
  {
   "cell_type": "code",
   "execution_count": 18,
   "metadata": {},
   "outputs": [],
   "source": []
  },
  {
   "cell_type": "code",
   "execution_count": null,
   "metadata": {},
   "outputs": [
    {
     "name": "stdout",
     "output_type": "stream",
     "text": [
      "# @info: Exécutez-moi pour afficher la question interactive\n"
     ]
    }
   ],
   "source": [
    "# @hidden\n",
    "sx=b'3c64697620636c6173733d22616c65727420616c6572742d626c6f636b20616c6572742d7761726e696e67223e0a3c623e5175657374696f6e3a203c2f623e3c62723e436f6d6d656e7420616a6f75746572206c612072656c6174696f6e20656e747265206c61207461626c6520224d616e6970756c6174696f6e7322206574206c61207461626c65202250726f63656475726573223f0a0a0a3c2f6469763e203c62723e0a3c627574746f6e20646174612d746f67676c653d22636f6c6c61707365220a2020202020202020202020202020202020202020646174612d7461726765743d22237175657374696f6e5f30303035223e4166666963686572206c612072c3a9706f6e73653c2f627574746f6e3e0a0a3c6469762069643d227175657374696f6e5f30303035220a2020202020202020202020202020202020202020636c6173733d22636f6c6c61707365223e20202020416a6f757465722064616e73206c612064c3a966696e6974696f6e206465206c61207461626c6520224d616e6970756c6174696f6e732220756e6520636cc3a920c3a97472616e67c3a8726520706f7572206c65206368616d70202250726f6365647572652220726566c3a972656ec3a7616e74206c65206368616d7020224e6f6d22206465206c61207461626c65202250726f63656475726573222e0a3c2f6469763e0a'\n",
    "HTML(codecs.decode(codecs.decode(sx,'hex'), 'utf8'))"
   ]
  },
  {
   "cell_type": "markdown",
   "metadata": {},
   "source": [
    "<b>Note:</b><br>    SQLite ne permet pas de modifier la structure de la table avec la commande SQL standard <br>  <br>\n",
    "    <code>ALTER TABLE child ADD CONSTRAINT fk_child_parent FOREIGN KEY (parent_id) REFERENCES parent(id);</code><br>\n",
    "    Il faut donc effacer la table \"Manipulations\" et la recréer avec la structure complète.\n"
   ]
  },
  {
   "cell_type": "code",
   "execution_count": 19,
   "metadata": {},
   "outputs": [
    {
     "name": "stdout",
     "output_type": "stream",
     "text": [
      "# @info: Exécutez-moi pour accéder à l'aide interactive\n"
     ]
    }
   ],
   "source": [
    "# @hidden\n",
    "sx=b'3c64697620636c6173733d22616c65727420616c6572742d626c6f636b20616c6572742d7761726e696e67223e0a09536920766f757320c3aa74726520626c6f7175c3a92865292c0a2020202020202020202020202020202020202020616666696368657a20756e6520736f6c7574696f6e20656e207072657373616e7420737572206c6520626f75746f6e2063692d646573736f75732e3c62723e0a095665696c6c657a20c3a0203c623e636f6d7072656e6472653c2f623e206c6120736f6c7574696f6e0a2020202020202020202020202020202020202020657420c3a0206c61207465737465722070617220766f75732d6dc3aa6d652e0a3c2f6469763e203c62723e0a0a3c627574746f6e20646174612d746f67676c653d22636f6c6c617073652220646174612d7461726765743d222372657665616c5f30303032223e0a20202020202020202020202020202020202020204166666963686572206c6520636f64653c2f627574746f6e3e0a3c6469762069643d2272657665616c5f303030322220636c6173733d22636f6c6c61707365223e0a3c62723e3c636f64653e2573716c2044524f50205441424c45204d616e6970756c6174696f6e733b0a3c2f636f64653e0a3c2f6469763e0a0a2020202020202020202020202020202020202020'\n",
    "HTML(codecs.decode(codecs.decode(sx,'hex'), 'utf8'))"
   ]
  },
  {
   "cell_type": "code",
   "execution_count": 20,
   "metadata": {},
   "outputs": [
    {
     "name": "stdout",
     "output_type": "stream",
     "text": [
      "# @info: Exécutez-moi pour accéder à l'aide interactive\n"
     ]
    }
   ],
   "source": [
    "# @hidden\n",
    "sx=b'3c64697620636c6173733d22616c65727420616c6572742d626c6f636b20616c6572742d7761726e696e67223e0a09536920766f757320c3aa74726520626c6f7175c3a92865292c0a2020202020202020202020202020202020202020616666696368657a20756e6520736f6c7574696f6e20656e207072657373616e7420737572206c6520626f75746f6e2063692d646573736f75732e3c62723e0a095665696c6c657a20c3a0203c623e636f6d7072656e6472653c2f623e206c6120736f6c7574696f6e0a2020202020202020202020202020202020202020657420c3a0206c61207465737465722070617220766f75732d6dc3aa6d652e0a3c2f6469763e203c62723e0a0a3c627574746f6e20646174612d746f67676c653d22636f6c6c617073652220646174612d7461726765743d222372657665616c5f30303033223e0a20202020202020202020202020202020202020204166666963686572206c6520636f64653c2f627574746f6e3e0a3c6469762069643d2272657665616c5f303030332220636c6173733d22636f6c6c61707365223e0a3c62723e3c636f64653e2573716c20435245415445205441424c4520604d616e6970756c6174696f6e73602028604e756d4d616e69706020494e5445474552204e4f54204e554c4c2c20604e756d4162736020494e54454745522044454641554c5420302c20604f70657261746575726020544558542c206050726f6365647572656020544558542c20604461746560204461746554696d652c2060526573756c7461746020544558542c205052494d415259204b45592028604e756d4d616e697060292c20464f524549474e204b45592028604e756d4162736029205245464552454e4345532060456368616e74696c6c6f6e736028604e756d4162736029204f4e2055504441544520434153434144452c20464f524549474e204b45592028604f70657261746575726029205245464552454e4345532060506572736f6e6e65736028604e6f6d6029204f4e2055504441544520434153434144452c20464f524549474e204b455920286050726f6365647572656029205245464552454e434553206050726f636564757265736028604e6f6d6029204f4e205550444154452043415343414445293b0a3c2f636f64653e0a3c2f6469763e0a0a2020202020202020202020202020202020202020'\n",
    "HTML(codecs.decode(codecs.decode(sx,'hex'), 'utf8'))"
   ]
  },
  {
   "cell_type": "markdown",
   "metadata": {},
   "source": [
    "<div class=\"alert alert-block alert-warning\">\n",
    "<b>Question: </b><br>Affichez le schéma de la base de donnée complété et comparez-le au schéma proposé plus haut.\n",
    "</div>"
   ]
  },
  {
   "cell_type": "code",
   "execution_count": 21,
   "metadata": {},
   "outputs": [
    {
     "data": {
      "image/svg+xml": [
       "<svg xmlns=\"http://www.w3.org/2000/svg\" xmlns:xlink=\"http://www.w3.org/1999/xlink\" width=\"956pt\" height=\"403pt\" viewBox=\"0.00 0.00 956.00 402.50\">\n",
       "<g id=\"graph0\" class=\"graph\" transform=\"scale(1 1) rotate(0) translate(4 398.5)\">\n",
       "<title>%3</title>\n",
       "<polygon fill=\"white\" stroke=\"transparent\" points=\"-4,4 -4,-398.5 952,-398.5 952,4 -4,4\"/>\n",
       "<!-- Descriptions_et_interpretations -->\n",
       "<g id=\"node1\" class=\"node\">\n",
       "<title>Descriptions_et_interpretations</title>\n",
       "<polygon fill=\"none\" stroke=\"black\" points=\"646,-362 646,-390 940,-390 940,-362 646,-362\"/>\n",
       "<text text-anchor=\"start\" x=\"651\" y=\"-373.2\" font-family=\"Helvetica,sans-Serif\" font-weight=\"bold\" font-size=\"16.00\">Descriptions_et_interpretations</text>\n",
       "<polygon fill=\"none\" stroke=\"black\" points=\"646,-337 646,-362 940,-362 940,-337 646,-337\"/>\n",
       "<text text-anchor=\"start\" x=\"651\" y=\"-346.8\" font-family=\"Helvetica,sans-Serif\" text-decoration=\"underline\" font-size=\"14.00\">NumInterp</text>\n",
       "<text text-anchor=\"start\" x=\"727\" y=\"-346.8\" font-family=\"Helvetica,sans-Serif\" font-size=\"14.00\"> [INTEGER]</text>\n",
       "<polygon fill=\"none\" stroke=\"black\" points=\"646,-312 646,-337 940,-337 940,-312 646,-312\"/>\n",
       "<text text-anchor=\"start\" x=\"651\" y=\"-321.8\" font-family=\"Helvetica,sans-Serif\" font-size=\"14.00\">NumAbs</text>\n",
       "<text text-anchor=\"start\" x=\"711\" y=\"-321.8\" font-family=\"Helvetica,sans-Serif\" font-size=\"14.00\"> [INTEGER]</text>\n",
       "<polygon fill=\"none\" stroke=\"black\" points=\"646,-287 646,-312 940,-312 940,-287 646,-287\"/>\n",
       "<text text-anchor=\"start\" x=\"651\" y=\"-296.8\" font-family=\"Helvetica,sans-Serif\" font-size=\"14.00\">Auteur</text>\n",
       "<text text-anchor=\"start\" x=\"699\" y=\"-296.8\" font-family=\"Helvetica,sans-Serif\" font-size=\"14.00\"> [TEXT]</text>\n",
       "<polygon fill=\"none\" stroke=\"black\" points=\"646,-262 646,-287 940,-287 940,-262 646,-262\"/>\n",
       "<text text-anchor=\"start\" x=\"651\" y=\"-271.8\" font-family=\"Helvetica,sans-Serif\" font-size=\"14.00\">Date</text>\n",
       "<text text-anchor=\"start\" x=\"684\" y=\"-271.8\" font-family=\"Helvetica,sans-Serif\" font-size=\"14.00\"> [DATETIME]</text>\n",
       "<polygon fill=\"none\" stroke=\"black\" points=\"646,-237 646,-262 940,-262 940,-237 646,-237\"/>\n",
       "<text text-anchor=\"start\" x=\"651\" y=\"-246.8\" font-family=\"Helvetica,sans-Serif\" font-size=\"14.00\">Commentaire</text>\n",
       "<text text-anchor=\"start\" x=\"745\" y=\"-246.8\" font-family=\"Helvetica,sans-Serif\" font-size=\"14.00\"> [TEXT]</text>\n",
       "</g>\n",
       "<!-- Personnes -->\n",
       "<g id=\"node2\" class=\"node\">\n",
       "<title>Personnes</title>\n",
       "<polygon fill=\"none\" stroke=\"black\" points=\"384.5,-183 384.5,-211 489.5,-211 489.5,-183 384.5,-183\"/>\n",
       "<text text-anchor=\"start\" x=\"389.5\" y=\"-194.2\" font-family=\"Helvetica,sans-Serif\" font-weight=\"bold\" font-size=\"16.00\">Personnes</text>\n",
       "<polygon fill=\"none\" stroke=\"black\" points=\"384.5,-158 384.5,-183 489.5,-183 489.5,-158 384.5,-158\"/>\n",
       "<text text-anchor=\"start\" x=\"389.5\" y=\"-167.8\" font-family=\"Helvetica,sans-Serif\" text-decoration=\"underline\" font-size=\"14.00\">Nom</text>\n",
       "<text text-anchor=\"start\" x=\"422.5\" y=\"-167.8\" font-family=\"Helvetica,sans-Serif\" font-size=\"14.00\"> [TEXT]</text>\n",
       "</g>\n",
       "<!-- Personnes&#45;&#45;Descriptions_et_interpretations -->\n",
       "<g id=\"edge1\" class=\"edge\">\n",
       "<title>Personnes--Descriptions_et_interpretations</title>\n",
       "<path fill=\"none\" stroke=\"#7f7f7f\" stroke-dasharray=\"5,2\" d=\"M497.18,-202.17C518.68,-208.64 543.05,-216.3 565,-224 588.7,-232.31 613.6,-241.59 637.86,-250.96\"/>\n",
       "<text text-anchor=\"start\" x=\"596.86\" y=\"-239.76\" font-family=\"Times,serif\" font-size=\"14.00\">{0,1}</text>\n",
       "<text text-anchor=\"start\" x=\"497.18\" y=\"-190.97\" font-family=\"Times,serif\" font-size=\"14.00\">0..N</text>\n",
       "</g>\n",
       "<!-- Manipulations -->\n",
       "<g id=\"node3\" class=\"node\">\n",
       "<title>Manipulations</title>\n",
       "<polygon fill=\"none\" stroke=\"black\" points=\"712,-183 712,-211 875,-211 875,-183 712,-183\"/>\n",
       "<text text-anchor=\"start\" x=\"730\" y=\"-194.2\" font-family=\"Helvetica,sans-Serif\" font-weight=\"bold\" font-size=\"16.00\">Manipulations</text>\n",
       "<polygon fill=\"none\" stroke=\"black\" points=\"712,-158 712,-183 875,-183 875,-158 712,-158\"/>\n",
       "<text text-anchor=\"start\" x=\"717\" y=\"-167.8\" font-family=\"Helvetica,sans-Serif\" text-decoration=\"underline\" font-size=\"14.00\">NumManip</text>\n",
       "<text text-anchor=\"start\" x=\"793\" y=\"-167.8\" font-family=\"Helvetica,sans-Serif\" font-size=\"14.00\"> [INTEGER]</text>\n",
       "<polygon fill=\"none\" stroke=\"black\" points=\"712,-133 712,-158 875,-158 875,-133 712,-133\"/>\n",
       "<text text-anchor=\"start\" x=\"717\" y=\"-142.8\" font-family=\"Helvetica,sans-Serif\" font-size=\"14.00\">NumAbs</text>\n",
       "<text text-anchor=\"start\" x=\"777\" y=\"-142.8\" font-family=\"Helvetica,sans-Serif\" font-size=\"14.00\"> [INTEGER]</text>\n",
       "<polygon fill=\"none\" stroke=\"black\" points=\"712,-108 712,-133 875,-133 875,-108 712,-108\"/>\n",
       "<text text-anchor=\"start\" x=\"717\" y=\"-117.8\" font-family=\"Helvetica,sans-Serif\" font-size=\"14.00\">Operateur</text>\n",
       "<text text-anchor=\"start\" x=\"789\" y=\"-117.8\" font-family=\"Helvetica,sans-Serif\" font-size=\"14.00\"> [TEXT]</text>\n",
       "<polygon fill=\"none\" stroke=\"black\" points=\"712,-83 712,-108 875,-108 875,-83 712,-83\"/>\n",
       "<text text-anchor=\"start\" x=\"717\" y=\"-92.8\" font-family=\"Helvetica,sans-Serif\" font-size=\"14.00\">Procedure</text>\n",
       "<text text-anchor=\"start\" x=\"787\" y=\"-92.8\" font-family=\"Helvetica,sans-Serif\" font-size=\"14.00\"> [TEXT]</text>\n",
       "<polygon fill=\"none\" stroke=\"black\" points=\"712,-58 712,-83 875,-83 875,-58 712,-58\"/>\n",
       "<text text-anchor=\"start\" x=\"717\" y=\"-67.8\" font-family=\"Helvetica,sans-Serif\" font-size=\"14.00\">Date</text>\n",
       "<text text-anchor=\"start\" x=\"750\" y=\"-67.8\" font-family=\"Helvetica,sans-Serif\" font-size=\"14.00\"> [DATETIME]</text>\n",
       "<polygon fill=\"none\" stroke=\"black\" points=\"712,-33 712,-58 875,-58 875,-33 712,-33\"/>\n",
       "<text text-anchor=\"start\" x=\"717\" y=\"-42.8\" font-family=\"Helvetica,sans-Serif\" font-size=\"14.00\">Resultat</text>\n",
       "<text text-anchor=\"start\" x=\"775\" y=\"-42.8\" font-family=\"Helvetica,sans-Serif\" font-size=\"14.00\"> [TEXT]</text>\n",
       "</g>\n",
       "<!-- Personnes&#45;&#45;Manipulations -->\n",
       "<g id=\"edge2\" class=\"edge\">\n",
       "<title>Personnes--Manipulations</title>\n",
       "<path fill=\"none\" stroke=\"#7f7f7f\" stroke-dasharray=\"5,2\" d=\"M497.24,-174.38C553.67,-164.35 639.03,-149.18 703.39,-137.75\"/>\n",
       "<text text-anchor=\"start\" x=\"662.39\" y=\"-126.55\" font-family=\"Times,serif\" font-size=\"14.00\">{0,1}</text>\n",
       "<text text-anchor=\"start\" x=\"497.24\" y=\"-163.18\" font-family=\"Times,serif\" font-size=\"14.00\">0..N</text>\n",
       "</g>\n",
       "<!-- Echantillons -->\n",
       "<g id=\"node4\" class=\"node\">\n",
       "<title>Echantillons</title>\n",
       "<polygon fill=\"none\" stroke=\"black\" points=\"363.5,-362 363.5,-390 510.5,-390 510.5,-362 363.5,-362\"/>\n",
       "<text text-anchor=\"start\" x=\"382\" y=\"-373.2\" font-family=\"Helvetica,sans-Serif\" font-weight=\"bold\" font-size=\"16.00\">Echantillons</text>\n",
       "<polygon fill=\"none\" stroke=\"black\" points=\"363.5,-337 363.5,-362 510.5,-362 510.5,-337 363.5,-337\"/>\n",
       "<text text-anchor=\"start\" x=\"368.5\" y=\"-346.8\" font-family=\"Helvetica,sans-Serif\" text-decoration=\"underline\" font-size=\"14.00\">NumAbs</text>\n",
       "<text text-anchor=\"start\" x=\"428.5\" y=\"-346.8\" font-family=\"Helvetica,sans-Serif\" font-size=\"14.00\"> [INTEGER]</text>\n",
       "<polygon fill=\"none\" stroke=\"black\" points=\"363.5,-312 363.5,-337 510.5,-337 510.5,-312 363.5,-312\"/>\n",
       "<text text-anchor=\"start\" x=\"368.5\" y=\"-321.8\" font-family=\"Helvetica,sans-Serif\" font-size=\"14.00\">Origine</text>\n",
       "<text text-anchor=\"start\" x=\"420.5\" y=\"-321.8\" font-family=\"Helvetica,sans-Serif\" font-size=\"14.00\"> [TEXT]</text>\n",
       "<polygon fill=\"none\" stroke=\"black\" points=\"363.5,-287 363.5,-312 510.5,-312 510.5,-287 363.5,-287\"/>\n",
       "<text text-anchor=\"start\" x=\"368.5\" y=\"-296.8\" font-family=\"Helvetica,sans-Serif\" font-size=\"14.00\">NumTerrain</text>\n",
       "<text text-anchor=\"start\" x=\"450.5\" y=\"-296.8\" font-family=\"Helvetica,sans-Serif\" font-size=\"14.00\"> [TEXT]</text>\n",
       "<polygon fill=\"none\" stroke=\"black\" points=\"363.5,-262 363.5,-287 510.5,-287 510.5,-262 363.5,-262\"/>\n",
       "<text text-anchor=\"start\" x=\"368.5\" y=\"-271.8\" font-family=\"Helvetica,sans-Serif\" font-size=\"14.00\">Stockage</text>\n",
       "<text text-anchor=\"start\" x=\"432.5\" y=\"-271.8\" font-family=\"Helvetica,sans-Serif\" font-size=\"14.00\"> [TEXT]</text>\n",
       "<polygon fill=\"none\" stroke=\"black\" points=\"363.5,-237 363.5,-262 510.5,-262 510.5,-237 363.5,-237\"/>\n",
       "<text text-anchor=\"start\" x=\"368.5\" y=\"-246.8\" font-family=\"Helvetica,sans-Serif\" font-size=\"14.00\">Remarques</text>\n",
       "<text text-anchor=\"start\" x=\"448.5\" y=\"-246.8\" font-family=\"Helvetica,sans-Serif\" font-size=\"14.00\"> [TEXT]</text>\n",
       "</g>\n",
       "<!-- Echantillons&#45;&#45;Descriptions_et_interpretations -->\n",
       "<g id=\"edge3\" class=\"edge\">\n",
       "<title>Echantillons--Descriptions_et_interpretations</title>\n",
       "<path fill=\"none\" stroke=\"#7f7f7f\" stroke-dasharray=\"5,2\" d=\"M518.39,-314C553.84,-314 596.69,-314 637.84,-314\"/>\n",
       "<text text-anchor=\"start\" x=\"596.84\" y=\"-302.8\" font-family=\"Times,serif\" font-size=\"14.00\">{0,1}</text>\n",
       "<text text-anchor=\"start\" x=\"518.39\" y=\"-302.8\" font-family=\"Times,serif\" font-size=\"14.00\">0..N</text>\n",
       "</g>\n",
       "<!-- Echantillons&#45;&#45;Manipulations -->\n",
       "<g id=\"edge4\" class=\"edge\">\n",
       "<title>Echantillons--Manipulations</title>\n",
       "<path fill=\"none\" stroke=\"#7f7f7f\" stroke-dasharray=\"5,2\" d=\"M518.39,-270.19C573.56,-240.31 646.63,-200.73 703.38,-170\"/>\n",
       "<text text-anchor=\"start\" x=\"662.38\" y=\"-158.8\" font-family=\"Times,serif\" font-size=\"14.00\">{0,1}</text>\n",
       "<text text-anchor=\"start\" x=\"518.39\" y=\"-258.99\" font-family=\"Times,serif\" font-size=\"14.00\">0..N</text>\n",
       "</g>\n",
       "<!-- Lieux_de_prelevements -->\n",
       "<g id=\"node5\" class=\"node\">\n",
       "<title>Lieux_de_prelevements</title>\n",
       "<polygon fill=\"none\" stroke=\"black\" points=\"8.5,-350 8.5,-378 227.5,-378 227.5,-350 8.5,-350\"/>\n",
       "<text text-anchor=\"start\" x=\"13.5\" y=\"-361.2\" font-family=\"Helvetica,sans-Serif\" font-weight=\"bold\" font-size=\"16.00\">Lieux_de_prelevements</text>\n",
       "<polygon fill=\"none\" stroke=\"black\" points=\"8.5,-325 8.5,-350 227.5,-350 227.5,-325 8.5,-325\"/>\n",
       "<text text-anchor=\"start\" x=\"13.5\" y=\"-334.8\" font-family=\"Helvetica,sans-Serif\" text-decoration=\"underline\" font-size=\"14.00\">NomLieu</text>\n",
       "<text text-anchor=\"start\" x=\"74.5\" y=\"-334.8\" font-family=\"Helvetica,sans-Serif\" font-size=\"14.00\"> [TEXT]</text>\n",
       "<polygon fill=\"none\" stroke=\"black\" points=\"8.5,-300 8.5,-325 227.5,-325 227.5,-300 8.5,-300\"/>\n",
       "<text text-anchor=\"start\" x=\"13.5\" y=\"-309.8\" font-family=\"Helvetica,sans-Serif\" font-size=\"14.00\">XL72</text>\n",
       "<text text-anchor=\"start\" x=\"49.5\" y=\"-309.8\" font-family=\"Helvetica,sans-Serif\" font-size=\"14.00\"> [REAL]</text>\n",
       "<polygon fill=\"none\" stroke=\"black\" points=\"8.5,-275 8.5,-300 227.5,-300 227.5,-275 8.5,-275\"/>\n",
       "<text text-anchor=\"start\" x=\"13.5\" y=\"-284.8\" font-family=\"Helvetica,sans-Serif\" font-size=\"14.00\">YL72</text>\n",
       "<text text-anchor=\"start\" x=\"47.5\" y=\"-284.8\" font-family=\"Helvetica,sans-Serif\" font-size=\"14.00\"> [REAL]</text>\n",
       "<polygon fill=\"none\" stroke=\"black\" points=\"8.5,-250 8.5,-275 227.5,-275 227.5,-250 8.5,-250\"/>\n",
       "<text text-anchor=\"start\" x=\"13.5\" y=\"-259.8\" font-family=\"Helvetica,sans-Serif\" font-size=\"14.00\">Altitude</text>\n",
       "<text text-anchor=\"start\" x=\"68.5\" y=\"-259.8\" font-family=\"Helvetica,sans-Serif\" font-size=\"14.00\"> [REAL]</text>\n",
       "</g>\n",
       "<!-- Lieux_de_prelevements&#45;&#45;Echantillons -->\n",
       "<g id=\"edge5\" class=\"edge\">\n",
       "<title>Lieux_de_prelevements--Echantillons</title>\n",
       "<path fill=\"none\" stroke=\"#7f7f7f\" stroke-dasharray=\"5,2\" d=\"M235.19,-314C274.91,-314 318.4,-314 354.68,-314\"/>\n",
       "<text text-anchor=\"start\" x=\"313.68\" y=\"-302.8\" font-family=\"Times,serif\" font-size=\"14.00\">{0,1}</text>\n",
       "<text text-anchor=\"start\" x=\"235.19\" y=\"-302.8\" font-family=\"Times,serif\" font-size=\"14.00\">0..N</text>\n",
       "</g>\n",
       "<!-- Procedures -->\n",
       "<g id=\"node6\" class=\"node\">\n",
       "<title>Procedures</title>\n",
       "<polygon fill=\"none\" stroke=\"black\" points=\"316.5,-104 316.5,-132 557.5,-132 557.5,-104 316.5,-104\"/>\n",
       "<text text-anchor=\"start\" x=\"385.5\" y=\"-115.2\" font-family=\"Helvetica,sans-Serif\" font-weight=\"bold\" font-size=\"16.00\">Procedures</text>\n",
       "<polygon fill=\"none\" stroke=\"black\" points=\"316.5,-79 316.5,-104 557.5,-104 557.5,-79 316.5,-79\"/>\n",
       "<text text-anchor=\"start\" x=\"321.5\" y=\"-88.8\" font-family=\"Helvetica,sans-Serif\" text-decoration=\"underline\" font-size=\"14.00\">Nom</text>\n",
       "<text text-anchor=\"start\" x=\"354.5\" y=\"-88.8\" font-family=\"Helvetica,sans-Serif\" font-size=\"14.00\"> [TEXT]</text>\n",
       "<polygon fill=\"none\" stroke=\"black\" points=\"316.5,-54 316.5,-79 557.5,-79 557.5,-54 316.5,-54\"/>\n",
       "<text text-anchor=\"start\" x=\"321.5\" y=\"-63.8\" font-family=\"Helvetica,sans-Serif\" font-size=\"14.00\">Type_de_manipulation</text>\n",
       "<text text-anchor=\"start\" x=\"475.5\" y=\"-63.8\" font-family=\"Helvetica,sans-Serif\" font-size=\"14.00\"> [TEXT]</text>\n",
       "<polygon fill=\"none\" stroke=\"black\" points=\"316.5,-29 316.5,-54 557.5,-54 557.5,-29 316.5,-29\"/>\n",
       "<text text-anchor=\"start\" x=\"321.5\" y=\"-38.8\" font-family=\"Helvetica,sans-Serif\" font-size=\"14.00\">Equipement</text>\n",
       "<text text-anchor=\"start\" x=\"406.5\" y=\"-38.8\" font-family=\"Helvetica,sans-Serif\" font-size=\"14.00\"> [TEXT]</text>\n",
       "<polygon fill=\"none\" stroke=\"black\" points=\"316.5,-4 316.5,-29 557.5,-29 557.5,-4 316.5,-4\"/>\n",
       "<text text-anchor=\"start\" x=\"321.5\" y=\"-13.8\" font-family=\"Helvetica,sans-Serif\" font-size=\"14.00\">Description_de_procedure</text>\n",
       "<text text-anchor=\"start\" x=\"501.5\" y=\"-13.8\" font-family=\"Helvetica,sans-Serif\" font-size=\"14.00\"> [TEXT]</text>\n",
       "</g>\n",
       "<!-- Procedures&#45;&#45;Manipulations -->\n",
       "<g id=\"edge6\" class=\"edge\">\n",
       "<title>Procedures--Manipulations</title>\n",
       "<path fill=\"none\" stroke=\"#7f7f7f\" stroke-dasharray=\"5,2\" d=\"M565.23,-87.46C611.07,-94.44 661.7,-102.15 703.48,-108.52\"/>\n",
       "<text text-anchor=\"start\" x=\"662.48\" y=\"-97.32\" font-family=\"Times,serif\" font-size=\"14.00\">{0,1}</text>\n",
       "<text text-anchor=\"start\" x=\"565.23\" y=\"-76.26\" font-family=\"Times,serif\" font-size=\"14.00\">0..N</text>\n",
       "</g>\n",
       "</g>\n",
       "</svg>"
      ],
      "text/plain": [
       "<IPython.core.display.SVG object>"
      ]
     },
     "execution_count": 21,
     "metadata": {},
     "output_type": "execute_result"
    }
   ],
   "source": [
    "# @question\n",
    "render_er('sqlite:///echantillons_db.db', 'echantillons_db_schema.svg')\n",
    "SVG('echantillons_db_schema.svg')"
   ]
  },
  {
   "cell_type": "markdown",
   "metadata": {},
   "source": [
    "***\n",
    "## 3. Insertion de données dans la base de données"
   ]
  },
  {
   "cell_type": "markdown",
   "metadata": {},
   "source": [
    "<b>Note:</b><br>    Nous allons utiliser le \"package\" python pandas pour peupler les différentes tables à partir des fichiers *.csv fournis<br>\n",
    "    Le format csv signifie \"comma separated values\" ou valeurs séparées par des virgules. Vous pouvez visualiser le contenu des fichiers avec un éditeur de texte tel que gedit.\n"
   ]
  },
  {
   "cell_type": "markdown",
   "metadata": {},
   "source": [
    "Insertion des données dans la table \"Personnes\""
   ]
  },
  {
   "cell_type": "code",
   "execution_count": 22,
   "metadata": {},
   "outputs": [
    {
     "data": {
      "text/html": [
       "<div>\n",
       "<style scoped>\n",
       "    .dataframe tbody tr th:only-of-type {\n",
       "        vertical-align: middle;\n",
       "    }\n",
       "\n",
       "    .dataframe tbody tr th {\n",
       "        vertical-align: top;\n",
       "    }\n",
       "\n",
       "    .dataframe thead th {\n",
       "        text-align: right;\n",
       "    }\n",
       "</style>\n",
       "<table border=\"1\" class=\"dataframe\">\n",
       "  <thead>\n",
       "    <tr style=\"text-align: right;\">\n",
       "      <th></th>\n",
       "      <th>Nom</th>\n",
       "    </tr>\n",
       "  </thead>\n",
       "  <tbody>\n",
       "    <tr>\n",
       "      <th>0</th>\n",
       "      <td>Annick VANDENBERGHE</td>\n",
       "    </tr>\n",
       "    <tr>\n",
       "      <th>1</th>\n",
       "      <td>Brigitte PIERRARD</td>\n",
       "    </tr>\n",
       "    <tr>\n",
       "      <th>2</th>\n",
       "      <td>Olivier KAUFMANN</td>\n",
       "    </tr>\n",
       "    <tr>\n",
       "      <th>3</th>\n",
       "      <td>Yves QUINIF</td>\n",
       "    </tr>\n",
       "  </tbody>\n",
       "</table>\n",
       "</div>"
      ],
      "text/plain": [
       "                   Nom\n",
       "0  Annick VANDENBERGHE\n",
       "1    Brigitte PIERRARD\n",
       "2     Olivier KAUFMANN\n",
       "3          Yves QUINIF"
      ]
     },
     "execution_count": 22,
     "metadata": {},
     "output_type": "execute_result"
    }
   ],
   "source": [
    "df = pd.read_csv('Personnes.csv', sep=',')\n",
    "df"
   ]
  },
  {
   "cell_type": "code",
   "execution_count": 23,
   "metadata": {
    "scrolled": false
   },
   "outputs": [
    {
     "name": "stdout",
     "output_type": "stream",
     "text": [
      " * sqlite:///echantillons_db.db\n",
      "1 rows affected.\n",
      " * sqlite:///echantillons_db.db\n",
      "1 rows affected.\n",
      " * sqlite:///echantillons_db.db\n",
      "1 rows affected.\n",
      " * sqlite:///echantillons_db.db\n",
      "1 rows affected.\n"
     ]
    }
   ],
   "source": [
    "for idx, row in df.iterrows():\n",
    "    Nom=str(row['Nom'])\n",
    "    %sql INSERT INTO Personnes('Nom') VALUES(:Nom)"
   ]
  },
  {
   "cell_type": "markdown",
   "metadata": {},
   "source": [
    "<div class=\"alert alert-block alert-warning\">\n",
    "<b>Question: </b><br>Ajouter les données relatives aux échantillons aux lieux de prélèvement aux descriptions et interprétations aux manipulations et aux procédures.\n",
    "</div>"
   ]
  },
  {
   "cell_type": "markdown",
   "metadata": {},
   "source": [
    "<b>Note:</b><br>    Attention à l'ordre d'insertion de l'information compte tenu des relations entre tables.  \n"
   ]
  },
  {
   "cell_type": "code",
   "execution_count": 24,
   "metadata": {},
   "outputs": [
    {
     "name": "stdout",
     "output_type": "stream",
     "text": [
      "# @info: Exécutez-moi pour accéder à l'aide interactive\n"
     ]
    }
   ],
   "source": [
    "# @hidden\n",
    "sx=b'3c64697620636c6173733d22616c65727420616c6572742d626c6f636b20616c6572742d7761726e696e67223e0a09536920766f757320c3aa74726520626c6f7175c3a92865292c0a2020202020202020202020202020202020202020616666696368657a20756e6520736f6c7574696f6e20656e207072657373616e7420737572206c6520626f75746f6e2063692d646573736f75732e3c62723e0a095665696c6c657a20c3a0203c623e636f6d7072656e6472653c2f623e206c6120736f6c7574696f6e0a2020202020202020202020202020202020202020657420c3a0206c61207465737465722070617220766f75732d6dc3aa6d652e0a3c2f6469763e203c62723e0a0a3c627574746f6e20646174612d746f67676c653d22636f6c6c617073652220646174612d7461726765743d222372657665616c5f30303034223e0a20202020202020202020202020202020202020204166666963686572206c6520636f64653c2f627574746f6e3e0a3c6469762069643d2272657665616c5f303030342220636c6173733d22636f6c6c61707365223e0a3c62723e3c636f64653e6466203d2070642e726561645f63737628274c696575785f64655f7072656c6576656d656e74732e637376272c207365703d272c27293c62723e0a64660a3c2f636f64653e0a3c2f6469763e0a0a2020202020202020202020202020202020202020'\n",
    "HTML(codecs.decode(codecs.decode(sx,'hex'), 'utf8'))"
   ]
  },
  {
   "cell_type": "code",
   "execution_count": 25,
   "metadata": {
    "scrolled": false
   },
   "outputs": [
    {
     "name": "stdout",
     "output_type": "stream",
     "text": [
      "# @info: Exécutez-moi pour accéder à l'aide interactive\n"
     ]
    }
   ],
   "source": [
    "# @hidden\n",
    "sx=b'3c64697620636c6173733d22616c65727420616c6572742d626c6f636b20616c6572742d7761726e696e67223e0a09536920766f757320c3aa74726520626c6f7175c3a92865292c0a2020202020202020202020202020202020202020616666696368657a20756e6520736f6c7574696f6e20656e207072657373616e7420737572206c6520626f75746f6e2063692d646573736f75732e3c62723e0a095665696c6c657a20c3a0203c623e636f6d7072656e6472653c2f623e206c6120736f6c7574696f6e0a2020202020202020202020202020202020202020657420c3a0206c61207465737465722070617220766f75732d6dc3aa6d652e0a3c2f6469763e203c62723e0a0a3c627574746f6e20646174612d746f67676c653d22636f6c6c617073652220646174612d7461726765743d222372657665616c5f30303035223e0a20202020202020202020202020202020202020204166666963686572206c6520636f64653c2f627574746f6e3e0a3c6469762069643d2272657665616c5f303030352220636c6173733d22636f6c6c61707365223e0a3c62723e3c636f64653e666f72206964782c20726f7720696e2064662e69746572726f777328293a3c62723e0a202020204e6f6d4c6965753d73747228726f775b274e6f6d4c696575275d293c62723e0a20202020584c37323d73747228726f775b27584c3732275d293c62723e0a20202020594c37323d73747228726f775b27594c3732275d293c62723e0a20202020416c7469747564653d73747228726f775b27416c746974756465275d293c62723e0a202020202573716c20494e5345525420494e544f204c696575785f64655f7072656c6576656d656e747328274e6f6d4c696575272c27584c3732272c2027594c3732272c2027416c74697475646527292056414c554553283a4e6f6d4c6965752c203a584c37322c203a594c37322c203a416c746974756465290a3c2f636f64653e0a3c2f6469763e0a0a2020202020202020202020202020202020202020'\n",
    "HTML(codecs.decode(codecs.decode(sx,'hex'), 'utf8'))"
   ]
  },
  {
   "cell_type": "markdown",
   "metadata": {},
   "source": [
    "Echantillons"
   ]
  },
  {
   "cell_type": "code",
   "execution_count": 27,
   "metadata": {
    "scrolled": true
   },
   "outputs": [],
   "source": []
  },
  {
   "cell_type": "markdown",
   "metadata": {},
   "source": [
    "Descriptions_et_interpretations"
   ]
  },
  {
   "cell_type": "code",
   "execution_count": 29,
   "metadata": {},
   "outputs": [],
   "source": []
  },
  {
   "cell_type": "markdown",
   "metadata": {},
   "source": [
    "Procédures"
   ]
  },
  {
   "cell_type": "code",
   "execution_count": 31,
   "metadata": {},
   "outputs": [],
   "source": []
  },
  {
   "cell_type": "markdown",
   "metadata": {},
   "source": [
    "Manipulations"
   ]
  },
  {
   "cell_type": "code",
   "execution_count": 33,
   "metadata": {},
   "outputs": [],
   "source": []
  },
  {
   "cell_type": "markdown",
   "metadata": {},
   "source": [
    "***\n",
    "## 4. Pour aller un peu plus loin..."
   ]
  },
  {
   "cell_type": "markdown",
   "metadata": {},
   "source": [
    "<div class=\"alert alert-block alert-success\">\n",
    "\t<b>4.1 Récupérer le résultat d'une requête sql sur la BD dans un dataframe pandas</b>\n",
    "</div>"
   ]
  },
  {
   "cell_type": "markdown",
   "metadata": {},
   "source": [
    "<div class=\"alert alert-block alert-info\">\n",
    "<b>Info:</b><br>     Une requête sql créée avec l'extension ipython-sql retourne, par défaut, un objet de type 'sql.run.ResultSet'.\n",
    "</div>"
   ]
  },
  {
   "cell_type": "code",
   "execution_count": 34,
   "metadata": {},
   "outputs": [
    {
     "name": "stdout",
     "output_type": "stream",
     "text": [
      " * sqlite:///echantillons_db.db\n",
      "Done.\n"
     ]
    },
    {
     "data": {
      "text/html": [
       "<table>\n",
       "    <tr>\n",
       "        <th>NumManip</th>\n",
       "        <th>NumAbs</th>\n",
       "        <th>Operateur</th>\n",
       "        <th>Procedure</th>\n",
       "        <th>Date</th>\n",
       "        <th>Resultat</th>\n",
       "    </tr>\n",
       "    <tr>\n",
       "        <td>2</td>\n",
       "        <td>5814</td>\n",
       "        <td>Olivier KAUFMANN</td>\n",
       "        <td>PRELEV-00</td>\n",
       "        <td>2016/04/12 10:30:00.000</td>\n",
       "        <td>nan</td>\n",
       "    </tr>\n",
       "    <tr>\n",
       "        <td>3</td>\n",
       "        <td>5823</td>\n",
       "        <td>Yves QUINIF</td>\n",
       "        <td>PRELEV-00</td>\n",
       "        <td>2019/01/07 15:35:00.000</td>\n",
       "        <td>nan</td>\n",
       "    </tr>\n",
       "    <tr>\n",
       "        <td>4</td>\n",
       "        <td>5824</td>\n",
       "        <td>Olivier KAUFMANN</td>\n",
       "        <td>FORAGE-00</td>\n",
       "        <td>2019/01/21 13:50:00.000</td>\n",
       "        <td>nan</td>\n",
       "    </tr>\n",
       "    <tr>\n",
       "        <td>5</td>\n",
       "        <td>5814</td>\n",
       "        <td>Brigitte PIERRARD</td>\n",
       "        <td>GRANULO-00</td>\n",
       "        <td>2016/05/17 09:07:00.000</td>\n",
       "        <td>nan</td>\n",
       "    </tr>\n",
       "    <tr>\n",
       "        <td>6</td>\n",
       "        <td>5821</td>\n",
       "        <td>Yves QUINIF</td>\n",
       "        <td>PRELEV-00</td>\n",
       "        <td>2017/12/09 14:00:00.000</td>\n",
       "        <td>nan</td>\n",
       "    </tr>\n",
       "</table>"
      ],
      "text/plain": [
       "[(2, 5814, 'Olivier KAUFMANN', 'PRELEV-00', '2016/04/12 10:30:00.000', 'nan'),\n",
       " (3, 5823, 'Yves QUINIF', 'PRELEV-00', '2019/01/07 15:35:00.000', 'nan'),\n",
       " (4, 5824, 'Olivier KAUFMANN', 'FORAGE-00', '2019/01/21 13:50:00.000', 'nan'),\n",
       " (5, 5814, 'Brigitte PIERRARD', 'GRANULO-00', '2016/05/17 09:07:00.000', 'nan'),\n",
       " (6, 5821, 'Yves QUINIF', 'PRELEV-00', '2017/12/09 14:00:00.000', 'nan')]"
      ]
     },
     "execution_count": 34,
     "metadata": {},
     "output_type": "execute_result"
    }
   ],
   "source": [
    "%%sql\n",
    "SELECT * FROM Manipulations;"
   ]
  },
  {
   "cell_type": "markdown",
   "metadata": {},
   "source": [
    "<div class=\"alert alert-block alert-warning\">\n",
    "<b>Question: </b><br>Vérifiez le type du résultat de la requête précédente \n",
    "</div>"
   ]
  },
  {
   "cell_type": "markdown",
   "metadata": {},
   "source": [
    "<b>Note:</b><br>    La variable spéciale '_' contient la sortie de la dernière cellule exécutée.\n"
   ]
  },
  {
   "cell_type": "code",
   "execution_count": 35,
   "metadata": {},
   "outputs": [
    {
     "name": "stdout",
     "output_type": "stream",
     "text": [
      "# @info: Exécutez-moi pour accéder à l'aide interactive\n"
     ]
    }
   ],
   "source": [
    "# @hidden\n",
    "sx=b'3c64697620636c6173733d22616c65727420616c6572742d626c6f636b20616c6572742d7761726e696e67223e0a09536920766f757320c3aa74726520626c6f7175c3a92865292c0a2020202020202020202020202020202020202020616666696368657a20756e6520736f6c7574696f6e20656e207072657373616e7420737572206c6520626f75746f6e2063692d646573736f75732e3c62723e0a095665696c6c657a20c3a0203c623e636f6d7072656e6472653c2f623e206c6120736f6c7574696f6e0a2020202020202020202020202020202020202020657420c3a0206c61207465737465722070617220766f75732d6dc3aa6d652e0a3c2f6469763e203c62723e0a0a3c627574746f6e20646174612d746f67676c653d22636f6c6c617073652220646174612d7461726765743d222372657665616c5f30303036223e0a20202020202020202020202020202020202020204166666963686572206c6520636f64653c2f627574746f6e3e0a3c6469762069643d2272657665616c5f303030362220636c6173733d22636f6c6c61707365223e0a3c62723e3c636f64653e74797065285f290a3c2f636f64653e0a3c2f6469763e0a0a2020202020202020202020202020202020202020'\n",
    "HTML(codecs.decode(codecs.decode(sx,'hex'), 'utf8'))"
   ]
  },
  {
   "cell_type": "markdown",
   "metadata": {},
   "source": [
    "<div class=\"alert alert-block alert-info\">\n",
    "<b>Info:</b><br>     Il est possible de configuer ipython-sql pour obtenir directement un dataframe pandas en sortie d'une requête.\n",
    "</div>"
   ]
  },
  {
   "cell_type": "code",
   "execution_count": 36,
   "metadata": {},
   "outputs": [],
   "source": [
    "%config SqlMagic.autopandas=True"
   ]
  },
  {
   "cell_type": "code",
   "execution_count": 37,
   "metadata": {},
   "outputs": [
    {
     "name": "stdout",
     "output_type": "stream",
     "text": [
      " * sqlite:///echantillons_db.db\n",
      "Done.\n"
     ]
    },
    {
     "data": {
      "text/html": [
       "<div>\n",
       "<style scoped>\n",
       "    .dataframe tbody tr th:only-of-type {\n",
       "        vertical-align: middle;\n",
       "    }\n",
       "\n",
       "    .dataframe tbody tr th {\n",
       "        vertical-align: top;\n",
       "    }\n",
       "\n",
       "    .dataframe thead th {\n",
       "        text-align: right;\n",
       "    }\n",
       "</style>\n",
       "<table border=\"1\" class=\"dataframe\">\n",
       "  <thead>\n",
       "    <tr style=\"text-align: right;\">\n",
       "      <th></th>\n",
       "      <th>NumManip</th>\n",
       "      <th>NumAbs</th>\n",
       "      <th>Operateur</th>\n",
       "      <th>Procedure</th>\n",
       "      <th>Date</th>\n",
       "      <th>Resultat</th>\n",
       "    </tr>\n",
       "  </thead>\n",
       "  <tbody>\n",
       "    <tr>\n",
       "      <th>0</th>\n",
       "      <td>2</td>\n",
       "      <td>5814</td>\n",
       "      <td>Olivier KAUFMANN</td>\n",
       "      <td>PRELEV-00</td>\n",
       "      <td>2016/04/12 10:30:00.000</td>\n",
       "      <td>nan</td>\n",
       "    </tr>\n",
       "    <tr>\n",
       "      <th>1</th>\n",
       "      <td>3</td>\n",
       "      <td>5823</td>\n",
       "      <td>Yves QUINIF</td>\n",
       "      <td>PRELEV-00</td>\n",
       "      <td>2019/01/07 15:35:00.000</td>\n",
       "      <td>nan</td>\n",
       "    </tr>\n",
       "    <tr>\n",
       "      <th>2</th>\n",
       "      <td>4</td>\n",
       "      <td>5824</td>\n",
       "      <td>Olivier KAUFMANN</td>\n",
       "      <td>FORAGE-00</td>\n",
       "      <td>2019/01/21 13:50:00.000</td>\n",
       "      <td>nan</td>\n",
       "    </tr>\n",
       "    <tr>\n",
       "      <th>3</th>\n",
       "      <td>5</td>\n",
       "      <td>5814</td>\n",
       "      <td>Brigitte PIERRARD</td>\n",
       "      <td>GRANULO-00</td>\n",
       "      <td>2016/05/17 09:07:00.000</td>\n",
       "      <td>nan</td>\n",
       "    </tr>\n",
       "    <tr>\n",
       "      <th>4</th>\n",
       "      <td>6</td>\n",
       "      <td>5821</td>\n",
       "      <td>Yves QUINIF</td>\n",
       "      <td>PRELEV-00</td>\n",
       "      <td>2017/12/09 14:00:00.000</td>\n",
       "      <td>nan</td>\n",
       "    </tr>\n",
       "  </tbody>\n",
       "</table>\n",
       "</div>"
      ],
      "text/plain": [
       "   NumManip  NumAbs          Operateur   Procedure                     Date  \\\n",
       "0         2    5814   Olivier KAUFMANN   PRELEV-00  2016/04/12 10:30:00.000   \n",
       "1         3    5823        Yves QUINIF   PRELEV-00  2019/01/07 15:35:00.000   \n",
       "2         4    5824   Olivier KAUFMANN   FORAGE-00  2019/01/21 13:50:00.000   \n",
       "3         5    5814  Brigitte PIERRARD  GRANULO-00  2016/05/17 09:07:00.000   \n",
       "4         6    5821        Yves QUINIF   PRELEV-00  2017/12/09 14:00:00.000   \n",
       "\n",
       "  Resultat  \n",
       "0      nan  \n",
       "1      nan  \n",
       "2      nan  \n",
       "3      nan  \n",
       "4      nan  "
      ]
     },
     "execution_count": 37,
     "metadata": {},
     "output_type": "execute_result"
    }
   ],
   "source": [
    "%%sql\n",
    "SELECT * FROM Manipulations;"
   ]
  },
  {
   "cell_type": "markdown",
   "metadata": {},
   "source": [
    "<div class=\"alert alert-block alert-warning\">\n",
    "<b>Question: </b><br>Récupérez le résultat de la requête, vérifiez son type et affichez le dataframe.\n",
    "</div>"
   ]
  },
  {
   "cell_type": "code",
   "execution_count": 38,
   "metadata": {},
   "outputs": [
    {
     "name": "stdout",
     "output_type": "stream",
     "text": [
      "# @info: Exécutez-moi pour accéder à l'aide interactive\n"
     ]
    }
   ],
   "source": [
    "# @hidden\n",
    "sx=b'3c64697620636c6173733d22616c65727420616c6572742d626c6f636b20616c6572742d7761726e696e67223e0a09536920766f757320c3aa74726520626c6f7175c3a92865292c0a2020202020202020202020202020202020202020616666696368657a20756e6520736f6c7574696f6e20656e207072657373616e7420737572206c6520626f75746f6e2063692d646573736f75732e3c62723e0a095665696c6c657a20c3a0203c623e636f6d7072656e6472653c2f623e206c6120736f6c7574696f6e0a2020202020202020202020202020202020202020657420c3a0206c61207465737465722070617220766f75732d6dc3aa6d652e0a3c2f6469763e203c62723e0a0a3c627574746f6e20646174612d746f67676c653d22636f6c6c617073652220646174612d7461726765743d222372657665616c5f30303037223e0a20202020202020202020202020202020202020204166666963686572206c6520636f64653c2f627574746f6e3e0a3c6469762069643d2272657665616c5f303030372220636c6173733d22636f6c6c61707365223e0a3c62723e3c636f64653e6466203d205f3c62723e0a74797065286466290a3c2f636f64653e0a3c2f6469763e0a0a2020202020202020202020202020202020202020'\n",
    "HTML(codecs.decode(codecs.decode(sx,'hex'), 'utf8'))"
   ]
  },
  {
   "cell_type": "code",
   "execution_count": 39,
   "metadata": {},
   "outputs": [
    {
     "name": "stdout",
     "output_type": "stream",
     "text": [
      "# @info: Exécutez-moi pour accéder à l'aide interactive\n"
     ]
    }
   ],
   "source": [
    "# @hidden\n",
    "sx=b'3c64697620636c6173733d22616c65727420616c6572742d626c6f636b20616c6572742d7761726e696e67223e0a09536920766f757320c3aa74726520626c6f7175c3a92865292c0a2020202020202020202020202020202020202020616666696368657a20756e6520736f6c7574696f6e20656e207072657373616e7420737572206c6520626f75746f6e2063692d646573736f75732e3c62723e0a095665696c6c657a20c3a0203c623e636f6d7072656e6472653c2f623e206c6120736f6c7574696f6e0a2020202020202020202020202020202020202020657420c3a0206c61207465737465722070617220766f75732d6dc3aa6d652e0a3c2f6469763e203c62723e0a0a3c627574746f6e20646174612d746f67676c653d22636f6c6c617073652220646174612d7461726765743d222372657665616c5f30303038223e0a20202020202020202020202020202020202020204166666963686572206c6520636f64653c2f627574746f6e3e0a3c6469762069643d2272657665616c5f303030382220636c6173733d22636f6c6c61707365223e0a3c62723e3c636f64653e64660a3c2f636f64653e0a3c2f6469763e0a0a2020202020202020202020202020202020202020'\n",
    "HTML(codecs.decode(codecs.decode(sx,'hex'), 'utf8'))"
   ]
  }
 ],
 "metadata": {
  "kernelspec": {
   "display_name": "Python 3 (ipykernel)",
   "language": "python",
   "name": "python3"
  },
  "language_info": {
   "codemirror_mode": {
    "name": "ipython",
    "version": 3
   },
   "file_extension": ".py",
   "mimetype": "text/x-python",
   "name": "python",
   "nbconvert_exporter": "python",
   "pygments_lexer": "ipython3",
   "version": "3.8.10"
  }
 },
 "nbformat": 4,
 "nbformat_minor": 1
}
