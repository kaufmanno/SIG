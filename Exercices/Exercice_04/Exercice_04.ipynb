{
 "cells": [
  {
   "cell_type": "markdown",
   "metadata": {},
   "source": [
    "# Exercice 4: Systèmes de coordonnées et transformations avec QGIS\n",
    "O. Kaufmann 2023."
   ]
  },
  {
   "cell_type": "code",
   "execution_count": 1,
   "metadata": {},
   "outputs": [
    {
     "name": "stdout",
     "output_type": "stream",
     "text": [
      "# @info: Exécutez-moi pour cacher le code, puis sauvegardez le notebook\n"
     ]
    }
   ],
   "source": [
    "# @info: Exécutez-moi pour activer les questions interactives\n",
    "# -----------------------------------------------------------\n",
    "\n",
    "from IPython.display import HTML\n",
    "import codecs\n",
    "\n",
    "# @hidden\n",
    "HTML('''\n",
    "<script>\n",
    "code_show=true;\n",
    "function code_toggle() {\n",
    " if (code_show){\n",
    "  $('.cm-comment:contains(@hidden)').closest('div.input').hide();\n",
    " } else {\n",
    "  $('.cm-comment:contains(@hidden)').closest('div.input').show();\n",
    " }\n",
    " code_show = !code_show\n",
    "}\n",
    "$( document ).ready(code_toggle);\n",
    "</script>\n",
    "<div># @info: Exécutez-moi pour activer les questions interactives </div>\n",
    "''')"
   ]
  },
  {
   "cell_type": "markdown",
   "metadata": {},
   "source": [
    "***\n",
    "## 1. Préparation"
   ]
  },
  {
   "cell_type": "markdown",
   "metadata": {},
   "source": [
    "<div class=\"alert alert-block alert-info\">\n",
    "<b>Info:</b><br>     Cet exercice est à réaliser dans QGIS. Le notebook ne sert qu'à vous guider dans la réalisation de l'exercice. Lancez QGIS avant de continuer.\n",
    "</div>"
   ]
  },
  {
   "cell_type": "markdown",
   "metadata": {},
   "source": [
    "***\n",
    "## 2. Ouverture d'un projet"
   ]
  },
  {
   "cell_type": "markdown",
   "metadata": {},
   "source": [
    "### Ouvrez le projet Exercice_04.qgz. "
   ]
  },
  {
   "cell_type": "markdown",
   "metadata": {},
   "source": [
    "***\n",
    "## 3. Systèmes de coordonnées"
   ]
  },
  {
   "cell_type": "markdown",
   "metadata": {},
   "source": [
    "<div class=\"alert alert-block alert-success\">\n",
    "\t<b>3.1 Préliminaire</b>\n",
    "</div>"
   ]
  },
  {
   "cell_type": "markdown",
   "metadata": {},
   "source": [
    "<div class=\"alert alert-block alert-warning\">\n",
    "<b>Question: </b><br>Que représentent les couches chargées dans le projet?\n",
    "</div>"
   ]
  },
  {
   "cell_type": "markdown",
   "metadata": {},
   "source": [
    "<div class=\"alert alert-block alert-success\">\n",
    "\t<b>3.2 CRS d'un projet</b>\n",
    "</div>"
   ]
  },
  {
   "cell_type": "markdown",
   "metadata": {},
   "source": [
    "<b>Note:</b><br>    L'espace d'affichage de la carte d'un projet est configuré pour représenter les données ajoutées au projet dans un système de coordonnées.\n"
   ]
  },
  {
   "cell_type": "code",
   "execution_count": null,
   "metadata": {},
   "outputs": [
    {
     "name": "stdout",
     "output_type": "stream",
     "text": [
      "# @info: Exécutez-moi pour afficher la question interactive\n"
     ]
    }
   ],
   "source": [
    "# @hidden\n",
    "sx=b'3c64697620636c6173733d22616c65727420616c6572742d626c6f636b20616c6572742d7761726e696e67223e0a3c623e5175657374696f6e3a203c2f623e3c62723e44616e73207175656c2073797374c3a86d6520646520636f6f72646f6e6ec3a96573206573742072657072c3a973656e74c3a965206c6120636172746520c3a0206c276f75766572747572652064752070726f6a65743f0a202020200a0a3c2f6469763e203c62723e0a3c627574746f6e20646174612d746f67676c653d22636f6c6c61707365220a2020202020202020202020202020202020202020646174612d7461726765743d22237175657374696f6e5f30303031223e4166666963686572206c612072c3a9706f6e73653c2f627574746f6e3e0a0a3c6469762069643d227175657374696f6e5f30303031220a2020202020202020202020202020202020202020636c6173733d22636f6c6c61707365223e202020204c61206361727465206573742072657072c3a973656e74c3a9652064616e73206c652073797374c3a86d6520646520636f6f72646f6e6ec3a965732057475338342050736575646f2d4d65726361746f722028455053473a33383537290a3c2f6469763e0a'\n",
    "HTML(codecs.decode(codecs.decode(sx,'hex'), 'utf8'))"
   ]
  },
  {
   "cell_type": "code",
   "execution_count": null,
   "metadata": {},
   "outputs": [
    {
     "name": "stdout",
     "output_type": "stream",
     "text": [
      "# @info: Exécutez-moi pour afficher la question interactive\n"
     ]
    }
   ],
   "source": [
    "# @hidden\n",
    "sx=b'3c64697620636c6173733d22616c65727420616c6572742d626c6f636b20616c6572742d7761726e696e67223e0a3c623e5175657374696f6e3a203c2f623e3c62723e5265636865726368657a20737572206c61206361727465206c652042656666726f69206465204d6f6e7320657420646f6e6e657a20656e2073657320636f6f72646f6e6ec3a965732064616e73206c652073797374c3a86d6520646520636f6f72646f6e6ec3a965732064752070726f6a65740a0a0a3c2f6469763e203c62723e0a3c627574746f6e20646174612d746f67676c653d22636f6c6c61707365220a2020202020202020202020202020202020202020646174612d7461726765743d22237175657374696f6e5f30303032223e4166666963686572206c612072c3a9706f6e73653c2f627574746f6e3e0a0a3c6469762069643d227175657374696f6e5f30303032220a2020202020202020202020202020202020202020636c6173733d22636f6c6c61707365223e202020204c657320636f6f72646f6e6ec3a965732064752042656666726f692064616e73206c652073797374c3a86d6520455053473a3338353720736f6e7420617070726f78696d61746976656d656e7420343339373130206d2c2036353235323935206d2e0a3c2f6469763e0a'\n",
    "HTML(codecs.decode(codecs.decode(sx,'hex'), 'utf8'))"
   ]
  },
  {
   "cell_type": "markdown",
   "metadata": {},
   "source": [
    "<div class=\"alert alert-block alert-success\">\n",
    "\t<b>3.3 Systèmes de coordonnées des sources de données</b>\n",
    "</div>"
   ]
  },
  {
   "cell_type": "markdown",
   "metadata": {},
   "source": [
    "<div class=\"alert alert-block alert-info\">\n",
    "<b>Info:</b><br>     Les sources de données cartographiques que l'on souhaite utiliser dans un projet n'ont pas nécessairement toutes été produites dans le même système de coordonnées.\n",
    "</div>"
   ]
  },
  {
   "cell_type": "code",
   "execution_count": null,
   "metadata": {},
   "outputs": [
    {
     "name": "stdout",
     "output_type": "stream",
     "text": [
      "# @info: Exécutez-moi pour afficher la question interactive\n"
     ]
    }
   ],
   "source": [
    "# @hidden\n",
    "sx=b'3c64697620636c6173733d22616c65727420616c6572742d626c6f636b20616c6572742d7761726e696e67223e0a3c623e5175657374696f6e3a203c2f623e3c62723e5265636865726368657a2064616e73207175656c2873292043525320736f6e7420666f75726e696573206c657320646f6e6ec3a9657320696e73c3a972c3a965732064616e73206c652070726f6a65742e0a202020200a0a3c2f6469763e203c62723e0a3c627574746f6e20646174612d746f67676c653d22636f6c6c61707365220a2020202020202020202020202020202020202020646174612d7461726765743d22237175657374696f6e5f30303033223e4166666963686572206c612072c3a9706f6e73653c2f627574746f6e3e0a0a3c6469762069643d227175657374696f6e5f30303033220a2020202020202020202020202020202020202020636c6173733d22636f6c6c61707365223e20202020506f7572206c6520666f6e64206f70656e7374726565746d61702c206327657374206c65204352532057475338342050657375646f2d4d65726361746f722028455053473a33383537292e20506f7572206c6573206166666563746174696f6e7320617520706c616e2064652073656374657572206327657374206c6520435253204c616d626572742042656c676520313937322028455053473a3331333730292e0a3c2f6469763e0a'\n",
    "HTML(codecs.decode(codecs.decode(sx,'hex'), 'utf8'))"
   ]
  },
  {
   "cell_type": "markdown",
   "metadata": {},
   "source": [
    "<div class=\"alert alert-block alert-warning\">\n",
    "<b>Question: </b><br>Comment se fait-il que les données exprimées dans deux systèmes de coordonnées différents se superposent bien sur la carte?\n",
    "</div>"
   ]
  },
  {
   "cell_type": "markdown",
   "metadata": {},
   "source": [
    "<div class=\"alert alert-block alert-success\">\n",
    "\t<b>3.4 Changement de système de coordonnées</b>\n",
    "</div>"
   ]
  },
  {
   "cell_type": "markdown",
   "metadata": {},
   "source": [
    "<div class=\"alert alert-block alert-warning\">\n",
    "<b>Question: </b><br>Affichez la carte dans le système WGS84. Pourquoi le rapport d'aspect est-il modifié?\n",
    "</div>"
   ]
  },
  {
   "cell_type": "code",
   "execution_count": null,
   "metadata": {},
   "outputs": [
    {
     "name": "stdout",
     "output_type": "stream",
     "text": [
      "# @info: Exécutez-moi pour afficher la question interactive\n"
     ]
    }
   ],
   "source": [
    "# @hidden\n",
    "sx=b'3c64697620636c6173733d22616c65727420616c6572742d626c6f636b20616c6572742d7761726e696e67223e0a3c623e5175657374696f6e3a203c2f623e3c62723e5175656c6c657320736f6e74206c657320636f6f72646f6e6ec3a965732064752042656666726f69206465204d6f6e732064616e73206c652073797374c3a86d6520646520636f6f72646f6e6ec3a965732057475338343f0a0a0a3c2f6469763e203c62723e0a3c627574746f6e20646174612d746f67676c653d22636f6c6c61707365220a2020202020202020202020202020202020202020646174612d7461726765743d22237175657374696f6e5f30303036223e4166666963686572206c612072c3a9706f6e73653c2f627574746f6e3e0a0a3c6469762069643d227175657374696f6e5f30303036220a2020202020202020202020202020202020202020636c6173733d22636f6c6c61707365223e202020204c657320636f6f72646f6e6ec3a965732064752042656666726f692064616e73206c652073797374c3a86d6520455053473a3433323620736f6e7420617070726f78696d61746976656d656e7420332e3935c2b0452c2035302e34353431c2b04e2e0a3c2f6469763e0a'\n",
    "HTML(codecs.decode(codecs.decode(sx,'hex'), 'utf8'))"
   ]
  },
  {
   "cell_type": "code",
   "execution_count": null,
   "metadata": {},
   "outputs": [
    {
     "name": "stdout",
     "output_type": "stream",
     "text": [
      "# @info: Exécutez-moi pour afficher la question interactive\n"
     ]
    }
   ],
   "source": [
    "# @hidden\n",
    "sx=b'3c64697620636c6173733d22616c65727420616c6572742d626c6f636b20616c6572742d7761726e696e67223e0a3c623e5175657374696f6e3a203c2f623e3c62723e5175656c6c657320736f6e74206c657320636f6f72646f6e6ec3a965732064752042656666726f69206465204d6f6e732064616e73206c652073797374c3a86d6520646520636f6f72646f6e6ec3a96573204c616d626572742042656c676520313937323f0a0a0a3c2f6469763e203c62723e0a3c627574746f6e20646174612d746f67676c653d22636f6c6c61707365220a2020202020202020202020202020202020202020646174612d7461726765743d22237175657374696f6e5f30303037223e4166666963686572206c612072c3a9706f6e73653c2f627574746f6e3e0a0a3c6469762069643d227175657374696f6e5f30303037220a2020202020202020202020202020202020202020636c6173733d22636f6c6c61707365223e202020204c657320636f6f72646f6e6ec3a965732064752042656666726f692064616e73206c652073797374c3a86d6520455053473a333133373020736f6e7420617070726f78696d61746976656d656e7420313230363630206d2c20313237313135206d2e0a3c2f6469763e0a'\n",
    "HTML(codecs.decode(codecs.decode(sx,'hex'), 'utf8'))"
   ]
  }
 ],
 "metadata": {
  "kernelspec": {
   "display_name": "Python 3 (ipykernel)",
   "language": "python",
   "name": "python3"
  },
  "language_info": {
   "codemirror_mode": {
    "name": "ipython",
    "version": 3
   },
   "file_extension": ".py",
   "mimetype": "text/x-python",
   "name": "python",
   "nbconvert_exporter": "python",
   "pygments_lexer": "ipython3",
   "version": "3.8.10"
  }
 },
 "nbformat": 4,
 "nbformat_minor": 1
}
