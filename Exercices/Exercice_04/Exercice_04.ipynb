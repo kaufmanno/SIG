{
 "cells": [
  {
   "cell_type": "markdown",
   "metadata": {},
   "source": [
    "# Exercice 4: Modification de la BD pour gérer des échantillons de roche au laboratoire\n",
    "O. Kaufmann 2018, 2022"
   ]
  },
  {
   "cell_type": "code",
   "execution_count": 1,
   "metadata": {},
   "outputs": [
    {
     "name": "stdout",
     "output_type": "stream",
     "text": [
      "# @info: Exécutez-moi pour cacher le code, puis sauvegardez le notebook\n"
     ]
    }
   ],
   "source": [
    "# @info: Exécutez-moi pour activer les questions interactives\n",
    "# -----------------------------------------------------------\n",
    "\n",
    "from IPython.display import HTML\n",
    "import codecs\n",
    "\n",
    "# @hidden\n",
    "HTML('''\n",
    "<script>\n",
    "code_show=true;\n",
    "function code_toggle() {\n",
    " if (code_show){\n",
    "  $('.cm-comment:contains(@hidden)').closest('div.input').hide();\n",
    " } else {\n",
    "  $('.cm-comment:contains(@hidden)').closest('div.input').show();\n",
    " }\n",
    " code_show = !code_show\n",
    "}\n",
    "$( document ).ready(code_toggle);\n",
    "</script>\n",
    "<div># @info: Exécutez-moi pour activer les questions interactives </div>\n",
    "''')"
   ]
  },
  {
   "cell_type": "markdown",
   "metadata": {},
   "source": [
    "***\n",
    "## 1. Imports et préparation"
   ]
  },
  {
   "cell_type": "code",
   "execution_count": 2,
   "metadata": {},
   "outputs": [],
   "source": [
    "%load_ext sql"
   ]
  },
  {
   "cell_type": "code",
   "execution_count": 3,
   "metadata": {},
   "outputs": [],
   "source": [
    "import pandas as pd\n",
    "from eralchemy import render_er\n",
    "from IPython.display import SVG, HTML"
   ]
  },
  {
   "cell_type": "markdown",
   "metadata": {},
   "source": [
    "***\n",
    "## 2. Connexion à la base de données"
   ]
  },
  {
   "cell_type": "code",
   "execution_count": 4,
   "metadata": {},
   "outputs": [],
   "source": [
    "! rm echantillons_db_copy.db\n",
    "! cp echantillons_db.db echantillons_db_copy.db"
   ]
  },
  {
   "cell_type": "code",
   "execution_count": 5,
   "metadata": {},
   "outputs": [],
   "source": []
  },
  {
   "cell_type": "code",
   "execution_count": 6,
   "metadata": {},
   "outputs": [
    {
     "data": {
      "image/svg+xml": [
       "<svg xmlns=\"http://www.w3.org/2000/svg\" xmlns:xlink=\"http://www.w3.org/1999/xlink\" width=\"956pt\" height=\"403pt\" viewBox=\"0.00 0.00 956.00 402.50\">\n",
       "<g id=\"graph0\" class=\"graph\" transform=\"scale(1 1) rotate(0) translate(4 398.5)\">\n",
       "<title>%3</title>\n",
       "<polygon fill=\"white\" stroke=\"transparent\" points=\"-4,4 -4,-398.5 952,-398.5 952,4 -4,4\"/>\n",
       "<!-- Descriptions_et_interpretations -->\n",
       "<g id=\"node1\" class=\"node\">\n",
       "<title>Descriptions_et_interpretations</title>\n",
       "<polygon fill=\"none\" stroke=\"black\" points=\"646,-362 646,-390 940,-390 940,-362 646,-362\"/>\n",
       "<text text-anchor=\"start\" x=\"651\" y=\"-373.2\" font-family=\"Helvetica,sans-Serif\" font-weight=\"bold\" font-size=\"16.00\">Descriptions_et_interpretations</text>\n",
       "<polygon fill=\"none\" stroke=\"black\" points=\"646,-337 646,-362 940,-362 940,-337 646,-337\"/>\n",
       "<text text-anchor=\"start\" x=\"651\" y=\"-346.8\" font-family=\"Helvetica,sans-Serif\" text-decoration=\"underline\" font-size=\"14.00\">NumInterp</text>\n",
       "<text text-anchor=\"start\" x=\"727\" y=\"-346.8\" font-family=\"Helvetica,sans-Serif\" font-size=\"14.00\"> [INTEGER]</text>\n",
       "<polygon fill=\"none\" stroke=\"black\" points=\"646,-312 646,-337 940,-337 940,-312 646,-312\"/>\n",
       "<text text-anchor=\"start\" x=\"651\" y=\"-321.8\" font-family=\"Helvetica,sans-Serif\" font-size=\"14.00\">NumAbs</text>\n",
       "<text text-anchor=\"start\" x=\"711\" y=\"-321.8\" font-family=\"Helvetica,sans-Serif\" font-size=\"14.00\"> [INTEGER]</text>\n",
       "<polygon fill=\"none\" stroke=\"black\" points=\"646,-287 646,-312 940,-312 940,-287 646,-287\"/>\n",
       "<text text-anchor=\"start\" x=\"651\" y=\"-296.8\" font-family=\"Helvetica,sans-Serif\" font-size=\"14.00\">Auteur</text>\n",
       "<text text-anchor=\"start\" x=\"699\" y=\"-296.8\" font-family=\"Helvetica,sans-Serif\" font-size=\"14.00\"> [TEXT]</text>\n",
       "<polygon fill=\"none\" stroke=\"black\" points=\"646,-262 646,-287 940,-287 940,-262 646,-262\"/>\n",
       "<text text-anchor=\"start\" x=\"651\" y=\"-271.8\" font-family=\"Helvetica,sans-Serif\" font-size=\"14.00\">Date</text>\n",
       "<text text-anchor=\"start\" x=\"684\" y=\"-271.8\" font-family=\"Helvetica,sans-Serif\" font-size=\"14.00\"> [DATETIME]</text>\n",
       "<polygon fill=\"none\" stroke=\"black\" points=\"646,-237 646,-262 940,-262 940,-237 646,-237\"/>\n",
       "<text text-anchor=\"start\" x=\"651\" y=\"-246.8\" font-family=\"Helvetica,sans-Serif\" font-size=\"14.00\">Commentaire</text>\n",
       "<text text-anchor=\"start\" x=\"745\" y=\"-246.8\" font-family=\"Helvetica,sans-Serif\" font-size=\"14.00\"> [TEXT]</text>\n",
       "</g>\n",
       "<!-- Personnes -->\n",
       "<g id=\"node2\" class=\"node\">\n",
       "<title>Personnes</title>\n",
       "<polygon fill=\"none\" stroke=\"black\" points=\"384.5,-183 384.5,-211 489.5,-211 489.5,-183 384.5,-183\"/>\n",
       "<text text-anchor=\"start\" x=\"389.5\" y=\"-194.2\" font-family=\"Helvetica,sans-Serif\" font-weight=\"bold\" font-size=\"16.00\">Personnes</text>\n",
       "<polygon fill=\"none\" stroke=\"black\" points=\"384.5,-158 384.5,-183 489.5,-183 489.5,-158 384.5,-158\"/>\n",
       "<text text-anchor=\"start\" x=\"389.5\" y=\"-167.8\" font-family=\"Helvetica,sans-Serif\" text-decoration=\"underline\" font-size=\"14.00\">Nom</text>\n",
       "<text text-anchor=\"start\" x=\"422.5\" y=\"-167.8\" font-family=\"Helvetica,sans-Serif\" font-size=\"14.00\"> [TEXT]</text>\n",
       "</g>\n",
       "<!-- Personnes&#45;&#45;Descriptions_et_interpretations -->\n",
       "<g id=\"edge1\" class=\"edge\">\n",
       "<title>Personnes--Descriptions_et_interpretations</title>\n",
       "<path fill=\"none\" stroke=\"#7f7f7f\" stroke-dasharray=\"5,2\" d=\"M497.18,-202.17C518.68,-208.64 543.05,-216.3 565,-224 588.7,-232.31 613.6,-241.59 637.86,-250.96\"/>\n",
       "<text text-anchor=\"start\" x=\"596.86\" y=\"-239.76\" font-family=\"Times,serif\" font-size=\"14.00\">{0,1}</text>\n",
       "<text text-anchor=\"start\" x=\"497.18\" y=\"-190.97\" font-family=\"Times,serif\" font-size=\"14.00\">0..N</text>\n",
       "</g>\n",
       "<!-- Manipulations -->\n",
       "<g id=\"node3\" class=\"node\">\n",
       "<title>Manipulations</title>\n",
       "<polygon fill=\"none\" stroke=\"black\" points=\"712,-183 712,-211 875,-211 875,-183 712,-183\"/>\n",
       "<text text-anchor=\"start\" x=\"730\" y=\"-194.2\" font-family=\"Helvetica,sans-Serif\" font-weight=\"bold\" font-size=\"16.00\">Manipulations</text>\n",
       "<polygon fill=\"none\" stroke=\"black\" points=\"712,-158 712,-183 875,-183 875,-158 712,-158\"/>\n",
       "<text text-anchor=\"start\" x=\"717\" y=\"-167.8\" font-family=\"Helvetica,sans-Serif\" text-decoration=\"underline\" font-size=\"14.00\">NumManip</text>\n",
       "<text text-anchor=\"start\" x=\"793\" y=\"-167.8\" font-family=\"Helvetica,sans-Serif\" font-size=\"14.00\"> [INTEGER]</text>\n",
       "<polygon fill=\"none\" stroke=\"black\" points=\"712,-133 712,-158 875,-158 875,-133 712,-133\"/>\n",
       "<text text-anchor=\"start\" x=\"717\" y=\"-142.8\" font-family=\"Helvetica,sans-Serif\" font-size=\"14.00\">NumAbs</text>\n",
       "<text text-anchor=\"start\" x=\"777\" y=\"-142.8\" font-family=\"Helvetica,sans-Serif\" font-size=\"14.00\"> [INTEGER]</text>\n",
       "<polygon fill=\"none\" stroke=\"black\" points=\"712,-108 712,-133 875,-133 875,-108 712,-108\"/>\n",
       "<text text-anchor=\"start\" x=\"717\" y=\"-117.8\" font-family=\"Helvetica,sans-Serif\" font-size=\"14.00\">Operateur</text>\n",
       "<text text-anchor=\"start\" x=\"789\" y=\"-117.8\" font-family=\"Helvetica,sans-Serif\" font-size=\"14.00\"> [TEXT]</text>\n",
       "<polygon fill=\"none\" stroke=\"black\" points=\"712,-83 712,-108 875,-108 875,-83 712,-83\"/>\n",
       "<text text-anchor=\"start\" x=\"717\" y=\"-92.8\" font-family=\"Helvetica,sans-Serif\" font-size=\"14.00\">Procedure</text>\n",
       "<text text-anchor=\"start\" x=\"787\" y=\"-92.8\" font-family=\"Helvetica,sans-Serif\" font-size=\"14.00\"> [TEXT]</text>\n",
       "<polygon fill=\"none\" stroke=\"black\" points=\"712,-58 712,-83 875,-83 875,-58 712,-58\"/>\n",
       "<text text-anchor=\"start\" x=\"717\" y=\"-67.8\" font-family=\"Helvetica,sans-Serif\" font-size=\"14.00\">Date</text>\n",
       "<text text-anchor=\"start\" x=\"750\" y=\"-67.8\" font-family=\"Helvetica,sans-Serif\" font-size=\"14.00\"> [DATETIME]</text>\n",
       "<polygon fill=\"none\" stroke=\"black\" points=\"712,-33 712,-58 875,-58 875,-33 712,-33\"/>\n",
       "<text text-anchor=\"start\" x=\"717\" y=\"-42.8\" font-family=\"Helvetica,sans-Serif\" font-size=\"14.00\">Resultat</text>\n",
       "<text text-anchor=\"start\" x=\"775\" y=\"-42.8\" font-family=\"Helvetica,sans-Serif\" font-size=\"14.00\"> [TEXT]</text>\n",
       "</g>\n",
       "<!-- Personnes&#45;&#45;Manipulations -->\n",
       "<g id=\"edge2\" class=\"edge\">\n",
       "<title>Personnes--Manipulations</title>\n",
       "<path fill=\"none\" stroke=\"#7f7f7f\" stroke-dasharray=\"5,2\" d=\"M497.24,-174.38C553.67,-164.35 639.03,-149.18 703.39,-137.75\"/>\n",
       "<text text-anchor=\"start\" x=\"662.39\" y=\"-126.55\" font-family=\"Times,serif\" font-size=\"14.00\">{0,1}</text>\n",
       "<text text-anchor=\"start\" x=\"497.24\" y=\"-163.18\" font-family=\"Times,serif\" font-size=\"14.00\">0..N</text>\n",
       "</g>\n",
       "<!-- Echantillons -->\n",
       "<g id=\"node4\" class=\"node\">\n",
       "<title>Echantillons</title>\n",
       "<polygon fill=\"none\" stroke=\"black\" points=\"363.5,-362 363.5,-390 510.5,-390 510.5,-362 363.5,-362\"/>\n",
       "<text text-anchor=\"start\" x=\"382\" y=\"-373.2\" font-family=\"Helvetica,sans-Serif\" font-weight=\"bold\" font-size=\"16.00\">Echantillons</text>\n",
       "<polygon fill=\"none\" stroke=\"black\" points=\"363.5,-337 363.5,-362 510.5,-362 510.5,-337 363.5,-337\"/>\n",
       "<text text-anchor=\"start\" x=\"368.5\" y=\"-346.8\" font-family=\"Helvetica,sans-Serif\" text-decoration=\"underline\" font-size=\"14.00\">NumAbs</text>\n",
       "<text text-anchor=\"start\" x=\"428.5\" y=\"-346.8\" font-family=\"Helvetica,sans-Serif\" font-size=\"14.00\"> [INTEGER]</text>\n",
       "<polygon fill=\"none\" stroke=\"black\" points=\"363.5,-312 363.5,-337 510.5,-337 510.5,-312 363.5,-312\"/>\n",
       "<text text-anchor=\"start\" x=\"368.5\" y=\"-321.8\" font-family=\"Helvetica,sans-Serif\" font-size=\"14.00\">Origine</text>\n",
       "<text text-anchor=\"start\" x=\"420.5\" y=\"-321.8\" font-family=\"Helvetica,sans-Serif\" font-size=\"14.00\"> [TEXT]</text>\n",
       "<polygon fill=\"none\" stroke=\"black\" points=\"363.5,-287 363.5,-312 510.5,-312 510.5,-287 363.5,-287\"/>\n",
       "<text text-anchor=\"start\" x=\"368.5\" y=\"-296.8\" font-family=\"Helvetica,sans-Serif\" font-size=\"14.00\">NumTerrain</text>\n",
       "<text text-anchor=\"start\" x=\"450.5\" y=\"-296.8\" font-family=\"Helvetica,sans-Serif\" font-size=\"14.00\"> [TEXT]</text>\n",
       "<polygon fill=\"none\" stroke=\"black\" points=\"363.5,-262 363.5,-287 510.5,-287 510.5,-262 363.5,-262\"/>\n",
       "<text text-anchor=\"start\" x=\"368.5\" y=\"-271.8\" font-family=\"Helvetica,sans-Serif\" font-size=\"14.00\">Stockage</text>\n",
       "<text text-anchor=\"start\" x=\"432.5\" y=\"-271.8\" font-family=\"Helvetica,sans-Serif\" font-size=\"14.00\"> [TEXT]</text>\n",
       "<polygon fill=\"none\" stroke=\"black\" points=\"363.5,-237 363.5,-262 510.5,-262 510.5,-237 363.5,-237\"/>\n",
       "<text text-anchor=\"start\" x=\"368.5\" y=\"-246.8\" font-family=\"Helvetica,sans-Serif\" font-size=\"14.00\">Remarques</text>\n",
       "<text text-anchor=\"start\" x=\"448.5\" y=\"-246.8\" font-family=\"Helvetica,sans-Serif\" font-size=\"14.00\"> [TEXT]</text>\n",
       "</g>\n",
       "<!-- Echantillons&#45;&#45;Descriptions_et_interpretations -->\n",
       "<g id=\"edge3\" class=\"edge\">\n",
       "<title>Echantillons--Descriptions_et_interpretations</title>\n",
       "<path fill=\"none\" stroke=\"#7f7f7f\" stroke-dasharray=\"5,2\" d=\"M518.39,-314C553.84,-314 596.69,-314 637.84,-314\"/>\n",
       "<text text-anchor=\"start\" x=\"596.84\" y=\"-302.8\" font-family=\"Times,serif\" font-size=\"14.00\">{0,1}</text>\n",
       "<text text-anchor=\"start\" x=\"518.39\" y=\"-302.8\" font-family=\"Times,serif\" font-size=\"14.00\">0..N</text>\n",
       "</g>\n",
       "<!-- Echantillons&#45;&#45;Manipulations -->\n",
       "<g id=\"edge4\" class=\"edge\">\n",
       "<title>Echantillons--Manipulations</title>\n",
       "<path fill=\"none\" stroke=\"#7f7f7f\" stroke-dasharray=\"5,2\" d=\"M518.39,-270.19C573.56,-240.31 646.63,-200.73 703.38,-170\"/>\n",
       "<text text-anchor=\"start\" x=\"662.38\" y=\"-158.8\" font-family=\"Times,serif\" font-size=\"14.00\">{0,1}</text>\n",
       "<text text-anchor=\"start\" x=\"518.39\" y=\"-258.99\" font-family=\"Times,serif\" font-size=\"14.00\">0..N</text>\n",
       "</g>\n",
       "<!-- Lieux_de_prelevements -->\n",
       "<g id=\"node5\" class=\"node\">\n",
       "<title>Lieux_de_prelevements</title>\n",
       "<polygon fill=\"none\" stroke=\"black\" points=\"8.5,-350 8.5,-378 227.5,-378 227.5,-350 8.5,-350\"/>\n",
       "<text text-anchor=\"start\" x=\"13.5\" y=\"-361.2\" font-family=\"Helvetica,sans-Serif\" font-weight=\"bold\" font-size=\"16.00\">Lieux_de_prelevements</text>\n",
       "<polygon fill=\"none\" stroke=\"black\" points=\"8.5,-325 8.5,-350 227.5,-350 227.5,-325 8.5,-325\"/>\n",
       "<text text-anchor=\"start\" x=\"13.5\" y=\"-334.8\" font-family=\"Helvetica,sans-Serif\" text-decoration=\"underline\" font-size=\"14.00\">NomLieu</text>\n",
       "<text text-anchor=\"start\" x=\"74.5\" y=\"-334.8\" font-family=\"Helvetica,sans-Serif\" font-size=\"14.00\"> [TEXT]</text>\n",
       "<polygon fill=\"none\" stroke=\"black\" points=\"8.5,-300 8.5,-325 227.5,-325 227.5,-300 8.5,-300\"/>\n",
       "<text text-anchor=\"start\" x=\"13.5\" y=\"-309.8\" font-family=\"Helvetica,sans-Serif\" font-size=\"14.00\">XL72</text>\n",
       "<text text-anchor=\"start\" x=\"49.5\" y=\"-309.8\" font-family=\"Helvetica,sans-Serif\" font-size=\"14.00\"> [REAL]</text>\n",
       "<polygon fill=\"none\" stroke=\"black\" points=\"8.5,-275 8.5,-300 227.5,-300 227.5,-275 8.5,-275\"/>\n",
       "<text text-anchor=\"start\" x=\"13.5\" y=\"-284.8\" font-family=\"Helvetica,sans-Serif\" font-size=\"14.00\">YL72</text>\n",
       "<text text-anchor=\"start\" x=\"47.5\" y=\"-284.8\" font-family=\"Helvetica,sans-Serif\" font-size=\"14.00\"> [REAL]</text>\n",
       "<polygon fill=\"none\" stroke=\"black\" points=\"8.5,-250 8.5,-275 227.5,-275 227.5,-250 8.5,-250\"/>\n",
       "<text text-anchor=\"start\" x=\"13.5\" y=\"-259.8\" font-family=\"Helvetica,sans-Serif\" font-size=\"14.00\">Altitude</text>\n",
       "<text text-anchor=\"start\" x=\"68.5\" y=\"-259.8\" font-family=\"Helvetica,sans-Serif\" font-size=\"14.00\"> [REAL]</text>\n",
       "</g>\n",
       "<!-- Lieux_de_prelevements&#45;&#45;Echantillons -->\n",
       "<g id=\"edge5\" class=\"edge\">\n",
       "<title>Lieux_de_prelevements--Echantillons</title>\n",
       "<path fill=\"none\" stroke=\"#7f7f7f\" stroke-dasharray=\"5,2\" d=\"M235.19,-314C274.91,-314 318.4,-314 354.68,-314\"/>\n",
       "<text text-anchor=\"start\" x=\"313.68\" y=\"-302.8\" font-family=\"Times,serif\" font-size=\"14.00\">{0,1}</text>\n",
       "<text text-anchor=\"start\" x=\"235.19\" y=\"-302.8\" font-family=\"Times,serif\" font-size=\"14.00\">0..N</text>\n",
       "</g>\n",
       "<!-- Procedures -->\n",
       "<g id=\"node6\" class=\"node\">\n",
       "<title>Procedures</title>\n",
       "<polygon fill=\"none\" stroke=\"black\" points=\"316.5,-104 316.5,-132 557.5,-132 557.5,-104 316.5,-104\"/>\n",
       "<text text-anchor=\"start\" x=\"385.5\" y=\"-115.2\" font-family=\"Helvetica,sans-Serif\" font-weight=\"bold\" font-size=\"16.00\">Procedures</text>\n",
       "<polygon fill=\"none\" stroke=\"black\" points=\"316.5,-79 316.5,-104 557.5,-104 557.5,-79 316.5,-79\"/>\n",
       "<text text-anchor=\"start\" x=\"321.5\" y=\"-88.8\" font-family=\"Helvetica,sans-Serif\" text-decoration=\"underline\" font-size=\"14.00\">Nom</text>\n",
       "<text text-anchor=\"start\" x=\"354.5\" y=\"-88.8\" font-family=\"Helvetica,sans-Serif\" font-size=\"14.00\"> [TEXT]</text>\n",
       "<polygon fill=\"none\" stroke=\"black\" points=\"316.5,-54 316.5,-79 557.5,-79 557.5,-54 316.5,-54\"/>\n",
       "<text text-anchor=\"start\" x=\"321.5\" y=\"-63.8\" font-family=\"Helvetica,sans-Serif\" font-size=\"14.00\">Type_de_manipulation</text>\n",
       "<text text-anchor=\"start\" x=\"475.5\" y=\"-63.8\" font-family=\"Helvetica,sans-Serif\" font-size=\"14.00\"> [TEXT]</text>\n",
       "<polygon fill=\"none\" stroke=\"black\" points=\"316.5,-29 316.5,-54 557.5,-54 557.5,-29 316.5,-29\"/>\n",
       "<text text-anchor=\"start\" x=\"321.5\" y=\"-38.8\" font-family=\"Helvetica,sans-Serif\" font-size=\"14.00\">Equipement</text>\n",
       "<text text-anchor=\"start\" x=\"406.5\" y=\"-38.8\" font-family=\"Helvetica,sans-Serif\" font-size=\"14.00\"> [TEXT]</text>\n",
       "<polygon fill=\"none\" stroke=\"black\" points=\"316.5,-4 316.5,-29 557.5,-29 557.5,-4 316.5,-4\"/>\n",
       "<text text-anchor=\"start\" x=\"321.5\" y=\"-13.8\" font-family=\"Helvetica,sans-Serif\" font-size=\"14.00\">Description_de_procedure</text>\n",
       "<text text-anchor=\"start\" x=\"501.5\" y=\"-13.8\" font-family=\"Helvetica,sans-Serif\" font-size=\"14.00\"> [TEXT]</text>\n",
       "</g>\n",
       "<!-- Procedures&#45;&#45;Manipulations -->\n",
       "<g id=\"edge6\" class=\"edge\">\n",
       "<title>Procedures--Manipulations</title>\n",
       "<path fill=\"none\" stroke=\"#7f7f7f\" stroke-dasharray=\"5,2\" d=\"M565.23,-87.46C611.07,-94.44 661.7,-102.15 703.48,-108.52\"/>\n",
       "<text text-anchor=\"start\" x=\"662.48\" y=\"-97.32\" font-family=\"Times,serif\" font-size=\"14.00\">{0,1}</text>\n",
       "<text text-anchor=\"start\" x=\"565.23\" y=\"-76.26\" font-family=\"Times,serif\" font-size=\"14.00\">0..N</text>\n",
       "</g>\n",
       "</g>\n",
       "</svg>"
      ],
      "text/plain": [
       "<IPython.core.display.SVG object>"
      ]
     },
     "execution_count": 6,
     "metadata": {},
     "output_type": "execute_result"
    }
   ],
   "source": [
    "render_er('sqlite:///echantillons_db.db', 'echantillons_db_schema.svg')\n",
    "SVG('echantillons_db_schema.svg')"
   ]
  },
  {
   "cell_type": "markdown",
   "metadata": {},
   "source": [
    "***\n",
    "## 3. Modifications de la base de données"
   ]
  },
  {
   "cell_type": "markdown",
   "metadata": {},
   "source": [
    "<div class=\"alert alert-block alert-warning\">\n",
    "<b>Question: </b><br>Les personnes qui manipulent les échantillons ont des rôles différents : technicien, chercheur, étudiant...  \n",
    "    Insérez cette information dans la structure de la base de données.\n",
    "</div>"
   ]
  },
  {
   "cell_type": "markdown",
   "metadata": {},
   "source": [
    "<b>Note:</b><br>    Utiliser <code>ALTER TABLE</code>.  \n"
   ]
  },
  {
   "cell_type": "code",
   "execution_count": 7,
   "metadata": {},
   "outputs": [
    {
     "name": "stdout",
     "output_type": "stream",
     "text": [
      "# @info: Exécutez-moi pour accéder à l'aide interactive\n"
     ]
    }
   ],
   "source": [
    "# @hidden\n",
    "sx=b'3c64697620636c6173733d22616c65727420616c6572742d626c6f636b20616c6572742d7761726e696e67223e0a09536920766f757320c3aa74726520626c6f7175c3a92865292c0a2020202020202020202020202020202020202020616666696368657a20756e6520736f6c7574696f6e20656e207072657373616e7420737572206c6520626f75746f6e2063692d646573736f75732e3c62723e0a095665696c6c657a20c3a0203c623e636f6d7072656e6472653c2f623e206c6120736f6c7574696f6e0a2020202020202020202020202020202020202020657420c3a0206c61207465737465722070617220766f75732d6dc3aa6d652e0a3c2f6469763e203c62723e0a0a3c627574746f6e20646174612d746f67676c653d22636f6c6c617073652220646174612d7461726765743d222372657665616c5f30303030223e0a20202020202020202020202020202020202020204166666963686572206c6520636f64653c2f627574746f6e3e0a3c6469762069643d2272657665616c5f303030302220636c6173733d22636f6c6c61707365223e0a3c62723e3c636f64653e2573716c20414c544552205441424c4520506572736f6e6e65732041444420526f6c6520544558543b0a3c2f636f64653e0a3c2f6469763e0a0a2020202020202020202020202020202020202020'\n",
    "HTML(codecs.decode(codecs.decode(sx,'hex'), 'utf8'))"
   ]
  },
  {
   "cell_type": "markdown",
   "metadata": {},
   "source": [
    "<div class=\"alert alert-block alert-warning\">\n",
    "<b>Question: </b><br>Vérifiez que la modification s'est bien effectuée.\n",
    "</div>"
   ]
  },
  {
   "cell_type": "code",
   "execution_count": 8,
   "metadata": {},
   "outputs": [
    {
     "name": "stdout",
     "output_type": "stream",
     "text": [
      "# @info: Exécutez-moi pour accéder à l'aide interactive\n"
     ]
    }
   ],
   "source": [
    "# @hidden\n",
    "sx=b'3c64697620636c6173733d22616c65727420616c6572742d626c6f636b20616c6572742d7761726e696e67223e0a09536920766f757320c3aa74726520626c6f7175c3a92865292c0a2020202020202020202020202020202020202020616666696368657a20756e6520736f6c7574696f6e20656e207072657373616e7420737572206c6520626f75746f6e2063692d646573736f75732e3c62723e0a095665696c6c657a20c3a0203c623e636f6d7072656e6472653c2f623e206c6120736f6c7574696f6e0a2020202020202020202020202020202020202020657420c3a0206c61207465737465722070617220766f75732d6dc3aa6d652e0a3c2f6469763e203c62723e0a0a3c627574746f6e20646174612d746f67676c653d22636f6c6c617073652220646174612d7461726765743d222372657665616c5f30303031223e0a20202020202020202020202020202020202020204166666963686572206c6520636f64653c2f627574746f6e3e0a3c6469762069643d2272657665616c5f303030312220636c6173733d22636f6c6c61707365223e0a3c62723e3c636f64653e6f7574203d202573716c20505241474d41207461626c655f696e666f28506572736f6e6e6573293b3c62723e0a64665f6669656c6473203d206f75742e446174614672616d6528293c62723e0a64665f6669656c64730a3c2f636f64653e0a3c2f6469763e0a0a2020202020202020202020202020202020202020'\n",
    "HTML(codecs.decode(codecs.decode(sx,'hex'), 'utf8'))"
   ]
  },
  {
   "cell_type": "markdown",
   "metadata": {},
   "source": [
    "<div class=\"alert alert-block alert-warning\">\n",
    "<b>Question: </b><br>Associer aux personnes suivantes les rôles suivants : <br> \n",
    "    Annick VANDENBERGHE et Brigitte PIERRARD : technicien, <br>\n",
    "    Yves QUINIF et Olivier KAUFMANN : chercheur.\n",
    "</div>"
   ]
  },
  {
   "cell_type": "code",
   "execution_count": 9,
   "metadata": {},
   "outputs": [
    {
     "name": "stdout",
     "output_type": "stream",
     "text": [
      "# @info: Exécutez-moi pour accéder à l'aide interactive\n"
     ]
    }
   ],
   "source": [
    "# @hidden\n",
    "sx=b'3c64697620636c6173733d22616c65727420616c6572742d626c6f636b20616c6572742d7761726e696e67223e0a09536920766f757320c3aa74726520626c6f7175c3a92865292c0a2020202020202020202020202020202020202020616666696368657a20756e6520736f6c7574696f6e20656e207072657373616e7420737572206c6520626f75746f6e2063692d646573736f75732e3c62723e0a095665696c6c657a20c3a0203c623e636f6d7072656e6472653c2f623e206c6120736f6c7574696f6e0a2020202020202020202020202020202020202020657420c3a0206c61207465737465722070617220766f75732d6dc3aa6d652e0a3c2f6469763e203c62723e0a0a3c627574746f6e20646174612d746f67676c653d22636f6c6c617073652220646174612d7461726765743d222372657665616c5f30303032223e0a20202020202020202020202020202020202020204166666963686572206c6520636f64653c2f627574746f6e3e0a3c6469762069643d2272657665616c5f303030322220636c6173733d22636f6c6c61707365223e0a3c62723e3c636f64653e2573716c2055504441544520506572736f6e6e65732053455420526f6c65203d2027546563686e696369656e27205748455245204e6f6d203d2027416e6e69636b2056414e44454e42455247484527204f52204e6f6d203d20274272696769747465205049455252415244273b0a3c2f636f64653e0a3c2f6469763e0a0a2020202020202020202020202020202020202020'\n",
    "HTML(codecs.decode(codecs.decode(sx,'hex'), 'utf8'))"
   ]
  },
  {
   "cell_type": "code",
   "execution_count": 10,
   "metadata": {},
   "outputs": [],
   "source": []
  },
  {
   "cell_type": "markdown",
   "metadata": {},
   "source": [
    "Vérification de la modification"
   ]
  },
  {
   "cell_type": "code",
   "execution_count": 11,
   "metadata": {},
   "outputs": [
    {
     "data": {
      "image/svg+xml": [
       "<svg xmlns=\"http://www.w3.org/2000/svg\" xmlns:xlink=\"http://www.w3.org/1999/xlink\" width=\"956pt\" height=\"403pt\" viewBox=\"0.00 0.00 956.00 402.50\">\n",
       "<g id=\"graph0\" class=\"graph\" transform=\"scale(1 1) rotate(0) translate(4 398.5)\">\n",
       "<title>%3</title>\n",
       "<polygon fill=\"white\" stroke=\"transparent\" points=\"-4,4 -4,-398.5 952,-398.5 952,4 -4,4\"/>\n",
       "<!-- Descriptions_et_interpretations -->\n",
       "<g id=\"node1\" class=\"node\">\n",
       "<title>Descriptions_et_interpretations</title>\n",
       "<polygon fill=\"none\" stroke=\"black\" points=\"646,-362 646,-390 940,-390 940,-362 646,-362\"/>\n",
       "<text text-anchor=\"start\" x=\"651\" y=\"-373.2\" font-family=\"Helvetica,sans-Serif\" font-weight=\"bold\" font-size=\"16.00\">Descriptions_et_interpretations</text>\n",
       "<polygon fill=\"none\" stroke=\"black\" points=\"646,-337 646,-362 940,-362 940,-337 646,-337\"/>\n",
       "<text text-anchor=\"start\" x=\"651\" y=\"-346.8\" font-family=\"Helvetica,sans-Serif\" text-decoration=\"underline\" font-size=\"14.00\">NumInterp</text>\n",
       "<text text-anchor=\"start\" x=\"727\" y=\"-346.8\" font-family=\"Helvetica,sans-Serif\" font-size=\"14.00\"> [INTEGER]</text>\n",
       "<polygon fill=\"none\" stroke=\"black\" points=\"646,-312 646,-337 940,-337 940,-312 646,-312\"/>\n",
       "<text text-anchor=\"start\" x=\"651\" y=\"-321.8\" font-family=\"Helvetica,sans-Serif\" font-size=\"14.00\">NumAbs</text>\n",
       "<text text-anchor=\"start\" x=\"711\" y=\"-321.8\" font-family=\"Helvetica,sans-Serif\" font-size=\"14.00\"> [INTEGER]</text>\n",
       "<polygon fill=\"none\" stroke=\"black\" points=\"646,-287 646,-312 940,-312 940,-287 646,-287\"/>\n",
       "<text text-anchor=\"start\" x=\"651\" y=\"-296.8\" font-family=\"Helvetica,sans-Serif\" font-size=\"14.00\">Auteur</text>\n",
       "<text text-anchor=\"start\" x=\"699\" y=\"-296.8\" font-family=\"Helvetica,sans-Serif\" font-size=\"14.00\"> [TEXT]</text>\n",
       "<polygon fill=\"none\" stroke=\"black\" points=\"646,-262 646,-287 940,-287 940,-262 646,-262\"/>\n",
       "<text text-anchor=\"start\" x=\"651\" y=\"-271.8\" font-family=\"Helvetica,sans-Serif\" font-size=\"14.00\">Date</text>\n",
       "<text text-anchor=\"start\" x=\"684\" y=\"-271.8\" font-family=\"Helvetica,sans-Serif\" font-size=\"14.00\"> [DATETIME]</text>\n",
       "<polygon fill=\"none\" stroke=\"black\" points=\"646,-237 646,-262 940,-262 940,-237 646,-237\"/>\n",
       "<text text-anchor=\"start\" x=\"651\" y=\"-246.8\" font-family=\"Helvetica,sans-Serif\" font-size=\"14.00\">Commentaire</text>\n",
       "<text text-anchor=\"start\" x=\"745\" y=\"-246.8\" font-family=\"Helvetica,sans-Serif\" font-size=\"14.00\"> [TEXT]</text>\n",
       "</g>\n",
       "<!-- Personnes -->\n",
       "<g id=\"node2\" class=\"node\">\n",
       "<title>Personnes</title>\n",
       "<polygon fill=\"none\" stroke=\"black\" points=\"384.5,-183 384.5,-211 489.5,-211 489.5,-183 384.5,-183\"/>\n",
       "<text text-anchor=\"start\" x=\"389.5\" y=\"-194.2\" font-family=\"Helvetica,sans-Serif\" font-weight=\"bold\" font-size=\"16.00\">Personnes</text>\n",
       "<polygon fill=\"none\" stroke=\"black\" points=\"384.5,-158 384.5,-183 489.5,-183 489.5,-158 384.5,-158\"/>\n",
       "<text text-anchor=\"start\" x=\"389.5\" y=\"-167.8\" font-family=\"Helvetica,sans-Serif\" text-decoration=\"underline\" font-size=\"14.00\">Nom</text>\n",
       "<text text-anchor=\"start\" x=\"422.5\" y=\"-167.8\" font-family=\"Helvetica,sans-Serif\" font-size=\"14.00\"> [TEXT]</text>\n",
       "</g>\n",
       "<!-- Personnes&#45;&#45;Descriptions_et_interpretations -->\n",
       "<g id=\"edge1\" class=\"edge\">\n",
       "<title>Personnes--Descriptions_et_interpretations</title>\n",
       "<path fill=\"none\" stroke=\"#7f7f7f\" stroke-dasharray=\"5,2\" d=\"M497.18,-202.17C518.68,-208.64 543.05,-216.3 565,-224 588.7,-232.31 613.6,-241.59 637.86,-250.96\"/>\n",
       "<text text-anchor=\"start\" x=\"596.86\" y=\"-239.76\" font-family=\"Times,serif\" font-size=\"14.00\">{0,1}</text>\n",
       "<text text-anchor=\"start\" x=\"497.18\" y=\"-190.97\" font-family=\"Times,serif\" font-size=\"14.00\">0..N</text>\n",
       "</g>\n",
       "<!-- Manipulations -->\n",
       "<g id=\"node3\" class=\"node\">\n",
       "<title>Manipulations</title>\n",
       "<polygon fill=\"none\" stroke=\"black\" points=\"712,-183 712,-211 875,-211 875,-183 712,-183\"/>\n",
       "<text text-anchor=\"start\" x=\"730\" y=\"-194.2\" font-family=\"Helvetica,sans-Serif\" font-weight=\"bold\" font-size=\"16.00\">Manipulations</text>\n",
       "<polygon fill=\"none\" stroke=\"black\" points=\"712,-158 712,-183 875,-183 875,-158 712,-158\"/>\n",
       "<text text-anchor=\"start\" x=\"717\" y=\"-167.8\" font-family=\"Helvetica,sans-Serif\" text-decoration=\"underline\" font-size=\"14.00\">NumManip</text>\n",
       "<text text-anchor=\"start\" x=\"793\" y=\"-167.8\" font-family=\"Helvetica,sans-Serif\" font-size=\"14.00\"> [INTEGER]</text>\n",
       "<polygon fill=\"none\" stroke=\"black\" points=\"712,-133 712,-158 875,-158 875,-133 712,-133\"/>\n",
       "<text text-anchor=\"start\" x=\"717\" y=\"-142.8\" font-family=\"Helvetica,sans-Serif\" font-size=\"14.00\">NumAbs</text>\n",
       "<text text-anchor=\"start\" x=\"777\" y=\"-142.8\" font-family=\"Helvetica,sans-Serif\" font-size=\"14.00\"> [INTEGER]</text>\n",
       "<polygon fill=\"none\" stroke=\"black\" points=\"712,-108 712,-133 875,-133 875,-108 712,-108\"/>\n",
       "<text text-anchor=\"start\" x=\"717\" y=\"-117.8\" font-family=\"Helvetica,sans-Serif\" font-size=\"14.00\">Operateur</text>\n",
       "<text text-anchor=\"start\" x=\"789\" y=\"-117.8\" font-family=\"Helvetica,sans-Serif\" font-size=\"14.00\"> [TEXT]</text>\n",
       "<polygon fill=\"none\" stroke=\"black\" points=\"712,-83 712,-108 875,-108 875,-83 712,-83\"/>\n",
       "<text text-anchor=\"start\" x=\"717\" y=\"-92.8\" font-family=\"Helvetica,sans-Serif\" font-size=\"14.00\">Procedure</text>\n",
       "<text text-anchor=\"start\" x=\"787\" y=\"-92.8\" font-family=\"Helvetica,sans-Serif\" font-size=\"14.00\"> [TEXT]</text>\n",
       "<polygon fill=\"none\" stroke=\"black\" points=\"712,-58 712,-83 875,-83 875,-58 712,-58\"/>\n",
       "<text text-anchor=\"start\" x=\"717\" y=\"-67.8\" font-family=\"Helvetica,sans-Serif\" font-size=\"14.00\">Date</text>\n",
       "<text text-anchor=\"start\" x=\"750\" y=\"-67.8\" font-family=\"Helvetica,sans-Serif\" font-size=\"14.00\"> [DATETIME]</text>\n",
       "<polygon fill=\"none\" stroke=\"black\" points=\"712,-33 712,-58 875,-58 875,-33 712,-33\"/>\n",
       "<text text-anchor=\"start\" x=\"717\" y=\"-42.8\" font-family=\"Helvetica,sans-Serif\" font-size=\"14.00\">Resultat</text>\n",
       "<text text-anchor=\"start\" x=\"775\" y=\"-42.8\" font-family=\"Helvetica,sans-Serif\" font-size=\"14.00\"> [TEXT]</text>\n",
       "</g>\n",
       "<!-- Personnes&#45;&#45;Manipulations -->\n",
       "<g id=\"edge2\" class=\"edge\">\n",
       "<title>Personnes--Manipulations</title>\n",
       "<path fill=\"none\" stroke=\"#7f7f7f\" stroke-dasharray=\"5,2\" d=\"M497.24,-174.38C553.67,-164.35 639.03,-149.18 703.39,-137.75\"/>\n",
       "<text text-anchor=\"start\" x=\"662.39\" y=\"-126.55\" font-family=\"Times,serif\" font-size=\"14.00\">{0,1}</text>\n",
       "<text text-anchor=\"start\" x=\"497.24\" y=\"-163.18\" font-family=\"Times,serif\" font-size=\"14.00\">0..N</text>\n",
       "</g>\n",
       "<!-- Echantillons -->\n",
       "<g id=\"node4\" class=\"node\">\n",
       "<title>Echantillons</title>\n",
       "<polygon fill=\"none\" stroke=\"black\" points=\"363.5,-362 363.5,-390 510.5,-390 510.5,-362 363.5,-362\"/>\n",
       "<text text-anchor=\"start\" x=\"382\" y=\"-373.2\" font-family=\"Helvetica,sans-Serif\" font-weight=\"bold\" font-size=\"16.00\">Echantillons</text>\n",
       "<polygon fill=\"none\" stroke=\"black\" points=\"363.5,-337 363.5,-362 510.5,-362 510.5,-337 363.5,-337\"/>\n",
       "<text text-anchor=\"start\" x=\"368.5\" y=\"-346.8\" font-family=\"Helvetica,sans-Serif\" text-decoration=\"underline\" font-size=\"14.00\">NumAbs</text>\n",
       "<text text-anchor=\"start\" x=\"428.5\" y=\"-346.8\" font-family=\"Helvetica,sans-Serif\" font-size=\"14.00\"> [INTEGER]</text>\n",
       "<polygon fill=\"none\" stroke=\"black\" points=\"363.5,-312 363.5,-337 510.5,-337 510.5,-312 363.5,-312\"/>\n",
       "<text text-anchor=\"start\" x=\"368.5\" y=\"-321.8\" font-family=\"Helvetica,sans-Serif\" font-size=\"14.00\">Origine</text>\n",
       "<text text-anchor=\"start\" x=\"420.5\" y=\"-321.8\" font-family=\"Helvetica,sans-Serif\" font-size=\"14.00\"> [TEXT]</text>\n",
       "<polygon fill=\"none\" stroke=\"black\" points=\"363.5,-287 363.5,-312 510.5,-312 510.5,-287 363.5,-287\"/>\n",
       "<text text-anchor=\"start\" x=\"368.5\" y=\"-296.8\" font-family=\"Helvetica,sans-Serif\" font-size=\"14.00\">NumTerrain</text>\n",
       "<text text-anchor=\"start\" x=\"450.5\" y=\"-296.8\" font-family=\"Helvetica,sans-Serif\" font-size=\"14.00\"> [TEXT]</text>\n",
       "<polygon fill=\"none\" stroke=\"black\" points=\"363.5,-262 363.5,-287 510.5,-287 510.5,-262 363.5,-262\"/>\n",
       "<text text-anchor=\"start\" x=\"368.5\" y=\"-271.8\" font-family=\"Helvetica,sans-Serif\" font-size=\"14.00\">Stockage</text>\n",
       "<text text-anchor=\"start\" x=\"432.5\" y=\"-271.8\" font-family=\"Helvetica,sans-Serif\" font-size=\"14.00\"> [TEXT]</text>\n",
       "<polygon fill=\"none\" stroke=\"black\" points=\"363.5,-237 363.5,-262 510.5,-262 510.5,-237 363.5,-237\"/>\n",
       "<text text-anchor=\"start\" x=\"368.5\" y=\"-246.8\" font-family=\"Helvetica,sans-Serif\" font-size=\"14.00\">Remarques</text>\n",
       "<text text-anchor=\"start\" x=\"448.5\" y=\"-246.8\" font-family=\"Helvetica,sans-Serif\" font-size=\"14.00\"> [TEXT]</text>\n",
       "</g>\n",
       "<!-- Echantillons&#45;&#45;Descriptions_et_interpretations -->\n",
       "<g id=\"edge3\" class=\"edge\">\n",
       "<title>Echantillons--Descriptions_et_interpretations</title>\n",
       "<path fill=\"none\" stroke=\"#7f7f7f\" stroke-dasharray=\"5,2\" d=\"M518.39,-314C553.84,-314 596.69,-314 637.84,-314\"/>\n",
       "<text text-anchor=\"start\" x=\"596.84\" y=\"-302.8\" font-family=\"Times,serif\" font-size=\"14.00\">{0,1}</text>\n",
       "<text text-anchor=\"start\" x=\"518.39\" y=\"-302.8\" font-family=\"Times,serif\" font-size=\"14.00\">0..N</text>\n",
       "</g>\n",
       "<!-- Echantillons&#45;&#45;Manipulations -->\n",
       "<g id=\"edge4\" class=\"edge\">\n",
       "<title>Echantillons--Manipulations</title>\n",
       "<path fill=\"none\" stroke=\"#7f7f7f\" stroke-dasharray=\"5,2\" d=\"M518.39,-270.19C573.56,-240.31 646.63,-200.73 703.38,-170\"/>\n",
       "<text text-anchor=\"start\" x=\"662.38\" y=\"-158.8\" font-family=\"Times,serif\" font-size=\"14.00\">{0,1}</text>\n",
       "<text text-anchor=\"start\" x=\"518.39\" y=\"-258.99\" font-family=\"Times,serif\" font-size=\"14.00\">0..N</text>\n",
       "</g>\n",
       "<!-- Lieux_de_prelevements -->\n",
       "<g id=\"node5\" class=\"node\">\n",
       "<title>Lieux_de_prelevements</title>\n",
       "<polygon fill=\"none\" stroke=\"black\" points=\"8.5,-350 8.5,-378 227.5,-378 227.5,-350 8.5,-350\"/>\n",
       "<text text-anchor=\"start\" x=\"13.5\" y=\"-361.2\" font-family=\"Helvetica,sans-Serif\" font-weight=\"bold\" font-size=\"16.00\">Lieux_de_prelevements</text>\n",
       "<polygon fill=\"none\" stroke=\"black\" points=\"8.5,-325 8.5,-350 227.5,-350 227.5,-325 8.5,-325\"/>\n",
       "<text text-anchor=\"start\" x=\"13.5\" y=\"-334.8\" font-family=\"Helvetica,sans-Serif\" text-decoration=\"underline\" font-size=\"14.00\">NomLieu</text>\n",
       "<text text-anchor=\"start\" x=\"74.5\" y=\"-334.8\" font-family=\"Helvetica,sans-Serif\" font-size=\"14.00\"> [TEXT]</text>\n",
       "<polygon fill=\"none\" stroke=\"black\" points=\"8.5,-300 8.5,-325 227.5,-325 227.5,-300 8.5,-300\"/>\n",
       "<text text-anchor=\"start\" x=\"13.5\" y=\"-309.8\" font-family=\"Helvetica,sans-Serif\" font-size=\"14.00\">XL72</text>\n",
       "<text text-anchor=\"start\" x=\"49.5\" y=\"-309.8\" font-family=\"Helvetica,sans-Serif\" font-size=\"14.00\"> [REAL]</text>\n",
       "<polygon fill=\"none\" stroke=\"black\" points=\"8.5,-275 8.5,-300 227.5,-300 227.5,-275 8.5,-275\"/>\n",
       "<text text-anchor=\"start\" x=\"13.5\" y=\"-284.8\" font-family=\"Helvetica,sans-Serif\" font-size=\"14.00\">YL72</text>\n",
       "<text text-anchor=\"start\" x=\"47.5\" y=\"-284.8\" font-family=\"Helvetica,sans-Serif\" font-size=\"14.00\"> [REAL]</text>\n",
       "<polygon fill=\"none\" stroke=\"black\" points=\"8.5,-250 8.5,-275 227.5,-275 227.5,-250 8.5,-250\"/>\n",
       "<text text-anchor=\"start\" x=\"13.5\" y=\"-259.8\" font-family=\"Helvetica,sans-Serif\" font-size=\"14.00\">Altitude</text>\n",
       "<text text-anchor=\"start\" x=\"68.5\" y=\"-259.8\" font-family=\"Helvetica,sans-Serif\" font-size=\"14.00\"> [REAL]</text>\n",
       "</g>\n",
       "<!-- Lieux_de_prelevements&#45;&#45;Echantillons -->\n",
       "<g id=\"edge5\" class=\"edge\">\n",
       "<title>Lieux_de_prelevements--Echantillons</title>\n",
       "<path fill=\"none\" stroke=\"#7f7f7f\" stroke-dasharray=\"5,2\" d=\"M235.19,-314C274.91,-314 318.4,-314 354.68,-314\"/>\n",
       "<text text-anchor=\"start\" x=\"313.68\" y=\"-302.8\" font-family=\"Times,serif\" font-size=\"14.00\">{0,1}</text>\n",
       "<text text-anchor=\"start\" x=\"235.19\" y=\"-302.8\" font-family=\"Times,serif\" font-size=\"14.00\">0..N</text>\n",
       "</g>\n",
       "<!-- Procedures -->\n",
       "<g id=\"node6\" class=\"node\">\n",
       "<title>Procedures</title>\n",
       "<polygon fill=\"none\" stroke=\"black\" points=\"316.5,-104 316.5,-132 557.5,-132 557.5,-104 316.5,-104\"/>\n",
       "<text text-anchor=\"start\" x=\"385.5\" y=\"-115.2\" font-family=\"Helvetica,sans-Serif\" font-weight=\"bold\" font-size=\"16.00\">Procedures</text>\n",
       "<polygon fill=\"none\" stroke=\"black\" points=\"316.5,-79 316.5,-104 557.5,-104 557.5,-79 316.5,-79\"/>\n",
       "<text text-anchor=\"start\" x=\"321.5\" y=\"-88.8\" font-family=\"Helvetica,sans-Serif\" text-decoration=\"underline\" font-size=\"14.00\">Nom</text>\n",
       "<text text-anchor=\"start\" x=\"354.5\" y=\"-88.8\" font-family=\"Helvetica,sans-Serif\" font-size=\"14.00\"> [TEXT]</text>\n",
       "<polygon fill=\"none\" stroke=\"black\" points=\"316.5,-54 316.5,-79 557.5,-79 557.5,-54 316.5,-54\"/>\n",
       "<text text-anchor=\"start\" x=\"321.5\" y=\"-63.8\" font-family=\"Helvetica,sans-Serif\" font-size=\"14.00\">Type_de_manipulation</text>\n",
       "<text text-anchor=\"start\" x=\"475.5\" y=\"-63.8\" font-family=\"Helvetica,sans-Serif\" font-size=\"14.00\"> [TEXT]</text>\n",
       "<polygon fill=\"none\" stroke=\"black\" points=\"316.5,-29 316.5,-54 557.5,-54 557.5,-29 316.5,-29\"/>\n",
       "<text text-anchor=\"start\" x=\"321.5\" y=\"-38.8\" font-family=\"Helvetica,sans-Serif\" font-size=\"14.00\">Equipement</text>\n",
       "<text text-anchor=\"start\" x=\"406.5\" y=\"-38.8\" font-family=\"Helvetica,sans-Serif\" font-size=\"14.00\"> [TEXT]</text>\n",
       "<polygon fill=\"none\" stroke=\"black\" points=\"316.5,-4 316.5,-29 557.5,-29 557.5,-4 316.5,-4\"/>\n",
       "<text text-anchor=\"start\" x=\"321.5\" y=\"-13.8\" font-family=\"Helvetica,sans-Serif\" font-size=\"14.00\">Description_de_procedure</text>\n",
       "<text text-anchor=\"start\" x=\"501.5\" y=\"-13.8\" font-family=\"Helvetica,sans-Serif\" font-size=\"14.00\"> [TEXT]</text>\n",
       "</g>\n",
       "<!-- Procedures&#45;&#45;Manipulations -->\n",
       "<g id=\"edge6\" class=\"edge\">\n",
       "<title>Procedures--Manipulations</title>\n",
       "<path fill=\"none\" stroke=\"#7f7f7f\" stroke-dasharray=\"5,2\" d=\"M565.23,-87.46C611.07,-94.44 661.7,-102.15 703.48,-108.52\"/>\n",
       "<text text-anchor=\"start\" x=\"662.48\" y=\"-97.32\" font-family=\"Times,serif\" font-size=\"14.00\">{0,1}</text>\n",
       "<text text-anchor=\"start\" x=\"565.23\" y=\"-76.26\" font-family=\"Times,serif\" font-size=\"14.00\">0..N</text>\n",
       "</g>\n",
       "</g>\n",
       "</svg>"
      ],
      "text/plain": [
       "<IPython.core.display.SVG object>"
      ]
     },
     "execution_count": 11,
     "metadata": {},
     "output_type": "execute_result"
    }
   ],
   "source": [
    "render_er('sqlite:///echantillons_db.db', 'echantillons_db_schema.svg')\n",
    "SVG('echantillons_db_schema.svg') "
   ]
  },
  {
   "cell_type": "markdown",
   "metadata": {},
   "source": [
    "<b>Note:</b><br>: <br>\n",
    "    Attention à la base de donnée que vous représentez...\n"
   ]
  },
  {
   "cell_type": "markdown",
   "metadata": {},
   "source": [
    "***\n",
    "## 4. Ecriture de requêtes"
   ]
  },
  {
   "cell_type": "markdown",
   "metadata": {},
   "source": [
    "<div class=\"alert alert-block alert-success\">\n",
    "\t<b>4.1 Requêtes simples</b>\n",
    "</div>"
   ]
  },
  {
   "cell_type": "markdown",
   "metadata": {},
   "source": [
    "<div class=\"alert alert-block alert-warning\">\n",
    "<b>Question: </b><br>1- Afficher la liste de tous les lieux où se trouvent actuellement des échantillons.\n",
    "</div>"
   ]
  },
  {
   "cell_type": "code",
   "execution_count": 12,
   "metadata": {},
   "outputs": [
    {
     "name": "stdout",
     "output_type": "stream",
     "text": [
      "# @info: Exécutez-moi pour accéder à l'aide interactive\n"
     ]
    }
   ],
   "source": [
    "# @hidden\n",
    "sx=b'3c64697620636c6173733d22616c65727420616c6572742d626c6f636b20616c6572742d7761726e696e67223e0a09536920766f757320c3aa74726520626c6f7175c3a92865292c0a2020202020202020202020202020202020202020616666696368657a20756e6520736f6c7574696f6e20656e207072657373616e7420737572206c6520626f75746f6e2063692d646573736f75732e3c62723e0a095665696c6c657a20c3a0203c623e636f6d7072656e6472653c2f623e206c6120736f6c7574696f6e0a2020202020202020202020202020202020202020657420c3a0206c61207465737465722070617220766f75732d6dc3aa6d652e0a3c2f6469763e203c62723e0a0a3c627574746f6e20646174612d746f67676c653d22636f6c6c617073652220646174612d7461726765743d222372657665616c5f30303033223e0a20202020202020202020202020202020202020204166666963686572206c6520636f64653c2f627574746f6e3e0a3c6469762069643d2272657665616c5f303030332220636c6173733d22636f6c6c61707365223e0a3c62723e3c636f64653e2573716c2053454c4543542044495354494e43542853746f636b616765292046524f4d20456368616e74696c6c6f6e733b0a3c2f636f64653e0a3c2f6469763e0a0a2020202020202020202020202020202020202020'\n",
    "HTML(codecs.decode(codecs.decode(sx,'hex'), 'utf8'))"
   ]
  },
  {
   "cell_type": "markdown",
   "metadata": {},
   "source": [
    "<div class=\"alert alert-block alert-warning\">\n",
    "<b>Question: </b><br>2- Afficher par ordre alphabétique les noms des personnes enregistrées et leur rôle.\n",
    "</div>"
   ]
  },
  {
   "cell_type": "code",
   "execution_count": 13,
   "metadata": {},
   "outputs": [],
   "source": []
  },
  {
   "cell_type": "markdown",
   "metadata": {},
   "source": [
    "<div class=\"alert alert-block alert-warning\">\n",
    "<b>Question: </b><br>3- Afficher le nombre d’échantillons encodés dans la base de données\n",
    "</div>"
   ]
  },
  {
   "cell_type": "markdown",
   "metadata": {},
   "source": [
    "<div class=\"alert alert-block alert-success\">\n",
    "\t<b>4.2 Requêtes avec fonctions d'agrégation</b>\n",
    "</div>"
   ]
  },
  {
   "cell_type": "code",
   "execution_count": 14,
   "metadata": {},
   "outputs": [
    {
     "name": "stdout",
     "output_type": "stream",
     "text": [
      "# @info: Exécutez-moi pour accéder à l'aide interactive\n"
     ]
    }
   ],
   "source": [
    "# @hidden\n",
    "sx=b'3c64697620636c6173733d22616c65727420616c6572742d626c6f636b20616c6572742d7761726e696e67223e0a09536920766f757320c3aa74726520626c6f7175c3a92865292c0a2020202020202020202020202020202020202020616666696368657a20756e6520736f6c7574696f6e20656e207072657373616e7420737572206c6520626f75746f6e2063692d646573736f75732e3c62723e0a095665696c6c657a20c3a0203c623e636f6d7072656e6472653c2f623e206c6120736f6c7574696f6e0a2020202020202020202020202020202020202020657420c3a0206c61207465737465722070617220766f75732d6dc3aa6d652e0a3c2f6469763e203c62723e0a0a3c627574746f6e20646174612d746f67676c653d22636f6c6c617073652220646174612d7461726765743d222372657665616c5f30303034223e0a20202020202020202020202020202020202020204166666963686572206c6520636f64653c2f627574746f6e3e0a3c6469762069643d2272657665616c5f303030342220636c6173733d22636f6c6c61707365223e0a3c62723e3c636f64653e2573716c2053454c45435420434f554e54282a29204e756d6265725f6f665f73616d706c65732046524f4d20456368616e74696c6c6f6e733b0a3c2f636f64653e0a3c2f6469763e0a0a2020202020202020202020202020202020202020'\n",
    "HTML(codecs.decode(codecs.decode(sx,'hex'), 'utf8'))"
   ]
  },
  {
   "cell_type": "markdown",
   "metadata": {},
   "source": [
    "<div class=\"alert alert-block alert-warning\">\n",
    "<b>Question: </b><br>4- Afficher le « numéro absolu » à attribuer au prochain échantillon qui entre au laboratoire.\n",
    "</div>"
   ]
  },
  {
   "cell_type": "code",
   "execution_count": 15,
   "metadata": {},
   "outputs": [
    {
     "name": "stdout",
     "output_type": "stream",
     "text": [
      "# @info: Exécutez-moi pour accéder à l'aide interactive\n"
     ]
    }
   ],
   "source": [
    "# @hidden\n",
    "sx=b'3c64697620636c6173733d22616c65727420616c6572742d626c6f636b20616c6572742d7761726e696e67223e0a09536920766f757320c3aa74726520626c6f7175c3a92865292c0a2020202020202020202020202020202020202020616666696368657a20756e6520736f6c7574696f6e20656e207072657373616e7420737572206c6520626f75746f6e2063692d646573736f75732e3c62723e0a095665696c6c657a20c3a0203c623e636f6d7072656e6472653c2f623e206c6120736f6c7574696f6e0a2020202020202020202020202020202020202020657420c3a0206c61207465737465722070617220766f75732d6dc3aa6d652e0a3c2f6469763e203c62723e0a0a3c627574746f6e20646174612d746f67676c653d22636f6c6c617073652220646174612d7461726765743d222372657665616c5f30303035223e0a20202020202020202020202020202020202020204166666963686572206c6520636f64653c2f627574746f6e3e0a3c6469762069643d2272657665616c5f303030352220636c6173733d22636f6c6c61707365223e0a3c62723e3c636f64653e2573716c2053454c454354204d4158284e756d416273292b31206173204e4558545f4e756d4162732046524f4d20456368616e74696c6c6f6e733b0a3c2f636f64653e0a3c2f6469763e0a0a2020202020202020202020202020202020202020'\n",
    "HTML(codecs.decode(codecs.decode(sx,'hex'), 'utf8'))"
   ]
  },
  {
   "cell_type": "markdown",
   "metadata": {},
   "source": [
    "<div class=\"alert alert-block alert-success\">\n",
    "\t<b>4.3 Requêtes avec jointures</b>\n",
    "</div>"
   ]
  },
  {
   "cell_type": "markdown",
   "metadata": {},
   "source": [
    "<div class=\"alert alert-block alert-warning\">\n",
    "<b>Question: </b><br>5- Afficher la liste de toutes les personnes enregistrées et les procédures qu’elles ont déjà appliquées.\n",
    "</div>"
   ]
  },
  {
   "cell_type": "code",
   "execution_count": 16,
   "metadata": {},
   "outputs": [
    {
     "name": "stdout",
     "output_type": "stream",
     "text": [
      "# @info: Exécutez-moi pour accéder à l'aide interactive\n"
     ]
    }
   ],
   "source": [
    "# @hidden\n",
    "sx=b'3c64697620636c6173733d22616c65727420616c6572742d626c6f636b20616c6572742d7761726e696e67223e0a09536920766f757320c3aa74726520626c6f7175c3a92865292c0a2020202020202020202020202020202020202020616666696368657a20756e6520736f6c7574696f6e20656e207072657373616e7420737572206c6520626f75746f6e2063692d646573736f75732e3c62723e0a095665696c6c657a20c3a0203c623e636f6d7072656e6472653c2f623e206c6120736f6c7574696f6e0a2020202020202020202020202020202020202020657420c3a0206c61207465737465722070617220766f75732d6dc3aa6d652e0a3c2f6469763e203c62723e0a0a3c627574746f6e20646174612d746f67676c653d22636f6c6c617073652220646174612d7461726765743d222372657665616c5f30303036223e0a20202020202020202020202020202020202020204166666963686572206c6520636f64653c2f627574746f6e3e0a3c6469762069643d2272657665616c5f303030362220636c6173733d22636f6c6c61707365223e0a3c62723e3c636f64653e2573716c2053454c45435420506572736f6e6e65732e4e6f6d2c204d616e6970756c6174696f6e732e50726f6365647572652046524f4d20506572736f6e6e6573204c454654204a4f494e204d616e6970756c6174696f6e73204f4e20506572736f6e6e65732e4e6f6d203d204d616e6970756c6174696f6e732e4f70657261746575723b0a3c2f636f64653e0a3c2f6469763e0a0a2020202020202020202020202020202020202020'\n",
    "HTML(codecs.decode(codecs.decode(sx,'hex'), 'utf8'))"
   ]
  },
  {
   "cell_type": "markdown",
   "metadata": {},
   "source": [
    "<div class=\"alert alert-block alert-warning\">\n",
    "<b>Question: </b><br>6- Afficher la liste des procédures qu’une personne donnée a déjà appliquées.  \n",
    "</div>"
   ]
  },
  {
   "cell_type": "markdown",
   "metadata": {},
   "source": [
    "<div class=\"alert alert-block alert-info\">\n",
    "<b>Info:</b><br>     La fonction python input() permet de poser une question à l'utilisateur et de stocker la réponse dans une variable.<br>\n",
    "    Il est possible d'appeler cette variable dans le code SQL en la précédant du symbole ':'.<br>\n",
    "\n",
    "</div>"
   ]
  },
  {
   "cell_type": "markdown",
   "metadata": {},
   "source": [
    "Demande du nom de la personne"
   ]
  },
  {
   "cell_type": "code",
   "execution_count": 17,
   "metadata": {},
   "outputs": [
    {
     "name": "stdout",
     "output_type": "stream",
     "text": [
      "# @info: Exécutez-moi pour accéder à l'aide interactive\n"
     ]
    }
   ],
   "source": [
    "# @hidden\n",
    "sx=b'3c64697620636c6173733d22616c65727420616c6572742d626c6f636b20616c6572742d7761726e696e67223e0a09536920766f757320c3aa74726520626c6f7175c3a92865292c0a2020202020202020202020202020202020202020616666696368657a20756e6520736f6c7574696f6e20656e207072657373616e7420737572206c6520626f75746f6e2063692d646573736f75732e3c62723e0a095665696c6c657a20c3a0203c623e636f6d7072656e6472653c2f623e206c6120736f6c7574696f6e0a2020202020202020202020202020202020202020657420c3a0206c61207465737465722070617220766f75732d6dc3aa6d652e0a3c2f6469763e203c62723e0a0a3c627574746f6e20646174612d746f67676c653d22636f6c6c617073652220646174612d7461726765743d222372657665616c5f30303037223e0a20202020202020202020202020202020202020204166666963686572206c6520636f64653c2f627574746f6e3e0a3c6469762069643d2272657665616c5f303030372220636c6173733d22636f6c6c61707365223e0a3c62723e3c636f64653e617574657572203d20696e70757428224e6f6d206465206c6120706572736f6e6e65203a22290a3c2f636f64653e0a3c2f6469763e0a0a2020202020202020202020202020202020202020'\n",
    "HTML(codecs.decode(codecs.decode(sx,'hex'), 'utf8'))"
   ]
  },
  {
   "cell_type": "markdown",
   "metadata": {},
   "source": [
    "Recherche des procédures déjà appliquées par cette personne"
   ]
  },
  {
   "cell_type": "code",
   "execution_count": 18,
   "metadata": {},
   "outputs": [
    {
     "name": "stdout",
     "output_type": "stream",
     "text": [
      "# @info: Exécutez-moi pour accéder à l'aide interactive\n"
     ]
    }
   ],
   "source": [
    "# @hidden\n",
    "sx=b'3c64697620636c6173733d22616c65727420616c6572742d626c6f636b20616c6572742d7761726e696e67223e0a09536920766f757320c3aa74726520626c6f7175c3a92865292c0a2020202020202020202020202020202020202020616666696368657a20756e6520736f6c7574696f6e20656e207072657373616e7420737572206c6520626f75746f6e2063692d646573736f75732e3c62723e0a095665696c6c657a20c3a0203c623e636f6d7072656e6472653c2f623e206c6120736f6c7574696f6e0a2020202020202020202020202020202020202020657420c3a0206c61207465737465722070617220766f75732d6dc3aa6d652e0a3c2f6469763e203c62723e0a0a3c627574746f6e20646174612d746f67676c653d22636f6c6c617073652220646174612d7461726765743d222372657665616c5f30303038223e0a20202020202020202020202020202020202020204166666963686572206c6520636f64653c2f627574746f6e3e0a3c6469762069643d2272657665616c5f303030382220636c6173733d22636f6c6c61707365223e0a3c62723e3c636f64653e2573716c2053454c4543542044495354494e4354204d616e6970756c6174696f6e732e50726f6365647572652046524f4d20506572736f6e6e6573204c454654204a4f494e204d616e6970756c6174696f6e73204f4e20506572736f6e6e65732e4e6f6d203d204d616e6970756c6174696f6e732e4f706572617465757220574845524520506572736f6e6e65732e4e6f6d203d203a617574657572204f524445522042592050726f636564757265204153433b0a3c2f636f64653e0a3c2f6469763e0a0a2020202020202020202020202020202020202020'\n",
    "HTML(codecs.decode(codecs.decode(sx,'hex'), 'utf8'))"
   ]
  },
  {
   "cell_type": "markdown",
   "metadata": {},
   "source": [
    "<div class=\"alert alert-block alert-warning\">\n",
    "<b>Question: </b><br>7- Recherchez tous les échantillons prélevés par une personne donnée, fournissez-en le numéro absolu, le numéro de terrain, la date du prélèvement et le lieu de stockage actuel.\n",
    "\n",
    "</div>"
   ]
  },
  {
   "cell_type": "markdown",
   "metadata": {},
   "source": [
    "<div class=\"alert alert-block alert-info\">\n",
    "<b>Info:</b><br>     Demandez d'abord le nom de l'auteur du prélèvement, puis utilisez le nom dans une requête\n",
    "</div>"
   ]
  },
  {
   "cell_type": "code",
   "execution_count": 19,
   "metadata": {},
   "outputs": [
    {
     "name": "stdout",
     "output_type": "stream",
     "text": [
      "# @info: Exécutez-moi pour accéder à l'aide interactive\n"
     ]
    }
   ],
   "source": [
    "# @hidden\n",
    "sx=b'3c64697620636c6173733d22616c65727420616c6572742d626c6f636b20616c6572742d7761726e696e67223e0a09536920766f757320c3aa74726520626c6f7175c3a92865292c0a2020202020202020202020202020202020202020616666696368657a20756e6520736f6c7574696f6e20656e207072657373616e7420737572206c6520626f75746f6e2063692d646573736f75732e3c62723e0a095665696c6c657a20c3a0203c623e636f6d7072656e6472653c2f623e206c6120736f6c7574696f6e0a2020202020202020202020202020202020202020657420c3a0206c61207465737465722070617220766f75732d6dc3aa6d652e0a3c2f6469763e203c62723e0a0a3c627574746f6e20646174612d746f67676c653d22636f6c6c617073652220646174612d7461726765743d222372657665616c5f30303039223e0a20202020202020202020202020202020202020204166666963686572206c6520636f64653c2f627574746f6e3e0a3c6469762069643d2272657665616c5f303030392220636c6173733d22636f6c6c61707365223e0a3c62723e3c636f64653e617574657572203d20696e70757428224e6f6d206465206c27617574657572206475207072c3a96cc3a876656d656e74203a22290a3c2f636f64653e0a3c2f6469763e0a0a2020202020202020202020202020202020202020'\n",
    "HTML(codecs.decode(codecs.decode(sx,'hex'), 'utf8'))"
   ]
  },
  {
   "cell_type": "code",
   "execution_count": 20,
   "metadata": {},
   "outputs": [],
   "source": []
  },
  {
   "cell_type": "markdown",
   "metadata": {},
   "source": [
    "<div class=\"alert alert-block alert-warning\">\n",
    "<b>Question: </b><br>Vérifiez en affichant la table des échantillons et en recherchant les prélèvements effectués.\n",
    "</div>"
   ]
  },
  {
   "cell_type": "code",
   "execution_count": 21,
   "metadata": {},
   "outputs": [
    {
     "name": "stdout",
     "output_type": "stream",
     "text": [
      "# @info: Exécutez-moi pour accéder à l'aide interactive\n"
     ]
    }
   ],
   "source": [
    "# @hidden\n",
    "sx=b'3c64697620636c6173733d22616c65727420616c6572742d626c6f636b20616c6572742d7761726e696e67223e0a09536920766f757320c3aa74726520626c6f7175c3a92865292c0a2020202020202020202020202020202020202020616666696368657a20756e6520736f6c7574696f6e20656e207072657373616e7420737572206c6520626f75746f6e2063692d646573736f75732e3c62723e0a095665696c6c657a20c3a0203c623e636f6d7072656e6472653c2f623e206c6120736f6c7574696f6e0a2020202020202020202020202020202020202020657420c3a0206c61207465737465722070617220766f75732d6dc3aa6d652e0a3c2f6469763e203c62723e0a0a3c627574746f6e20646174612d746f67676c653d22636f6c6c617073652220646174612d7461726765743d222372657665616c5f30303130223e0a20202020202020202020202020202020202020204166666963686572206c6520636f64653c2f627574746f6e3e0a3c6469762069643d2272657665616c5f303031302220636c6173733d22636f6c6c61707365223e0a3c62723e3c636f64653e2573716c2053454c454354202a2046524f4d20456368616e74696c6c6f6e733b0a3c2f636f64653e0a3c2f6469763e0a0a2020202020202020202020202020202020202020'\n",
    "HTML(codecs.decode(codecs.decode(sx,'hex'), 'utf8'))"
   ]
  },
  {
   "cell_type": "code",
   "execution_count": 22,
   "metadata": {},
   "outputs": [
    {
     "name": "stdout",
     "output_type": "stream",
     "text": [
      "# @info: Exécutez-moi pour accéder à l'aide interactive\n"
     ]
    }
   ],
   "source": [
    "# @hidden\n",
    "sx=b'3c64697620636c6173733d22616c65727420616c6572742d626c6f636b20616c6572742d7761726e696e67223e0a09536920766f757320c3aa74726520626c6f7175c3a92865292c0a2020202020202020202020202020202020202020616666696368657a20756e6520736f6c7574696f6e20656e207072657373616e7420737572206c6520626f75746f6e2063692d646573736f75732e3c62723e0a095665696c6c657a20c3a0203c623e636f6d7072656e6472653c2f623e206c6120736f6c7574696f6e0a2020202020202020202020202020202020202020657420c3a0206c61207465737465722070617220766f75732d6dc3aa6d652e0a3c2f6469763e203c62723e0a0a3c627574746f6e20646174612d746f67676c653d22636f6c6c617073652220646174612d7461726765743d222372657665616c5f30303131223e0a20202020202020202020202020202020202020204166666963686572206c6520636f64653c2f627574746f6e3e0a3c6469762069643d2272657665616c5f303031312220636c6173733d22636f6c6c61707365223e0a3c62723e3c636f64653e2573716c2053454c454354202a2046524f4d204d616e6970756c6174696f6e73204c454654204a4f494e2050726f63656475726573204f4e204d616e6970756c6174696f6e732e50726f636564757265203d2050726f636564757265732e4e6f6d2057484552452050726f636564757265732e547970655f64655f6d616e6970756c6174696f6e203d20275072c3a96cc3a876656d656e74273b0a3c2f636f64653e0a3c2f6469763e0a0a2020202020202020202020202020202020202020'\n",
    "HTML(codecs.decode(codecs.decode(sx,'hex'), 'utf8'))"
   ]
  }
 ],
 "metadata": {
  "kernelspec": {
   "display_name": "Python 3 (ipykernel)",
   "language": "python",
   "name": "python3"
  },
  "language_info": {
   "codemirror_mode": {
    "name": "ipython",
    "version": 3
   },
   "file_extension": ".py",
   "mimetype": "text/x-python",
   "name": "python",
   "nbconvert_exporter": "python",
   "pygments_lexer": "ipython3",
   "version": "3.8.10"
  }
 },
 "nbformat": 4,
 "nbformat_minor": 1
}
