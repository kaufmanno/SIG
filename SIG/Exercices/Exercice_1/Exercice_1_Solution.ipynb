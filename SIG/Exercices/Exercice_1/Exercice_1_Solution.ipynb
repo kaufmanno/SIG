{
 "cells": [
  {
   "cell_type": "markdown",
   "metadata": {},
   "source": [
    "# Exercice 1: Création d'une base de données simple\n",
    "O. Kaufmann 2018, 2022."
   ]
  },
  {
   "cell_type": "markdown",
   "metadata": {},
   "source": [
    "### @info\n",
    "Exécuter une à une les cellules déjà présentes en prenant soin de comprendre leur contenu.  \n",
    "Compléter le notebook là où c'est nécessaire."
   ]
  },
  {
   "cell_type": "markdown",
   "metadata": {},
   "source": [
    "### @warning\n",
    "Pour exécuter ce notebook il faut que votre environnement virtuel soit actif et à jour."
   ]
  },
  {
   "cell_type": "markdown",
   "metadata": {},
   "source": [
    "## @section | Initialisation du notebook"
   ]
  },
  {
   "cell_type": "code",
   "execution_count": 1,
   "metadata": {},
   "outputs": [],
   "source": [
    "### @manage_solutions"
   ]
  },
  {
   "cell_type": "markdown",
   "metadata": {},
   "source": [
    "### @subsection | Chargement des <i>packages</i> python"
   ]
  },
  {
   "cell_type": "code",
   "execution_count": 2,
   "metadata": {},
   "outputs": [],
   "source": [
    "from eralchemy import render_er\n",
    "from IPython.display import SVG, Image"
   ]
  },
  {
   "cell_type": "markdown",
   "metadata": {},
   "source": [
    "### @info \n",
    "Ces <i>packages</i> offrent donnent accès à des fonctionnalités supplémentaires:  \n",
    "- <i>render_er</i> sert à créer une représentation graphique de la base de données  \n",
    "- <i>SVG</i> et <i>Image</i> servent à afficher des images dans le notebook"
   ]
  },
  {
   "cell_type": "markdown",
   "metadata": {},
   "source": [
    "### @subsection | Chargement de l'extension sql pour jupyter et ouverture d'une base de donnée sqlite3"
   ]
  },
  {
   "cell_type": "markdown",
   "metadata": {},
   "source": [
    "Charger l'extension de Jupyter pour traiter SQL"
   ]
  },
  {
   "cell_type": "code",
   "execution_count": 3,
   "metadata": {},
   "outputs": [],
   "source": [
    "%load_ext sql"
   ]
  },
  {
   "cell_type": "markdown",
   "metadata": {},
   "source": [
    "Obtenir de l'aide sur une fonction dans un notebook avec '?'"
   ]
  },
  {
   "cell_type": "raw",
   "metadata": {},
   "source": [
    "? %%sql"
   ]
  },
  {
   "cell_type": "markdown",
   "metadata": {},
   "source": [
    "Effacer le fichier de la base de données si il existe..."
   ]
  },
  {
   "cell_type": "markdown",
   "metadata": {},
   "source": [
    "### @info\n",
    "    Le point d'exclamation en début de ligne permet d'exécuter des commandes bash depuis le notebook"
   ]
  },
  {
   "cell_type": "code",
   "execution_count": 4,
   "metadata": {},
   "outputs": [],
   "source": [
    "! rm example_db.db"
   ]
  },
  {
   "cell_type": "markdown",
   "metadata": {},
   "source": [
    "Création d'une base de données vide (car elle n'existe pas puisqu'on vient d'effacer le fichier!)  \n",
    "### @info\n",
    "    Si le fichier existait, on pourrait se connecter à la base existante de la même façon..."
   ]
  },
  {
   "cell_type": "code",
   "execution_count": 5,
   "metadata": {},
   "outputs": [],
   "source": [
    "%sql sqlite:///example_db.db"
   ]
  },
  {
   "cell_type": "markdown",
   "metadata": {},
   "source": [
    "## @subsection | Création des tables"
   ]
  },
  {
   "cell_type": "code",
   "execution_count": 6,
   "metadata": {},
   "outputs": [
    {
     "name": "stdout",
     "output_type": "stream",
     "text": [
      " * sqlite:///example_db.db\n",
      "Done.\n"
     ]
    },
    {
     "data": {
      "text/plain": [
       "[]"
      ]
     },
     "execution_count": 6,
     "metadata": {},
     "output_type": "execute_result"
    }
   ],
   "source": [
    "%%sql \n",
    "CREATE TABLE ouvrages(\n",
    "    nom TEXT PRIMARY KEY,\n",
    "    commune TEXT  \n",
    ");"
   ]
  },
  {
   "cell_type": "code",
   "execution_count": 7,
   "metadata": {},
   "outputs": [
    {
     "name": "stdout",
     "output_type": "stream",
     "text": [
      " * sqlite:///example_db.db\n",
      "Done.\n"
     ]
    },
    {
     "data": {
      "text/plain": [
       "[]"
      ]
     },
     "execution_count": 7,
     "metadata": {},
     "output_type": "execute_result"
    }
   ],
   "source": [
    "%%sql\n",
    "CREATE TABLE piezometres(\n",
    "    nom TEXT, \n",
    "    enregistreur TEXT,\n",
    "    PRIMARY KEY(nom),\n",
    "    FOREIGN KEY(nom) REFERENCES ouvrages(nom) ON DELETE CASCADE\n",
    ");"
   ]
  },
  {
   "cell_type": "code",
   "execution_count": 8,
   "metadata": {},
   "outputs": [
    {
     "name": "stdout",
     "output_type": "stream",
     "text": [
      " * sqlite:///example_db.db\n",
      "Done.\n"
     ]
    },
    {
     "data": {
      "text/plain": [
       "[]"
      ]
     },
     "execution_count": 8,
     "metadata": {},
     "output_type": "execute_result"
    }
   ],
   "source": [
    "%%sql\n",
    "CREATE TABLE puits_captages(\n",
    "    nom TEXT,\n",
    "    type_pompe TEXT,\n",
    "    PRIMARY KEY(nom),\n",
    "    FOREIGN KEY(nom) REFERENCES ouvrages(nom) ON DELETE CASCADE\n",
    ");"
   ]
  },
  {
   "cell_type": "code",
   "execution_count": 9,
   "metadata": {},
   "outputs": [
    {
     "name": "stdout",
     "output_type": "stream",
     "text": [
      " * sqlite:///example_db.db\n",
      "Done.\n"
     ]
    },
    {
     "data": {
      "text/plain": [
       "[]"
      ]
     },
     "execution_count": 9,
     "metadata": {},
     "output_type": "execute_result"
    }
   ],
   "source": [
    "%%sql\n",
    "CREATE TABLE prelevements(\n",
    "    nom_puits TEXT,\n",
    "    annee INTEGER,\n",
    "    volume REAL,\n",
    "    PRIMARY KEY(nom_puits, annee),\n",
    "    FOREIGN KEY(nom_puits) REFERENCES puits_captages(nom) ON DELETE CASCADE\n",
    "    );"
   ]
  },
  {
   "cell_type": "markdown",
   "metadata": {},
   "source": [
    "### @subsection | Afficher le schéma de la base de données sous forme graphique"
   ]
  },
  {
   "cell_type": "markdown",
   "metadata": {},
   "source": [
    "### @info\n",
    "    render_er crée un fichier image au format \".png\" du schéma de la base de données qui est ensuite affiché dans le notebook avec la méthode Image().\n",
    "    Il est aussi possible de générer un schéma dans un fichier image vectoriel au format \".svg\" (Scalable Vector Graphics). Le fichier ainsi créé peut être affiché avec la méthode SVG(). "
   ]
  },
  {
   "cell_type": "code",
   "execution_count": 10,
   "metadata": {},
   "outputs": [
    {
     "data": {
      "image/png": "[encoded data removed]",
      "text/plain": [
       "<IPython.core.display.Image object>"
      ]
     },
     "execution_count": 10,
     "metadata": {},
     "output_type": "execute_result"
    }
   ],
   "source": [
    "render_er('sqlite:///example_db.db', 'example_db_schema.png')\n",
    "Image(filename='example_db_schema.png')"
   ]
  },
  {
   "cell_type": "markdown",
   "metadata": {},
   "source": [
    "## @question\n",
    "Ajouter la définition de la table \"niveaux\" reprenant les niveaux relevés dans les piezomètres.<br> \n",
    "Les champs seront nommés \"nom_piezo\", \"date_releve\" et \"niveau\"."
   ]
  },
  {
   "cell_type": "code",
   "execution_count": 11,
   "metadata": {},
   "outputs": [
    {
     "name": "stdout",
     "output_type": "stream",
     "text": [
      " * sqlite:///example_db.db\n",
      "Done.\n"
     ]
    },
    {
     "data": {
      "text/plain": [
       "[]"
      ]
     },
     "execution_count": 11,
     "metadata": {},
     "output_type": "execute_result"
    }
   ],
   "source": [
    "# @solution @keep_output\n",
    "%sql CREATE TABLE niveaux(nom_piezo TEXT, date_releve DATE, niveau REAL, PRIMARY KEY(nom_piezo, date_releve), FOREIGN KEY(nom_piezo) REFERENCES piezometres(nom) ON DELETE CASCADE); "
   ]
  },
  {
   "cell_type": "markdown",
   "metadata": {},
   "source": [
    "## @subsection |  Activer de l'intégrité référentielle\n",
    "<div class=\"alert alert-block alert-info\">\n",
    "    <b>Tip:</b> pour des raisons de rétro-compatibilité, l'intégrité référentielle n'est pas activée par défaut dans sqlite...\n",
    "</div>  "
   ]
  },
  {
   "cell_type": "code",
   "execution_count": 12,
   "metadata": {},
   "outputs": [
    {
     "name": "stdout",
     "output_type": "stream",
     "text": [
      " * sqlite:///example_db.db\n",
      "Done.\n",
      "Done.\n"
     ]
    },
    {
     "data": {
      "text/html": [
       "<table>\n",
       "    <tr>\n",
       "        <th>foreign_keys</th>\n",
       "    </tr>\n",
       "    <tr>\n",
       "        <td>1</td>\n",
       "    </tr>\n",
       "</table>"
      ],
      "text/plain": [
       "[(1,)]"
      ]
     },
     "execution_count": 12,
     "metadata": {},
     "output_type": "execute_result"
    }
   ],
   "source": [
    "%%sql\n",
    "PRAGMA foreign_keys = ON;\n",
    "PRAGMA foreign_keys;"
   ]
  },
  {
   "cell_type": "markdown",
   "metadata": {},
   "source": [
    "## @subsection | Afficher le schéma complété sous forme graphique"
   ]
  },
  {
   "cell_type": "markdown",
   "metadata": {},
   "source": [
    "<div class=\"alert alert-block alert-success\">\n",
    "    Ajouter les commandes nécessaires pour afficher le schéma complété de la base de données en utilisant le format \".svg\"\n",
    "</div>  "
   ]
  },
  {
   "cell_type": "code",
   "execution_count": 13,
   "metadata": {},
   "outputs": [
    {
     "data": {
      "image/svg+xml": [
       "<svg xmlns=\"http://www.w3.org/2000/svg\" xmlns:xlink=\"http://www.w3.org/1999/xlink\" width=\"622pt\" height=\"248pt\" viewBox=\"0.00 0.00 622.00 248.00\">\n",
       "<g id=\"graph0\" class=\"graph\" transform=\"scale(1 1) rotate(0) translate(4 244)\">\n",
       "<title>%3</title>\n",
       "<polygon fill=\"white\" stroke=\"transparent\" points=\"-4,4 -4,-244 618,-244 618,4 -4,4\"/>\n",
       "<!-- niveaux -->\n",
       "<g id=\"node1\" class=\"node\">\n",
       "<title>niveaux</title>\n",
       "<polygon fill=\"none\" stroke=\"black\" points=\"464,-207.5 464,-235.5 606,-235.5 606,-207.5 464,-207.5\"/>\n",
       "<text text-anchor=\"start\" x=\"500\" y=\"-218.7\" font-family=\"Helvetica,sans-Serif\" font-weight=\"bold\" font-size=\"16.00\">niveaux</text>\n",
       "<polygon fill=\"none\" stroke=\"black\" points=\"464,-182.5 464,-207.5 606,-207.5 606,-182.5 464,-182.5\"/>\n",
       "<text text-anchor=\"start\" x=\"469\" y=\"-192.3\" font-family=\"Helvetica,sans-Serif\" text-decoration=\"underline\" font-size=\"14.00\">nom_piezo</text>\n",
       "<text text-anchor=\"start\" x=\"544\" y=\"-192.3\" font-family=\"Helvetica,sans-Serif\" font-size=\"14.00\"> [TEXT]</text>\n",
       "<polygon fill=\"none\" stroke=\"black\" points=\"464,-157.5 464,-182.5 606,-182.5 606,-157.5 464,-157.5\"/>\n",
       "<text text-anchor=\"start\" x=\"469\" y=\"-167.3\" font-family=\"Helvetica,sans-Serif\" text-decoration=\"underline\" font-size=\"14.00\">date_releve</text>\n",
       "<text text-anchor=\"start\" x=\"549\" y=\"-167.3\" font-family=\"Helvetica,sans-Serif\" font-size=\"14.00\"> [DATE]</text>\n",
       "<polygon fill=\"none\" stroke=\"black\" points=\"464,-132.5 464,-157.5 606,-157.5 606,-132.5 464,-132.5\"/>\n",
       "<text text-anchor=\"start\" x=\"469\" y=\"-142.3\" font-family=\"Helvetica,sans-Serif\" font-size=\"14.00\">niveau</text>\n",
       "<text text-anchor=\"start\" x=\"516\" y=\"-142.3\" font-family=\"Helvetica,sans-Serif\" font-size=\"14.00\"> [REAL]</text>\n",
       "</g>\n",
       "<!-- piezometres -->\n",
       "<g id=\"node2\" class=\"node\">\n",
       "<title>piezometres</title>\n",
       "<polygon fill=\"none\" stroke=\"black\" points=\"228.5,-189.5 228.5,-217.5 374.5,-217.5 374.5,-189.5 228.5,-189.5\"/>\n",
       "<text text-anchor=\"start\" x=\"246\" y=\"-200.7\" font-family=\"Helvetica,sans-Serif\" font-weight=\"bold\" font-size=\"16.00\">piezometres</text>\n",
       "<polygon fill=\"none\" stroke=\"black\" points=\"228.5,-164.5 228.5,-189.5 374.5,-189.5 374.5,-164.5 228.5,-164.5\"/>\n",
       "<text text-anchor=\"start\" x=\"233.5\" y=\"-174.3\" font-family=\"Helvetica,sans-Serif\" text-decoration=\"underline\" font-size=\"14.00\">nom</text>\n",
       "<text text-anchor=\"start\" x=\"264.5\" y=\"-174.3\" font-family=\"Helvetica,sans-Serif\" font-size=\"14.00\"> [TEXT]</text>\n",
       "<polygon fill=\"none\" stroke=\"black\" points=\"228.5,-139.5 228.5,-164.5 374.5,-164.5 374.5,-139.5 228.5,-139.5\"/>\n",
       "<text text-anchor=\"start\" x=\"233.5\" y=\"-149.3\" font-family=\"Helvetica,sans-Serif\" font-size=\"14.00\">enregistreur</text>\n",
       "<text text-anchor=\"start\" x=\"318.5\" y=\"-149.3\" font-family=\"Helvetica,sans-Serif\" font-size=\"14.00\"> [TEXT]</text>\n",
       "</g>\n",
       "<!-- piezometres&#45;&#45;niveaux -->\n",
       "<g id=\"edge1\" class=\"edge\">\n",
       "<title>piezometres--niveaux</title>\n",
       "<path fill=\"none\" stroke=\"#7f7f7f\" stroke-dasharray=\"5,2\" d=\"M382.82,-180.58C406.45,-181.19 432.27,-181.86 455.78,-182.47\"/>\n",
       "<text text-anchor=\"start\" x=\"414.78\" y=\"-171.27\" font-family=\"Times,serif\" font-size=\"14.00\">{0,1}</text>\n",
       "<text text-anchor=\"start\" x=\"382.82\" y=\"-169.38\" font-family=\"Times,serif\" font-size=\"14.00\">0..N</text>\n",
       "</g>\n",
       "<!-- ouvrages -->\n",
       "<g id=\"node3\" class=\"node\">\n",
       "<title>ouvrages</title>\n",
       "<polygon fill=\"none\" stroke=\"black\" points=\"8.5,-125.5 8.5,-153.5 139.5,-153.5 139.5,-125.5 8.5,-125.5\"/>\n",
       "<text text-anchor=\"start\" x=\"32\" y=\"-136.7\" font-family=\"Helvetica,sans-Serif\" font-weight=\"bold\" font-size=\"16.00\">ouvrages</text>\n",
       "<polygon fill=\"none\" stroke=\"black\" points=\"8.5,-100.5 8.5,-125.5 139.5,-125.5 139.5,-100.5 8.5,-100.5\"/>\n",
       "<text text-anchor=\"start\" x=\"13.5\" y=\"-110.3\" font-family=\"Helvetica,sans-Serif\" text-decoration=\"underline\" font-size=\"14.00\">nom</text>\n",
       "<text text-anchor=\"start\" x=\"44.5\" y=\"-110.3\" font-family=\"Helvetica,sans-Serif\" font-size=\"14.00\"> [TEXT]</text>\n",
       "<polygon fill=\"none\" stroke=\"black\" points=\"8.5,-75.5 8.5,-100.5 139.5,-100.5 139.5,-75.5 8.5,-75.5\"/>\n",
       "<text text-anchor=\"start\" x=\"13.5\" y=\"-85.3\" font-family=\"Helvetica,sans-Serif\" font-size=\"14.00\">commune</text>\n",
       "<text text-anchor=\"start\" x=\"83.5\" y=\"-85.3\" font-family=\"Helvetica,sans-Serif\" font-size=\"14.00\"> [TEXT]</text>\n",
       "</g>\n",
       "<!-- ouvrages&#45;&#45;piezometres -->\n",
       "<g id=\"edge2\" class=\"edge\">\n",
       "<title>ouvrages--piezometres</title>\n",
       "<path fill=\"none\" stroke=\"#7f7f7f\" stroke-dasharray=\"5,2\" d=\"M147.25,-135.1C170.61,-141.72 196.6,-149.08 220.45,-155.83\"/>\n",
       "<text text-anchor=\"start\" x=\"179.45\" y=\"-144.63\" font-family=\"Times,serif\" font-size=\"14.00\">{0,1}</text>\n",
       "<text text-anchor=\"start\" x=\"147.25\" y=\"-123.9\" font-family=\"Times,serif\" font-size=\"14.00\">0..N</text>\n",
       "</g>\n",
       "<!-- puits_captages -->\n",
       "<g id=\"node4\" class=\"node\">\n",
       "<title>puits_captages</title>\n",
       "<polygon fill=\"none\" stroke=\"black\" points=\"228.5,-73.5 228.5,-101.5 375.5,-101.5 375.5,-73.5 228.5,-73.5\"/>\n",
       "<text text-anchor=\"start\" x=\"234.5\" y=\"-84.7\" font-family=\"Helvetica,sans-Serif\" font-weight=\"bold\" font-size=\"16.00\">puits_captages</text>\n",
       "<polygon fill=\"none\" stroke=\"black\" points=\"228.5,-48.5 228.5,-73.5 375.5,-73.5 375.5,-48.5 228.5,-48.5\"/>\n",
       "<text text-anchor=\"start\" x=\"233.5\" y=\"-58.3\" font-family=\"Helvetica,sans-Serif\" text-decoration=\"underline\" font-size=\"14.00\">nom</text>\n",
       "<text text-anchor=\"start\" x=\"264.5\" y=\"-58.3\" font-family=\"Helvetica,sans-Serif\" font-size=\"14.00\"> [TEXT]</text>\n",
       "<polygon fill=\"none\" stroke=\"black\" points=\"228.5,-23.5 228.5,-48.5 375.5,-48.5 375.5,-23.5 228.5,-23.5\"/>\n",
       "<text text-anchor=\"start\" x=\"233.5\" y=\"-33.3\" font-family=\"Helvetica,sans-Serif\" font-size=\"14.00\">type_pompe</text>\n",
       "<text text-anchor=\"start\" x=\"319.5\" y=\"-33.3\" font-family=\"Helvetica,sans-Serif\" font-size=\"14.00\"> [TEXT]</text>\n",
       "</g>\n",
       "<!-- ouvrages&#45;&#45;puits_captages -->\n",
       "<g id=\"edge3\" class=\"edge\">\n",
       "<title>ouvrages--puits_captages</title>\n",
       "<path fill=\"none\" stroke=\"#7f7f7f\" stroke-dasharray=\"5,2\" d=\"M147.25,-97.76C170.35,-92.45 196.03,-86.54 219.66,-81.1\"/>\n",
       "<text text-anchor=\"start\" x=\"178.66\" y=\"-69.9\" font-family=\"Times,serif\" font-size=\"14.00\">{0,1}</text>\n",
       "<text text-anchor=\"start\" x=\"147.25\" y=\"-86.56\" font-family=\"Times,serif\" font-size=\"14.00\">0..N</text>\n",
       "</g>\n",
       "<!-- prelevements -->\n",
       "<g id=\"node5\" class=\"node\">\n",
       "<title>prelevements</title>\n",
       "<polygon fill=\"none\" stroke=\"black\" points=\"468,-78.5 468,-106.5 602,-106.5 602,-78.5 468,-78.5\"/>\n",
       "<text text-anchor=\"start\" x=\"473.5\" y=\"-89.7\" font-family=\"Helvetica,sans-Serif\" font-weight=\"bold\" font-size=\"16.00\">prelevements</text>\n",
       "<polygon fill=\"none\" stroke=\"black\" points=\"468,-53.5 468,-78.5 602,-78.5 602,-53.5 468,-53.5\"/>\n",
       "<text text-anchor=\"start\" x=\"473\" y=\"-63.3\" font-family=\"Helvetica,sans-Serif\" text-decoration=\"underline\" font-size=\"14.00\">nom_puits</text>\n",
       "<text text-anchor=\"start\" x=\"546\" y=\"-63.3\" font-family=\"Helvetica,sans-Serif\" font-size=\"14.00\"> [TEXT]</text>\n",
       "<polygon fill=\"none\" stroke=\"black\" points=\"468,-28.5 468,-53.5 602,-53.5 602,-28.5 468,-28.5\"/>\n",
       "<text text-anchor=\"start\" x=\"473\" y=\"-38.3\" font-family=\"Helvetica,sans-Serif\" text-decoration=\"underline\" font-size=\"14.00\">annee</text>\n",
       "<text text-anchor=\"start\" x=\"516\" y=\"-38.3\" font-family=\"Helvetica,sans-Serif\" font-size=\"14.00\"> [INTEGER]</text>\n",
       "<polygon fill=\"none\" stroke=\"black\" points=\"468,-3.5 468,-28.5 602,-28.5 602,-3.5 468,-3.5\"/>\n",
       "<text text-anchor=\"start\" x=\"473\" y=\"-13.3\" font-family=\"Helvetica,sans-Serif\" font-size=\"14.00\">volume</text>\n",
       "<text text-anchor=\"start\" x=\"525\" y=\"-13.3\" font-family=\"Helvetica,sans-Serif\" font-size=\"14.00\"> [REAL]</text>\n",
       "</g>\n",
       "<!-- puits_captages&#45;&#45;prelevements -->\n",
       "<g id=\"edge4\" class=\"edge\">\n",
       "<title>puits_captages--prelevements</title>\n",
       "<path fill=\"none\" stroke=\"#7f7f7f\" stroke-dasharray=\"5,2\" d=\"M383.14,-60.06C408.07,-59.31 435.39,-58.48 459.85,-57.74\"/>\n",
       "<text text-anchor=\"start\" x=\"418.85\" y=\"-46.54\" font-family=\"Times,serif\" font-size=\"14.00\">{0,1}</text>\n",
       "<text text-anchor=\"start\" x=\"383.14\" y=\"-48.86\" font-family=\"Times,serif\" font-size=\"14.00\">0..N</text>\n",
       "</g>\n",
       "</g>\n",
       "</svg>"
      ],
      "text/plain": [
       "<IPython.core.display.SVG object>"
      ]
     },
     "execution_count": 13,
     "metadata": {},
     "output_type": "execute_result"
    }
   ],
   "source": [
    "# @solution @reveal\n",
    "# Draw schema from database\n",
    "render_er('sqlite:///example_db.db', 'example_db_schema.svg')\n",
    "SVG('example_db_schema.svg')"
   ]
  },
  {
   "cell_type": "markdown",
   "metadata": {},
   "source": [
    "## @subsection | Afficher la liste des tables de la base de données\n",
    "<div class=\"alert alert-block alert-info\">\n",
    "    <b>Tip:</b> sqlite_master est une table particulière dans laquelle SQLite stocke les informations propres à la structure de la base de données\n",
    "</div>  "
   ]
  },
  {
   "cell_type": "code",
   "execution_count": 14,
   "metadata": {
    "scrolled": true
   },
   "outputs": [
    {
     "name": "stdout",
     "output_type": "stream",
     "text": [
      " * sqlite:///example_db.db\n",
      "Done.\n"
     ]
    },
    {
     "data": {
      "text/html": [
       "<table>\n",
       "    <tr>\n",
       "        <th>name</th>\n",
       "        <th>sql</th>\n",
       "    </tr>\n",
       "    <tr>\n",
       "        <td>niveaux</td>\n",
       "        <td>CREATE TABLE niveaux(nom_piezo TEXT, date_releve DATE, niveau REAL, PRIMARY KEY(nom_piezo, date_releve), FOREIGN KEY(nom_piezo) REFERENCES piezometres(nom) ON DELETE CASCADE)</td>\n",
       "    </tr>\n",
       "    <tr>\n",
       "        <td>ouvrages</td>\n",
       "        <td>CREATE TABLE ouvrages( nom TEXT PRIMARY KEY,<br>    commune TEXT  <br>)</td>\n",
       "    </tr>\n",
       "    <tr>\n",
       "        <td>piezometres</td>\n",
       "        <td>CREATE TABLE piezometres( nom TEXT, <br>    enregistreur TEXT,<br>    PRIMARY KEY(nom),<br>    FOREIGN KEY(nom) REFERENCES ouvrages(nom) ON DELETE CASCADE<br>)</td>\n",
       "    </tr>\n",
       "    <tr>\n",
       "        <td>prelevements</td>\n",
       "        <td>CREATE TABLE prelevements( nom_puits TEXT,<br>    annee INTEGER,<br>    volume REAL,<br>    PRIMARY KEY(nom_puits, annee),<br>    FOREIGN KEY(nom_puits) REFERENCES puits_captages(nom) ON DELETE CASCADE<br>    )</td>\n",
       "    </tr>\n",
       "    <tr>\n",
       "        <td>puits_captages</td>\n",
       "        <td>CREATE TABLE puits_captages( nom TEXT,<br>    type_pompe TEXT,<br>    PRIMARY KEY(nom),<br>    FOREIGN KEY(nom) REFERENCES ouvrages(nom) ON DELETE CASCADE<br>)</td>\n",
       "    </tr>\n",
       "</table>"
      ],
      "text/plain": [
       "[('niveaux', 'CREATE TABLE niveaux(nom_piezo TEXT, date_releve DATE, niveau REAL, PRIMARY KEY(nom_piezo, date_releve), FOREIGN KEY(nom_piezo) REFERENCES piezometres(nom) ON DELETE CASCADE)'),\n",
       " ('ouvrages', 'CREATE TABLE ouvrages( nom TEXT PRIMARY KEY,\\n    commune TEXT  \\n)'),\n",
       " ('piezometres', 'CREATE TABLE piezometres( nom TEXT, \\n    enregistreur TEXT,\\n    PRIMARY KEY(nom),\\n    FOREIGN KEY(nom) REFERENCES ouvrages(nom) ON DELETE CASCADE\\n)'),\n",
       " ('prelevements', 'CREATE TABLE prelevements( nom_puits TEXT,\\n    annee INTEGER,\\n    volume REAL,\\n    PRIMARY KEY(nom_puits, annee),\\n    FOREIGN KEY(nom_puits) REFERENCES puits_captages(nom) ON DELETE CASCADE\\n    )'),\n",
       " ('puits_captages', 'CREATE TABLE puits_captages( nom TEXT,\\n    type_pompe TEXT,\\n    PRIMARY KEY(nom),\\n    FOREIGN KEY(nom) REFERENCES ouvrages(nom) ON DELETE CASCADE\\n)')]"
      ]
     },
     "execution_count": 14,
     "metadata": {},
     "output_type": "execute_result"
    }
   ],
   "source": [
    "%%sql\n",
    "SELECT name, sql FROM sqlite_master\n",
    "WHERE type='table'\n",
    "ORDER BY name;"
   ]
  }
 ],
 "metadata": {
  "kernelspec": {
   "display_name": "Python 3 (ipykernel)",
   "language": "python",
   "name": "python3"
  },
  "language_info": {
   "codemirror_mode": {
    "name": "ipython",
    "version": 3
   },
   "file_extension": ".py",
   "mimetype": "text/x-python",
   "name": "python",
   "nbconvert_exporter": "python",
   "pygments_lexer": "ipython3",
   "version": "3.8.10"
  }
 },
 "nbformat": 4,
 "nbformat_minor": 1
}
