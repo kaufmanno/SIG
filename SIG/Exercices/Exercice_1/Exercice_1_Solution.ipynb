{
 "cells": [
  {
   "cell_type": "markdown",
   "metadata": {},
   "source": [
    "# Exercice 1: Création et manipulation d'une base de données simple\n",
    "O. Kaufmann 2018, 2022.\n",
    "\n",
    "<div class=\"alert alert-block alert-info\">\n",
    "    <b>Tip:</b> Exécuter une à une les cellules déjà présentes en prenant soin de comprendre leur contenu.<br>\n",
    "    Compléter le notebook là où c'est nécessaire. Un encadré vert expliquant le complément attendu précède la section à compléter.\n",
    "</div>\n",
    "\n",
    "<div class=\"alert alert-block alert-warning\">\n",
    "    <b>Avertissement:</b><br> Ce notebook nécessite que votre environnement virtuel soit actif et à jour, vous aurez besoin des packages matplotlib, ipython-sql, pandas et eralchemy...<br>\n",
    "</div> "
   ]
  },
  {
   "cell_type": "markdown",
   "metadata": {},
   "source": [
    "## @section | Initialisation du notebook"
   ]
  },
  {
   "cell_type": "code",
   "execution_count": 1,
   "metadata": {},
   "outputs": [],
   "source": [
    "### @manage_solutions"
   ]
  },
  {
   "cell_type": "markdown",
   "metadata": {},
   "source": [
    "### @subsection | Chargement des <i>packages</i> python"
   ]
  },
  {
   "cell_type": "markdown",
   "metadata": {},
   "source": [
    "There should be a tip below..."
   ]
  },
  {
   "cell_type": "markdown",
   "metadata": {},
   "source": [
    "### @tip\n",
    "This is a test"
   ]
  },
  {
   "cell_type": "markdown",
   "metadata": {},
   "source": [
    "### @tip\n",
    "    <i>matplotlib</i> sert à créer des graphiques au départ de données<br>\n",
    "    <i>pandas</i> sert à manipuler des tableaux<br>\n",
    "    <i>render_er</i> sert à créer une représentation graphique de la base de données<br> \n",
    "    <i>SVG</i> sert à afficher des graphiques SVG dans le notebook"
   ]
  },
  {
   "cell_type": "code",
   "execution_count": 2,
   "metadata": {},
   "outputs": [],
   "source": [
    "%matplotlib inline\n",
    "import matplotlib.pyplot as plt\n",
    "import pandas as pd\n",
    "from eralchemy import render_er\n",
    "from IPython.display import SVG, Image"
   ]
  },
  {
   "cell_type": "markdown",
   "metadata": {},
   "source": [
    "### @subsection | Chargement de l'extension sql pour jupyter et ouverture d'une base de donnée sqlite3"
   ]
  },
  {
   "cell_type": "markdown",
   "metadata": {},
   "source": [
    "Charger l'extension de Jupyter pour traiter SQL"
   ]
  },
  {
   "cell_type": "code",
   "execution_count": 3,
   "metadata": {},
   "outputs": [],
   "source": [
    "%load_ext sql"
   ]
  },
  {
   "cell_type": "markdown",
   "metadata": {},
   "source": [
    "Obtenir de l'aide sur une fonction dans un notebook avec '?'"
   ]
  },
  {
   "cell_type": "raw",
   "metadata": {},
   "source": [
    "? %%sql"
   ]
  },
  {
   "cell_type": "markdown",
   "metadata": {},
   "source": [
    "Effacer le fichier de la base de données si il existe...\n",
    "\n",
    "### @tip\n",
    "    Le point d'exclamation en début de ligne permet d'exécuter des commandes bash depuis le notebook"
   ]
  },
  {
   "cell_type": "code",
   "execution_count": 4,
   "metadata": {},
   "outputs": [],
   "source": [
    "! rm example_db.db"
   ]
  },
  {
   "cell_type": "markdown",
   "metadata": {},
   "source": [
    "Création d'une base de données vide (car elle n'existe pas puisqu'on vient d'effacer le fichier!)  \n",
    "### @tip\n",
    "    Si le fichier existait, on pourrait se connecter à la base existante de la même façon..."
   ]
  },
  {
   "cell_type": "code",
   "execution_count": 5,
   "metadata": {},
   "outputs": [],
   "source": [
    "%sql sqlite:///example_db.db"
   ]
  },
  {
   "cell_type": "markdown",
   "metadata": {},
   "source": [
    "## @subsection | Création des tables"
   ]
  },
  {
   "cell_type": "code",
   "execution_count": 6,
   "metadata": {},
   "outputs": [
    {
     "name": "stdout",
     "output_type": "stream",
     "text": [
      " * sqlite:///example_db.db\n",
      "Done.\n"
     ]
    },
    {
     "data": {
      "text/plain": [
       "[]"
      ]
     },
     "execution_count": 6,
     "metadata": {},
     "output_type": "execute_result"
    }
   ],
   "source": [
    "%%sql \n",
    "CREATE TABLE ouvrages(\n",
    "    nom TEXT PRIMARY KEY,\n",
    "    commune TEXT  \n",
    ");"
   ]
  },
  {
   "cell_type": "code",
   "execution_count": 7,
   "metadata": {},
   "outputs": [
    {
     "name": "stdout",
     "output_type": "stream",
     "text": [
      " * sqlite:///example_db.db\n",
      "Done.\n"
     ]
    },
    {
     "data": {
      "text/plain": [
       "[]"
      ]
     },
     "execution_count": 7,
     "metadata": {},
     "output_type": "execute_result"
    }
   ],
   "source": [
    "%%sql\n",
    "CREATE TABLE piezometres(\n",
    "    nom TEXT, \n",
    "    enregistreur TEXT,\n",
    "    PRIMARY KEY(nom),\n",
    "    FOREIGN KEY(nom) REFERENCES ouvrages(nom) ON DELETE CASCADE\n",
    ");"
   ]
  },
  {
   "cell_type": "code",
   "execution_count": 8,
   "metadata": {},
   "outputs": [
    {
     "name": "stdout",
     "output_type": "stream",
     "text": [
      " * sqlite:///example_db.db\n",
      "Done.\n"
     ]
    },
    {
     "data": {
      "text/plain": [
       "[]"
      ]
     },
     "execution_count": 8,
     "metadata": {},
     "output_type": "execute_result"
    }
   ],
   "source": [
    "%%sql\n",
    "CREATE TABLE puits_captages(\n",
    "    nom TEXT,\n",
    "    type_pompe TEXT,\n",
    "    PRIMARY KEY(nom),\n",
    "    FOREIGN KEY(nom) REFERENCES ouvrages(nom) ON DELETE CASCADE\n",
    ");"
   ]
  },
  {
   "cell_type": "code",
   "execution_count": 9,
   "metadata": {},
   "outputs": [
    {
     "name": "stdout",
     "output_type": "stream",
     "text": [
      " * sqlite:///example_db.db\n",
      "Done.\n"
     ]
    },
    {
     "data": {
      "text/plain": [
       "[]"
      ]
     },
     "execution_count": 9,
     "metadata": {},
     "output_type": "execute_result"
    }
   ],
   "source": [
    "%%sql\n",
    "CREATE TABLE prelevements(\n",
    "    nom_puits TEXT,\n",
    "    annee INTEGER,\n",
    "    volume REAL,\n",
    "    PRIMARY KEY(nom_puits, annee),\n",
    "    FOREIGN KEY(nom_puits) REFERENCES puits_captages(nom) ON DELETE CASCADE\n",
    "    );"
   ]
  },
  {
   "cell_type": "markdown",
   "metadata": {},
   "source": [
    "### @subsection | Afficher le schéma de la base de données sous forme graphique"
   ]
  },
  {
   "cell_type": "markdown",
   "metadata": {},
   "source": [
    "### @tip\n",
    "    render_er crée un fichier image au format \".png\" du schéma de la base de données qui est ensuite affiché dans le notebook avec la méthode Image().\n",
    "    Il est aussi possible de générer un schéma dans un fichier image vectoriel au format \".svg\" (Scalable Vector Graphics). Le fichier ainsi créé peut être affiché avec la méthode SVG(). "
   ]
  },
  {
   "cell_type": "code",
   "execution_count": 10,
   "metadata": {},
   "outputs": [
    {
     "data": {
      "image/png": "[encoded data removed]",
      "text/plain": [
       "<IPython.core.display.Image object>"
      ]
     },
     "execution_count": 10,
     "metadata": {},
     "output_type": "execute_result"
    }
   ],
   "source": [
    "render_er('sqlite:///example_db.db', 'example_db_schema.png')\n",
    "Image(filename='example_db_schema.png')"
   ]
  },
  {
   "cell_type": "markdown",
   "metadata": {},
   "source": [
    "## @question\n",
    "Ajouter la définition de la table \"niveaux\" reprenant les niveaux relevés dans les piezomètres.<br> \n",
    "Les champs seront nommés \"nom_piezo\", \"date_releve\" et \"niveau\"."
   ]
  },
  {
   "cell_type": "code",
   "execution_count": 11,
   "metadata": {},
   "outputs": [
    {
     "name": "stdout",
     "output_type": "stream",
     "text": [
      " * sqlite:///example_db.db\n",
      "Done.\n"
     ]
    },
    {
     "data": {
      "text/plain": [
       "[]"
      ]
     },
     "execution_count": 11,
     "metadata": {},
     "output_type": "execute_result"
    }
   ],
   "source": [
    "# @solution @keep_output\n",
    "%sql CREATE TABLE niveaux(nom_piezo TEXT, date_releve DATE, niveau REAL, PRIMARY KEY(nom_piezo, date_releve), FOREIGN KEY(nom_piezo) REFERENCES piezometres(nom) ON DELETE CASCADE); "
   ]
  },
  {
   "cell_type": "markdown",
   "metadata": {},
   "source": [
    "## @subsection |  Activer de l'intégrité référentielle\n",
    "<div class=\"alert alert-block alert-info\">\n",
    "    <b>Tip:</b> pour des raisons de rétro-compatibilité, l'intégrité référentielle n'est pas activée par défaut dans sqlite...\n",
    "</div>  "
   ]
  },
  {
   "cell_type": "code",
   "execution_count": 12,
   "metadata": {},
   "outputs": [
    {
     "name": "stdout",
     "output_type": "stream",
     "text": [
      " * sqlite:///example_db.db\n",
      "Done.\n",
      "Done.\n"
     ]
    },
    {
     "data": {
      "text/html": [
       "<table>\n",
       "    <tr>\n",
       "        <th>foreign_keys</th>\n",
       "    </tr>\n",
       "    <tr>\n",
       "        <td>1</td>\n",
       "    </tr>\n",
       "</table>"
      ],
      "text/plain": [
       "[(1,)]"
      ]
     },
     "execution_count": 12,
     "metadata": {},
     "output_type": "execute_result"
    }
   ],
   "source": [
    "%%sql\n",
    "PRAGMA foreign_keys = ON;\n",
    "PRAGMA foreign_keys;"
   ]
  },
  {
   "cell_type": "markdown",
   "metadata": {},
   "source": [
    "## @subsection | Afficher le schéma complété sous forme graphique"
   ]
  },
  {
   "cell_type": "markdown",
   "metadata": {},
   "source": [
    "<div class=\"alert alert-block alert-success\">\n",
    "    Ajouter les commandes nécessaires pour afficher le schéma complété de la base de données en utilisant le format \".svg\"\n",
    "</div>  "
   ]
  },
  {
   "cell_type": "code",
   "execution_count": 13,
   "metadata": {},
   "outputs": [
    {
     "data": {
      "image/svg+xml": [
       "<svg xmlns=\"http://www.w3.org/2000/svg\" xmlns:xlink=\"http://www.w3.org/1999/xlink\" width=\"622pt\" height=\"248pt\" viewBox=\"0.00 0.00 622.00 248.00\">\n",
       "<g id=\"graph0\" class=\"graph\" transform=\"scale(1 1) rotate(0) translate(4 244)\">\n",
       "<title>%3</title>\n",
       "<polygon fill=\"white\" stroke=\"transparent\" points=\"-4,4 -4,-244 618,-244 618,4 -4,4\"/>\n",
       "<!-- niveaux -->\n",
       "<g id=\"node1\" class=\"node\">\n",
       "<title>niveaux</title>\n",
       "<polygon fill=\"none\" stroke=\"black\" points=\"464,-207.5 464,-235.5 606,-235.5 606,-207.5 464,-207.5\"/>\n",
       "<text text-anchor=\"start\" x=\"500\" y=\"-218.7\" font-family=\"Helvetica,sans-Serif\" font-weight=\"bold\" font-size=\"16.00\">niveaux</text>\n",
       "<polygon fill=\"none\" stroke=\"black\" points=\"464,-182.5 464,-207.5 606,-207.5 606,-182.5 464,-182.5\"/>\n",
       "<text text-anchor=\"start\" x=\"469\" y=\"-192.3\" font-family=\"Helvetica,sans-Serif\" text-decoration=\"underline\" font-size=\"14.00\">nom_piezo</text>\n",
       "<text text-anchor=\"start\" x=\"544\" y=\"-192.3\" font-family=\"Helvetica,sans-Serif\" font-size=\"14.00\"> [TEXT]</text>\n",
       "<polygon fill=\"none\" stroke=\"black\" points=\"464,-157.5 464,-182.5 606,-182.5 606,-157.5 464,-157.5\"/>\n",
       "<text text-anchor=\"start\" x=\"469\" y=\"-167.3\" font-family=\"Helvetica,sans-Serif\" text-decoration=\"underline\" font-size=\"14.00\">date_releve</text>\n",
       "<text text-anchor=\"start\" x=\"549\" y=\"-167.3\" font-family=\"Helvetica,sans-Serif\" font-size=\"14.00\"> [DATE]</text>\n",
       "<polygon fill=\"none\" stroke=\"black\" points=\"464,-132.5 464,-157.5 606,-157.5 606,-132.5 464,-132.5\"/>\n",
       "<text text-anchor=\"start\" x=\"469\" y=\"-142.3\" font-family=\"Helvetica,sans-Serif\" font-size=\"14.00\">niveau</text>\n",
       "<text text-anchor=\"start\" x=\"516\" y=\"-142.3\" font-family=\"Helvetica,sans-Serif\" font-size=\"14.00\"> [REAL]</text>\n",
       "</g>\n",
       "<!-- piezometres -->\n",
       "<g id=\"node2\" class=\"node\">\n",
       "<title>piezometres</title>\n",
       "<polygon fill=\"none\" stroke=\"black\" points=\"228.5,-189.5 228.5,-217.5 374.5,-217.5 374.5,-189.5 228.5,-189.5\"/>\n",
       "<text text-anchor=\"start\" x=\"246\" y=\"-200.7\" font-family=\"Helvetica,sans-Serif\" font-weight=\"bold\" font-size=\"16.00\">piezometres</text>\n",
       "<polygon fill=\"none\" stroke=\"black\" points=\"228.5,-164.5 228.5,-189.5 374.5,-189.5 374.5,-164.5 228.5,-164.5\"/>\n",
       "<text text-anchor=\"start\" x=\"233.5\" y=\"-174.3\" font-family=\"Helvetica,sans-Serif\" text-decoration=\"underline\" font-size=\"14.00\">nom</text>\n",
       "<text text-anchor=\"start\" x=\"264.5\" y=\"-174.3\" font-family=\"Helvetica,sans-Serif\" font-size=\"14.00\"> [TEXT]</text>\n",
       "<polygon fill=\"none\" stroke=\"black\" points=\"228.5,-139.5 228.5,-164.5 374.5,-164.5 374.5,-139.5 228.5,-139.5\"/>\n",
       "<text text-anchor=\"start\" x=\"233.5\" y=\"-149.3\" font-family=\"Helvetica,sans-Serif\" font-size=\"14.00\">enregistreur</text>\n",
       "<text text-anchor=\"start\" x=\"318.5\" y=\"-149.3\" font-family=\"Helvetica,sans-Serif\" font-size=\"14.00\"> [TEXT]</text>\n",
       "</g>\n",
       "<!-- piezometres&#45;&#45;niveaux -->\n",
       "<g id=\"edge1\" class=\"edge\">\n",
       "<title>piezometres--niveaux</title>\n",
       "<path fill=\"none\" stroke=\"#7f7f7f\" stroke-dasharray=\"5,2\" d=\"M382.82,-180.58C406.45,-181.19 432.27,-181.86 455.78,-182.47\"/>\n",
       "<text text-anchor=\"start\" x=\"414.78\" y=\"-171.27\" font-family=\"Times,serif\" font-size=\"14.00\">{0,1}</text>\n",
       "<text text-anchor=\"start\" x=\"382.82\" y=\"-169.38\" font-family=\"Times,serif\" font-size=\"14.00\">0..N</text>\n",
       "</g>\n",
       "<!-- ouvrages -->\n",
       "<g id=\"node3\" class=\"node\">\n",
       "<title>ouvrages</title>\n",
       "<polygon fill=\"none\" stroke=\"black\" points=\"8.5,-125.5 8.5,-153.5 139.5,-153.5 139.5,-125.5 8.5,-125.5\"/>\n",
       "<text text-anchor=\"start\" x=\"32\" y=\"-136.7\" font-family=\"Helvetica,sans-Serif\" font-weight=\"bold\" font-size=\"16.00\">ouvrages</text>\n",
       "<polygon fill=\"none\" stroke=\"black\" points=\"8.5,-100.5 8.5,-125.5 139.5,-125.5 139.5,-100.5 8.5,-100.5\"/>\n",
       "<text text-anchor=\"start\" x=\"13.5\" y=\"-110.3\" font-family=\"Helvetica,sans-Serif\" text-decoration=\"underline\" font-size=\"14.00\">nom</text>\n",
       "<text text-anchor=\"start\" x=\"44.5\" y=\"-110.3\" font-family=\"Helvetica,sans-Serif\" font-size=\"14.00\"> [TEXT]</text>\n",
       "<polygon fill=\"none\" stroke=\"black\" points=\"8.5,-75.5 8.5,-100.5 139.5,-100.5 139.5,-75.5 8.5,-75.5\"/>\n",
       "<text text-anchor=\"start\" x=\"13.5\" y=\"-85.3\" font-family=\"Helvetica,sans-Serif\" font-size=\"14.00\">commune</text>\n",
       "<text text-anchor=\"start\" x=\"83.5\" y=\"-85.3\" font-family=\"Helvetica,sans-Serif\" font-size=\"14.00\"> [TEXT]</text>\n",
       "</g>\n",
       "<!-- ouvrages&#45;&#45;piezometres -->\n",
       "<g id=\"edge2\" class=\"edge\">\n",
       "<title>ouvrages--piezometres</title>\n",
       "<path fill=\"none\" stroke=\"#7f7f7f\" stroke-dasharray=\"5,2\" d=\"M147.25,-135.1C170.61,-141.72 196.6,-149.08 220.45,-155.83\"/>\n",
       "<text text-anchor=\"start\" x=\"179.45\" y=\"-144.63\" font-family=\"Times,serif\" font-size=\"14.00\">{0,1}</text>\n",
       "<text text-anchor=\"start\" x=\"147.25\" y=\"-123.9\" font-family=\"Times,serif\" font-size=\"14.00\">0..N</text>\n",
       "</g>\n",
       "<!-- puits_captages -->\n",
       "<g id=\"node4\" class=\"node\">\n",
       "<title>puits_captages</title>\n",
       "<polygon fill=\"none\" stroke=\"black\" points=\"228.5,-73.5 228.5,-101.5 375.5,-101.5 375.5,-73.5 228.5,-73.5\"/>\n",
       "<text text-anchor=\"start\" x=\"234.5\" y=\"-84.7\" font-family=\"Helvetica,sans-Serif\" font-weight=\"bold\" font-size=\"16.00\">puits_captages</text>\n",
       "<polygon fill=\"none\" stroke=\"black\" points=\"228.5,-48.5 228.5,-73.5 375.5,-73.5 375.5,-48.5 228.5,-48.5\"/>\n",
       "<text text-anchor=\"start\" x=\"233.5\" y=\"-58.3\" font-family=\"Helvetica,sans-Serif\" text-decoration=\"underline\" font-size=\"14.00\">nom</text>\n",
       "<text text-anchor=\"start\" x=\"264.5\" y=\"-58.3\" font-family=\"Helvetica,sans-Serif\" font-size=\"14.00\"> [TEXT]</text>\n",
       "<polygon fill=\"none\" stroke=\"black\" points=\"228.5,-23.5 228.5,-48.5 375.5,-48.5 375.5,-23.5 228.5,-23.5\"/>\n",
       "<text text-anchor=\"start\" x=\"233.5\" y=\"-33.3\" font-family=\"Helvetica,sans-Serif\" font-size=\"14.00\">type_pompe</text>\n",
       "<text text-anchor=\"start\" x=\"319.5\" y=\"-33.3\" font-family=\"Helvetica,sans-Serif\" font-size=\"14.00\"> [TEXT]</text>\n",
       "</g>\n",
       "<!-- ouvrages&#45;&#45;puits_captages -->\n",
       "<g id=\"edge3\" class=\"edge\">\n",
       "<title>ouvrages--puits_captages</title>\n",
       "<path fill=\"none\" stroke=\"#7f7f7f\" stroke-dasharray=\"5,2\" d=\"M147.25,-97.76C170.35,-92.45 196.03,-86.54 219.66,-81.1\"/>\n",
       "<text text-anchor=\"start\" x=\"178.66\" y=\"-69.9\" font-family=\"Times,serif\" font-size=\"14.00\">{0,1}</text>\n",
       "<text text-anchor=\"start\" x=\"147.25\" y=\"-86.56\" font-family=\"Times,serif\" font-size=\"14.00\">0..N</text>\n",
       "</g>\n",
       "<!-- prelevements -->\n",
       "<g id=\"node5\" class=\"node\">\n",
       "<title>prelevements</title>\n",
       "<polygon fill=\"none\" stroke=\"black\" points=\"468,-78.5 468,-106.5 602,-106.5 602,-78.5 468,-78.5\"/>\n",
       "<text text-anchor=\"start\" x=\"473.5\" y=\"-89.7\" font-family=\"Helvetica,sans-Serif\" font-weight=\"bold\" font-size=\"16.00\">prelevements</text>\n",
       "<polygon fill=\"none\" stroke=\"black\" points=\"468,-53.5 468,-78.5 602,-78.5 602,-53.5 468,-53.5\"/>\n",
       "<text text-anchor=\"start\" x=\"473\" y=\"-63.3\" font-family=\"Helvetica,sans-Serif\" text-decoration=\"underline\" font-size=\"14.00\">nom_puits</text>\n",
       "<text text-anchor=\"start\" x=\"546\" y=\"-63.3\" font-family=\"Helvetica,sans-Serif\" font-size=\"14.00\"> [TEXT]</text>\n",
       "<polygon fill=\"none\" stroke=\"black\" points=\"468,-28.5 468,-53.5 602,-53.5 602,-28.5 468,-28.5\"/>\n",
       "<text text-anchor=\"start\" x=\"473\" y=\"-38.3\" font-family=\"Helvetica,sans-Serif\" text-decoration=\"underline\" font-size=\"14.00\">annee</text>\n",
       "<text text-anchor=\"start\" x=\"516\" y=\"-38.3\" font-family=\"Helvetica,sans-Serif\" font-size=\"14.00\"> [INTEGER]</text>\n",
       "<polygon fill=\"none\" stroke=\"black\" points=\"468,-3.5 468,-28.5 602,-28.5 602,-3.5 468,-3.5\"/>\n",
       "<text text-anchor=\"start\" x=\"473\" y=\"-13.3\" font-family=\"Helvetica,sans-Serif\" font-size=\"14.00\">volume</text>\n",
       "<text text-anchor=\"start\" x=\"525\" y=\"-13.3\" font-family=\"Helvetica,sans-Serif\" font-size=\"14.00\"> [REAL]</text>\n",
       "</g>\n",
       "<!-- puits_captages&#45;&#45;prelevements -->\n",
       "<g id=\"edge4\" class=\"edge\">\n",
       "<title>puits_captages--prelevements</title>\n",
       "<path fill=\"none\" stroke=\"#7f7f7f\" stroke-dasharray=\"5,2\" d=\"M383.14,-60.06C408.07,-59.31 435.39,-58.48 459.85,-57.74\"/>\n",
       "<text text-anchor=\"start\" x=\"418.85\" y=\"-46.54\" font-family=\"Times,serif\" font-size=\"14.00\">{0,1}</text>\n",
       "<text text-anchor=\"start\" x=\"383.14\" y=\"-48.86\" font-family=\"Times,serif\" font-size=\"14.00\">0..N</text>\n",
       "</g>\n",
       "</g>\n",
       "</svg>"
      ],
      "text/plain": [
       "<IPython.core.display.SVG object>"
      ]
     },
     "execution_count": 13,
     "metadata": {},
     "output_type": "execute_result"
    }
   ],
   "source": [
    "# @solution @reveal\n",
    "# Draw schema from database\n",
    "render_er('sqlite:///example_db.db', 'example_db_schema.svg')\n",
    "SVG('example_db_schema.svg')"
   ]
  },
  {
   "cell_type": "markdown",
   "metadata": {},
   "source": [
    "## @subsection | Afficher la liste des tables de la base de données\n",
    "<div class=\"alert alert-block alert-info\">\n",
    "    <b>Tip:</b> sqlite_master est une table particulière dans laquelle SQLite stocke les informations propres à la structure de la base de données\n",
    "</div>  "
   ]
  },
  {
   "cell_type": "code",
   "execution_count": 14,
   "metadata": {
    "scrolled": true
   },
   "outputs": [
    {
     "name": "stdout",
     "output_type": "stream",
     "text": [
      " * sqlite:///example_db.db\n",
      "Done.\n"
     ]
    },
    {
     "data": {
      "text/html": [
       "<table>\n",
       "    <tr>\n",
       "        <th>name</th>\n",
       "        <th>sql</th>\n",
       "    </tr>\n",
       "    <tr>\n",
       "        <td>niveaux</td>\n",
       "        <td>CREATE TABLE niveaux(nom_piezo TEXT, date_releve DATE, niveau REAL, PRIMARY KEY(nom_piezo, date_releve), FOREIGN KEY(nom_piezo) REFERENCES piezometres(nom) ON DELETE CASCADE)</td>\n",
       "    </tr>\n",
       "    <tr>\n",
       "        <td>ouvrages</td>\n",
       "        <td>CREATE TABLE ouvrages( nom TEXT PRIMARY KEY,<br>    commune TEXT  <br>)</td>\n",
       "    </tr>\n",
       "    <tr>\n",
       "        <td>piezometres</td>\n",
       "        <td>CREATE TABLE piezometres( nom TEXT, <br>    enregistreur TEXT,<br>    PRIMARY KEY(nom),<br>    FOREIGN KEY(nom) REFERENCES ouvrages(nom) ON DELETE CASCADE<br>)</td>\n",
       "    </tr>\n",
       "    <tr>\n",
       "        <td>prelevements</td>\n",
       "        <td>CREATE TABLE prelevements( nom_puits TEXT,<br>    annee INTEGER,<br>    volume REAL,<br>    PRIMARY KEY(nom_puits, annee),<br>    FOREIGN KEY(nom_puits) REFERENCES puits_captages(nom) ON DELETE CASCADE<br>    )</td>\n",
       "    </tr>\n",
       "    <tr>\n",
       "        <td>puits_captages</td>\n",
       "        <td>CREATE TABLE puits_captages( nom TEXT,<br>    type_pompe TEXT,<br>    PRIMARY KEY(nom),<br>    FOREIGN KEY(nom) REFERENCES ouvrages(nom) ON DELETE CASCADE<br>)</td>\n",
       "    </tr>\n",
       "</table>"
      ],
      "text/plain": [
       "[('niveaux', 'CREATE TABLE niveaux(nom_piezo TEXT, date_releve DATE, niveau REAL, PRIMARY KEY(nom_piezo, date_releve), FOREIGN KEY(nom_piezo) REFERENCES piezometres(nom) ON DELETE CASCADE)'),\n",
       " ('ouvrages', 'CREATE TABLE ouvrages( nom TEXT PRIMARY KEY,\\n    commune TEXT  \\n)'),\n",
       " ('piezometres', 'CREATE TABLE piezometres( nom TEXT, \\n    enregistreur TEXT,\\n    PRIMARY KEY(nom),\\n    FOREIGN KEY(nom) REFERENCES ouvrages(nom) ON DELETE CASCADE\\n)'),\n",
       " ('prelevements', 'CREATE TABLE prelevements( nom_puits TEXT,\\n    annee INTEGER,\\n    volume REAL,\\n    PRIMARY KEY(nom_puits, annee),\\n    FOREIGN KEY(nom_puits) REFERENCES puits_captages(nom) ON DELETE CASCADE\\n    )'),\n",
       " ('puits_captages', 'CREATE TABLE puits_captages( nom TEXT,\\n    type_pompe TEXT,\\n    PRIMARY KEY(nom),\\n    FOREIGN KEY(nom) REFERENCES ouvrages(nom) ON DELETE CASCADE\\n)')]"
      ]
     },
     "execution_count": 14,
     "metadata": {},
     "output_type": "execute_result"
    }
   ],
   "source": [
    "%%sql\n",
    "SELECT name, sql FROM sqlite_master\n",
    "WHERE type='table'\n",
    "ORDER BY name;"
   ]
  },
  {
   "cell_type": "markdown",
   "metadata": {},
   "source": [
    "## @subsection | Insérer des données"
   ]
  },
  {
   "cell_type": "code",
   "execution_count": 15,
   "metadata": {},
   "outputs": [
    {
     "name": "stdout",
     "output_type": "stream",
     "text": [
      " * sqlite:///example_db.db\n",
      "1 rows affected.\n"
     ]
    },
    {
     "data": {
      "text/plain": [
       "[]"
      ]
     },
     "execution_count": 15,
     "metadata": {},
     "output_type": "execute_result"
    }
   ],
   "source": [
    "%%sql\n",
    "INSERT INTO ouvrages VALUES('A','Beloeil');"
   ]
  },
  {
   "cell_type": "markdown",
   "metadata": {},
   "source": [
    "<div class=\"alert alert-block alert-success\">\n",
    "    Insérer le fait que la pompe installée dans le captage A est du type RK822W\n",
    "</div>  "
   ]
  },
  {
   "cell_type": "code",
   "execution_count": 16,
   "metadata": {},
   "outputs": [
    {
     "name": "stdout",
     "output_type": "stream",
     "text": [
      " * sqlite:///example_db.db\n",
      "1 rows affected.\n"
     ]
    },
    {
     "data": {
      "text/plain": [
       "[]"
      ]
     },
     "execution_count": 16,
     "metadata": {},
     "output_type": "execute_result"
    }
   ],
   "source": [
    "# @solution @reveal\n",
    "%sql INSERT INTO puits_captages ('nom','type_pompe') VALUES ('A','RK822W');"
   ]
  },
  {
   "cell_type": "markdown",
   "metadata": {},
   "source": [
    "<div class=\"alert alert-block alert-success\">\n",
    "    Vérifier que l'information a bien été ajoutée\n",
    "</div>  "
   ]
  },
  {
   "cell_type": "code",
   "execution_count": 17,
   "metadata": {},
   "outputs": [
    {
     "name": "stdout",
     "output_type": "stream",
     "text": [
      " * sqlite:///example_db.db\n",
      "Done.\n"
     ]
    },
    {
     "data": {
      "text/html": [
       "<table>\n",
       "    <tr>\n",
       "        <th>nom</th>\n",
       "        <th>type_pompe</th>\n",
       "    </tr>\n",
       "    <tr>\n",
       "        <td>A</td>\n",
       "        <td>RK822W</td>\n",
       "    </tr>\n",
       "</table>"
      ],
      "text/plain": [
       "[('A', 'RK822W')]"
      ]
     },
     "execution_count": 17,
     "metadata": {},
     "output_type": "execute_result"
    }
   ],
   "source": [
    "# @solution @reveal\n",
    "%sql SELECT * FROM puits_captages;"
   ]
  },
  {
   "cell_type": "markdown",
   "metadata": {},
   "source": [
    "## @subsection | Effacer un enregistrement et ceux qui y sont liés en cascade"
   ]
  },
  {
   "cell_type": "code",
   "execution_count": 18,
   "metadata": {},
   "outputs": [
    {
     "name": "stdout",
     "output_type": "stream",
     "text": [
      " * sqlite:///example_db.db\n",
      "1 rows affected.\n"
     ]
    },
    {
     "data": {
      "text/plain": [
       "[]"
      ]
     },
     "execution_count": 18,
     "metadata": {},
     "output_type": "execute_result"
    }
   ],
   "source": [
    "%%sql\n",
    "DELETE FROM ouvrages WHERE nom='A';"
   ]
  },
  {
   "cell_type": "markdown",
   "metadata": {},
   "source": [
    "<div class=\"alert alert-block alert-success\">\n",
    "    Ecrire une requête pour contrôler que l'integrité référentielle a bien fonctionné\n",
    "</div>  "
   ]
  },
  {
   "cell_type": "code",
   "execution_count": 19,
   "metadata": {},
   "outputs": [
    {
     "name": "stdout",
     "output_type": "stream",
     "text": [
      " * sqlite:///example_db.db\n",
      "Done.\n"
     ]
    },
    {
     "data": {
      "text/html": [
       "<table>\n",
       "    <tr>\n",
       "        <th>nom</th>\n",
       "        <th>type_pompe</th>\n",
       "    </tr>\n",
       "</table>"
      ],
      "text/plain": [
       "[]"
      ]
     },
     "execution_count": 19,
     "metadata": {},
     "output_type": "execute_result"
    }
   ],
   "source": [
    "# @solution @reveal\n",
    "%sql SELECT * FROM puits_captages;"
   ]
  },
  {
   "cell_type": "markdown",
   "metadata": {},
   "source": [
    "## @subsection | Insertion des valeurs dans la table des ouvrages"
   ]
  },
  {
   "cell_type": "code",
   "execution_count": 20,
   "metadata": {},
   "outputs": [
    {
     "name": "stdout",
     "output_type": "stream",
     "text": [
      " * sqlite:///example_db.db\n",
      "1 rows affected.\n",
      "1 rows affected.\n",
      "1 rows affected.\n",
      "1 rows affected.\n",
      "1 rows affected.\n"
     ]
    },
    {
     "data": {
      "text/plain": [
       "[]"
      ]
     },
     "execution_count": 20,
     "metadata": {},
     "output_type": "execute_result"
    }
   ],
   "source": [
    "%%sql\n",
    "INSERT INTO ouvrages VALUES('A','Beloeil');\n",
    "INSERT INTO ouvrages VALUES('B','Mons');\n",
    "INSERT INTO ouvrages VALUES('C','Quevaucamps');\n",
    "INSERT INTO ouvrages VALUES('D','Ciply');\n",
    "INSERT INTO ouvrages VALUES('E','Hyon');"
   ]
  },
  {
   "cell_type": "code",
   "execution_count": 21,
   "metadata": {},
   "outputs": [
    {
     "name": "stdout",
     "output_type": "stream",
     "text": [
      " * sqlite:///example_db.db\n",
      "Done.\n"
     ]
    },
    {
     "data": {
      "text/html": [
       "<table>\n",
       "    <tr>\n",
       "        <th>nom</th>\n",
       "        <th>commune</th>\n",
       "    </tr>\n",
       "    <tr>\n",
       "        <td>A</td>\n",
       "        <td>Beloeil</td>\n",
       "    </tr>\n",
       "    <tr>\n",
       "        <td>B</td>\n",
       "        <td>Mons</td>\n",
       "    </tr>\n",
       "    <tr>\n",
       "        <td>C</td>\n",
       "        <td>Quevaucamps</td>\n",
       "    </tr>\n",
       "    <tr>\n",
       "        <td>D</td>\n",
       "        <td>Ciply</td>\n",
       "    </tr>\n",
       "    <tr>\n",
       "        <td>E</td>\n",
       "        <td>Hyon</td>\n",
       "    </tr>\n",
       "</table>"
      ],
      "text/plain": [
       "[('A', 'Beloeil'),\n",
       " ('B', 'Mons'),\n",
       " ('C', 'Quevaucamps'),\n",
       " ('D', 'Ciply'),\n",
       " ('E', 'Hyon')]"
      ]
     },
     "execution_count": 21,
     "metadata": {},
     "output_type": "execute_result"
    }
   ],
   "source": [
    "%%sql \n",
    "SELECT * FROM ouvrages;"
   ]
  },
  {
   "cell_type": "markdown",
   "metadata": {},
   "source": [
    "## @subsection | Insertion de valeurs dans la table des puits de captage"
   ]
  },
  {
   "cell_type": "markdown",
   "metadata": {},
   "source": [
    "<div class=\"alert alert-block alert-success\">\n",
    "    Ecrire une requête pour afficher le contenu de la table puits_captages\n",
    "</div>"
   ]
  },
  {
   "cell_type": "code",
   "execution_count": 22,
   "metadata": {},
   "outputs": [
    {
     "name": "stdout",
     "output_type": "stream",
     "text": [
      " * sqlite:///example_db.db\n",
      "Done.\n"
     ]
    },
    {
     "data": {
      "text/html": [
       "<table>\n",
       "    <tr>\n",
       "        <th>nom</th>\n",
       "        <th>type_pompe</th>\n",
       "    </tr>\n",
       "</table>"
      ],
      "text/plain": [
       "[]"
      ]
     },
     "execution_count": 22,
     "metadata": {},
     "output_type": "execute_result"
    }
   ],
   "source": [
    "# @question\n",
    "%sql SELECT * FROM puits_captages;"
   ]
  },
  {
   "cell_type": "code",
   "execution_count": 23,
   "metadata": {},
   "outputs": [
    {
     "name": "stdout",
     "output_type": "stream",
     "text": [
      " * sqlite:///example_db.db\n",
      "1 rows affected.\n",
      "1 rows affected.\n",
      "1 rows affected.\n",
      "1 rows affected.\n",
      "1 rows affected.\n"
     ]
    },
    {
     "data": {
      "text/plain": [
       "[]"
      ]
     },
     "execution_count": 23,
     "metadata": {},
     "output_type": "execute_result"
    }
   ],
   "source": [
    "%%sql\n",
    "INSERT INTO puits_captages ('nom','type_pompe') VALUES ('A','RK822W');\n",
    "INSERT INTO puits_captages ('nom','type_pompe') VALUES ('B','RK622W');\n",
    "INSERT INTO puits_captages ('nom','type_pompe') VALUES ('C','ABB226');\n",
    "INSERT INTO puits_captages ('nom','type_pompe') VALUES ('D','6-DDR-3');\n",
    "INSERT INTO puits_captages ('nom','type_pompe') VALUES ('E','RK822W');"
   ]
  },
  {
   "cell_type": "markdown",
   "metadata": {},
   "source": [
    "<div class=\"alert alert-block alert-success\">\n",
    "    Ecrire une requête pour contrôler que l'ajout s'est bien passé\n",
    "</div>"
   ]
  },
  {
   "cell_type": "code",
   "execution_count": 24,
   "metadata": {},
   "outputs": [
    {
     "name": "stdout",
     "output_type": "stream",
     "text": [
      " * sqlite:///example_db.db\n",
      "Done.\n"
     ]
    },
    {
     "data": {
      "text/html": [
       "<table>\n",
       "    <tr>\n",
       "        <th>nom</th>\n",
       "        <th>type_pompe</th>\n",
       "    </tr>\n",
       "    <tr>\n",
       "        <td>A</td>\n",
       "        <td>RK822W</td>\n",
       "    </tr>\n",
       "    <tr>\n",
       "        <td>B</td>\n",
       "        <td>RK622W</td>\n",
       "    </tr>\n",
       "    <tr>\n",
       "        <td>C</td>\n",
       "        <td>ABB226</td>\n",
       "    </tr>\n",
       "    <tr>\n",
       "        <td>D</td>\n",
       "        <td>6-DDR-3</td>\n",
       "    </tr>\n",
       "    <tr>\n",
       "        <td>E</td>\n",
       "        <td>RK822W</td>\n",
       "    </tr>\n",
       "</table>"
      ],
      "text/plain": [
       "[('A', 'RK822W'),\n",
       " ('B', 'RK622W'),\n",
       " ('C', 'ABB226'),\n",
       " ('D', '6-DDR-3'),\n",
       " ('E', 'RK822W')]"
      ]
     },
     "execution_count": 24,
     "metadata": {},
     "output_type": "execute_result"
    }
   ],
   "source": [
    "# @solution @keep_output\n",
    "%sql SELECT * FROM puits_captages;"
   ]
  },
  {
   "cell_type": "markdown",
   "metadata": {},
   "source": [
    "## @subsection | Insertion de volumes captés"
   ]
  },
  {
   "cell_type": "code",
   "execution_count": 25,
   "metadata": {},
   "outputs": [
    {
     "name": "stdout",
     "output_type": "stream",
     "text": [
      " * sqlite:///example_db.db\n",
      "1 rows affected.\n",
      "1 rows affected.\n",
      "1 rows affected.\n",
      "1 rows affected.\n",
      "1 rows affected.\n",
      "1 rows affected.\n",
      "1 rows affected.\n",
      "1 rows affected.\n",
      "1 rows affected.\n",
      "1 rows affected.\n",
      "1 rows affected.\n",
      "1 rows affected.\n",
      "1 rows affected.\n",
      "1 rows affected.\n"
     ]
    },
    {
     "data": {
      "text/plain": [
       "[]"
      ]
     },
     "execution_count": 25,
     "metadata": {},
     "output_type": "execute_result"
    }
   ],
   "source": [
    "%%sql\n",
    "INSERT INTO prelevements ('nom_puits', 'annee', 'volume') VALUES ('A','2014', 144208);\n",
    "INSERT INTO prelevements ('nom_puits', 'annee', 'volume') VALUES ('A','2015', 98537);\n",
    "INSERT INTO prelevements ('nom_puits', 'annee', 'volume') VALUES ('A','2016', 37145);\n",
    "INSERT INTO prelevements ('nom_puits', 'annee', 'volume') VALUES ('B','2016', 178403);\n",
    "INSERT INTO prelevements ('nom_puits', 'annee', 'volume') VALUES ('C','2016', 17528);\n",
    "INSERT INTO prelevements ('nom_puits', 'annee', 'volume') VALUES ('A','2017', 24454);\n",
    "INSERT INTO prelevements ('nom_puits', 'annee', 'volume') VALUES ('B','2017', 224269);\n",
    "INSERT INTO prelevements ('nom_puits', 'annee', 'volume') VALUES ('C','2017', 47364);\n",
    "INSERT INTO prelevements ('nom_puits', 'annee', 'volume') VALUES ('D','2017', 341077);\n",
    "INSERT INTO prelevements ('nom_puits', 'annee', 'volume') VALUES ('E','2017', 72354);\n",
    "INSERT INTO prelevements ('nom_puits', 'annee', 'volume') VALUES ('A','2018', 98759);\n",
    "INSERT INTO prelevements ('nom_puits', 'annee', 'volume') VALUES ('B','2018', 517541);\n",
    "INSERT INTO prelevements ('nom_puits', 'annee', 'volume') VALUES ('C','2018', 64);\n",
    "INSERT INTO prelevements ('nom_puits', 'annee', 'volume') VALUES ('D','2018', 34717);"
   ]
  },
  {
   "cell_type": "markdown",
   "metadata": {},
   "source": [
    "<div class=\"alert alert-block alert-success\">\n",
    "    Ajouter les volumes captés suivants pour l'année 2019:<br>\n",
    "    <table style=\"width:30%\">\n",
    "      <tr>\n",
    "        <th>Captage</th>\n",
    "        <th>Volume</th>\n",
    "      </tr>\n",
    "      <tr>\n",
    "        <td>A</td>\n",
    "        <td>22354</td>\n",
    "      </tr>\n",
    "      <tr>\n",
    "        <td>B</td>\n",
    "        <td>174256</td>\n",
    "      </tr>\n",
    "            <tr>\n",
    "        <td>C</td>\n",
    "        <td>122634</td>\n",
    "      </tr>\n",
    "      <tr>\n",
    "        <td>D</td>\n",
    "        <td>374456</td>\n",
    "      </tr>\n",
    "    </table> \n",
    "</div>  "
   ]
  },
  {
   "cell_type": "code",
   "execution_count": 26,
   "metadata": {},
   "outputs": [
    {
     "name": "stdout",
     "output_type": "stream",
     "text": [
      " * sqlite:///example_db.db\n",
      "1 rows affected.\n",
      " * sqlite:///example_db.db\n",
      "1 rows affected.\n",
      " * sqlite:///example_db.db\n",
      "1 rows affected.\n",
      " * sqlite:///example_db.db\n",
      "1 rows affected.\n"
     ]
    },
    {
     "data": {
      "text/plain": [
       "[]"
      ]
     },
     "execution_count": 26,
     "metadata": {},
     "output_type": "execute_result"
    }
   ],
   "source": [
    "# @solution @reveal\n",
    "%sql INSERT INTO prelevements ('nom_puits', 'annee', 'volume') VALUES ('A','2019', 22354);\n",
    "%sql INSERT INTO prelevements ('nom_puits', 'annee', 'volume') VALUES ('B','2019', 174256);\n",
    "%sql INSERT INTO prelevements ('nom_puits', 'annee', 'volume') VALUES ('C','2019', 122364);\n",
    "%sql INSERT INTO prelevements ('nom_puits', 'annee', 'volume') VALUES ('D','2019', 374456);"
   ]
  },
  {
   "cell_type": "markdown",
   "metadata": {},
   "source": [
    "<div class=\"alert alert-block alert-success\">\n",
    "    Ecrire une requête pour calculer la somme des volumes captés en 2018\n",
    "</div>  "
   ]
  },
  {
   "cell_type": "code",
   "execution_count": 27,
   "metadata": {},
   "outputs": [
    {
     "name": "stdout",
     "output_type": "stream",
     "text": [
      " * sqlite:///example_db.db\n",
      "Done.\n"
     ]
    },
    {
     "data": {
      "text/html": [
       "<table>\n",
       "    <tr>\n",
       "        <th>sum(volume)</th>\n",
       "    </tr>\n",
       "    <tr>\n",
       "        <td>651081.0</td>\n",
       "    </tr>\n",
       "</table>"
      ],
      "text/plain": [
       "[(651081.0,)]"
      ]
     },
     "execution_count": 27,
     "metadata": {},
     "output_type": "execute_result"
    }
   ],
   "source": [
    "# @solution @reveal\n",
    "%sql SELECT sum(volume) FROM prelevements WHERE annee=2018;"
   ]
  },
  {
   "cell_type": "markdown",
   "metadata": {},
   "source": [
    "<div class=\"alert alert-block alert-success\">\n",
    "    Ecrire une requête calculer la somme, pour chacun des captages, des volumes captés entre début 2017 et fin 2019\n",
    "</div>  "
   ]
  },
  {
   "cell_type": "code",
   "execution_count": 28,
   "metadata": {
    "scrolled": true
   },
   "outputs": [
    {
     "name": "stdout",
     "output_type": "stream",
     "text": [
      " * sqlite:///example_db.db\n",
      "Done.\n"
     ]
    },
    {
     "data": {
      "text/html": [
       "<table>\n",
       "    <tr>\n",
       "        <th>nom_puits</th>\n",
       "        <th>sum(volume)</th>\n",
       "    </tr>\n",
       "    <tr>\n",
       "        <td>A</td>\n",
       "        <td>145567.0</td>\n",
       "    </tr>\n",
       "    <tr>\n",
       "        <td>B</td>\n",
       "        <td>916066.0</td>\n",
       "    </tr>\n",
       "    <tr>\n",
       "        <td>C</td>\n",
       "        <td>169792.0</td>\n",
       "    </tr>\n",
       "    <tr>\n",
       "        <td>D</td>\n",
       "        <td>750250.0</td>\n",
       "    </tr>\n",
       "    <tr>\n",
       "        <td>E</td>\n",
       "        <td>72354.0</td>\n",
       "    </tr>\n",
       "</table>"
      ],
      "text/plain": [
       "[('A', 145567.0),\n",
       " ('B', 916066.0),\n",
       " ('C', 169792.0),\n",
       " ('D', 750250.0),\n",
       " ('E', 72354.0)]"
      ]
     },
     "execution_count": 28,
     "metadata": {},
     "output_type": "execute_result"
    }
   ],
   "source": [
    "# @solution @reveal\n",
    "%sql SELECT nom_puits, sum(volume) FROM prelevements WHERE annee BETWEEN 2017 AND 2019 GROUP BY nom_puits ORDER BY nom_puits;"
   ]
  },
  {
   "cell_type": "markdown",
   "metadata": {},
   "source": [
    "## @Subsection | Utiliser pandas pour afficher l'historique des prélèvements sur le captage 'A'"
   ]
  },
  {
   "cell_type": "markdown",
   "metadata": {},
   "source": [
    "<div class=\"alert alert-block alert-info\">\n",
    "    <b>Tip:</b> Grâce à l'extension ipython-sql, il est possible de récupérer la réponse à une requête SQL dans un dataframe pandas et d'utiliser le dataframe pour produire une sortie graphique. <br> Pour information, il est aussi possible d'interroger directement une base de données avec pandas via une requête sql (cf. <code>pd.read_sql(...)</code>)\n",
    "</div>  "
   ]
  },
  {
   "cell_type": "markdown",
   "metadata": {},
   "source": [
    "<div class=\"alert alert-block alert-success\">\n",
    "    Ecrire une requête calculer la somme, pour chacun des captages, des volumes captés entre début 2017 et fin 2019\n",
    "</div>  "
   ]
  },
  {
   "cell_type": "code",
   "execution_count": 29,
   "metadata": {},
   "outputs": [
    {
     "name": "stdout",
     "output_type": "stream",
     "text": [
      " * sqlite:///example_db.db\n",
      "Done.\n"
     ]
    },
    {
     "data": {
      "text/plain": [
       "<AxesSubplot:xlabel='annee'>"
      ]
     },
     "execution_count": 29,
     "metadata": {},
     "output_type": "execute_result"
    },
    {
     "data": {
      "image/png": "[encoded data removed]",
      "text/plain": [
       "<Figure size 432x288 with 1 Axes>"
      ]
     },
     "metadata": {
      "needs_background": "light"
     },
     "output_type": "display_data"
    }
   ],
   "source": [
    "# @solution @reveal\n",
    "out = %sql SELECT annee, volume FROM prelevements WHERE nom_puits='A' ORDER BY annee ASC;\n",
    "df = out.DataFrame()\n",
    "df.plot(x='annee', y='volume')"
   ]
  },
  {
   "cell_type": "markdown",
   "metadata": {},
   "source": [
    "### Alternative"
   ]
  },
  {
   "cell_type": "code",
   "execution_count": 30,
   "metadata": {},
   "outputs": [
    {
     "data": {
      "text/plain": [
       "<AxesSubplot:xlabel='annee'>"
      ]
     },
     "execution_count": 30,
     "metadata": {},
     "output_type": "execute_result"
    },
    {
     "data": {
      "image/png": "[encoded data removed]",
      "text/plain": [
       "<Figure size 432x288 with 1 Axes>"
      ]
     },
     "metadata": {
      "needs_background": "light"
     },
     "output_type": "display_data"
    }
   ],
   "source": [
    "import sqlite3\n",
    "sql_query = \"SELECT annee, volume FROM prelevements WHERE nom_puits='A' ORDER BY annee ASC;\"\n",
    "db_connection = sqlite3.connect('example_db.db') \n",
    "df = pd.read_sql(sql_query, db_connection)\n",
    "df.plot(x='annee', y='volume')"
   ]
  },
  {
   "cell_type": "markdown",
   "metadata": {},
   "source": [
    "### Insertion des releves piezométriques"
   ]
  },
  {
   "cell_type": "markdown",
   "metadata": {},
   "source": [
    "<div class=\"alert alert-block alert-success\">\n",
    "    Les enregistreurs suivants sont présents dans les piezomètres:<br>   \n",
    "    <table style=\"width:50%\">\n",
    "      <tr>\n",
    "        <th>Piezomètre</th>\n",
    "        <th>Commune</th>\n",
    "        <th>Type d'enregistreur</th>\n",
    "      </tr>\n",
    "      <tr>\n",
    "        <td>F</td>\n",
    "        <td>Mons</td>\n",
    "        <td>SLB-Diver</td>\n",
    "      </tr>\n",
    "      <tr>\n",
    "        <td>G</td>\n",
    "        <td>Harmignies</td>\n",
    "        <td>SLB-Diver</td>\n",
    "      </tr>\n",
    "      <tr>\n",
    "        <td>H</td>\n",
    "        <td>Genly</td>\n",
    "        <td>SLB-Diver-2</td>\n",
    "      </tr>\n",
    "      <tr>\n",
    "        <td>I</td>\n",
    "        <td>Flénu</td>\n",
    "        <td>SLB-Diver</td>\n",
    "      </tr>\n",
    "      <tr>\n",
    "        <td>J</td>\n",
    "        <td>Cuesmes</td>\n",
    "        <td>SLB-Diver-2</td>\n",
    "      </tr>\n",
    "    </table> <br>\n",
    "    Entrer ces données dans la base de données\n",
    "</div>  "
   ]
  },
  {
   "cell_type": "code",
   "execution_count": 31,
   "metadata": {},
   "outputs": [
    {
     "name": "stdout",
     "output_type": "stream",
     "text": [
      " * sqlite:///example_db.db\n",
      "1 rows affected.\n",
      " * sqlite:///example_db.db\n",
      "1 rows affected.\n",
      " * sqlite:///example_db.db\n",
      "1 rows affected.\n",
      " * sqlite:///example_db.db\n",
      "1 rows affected.\n",
      " * sqlite:///example_db.db\n",
      "1 rows affected.\n"
     ]
    },
    {
     "data": {
      "text/plain": [
       "[]"
      ]
     },
     "execution_count": 31,
     "metadata": {},
     "output_type": "execute_result"
    }
   ],
   "source": [
    "# @solution @reveal\n",
    "%sql INSERT INTO ouvrages VALUES('F','Mons');\n",
    "%sql INSERT INTO ouvrages VALUES('G','Harmignies');\n",
    "%sql INSERT INTO ouvrages VALUES('H','Genly');\n",
    "%sql INSERT INTO ouvrages VALUES('I','Flénu');\n",
    "%sql INSERT INTO ouvrages VALUES('J','Cuesmes');"
   ]
  },
  {
   "cell_type": "markdown",
   "metadata": {},
   "source": [
    "### Insertion de valeurs dans la table des piézomètres"
   ]
  },
  {
   "cell_type": "code",
   "execution_count": 32,
   "metadata": {},
   "outputs": [
    {
     "name": "stdout",
     "output_type": "stream",
     "text": [
      " * sqlite:///example_db.db\n",
      "1 rows affected.\n",
      "1 rows affected.\n",
      "1 rows affected.\n",
      "1 rows affected.\n",
      "1 rows affected.\n"
     ]
    },
    {
     "data": {
      "text/plain": [
       "[]"
      ]
     },
     "execution_count": 32,
     "metadata": {},
     "output_type": "execute_result"
    }
   ],
   "source": [
    "%%sql\n",
    "INSERT INTO piezometres ('nom','enregistreur') VALUES ('F','SLB-Diver');\n",
    "INSERT INTO piezometres ('nom','enregistreur') VALUES ('G','SLB-Diver');\n",
    "INSERT INTO piezometres ('nom','enregistreur') VALUES ('H','SLB-Diver-2');\n",
    "INSERT INTO piezometres ('nom','enregistreur') VALUES ('I','SLB-Diver');\n",
    "INSERT INTO piezometres ('nom','enregistreur') VALUES ('J','SLB-Diver-2');"
   ]
  },
  {
   "cell_type": "code",
   "execution_count": 33,
   "metadata": {},
   "outputs": [
    {
     "name": "stdout",
     "output_type": "stream",
     "text": [
      " * sqlite:///example_db.db\n",
      "Done.\n"
     ]
    },
    {
     "data": {
      "text/html": [
       "<table>\n",
       "    <tr>\n",
       "        <th>nom</th>\n",
       "        <th>enregistreur</th>\n",
       "    </tr>\n",
       "    <tr>\n",
       "        <td>F</td>\n",
       "        <td>SLB-Diver</td>\n",
       "    </tr>\n",
       "    <tr>\n",
       "        <td>G</td>\n",
       "        <td>SLB-Diver</td>\n",
       "    </tr>\n",
       "    <tr>\n",
       "        <td>H</td>\n",
       "        <td>SLB-Diver-2</td>\n",
       "    </tr>\n",
       "    <tr>\n",
       "        <td>I</td>\n",
       "        <td>SLB-Diver</td>\n",
       "    </tr>\n",
       "    <tr>\n",
       "        <td>J</td>\n",
       "        <td>SLB-Diver-2</td>\n",
       "    </tr>\n",
       "</table>"
      ],
      "text/plain": [
       "[('F', 'SLB-Diver'),\n",
       " ('G', 'SLB-Diver'),\n",
       " ('H', 'SLB-Diver-2'),\n",
       " ('I', 'SLB-Diver'),\n",
       " ('J', 'SLB-Diver-2')]"
      ]
     },
     "execution_count": 33,
     "metadata": {},
     "output_type": "execute_result"
    }
   ],
   "source": [
    "%%sql\n",
    "SELECT * FROM piezometres;"
   ]
  },
  {
   "cell_type": "code",
   "execution_count": 34,
   "metadata": {},
   "outputs": [
    {
     "name": "stdout",
     "output_type": "stream",
     "text": [
      " * sqlite:///example_db.db\n",
      "1 rows affected.\n"
     ]
    },
    {
     "data": {
      "text/plain": [
       "[]"
      ]
     },
     "execution_count": 34,
     "metadata": {},
     "output_type": "execute_result"
    }
   ],
   "source": [
    "%%sql\n",
    "INSERT INTO piezometres ('nom','enregistreur') VALUES ('E','SLB-Diver-CTD');"
   ]
  },
  {
   "cell_type": "markdown",
   "metadata": {},
   "source": [
    "### Insertion de niveaux enregistrés"
   ]
  },
  {
   "cell_type": "code",
   "execution_count": 35,
   "metadata": {},
   "outputs": [
    {
     "name": "stdout",
     "output_type": "stream",
     "text": [
      " * sqlite:///example_db.db\n",
      "1 rows affected.\n",
      "1 rows affected.\n",
      "1 rows affected.\n",
      "1 rows affected.\n",
      "1 rows affected.\n",
      "1 rows affected.\n",
      "1 rows affected.\n",
      "1 rows affected.\n",
      "1 rows affected.\n",
      "1 rows affected.\n",
      "1 rows affected.\n",
      "1 rows affected.\n",
      "1 rows affected.\n",
      "1 rows affected.\n",
      "1 rows affected.\n",
      "1 rows affected.\n",
      "1 rows affected.\n",
      "1 rows affected.\n",
      "1 rows affected.\n",
      "1 rows affected.\n",
      "1 rows affected.\n",
      "1 rows affected.\n",
      "1 rows affected.\n",
      "1 rows affected.\n",
      "1 rows affected.\n"
     ]
    },
    {
     "data": {
      "text/plain": [
       "[]"
      ]
     },
     "execution_count": 35,
     "metadata": {},
     "output_type": "execute_result"
    }
   ],
   "source": [
    "%%sql\n",
    "INSERT INTO niveaux ('nom_piezo', 'date_releve', 'niveau') VALUES ('F','2016-04-27', '23.4');\n",
    "INSERT INTO niveaux ('nom_piezo', 'date_releve', 'niveau') VALUES ('G','2016-02-17', '22.3');\n",
    "INSERT INTO niveaux ('nom_piezo', 'date_releve', 'niveau') VALUES ('I','2016-07-19', '22.8');\n",
    "INSERT INTO niveaux ('nom_piezo', 'date_releve', 'niveau') VALUES ('F','2016-09-07', '23.4');\n",
    "INSERT INTO niveaux ('nom_piezo', 'date_releve', 'niveau') VALUES ('F','2016-11-13', '21.3');\n",
    "INSERT INTO niveaux ('nom_piezo', 'date_releve', 'niveau') VALUES ('F','2017-02-28', '20.1');\n",
    "INSERT INTO niveaux ('nom_piezo', 'date_releve', 'niveau') VALUES ('H','2017-02-17', '36.6');\n",
    "INSERT INTO niveaux ('nom_piezo', 'date_releve', 'niveau') VALUES ('H','2018-06-27', '36.1');\n",
    "INSERT INTO niveaux ('nom_piezo', 'date_releve', 'niveau') VALUES ('G','2016-09-22', '21.0');\n",
    "INSERT INTO niveaux ('nom_piezo', 'date_releve', 'niveau') VALUES ('G','2017-02-22', '21.0');\n",
    "INSERT INTO niveaux ('nom_piezo', 'date_releve', 'niveau') VALUES ('F','2017-07-04', '19.6');\n",
    "INSERT INTO niveaux ('nom_piezo', 'date_releve', 'niveau') VALUES ('F','2017-10-14', '20.5');\n",
    "INSERT INTO niveaux ('nom_piezo', 'date_releve', 'niveau') VALUES ('F','2017-12-11', '23.4');\n",
    "INSERT INTO niveaux ('nom_piezo', 'date_releve', 'niveau') VALUES ('F','2018-05-17', '19.2');\n",
    "INSERT INTO niveaux ('nom_piezo', 'date_releve', 'niveau') VALUES ('F','2018-08-14', '21.9');\n",
    "INSERT INTO niveaux ('nom_piezo', 'date_releve', 'niveau') VALUES ('F','2018-12-09', '22.7');\n",
    "INSERT INTO niveaux ('nom_piezo', 'date_releve', 'niveau') VALUES ('F','2019-02-17', '23.9');\n",
    "INSERT INTO niveaux ('nom_piezo', 'date_releve', 'niveau') VALUES ('F','2019-07-29', '22.5');\n",
    "INSERT INTO niveaux ('nom_piezo', 'date_releve', 'niveau') VALUES ('E','2018-12-17', '48.1');\n",
    "INSERT INTO niveaux ('nom_piezo', 'date_releve', 'niveau') VALUES ('E','2019-01-21', '42.4');\n",
    "INSERT INTO niveaux ('nom_piezo', 'date_releve', 'niveau') VALUES ('E','2019-07-12', '40.7');\n",
    "INSERT INTO niveaux ('nom_piezo', 'date_releve', 'niveau') VALUES ('E','2019-08-01', '39.9');\n",
    "INSERT INTO niveaux ('nom_piezo', 'date_releve', 'niveau') VALUES ('E','2019-10-22', '37.1');\n",
    "INSERT INTO niveaux ('nom_piezo', 'date_releve', 'niveau') VALUES ('E','2017-11-09', '38.9');\n",
    "INSERT INTO niveaux ('nom_piezo', 'date_releve', 'niveau') VALUES ('E','2020-01-20', '40.5');"
   ]
  },
  {
   "cell_type": "code",
   "execution_count": 36,
   "metadata": {
    "scrolled": true
   },
   "outputs": [
    {
     "name": "stdout",
     "output_type": "stream",
     "text": [
      " * sqlite:///example_db.db\n",
      "Done.\n"
     ]
    },
    {
     "data": {
      "text/html": [
       "<table>\n",
       "    <tr>\n",
       "        <th>nom_piezo</th>\n",
       "        <th>date_releve</th>\n",
       "        <th>niveau</th>\n",
       "    </tr>\n",
       "    <tr>\n",
       "        <td>E</td>\n",
       "        <td>2017-11-09</td>\n",
       "        <td>38.9</td>\n",
       "    </tr>\n",
       "    <tr>\n",
       "        <td>E</td>\n",
       "        <td>2018-12-17</td>\n",
       "        <td>48.1</td>\n",
       "    </tr>\n",
       "    <tr>\n",
       "        <td>E</td>\n",
       "        <td>2019-01-21</td>\n",
       "        <td>42.4</td>\n",
       "    </tr>\n",
       "    <tr>\n",
       "        <td>E</td>\n",
       "        <td>2019-07-12</td>\n",
       "        <td>40.7</td>\n",
       "    </tr>\n",
       "    <tr>\n",
       "        <td>E</td>\n",
       "        <td>2019-08-01</td>\n",
       "        <td>39.9</td>\n",
       "    </tr>\n",
       "    <tr>\n",
       "        <td>E</td>\n",
       "        <td>2019-10-22</td>\n",
       "        <td>37.1</td>\n",
       "    </tr>\n",
       "    <tr>\n",
       "        <td>E</td>\n",
       "        <td>2020-01-20</td>\n",
       "        <td>40.5</td>\n",
       "    </tr>\n",
       "    <tr>\n",
       "        <td>F</td>\n",
       "        <td>2016-04-27</td>\n",
       "        <td>23.4</td>\n",
       "    </tr>\n",
       "    <tr>\n",
       "        <td>F</td>\n",
       "        <td>2016-09-07</td>\n",
       "        <td>23.4</td>\n",
       "    </tr>\n",
       "    <tr>\n",
       "        <td>F</td>\n",
       "        <td>2016-11-13</td>\n",
       "        <td>21.3</td>\n",
       "    </tr>\n",
       "    <tr>\n",
       "        <td>F</td>\n",
       "        <td>2017-02-28</td>\n",
       "        <td>20.1</td>\n",
       "    </tr>\n",
       "    <tr>\n",
       "        <td>F</td>\n",
       "        <td>2017-07-04</td>\n",
       "        <td>19.6</td>\n",
       "    </tr>\n",
       "    <tr>\n",
       "        <td>F</td>\n",
       "        <td>2017-10-14</td>\n",
       "        <td>20.5</td>\n",
       "    </tr>\n",
       "    <tr>\n",
       "        <td>F</td>\n",
       "        <td>2017-12-11</td>\n",
       "        <td>23.4</td>\n",
       "    </tr>\n",
       "    <tr>\n",
       "        <td>F</td>\n",
       "        <td>2018-05-17</td>\n",
       "        <td>19.2</td>\n",
       "    </tr>\n",
       "    <tr>\n",
       "        <td>F</td>\n",
       "        <td>2018-08-14</td>\n",
       "        <td>21.9</td>\n",
       "    </tr>\n",
       "    <tr>\n",
       "        <td>F</td>\n",
       "        <td>2018-12-09</td>\n",
       "        <td>22.7</td>\n",
       "    </tr>\n",
       "    <tr>\n",
       "        <td>F</td>\n",
       "        <td>2019-02-17</td>\n",
       "        <td>23.9</td>\n",
       "    </tr>\n",
       "    <tr>\n",
       "        <td>F</td>\n",
       "        <td>2019-07-29</td>\n",
       "        <td>22.5</td>\n",
       "    </tr>\n",
       "    <tr>\n",
       "        <td>G</td>\n",
       "        <td>2016-02-17</td>\n",
       "        <td>22.3</td>\n",
       "    </tr>\n",
       "    <tr>\n",
       "        <td>G</td>\n",
       "        <td>2016-09-22</td>\n",
       "        <td>21.0</td>\n",
       "    </tr>\n",
       "    <tr>\n",
       "        <td>G</td>\n",
       "        <td>2017-02-22</td>\n",
       "        <td>21.0</td>\n",
       "    </tr>\n",
       "    <tr>\n",
       "        <td>H</td>\n",
       "        <td>2017-02-17</td>\n",
       "        <td>36.6</td>\n",
       "    </tr>\n",
       "    <tr>\n",
       "        <td>H</td>\n",
       "        <td>2018-06-27</td>\n",
       "        <td>36.1</td>\n",
       "    </tr>\n",
       "    <tr>\n",
       "        <td>I</td>\n",
       "        <td>2016-07-19</td>\n",
       "        <td>22.8</td>\n",
       "    </tr>\n",
       "</table>"
      ],
      "text/plain": [
       "[('E', '2017-11-09', 38.9),\n",
       " ('E', '2018-12-17', 48.1),\n",
       " ('E', '2019-01-21', 42.4),\n",
       " ('E', '2019-07-12', 40.7),\n",
       " ('E', '2019-08-01', 39.9),\n",
       " ('E', '2019-10-22', 37.1),\n",
       " ('E', '2020-01-20', 40.5),\n",
       " ('F', '2016-04-27', 23.4),\n",
       " ('F', '2016-09-07', 23.4),\n",
       " ('F', '2016-11-13', 21.3),\n",
       " ('F', '2017-02-28', 20.1),\n",
       " ('F', '2017-07-04', 19.6),\n",
       " ('F', '2017-10-14', 20.5),\n",
       " ('F', '2017-12-11', 23.4),\n",
       " ('F', '2018-05-17', 19.2),\n",
       " ('F', '2018-08-14', 21.9),\n",
       " ('F', '2018-12-09', 22.7),\n",
       " ('F', '2019-02-17', 23.9),\n",
       " ('F', '2019-07-29', 22.5),\n",
       " ('G', '2016-02-17', 22.3),\n",
       " ('G', '2016-09-22', 21.0),\n",
       " ('G', '2017-02-22', 21.0),\n",
       " ('H', '2017-02-17', 36.6),\n",
       " ('H', '2018-06-27', 36.1),\n",
       " ('I', '2016-07-19', 22.8)]"
      ]
     },
     "execution_count": 36,
     "metadata": {},
     "output_type": "execute_result"
    }
   ],
   "source": [
    "%%sql\n",
    "SELECT * FROM niveaux ORDER BY nom_piezo, date_releve;"
   ]
  },
  {
   "cell_type": "markdown",
   "metadata": {},
   "source": [
    "### Rechercher les enregistreurs installés dans les piezomètres ainsi que tous les niveaux enregistrés"
   ]
  },
  {
   "cell_type": "markdown",
   "metadata": {},
   "source": [
    "<div class=\"alert alert-block alert-success\">\n",
    "    Ecrire une requête premettant d'afficher pour chaque piézomètre le type d'enregistreur installé et les niveaux relevés\n",
    "</div>  "
   ]
  },
  {
   "cell_type": "code",
   "execution_count": 37,
   "metadata": {},
   "outputs": [
    {
     "name": "stdout",
     "output_type": "stream",
     "text": [
      " * sqlite:///example_db.db\n",
      "Done.\n"
     ]
    },
    {
     "data": {
      "text/html": [
       "<table>\n",
       "    <tr>\n",
       "        <th>nom</th>\n",
       "        <th>enregistreur</th>\n",
       "        <th>date_releve</th>\n",
       "        <th>niveau</th>\n",
       "    </tr>\n",
       "    <tr>\n",
       "        <td>J</td>\n",
       "        <td>SLB-Diver-2</td>\n",
       "        <td>None</td>\n",
       "        <td>None</td>\n",
       "    </tr>\n",
       "    <tr>\n",
       "        <td>E</td>\n",
       "        <td>SLB-Diver-CTD</td>\n",
       "        <td>2017-11-09</td>\n",
       "        <td>38.9</td>\n",
       "    </tr>\n",
       "    <tr>\n",
       "        <td>E</td>\n",
       "        <td>SLB-Diver-CTD</td>\n",
       "        <td>2018-12-17</td>\n",
       "        <td>48.1</td>\n",
       "    </tr>\n",
       "    <tr>\n",
       "        <td>E</td>\n",
       "        <td>SLB-Diver-CTD</td>\n",
       "        <td>2019-01-21</td>\n",
       "        <td>42.4</td>\n",
       "    </tr>\n",
       "    <tr>\n",
       "        <td>E</td>\n",
       "        <td>SLB-Diver-CTD</td>\n",
       "        <td>2019-07-12</td>\n",
       "        <td>40.7</td>\n",
       "    </tr>\n",
       "    <tr>\n",
       "        <td>E</td>\n",
       "        <td>SLB-Diver-CTD</td>\n",
       "        <td>2019-08-01</td>\n",
       "        <td>39.9</td>\n",
       "    </tr>\n",
       "    <tr>\n",
       "        <td>E</td>\n",
       "        <td>SLB-Diver-CTD</td>\n",
       "        <td>2019-10-22</td>\n",
       "        <td>37.1</td>\n",
       "    </tr>\n",
       "    <tr>\n",
       "        <td>E</td>\n",
       "        <td>SLB-Diver-CTD</td>\n",
       "        <td>2020-01-20</td>\n",
       "        <td>40.5</td>\n",
       "    </tr>\n",
       "    <tr>\n",
       "        <td>F</td>\n",
       "        <td>SLB-Diver</td>\n",
       "        <td>2016-04-27</td>\n",
       "        <td>23.4</td>\n",
       "    </tr>\n",
       "    <tr>\n",
       "        <td>F</td>\n",
       "        <td>SLB-Diver</td>\n",
       "        <td>2016-09-07</td>\n",
       "        <td>23.4</td>\n",
       "    </tr>\n",
       "    <tr>\n",
       "        <td>F</td>\n",
       "        <td>SLB-Diver</td>\n",
       "        <td>2016-11-13</td>\n",
       "        <td>21.3</td>\n",
       "    </tr>\n",
       "    <tr>\n",
       "        <td>F</td>\n",
       "        <td>SLB-Diver</td>\n",
       "        <td>2017-02-28</td>\n",
       "        <td>20.1</td>\n",
       "    </tr>\n",
       "    <tr>\n",
       "        <td>F</td>\n",
       "        <td>SLB-Diver</td>\n",
       "        <td>2017-07-04</td>\n",
       "        <td>19.6</td>\n",
       "    </tr>\n",
       "    <tr>\n",
       "        <td>F</td>\n",
       "        <td>SLB-Diver</td>\n",
       "        <td>2017-10-14</td>\n",
       "        <td>20.5</td>\n",
       "    </tr>\n",
       "    <tr>\n",
       "        <td>F</td>\n",
       "        <td>SLB-Diver</td>\n",
       "        <td>2017-12-11</td>\n",
       "        <td>23.4</td>\n",
       "    </tr>\n",
       "    <tr>\n",
       "        <td>F</td>\n",
       "        <td>SLB-Diver</td>\n",
       "        <td>2018-05-17</td>\n",
       "        <td>19.2</td>\n",
       "    </tr>\n",
       "    <tr>\n",
       "        <td>F</td>\n",
       "        <td>SLB-Diver</td>\n",
       "        <td>2018-08-14</td>\n",
       "        <td>21.9</td>\n",
       "    </tr>\n",
       "    <tr>\n",
       "        <td>F</td>\n",
       "        <td>SLB-Diver</td>\n",
       "        <td>2018-12-09</td>\n",
       "        <td>22.7</td>\n",
       "    </tr>\n",
       "    <tr>\n",
       "        <td>F</td>\n",
       "        <td>SLB-Diver</td>\n",
       "        <td>2019-02-17</td>\n",
       "        <td>23.9</td>\n",
       "    </tr>\n",
       "    <tr>\n",
       "        <td>F</td>\n",
       "        <td>SLB-Diver</td>\n",
       "        <td>2019-07-29</td>\n",
       "        <td>22.5</td>\n",
       "    </tr>\n",
       "    <tr>\n",
       "        <td>G</td>\n",
       "        <td>SLB-Diver</td>\n",
       "        <td>2016-02-17</td>\n",
       "        <td>22.3</td>\n",
       "    </tr>\n",
       "    <tr>\n",
       "        <td>G</td>\n",
       "        <td>SLB-Diver</td>\n",
       "        <td>2016-09-22</td>\n",
       "        <td>21.0</td>\n",
       "    </tr>\n",
       "    <tr>\n",
       "        <td>G</td>\n",
       "        <td>SLB-Diver</td>\n",
       "        <td>2017-02-22</td>\n",
       "        <td>21.0</td>\n",
       "    </tr>\n",
       "    <tr>\n",
       "        <td>H</td>\n",
       "        <td>SLB-Diver-2</td>\n",
       "        <td>2017-02-17</td>\n",
       "        <td>36.6</td>\n",
       "    </tr>\n",
       "    <tr>\n",
       "        <td>H</td>\n",
       "        <td>SLB-Diver-2</td>\n",
       "        <td>2018-06-27</td>\n",
       "        <td>36.1</td>\n",
       "    </tr>\n",
       "    <tr>\n",
       "        <td>I</td>\n",
       "        <td>SLB-Diver</td>\n",
       "        <td>2016-07-19</td>\n",
       "        <td>22.8</td>\n",
       "    </tr>\n",
       "</table>"
      ],
      "text/plain": [
       "[('J', 'SLB-Diver-2', None, None),\n",
       " ('E', 'SLB-Diver-CTD', '2017-11-09', 38.9),\n",
       " ('E', 'SLB-Diver-CTD', '2018-12-17', 48.1),\n",
       " ('E', 'SLB-Diver-CTD', '2019-01-21', 42.4),\n",
       " ('E', 'SLB-Diver-CTD', '2019-07-12', 40.7),\n",
       " ('E', 'SLB-Diver-CTD', '2019-08-01', 39.9),\n",
       " ('E', 'SLB-Diver-CTD', '2019-10-22', 37.1),\n",
       " ('E', 'SLB-Diver-CTD', '2020-01-20', 40.5),\n",
       " ('F', 'SLB-Diver', '2016-04-27', 23.4),\n",
       " ('F', 'SLB-Diver', '2016-09-07', 23.4),\n",
       " ('F', 'SLB-Diver', '2016-11-13', 21.3),\n",
       " ('F', 'SLB-Diver', '2017-02-28', 20.1),\n",
       " ('F', 'SLB-Diver', '2017-07-04', 19.6),\n",
       " ('F', 'SLB-Diver', '2017-10-14', 20.5),\n",
       " ('F', 'SLB-Diver', '2017-12-11', 23.4),\n",
       " ('F', 'SLB-Diver', '2018-05-17', 19.2),\n",
       " ('F', 'SLB-Diver', '2018-08-14', 21.9),\n",
       " ('F', 'SLB-Diver', '2018-12-09', 22.7),\n",
       " ('F', 'SLB-Diver', '2019-02-17', 23.9),\n",
       " ('F', 'SLB-Diver', '2019-07-29', 22.5),\n",
       " ('G', 'SLB-Diver', '2016-02-17', 22.3),\n",
       " ('G', 'SLB-Diver', '2016-09-22', 21.0),\n",
       " ('G', 'SLB-Diver', '2017-02-22', 21.0),\n",
       " ('H', 'SLB-Diver-2', '2017-02-17', 36.6),\n",
       " ('H', 'SLB-Diver-2', '2018-06-27', 36.1),\n",
       " ('I', 'SLB-Diver', '2016-07-19', 22.8)]"
      ]
     },
     "execution_count": 37,
     "metadata": {},
     "output_type": "execute_result"
    }
   ],
   "source": [
    "%%sql\n",
    "SELECT nom, enregistreur, date_releve, niveau FROM piezometres LEFT JOIN niveaux ON piezometres.nom=niveaux.nom_piezo ORDER BY nom_piezo, date_releve;"
   ]
  },
  {
   "cell_type": "markdown",
   "metadata": {},
   "source": [
    "### Utiliser pandas pour afficher l'historique des relevés sur  différents piézomètres\n",
    "<div class=\"alert alert-block alert-info\">\n",
    "    <b>Tip:</b> Grâce à l'extension ipython-sql, il est possible de récupérer la réponse à une requête SQL dans un dataframe pandas et d'utiliser le dataframe pour produire une sortie graphique. <br> Pour information, il est aussi possible d'interroger directement une base de données avec pandas via une requête sql (cf. <code>pd.read_sql(...)</code>)\n",
    "</div>  "
   ]
  },
  {
   "cell_type": "markdown",
   "metadata": {},
   "source": [
    "Afficher un graphique de l'évolution temporelle des niveaux dans le pizéomètre F"
   ]
  },
  {
   "cell_type": "code",
   "execution_count": 38,
   "metadata": {},
   "outputs": [
    {
     "name": "stdout",
     "output_type": "stream",
     "text": [
      " * sqlite:///example_db.db\n",
      "Done.\n"
     ]
    }
   ],
   "source": [
    "out = %sql SELECT date_releve, niveau FROM piezometres INNER JOIN niveaux ON piezometres.nom=niveaux.nom_piezo WHERE piezometres.nom=='F' ORDER BY date_releve;\n",
    "df = out.DataFrame()"
   ]
  },
  {
   "cell_type": "code",
   "execution_count": 39,
   "metadata": {},
   "outputs": [
    {
     "data": {
      "text/html": [
       "<div>\n",
       "<style scoped>\n",
       "    .dataframe tbody tr th:only-of-type {\n",
       "        vertical-align: middle;\n",
       "    }\n",
       "\n",
       "    .dataframe tbody tr th {\n",
       "        vertical-align: top;\n",
       "    }\n",
       "\n",
       "    .dataframe thead th {\n",
       "        text-align: right;\n",
       "    }\n",
       "</style>\n",
       "<table border=\"1\" class=\"dataframe\">\n",
       "  <thead>\n",
       "    <tr style=\"text-align: right;\">\n",
       "      <th></th>\n",
       "      <th>date_releve</th>\n",
       "      <th>niveau</th>\n",
       "    </tr>\n",
       "  </thead>\n",
       "  <tbody>\n",
       "    <tr>\n",
       "      <th>0</th>\n",
       "      <td>2016-04-27</td>\n",
       "      <td>23.4</td>\n",
       "    </tr>\n",
       "    <tr>\n",
       "      <th>1</th>\n",
       "      <td>2016-09-07</td>\n",
       "      <td>23.4</td>\n",
       "    </tr>\n",
       "    <tr>\n",
       "      <th>2</th>\n",
       "      <td>2016-11-13</td>\n",
       "      <td>21.3</td>\n",
       "    </tr>\n",
       "    <tr>\n",
       "      <th>3</th>\n",
       "      <td>2017-02-28</td>\n",
       "      <td>20.1</td>\n",
       "    </tr>\n",
       "    <tr>\n",
       "      <th>4</th>\n",
       "      <td>2017-07-04</td>\n",
       "      <td>19.6</td>\n",
       "    </tr>\n",
       "  </tbody>\n",
       "</table>\n",
       "</div>"
      ],
      "text/plain": [
       "  date_releve  niveau\n",
       "0  2016-04-27    23.4\n",
       "1  2016-09-07    23.4\n",
       "2  2016-11-13    21.3\n",
       "3  2017-02-28    20.1\n",
       "4  2017-07-04    19.6"
      ]
     },
     "execution_count": 39,
     "metadata": {},
     "output_type": "execute_result"
    }
   ],
   "source": [
    "df.head()"
   ]
  },
  {
   "cell_type": "code",
   "execution_count": 40,
   "metadata": {},
   "outputs": [],
   "source": [
    "df['date_releve'] = pd.to_datetime(df['date_releve'])\n",
    "df.set_index('date_releve', inplace=True)"
   ]
  },
  {
   "cell_type": "code",
   "execution_count": 41,
   "metadata": {},
   "outputs": [
    {
     "data": {
      "text/plain": [
       "Text(0, 0.5, 'niveau [m]')"
      ]
     },
     "execution_count": 41,
     "metadata": {},
     "output_type": "execute_result"
    },
    {
     "data": {
      "image/png": "[encoded data removed]",
      "text/plain": [
       "<Figure size 720x432 with 1 Axes>"
      ]
     },
     "metadata": {
      "needs_background": "light"
     },
     "output_type": "display_data"
    }
   ],
   "source": [
    "fig, ax = plt.subplots(figsize=(10,6))\n",
    "df.plot(title='Evolution des niveaux dans le piézomètre F', ax=ax, style='o-')\n",
    "ax.set_xlabel(\"date\")\n",
    "ax.set_ylabel(\"niveau [m]\")"
   ]
  },
  {
   "cell_type": "markdown",
   "metadata": {},
   "source": [
    "<div class=\"alert alert-block alert-success\">\n",
    "    Ecrire une requête et le code python associé pour afficher un graphique montrant au cours du temps les niveaux inférieurs à 40m dans les relevés du pizéomètre E \n",
    "</div>  "
   ]
  },
  {
   "cell_type": "code",
   "execution_count": 42,
   "metadata": {},
   "outputs": [
    {
     "name": "stdout",
     "output_type": "stream",
     "text": [
      " * sqlite:///example_db.db\n",
      "Done.\n"
     ]
    }
   ],
   "source": [
    "out = %sql SELECT date_releve, niveau FROM piezometres INNER JOIN niveaux ON piezometres.nom=niveaux.nom_piezo WHERE piezometres.nom=='E' AND niveau<40. ORDER BY date_releve;\n",
    "df = out.DataFrame()"
   ]
  },
  {
   "cell_type": "code",
   "execution_count": 43,
   "metadata": {},
   "outputs": [
    {
     "data": {
      "text/html": [
       "<div>\n",
       "<style scoped>\n",
       "    .dataframe tbody tr th:only-of-type {\n",
       "        vertical-align: middle;\n",
       "    }\n",
       "\n",
       "    .dataframe tbody tr th {\n",
       "        vertical-align: top;\n",
       "    }\n",
       "\n",
       "    .dataframe thead th {\n",
       "        text-align: right;\n",
       "    }\n",
       "</style>\n",
       "<table border=\"1\" class=\"dataframe\">\n",
       "  <thead>\n",
       "    <tr style=\"text-align: right;\">\n",
       "      <th></th>\n",
       "      <th>date_releve</th>\n",
       "      <th>niveau</th>\n",
       "    </tr>\n",
       "  </thead>\n",
       "  <tbody>\n",
       "    <tr>\n",
       "      <th>0</th>\n",
       "      <td>2017-11-09</td>\n",
       "      <td>38.9</td>\n",
       "    </tr>\n",
       "    <tr>\n",
       "      <th>1</th>\n",
       "      <td>2019-08-01</td>\n",
       "      <td>39.9</td>\n",
       "    </tr>\n",
       "    <tr>\n",
       "      <th>2</th>\n",
       "      <td>2019-10-22</td>\n",
       "      <td>37.1</td>\n",
       "    </tr>\n",
       "  </tbody>\n",
       "</table>\n",
       "</div>"
      ],
      "text/plain": [
       "  date_releve  niveau\n",
       "0  2017-11-09    38.9\n",
       "1  2019-08-01    39.9\n",
       "2  2019-10-22    37.1"
      ]
     },
     "execution_count": 43,
     "metadata": {},
     "output_type": "execute_result"
    }
   ],
   "source": [
    "df.head()"
   ]
  },
  {
   "cell_type": "code",
   "execution_count": 44,
   "metadata": {},
   "outputs": [],
   "source": [
    "df['date_releve'] = pd.to_datetime(df['date_releve'])\n",
    "df.set_index('date_releve', inplace=True)"
   ]
  },
  {
   "cell_type": "code",
   "execution_count": 45,
   "metadata": {},
   "outputs": [
    {
     "data": {
      "text/plain": [
       "Text(0, 0.5, 'niveau [m]')"
      ]
     },
     "execution_count": 45,
     "metadata": {},
     "output_type": "execute_result"
    },
    {
     "data": {
      "image/png": "[encoded data removed]",
      "text/plain": [
       "<Figure size 720x432 with 1 Axes>"
      ]
     },
     "metadata": {
      "needs_background": "light"
     },
     "output_type": "display_data"
    }
   ],
   "source": [
    "fig, ax = plt.subplots(figsize=(10,6))\n",
    "df.plot(title='Dates pour lesquelles les niveaux relevés dans le piézomètre E sont inférieurs à 40m', ax=ax, style='o')\n",
    "ax.set_xlabel(\"date\")\n",
    "ax.set_ylabel(\"niveau [m]\")"
   ]
  }
 ],
 "metadata": {
  "kernelspec": {
   "display_name": "Python 3 (ipykernel)",
   "language": "python",
   "name": "python3"
  },
  "language_info": {
   "codemirror_mode": {
    "name": "ipython",
    "version": 3
   },
   "file_extension": ".py",
   "mimetype": "text/x-python",
   "name": "python",
   "nbconvert_exporter": "python",
   "pygments_lexer": "ipython3",
   "version": "3.8.10"
  }
 },
 "nbformat": 4,
 "nbformat_minor": 1
}
