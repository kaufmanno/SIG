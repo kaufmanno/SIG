{
 "cells": [
  {
   "cell_type": "markdown",
   "metadata": {},
   "source": [
    "# Exercice 1: Création et manipulation d'une base de données simple\n",
    "O. Kaufmann 2018, 2021\n",
    "\n",
    "<div class=\"alert alert-block alert-info\">\n",
    "    <b>Tip:</b> Exécuter une à une les cellules déjà présentes en prenant soin de comprendre leur contenu.<br>\n",
    "    Compléter le notebook là où c'est nécessaire. Un encadré vert expliquant le complément attendu précède la section à compléter.\n",
    "</div>\n",
    "\n",
    "<div class=\"alert alert-block alert-warning\">\n",
    "    <b>Avertissement:</b><br> Ce notebook nécessite que les packages matplotlib, ipython-sql, pandas et eralchemy soient installés.<br>\n",
    "    Si ce n'est pas le cas, les installer dans le terminal avec la commande ci-dessous: <br>\n",
    "     <code>pipenv install matplotlib ipython-sql eralchemy pandas</code> <br>\n",
    "    puis redémarrer le kernel python du notebook.\n",
    "</div> "
   ]
  },
  {
   "cell_type": "markdown",
   "metadata": {},
   "source": [
    "### Chargement des packages python\n",
    "<div class=\"alert alert-block alert-info\">\n",
    "    <i>matplotlib</i> sert à créer des graphiques au départ de données<br>\n",
    "    <i>pandas</i> sert à manipuler des tableaux<br>\n",
    "    <i>render_er</i> sert à créer une représentation graphique de la base de données<br> \n",
    "    <i>SVG</i> sert à afficher des graphiques SVG dans le notebook\n",
    "</div>  "
   ]
  },
  {
   "cell_type": "code",
   "execution_count": 1,
   "metadata": {},
   "outputs": [],
   "source": [
    "%matplotlib inline\n",
    "import matplotlib.pyplot as plt\n",
    "import pandas as pd\n",
    "from eralchemy import render_er\n",
    "from IPython.display import SVG"
   ]
  },
  {
   "cell_type": "markdown",
   "metadata": {},
   "source": [
    "### Chargement de l'extension et ouverture d'une base de donnée sqlite3"
   ]
  },
  {
   "cell_type": "markdown",
   "metadata": {},
   "source": [
    "Charger l'extension de Jupyter pour traiter SQL"
   ]
  },
  {
   "cell_type": "code",
   "execution_count": 2,
   "metadata": {},
   "outputs": [],
   "source": [
    "%load_ext sql"
   ]
  },
  {
   "cell_type": "markdown",
   "metadata": {},
   "source": [
    "Obtenir de l'aide sur une fonction dans un notebook avec '?'"
   ]
  },
  {
   "cell_type": "code",
   "execution_count": 4,
   "metadata": {},
   "outputs": [],
   "source": [
    "? %%sql"
   ]
  },
  {
   "cell_type": "markdown",
   "metadata": {},
   "source": [
    "Effacer le fichier de la base de données si il existe...\n",
    "<div class=\"alert alert-block alert-info\">\n",
    "    <b>Tip:</b> Le point d'exclamation en début de ligne permet d'exécuter des commandes bash depuis le notebook\n",
    "</div>  "
   ]
  },
  {
   "cell_type": "code",
   "execution_count": 5,
   "metadata": {},
   "outputs": [],
   "source": [
    "! rm example_db.db"
   ]
  },
  {
   "cell_type": "markdown",
   "metadata": {},
   "source": [
    "Création d'une base de données vide (car elle n'existe pas puisqu'on vient d'effacer le fichier!)  \n",
    "<div class=\"alert alert-block alert-info\">\n",
    "    <b>Tip:</b> Si le fichier existait, on pourrait se connecter à la base existante de la même façon...\n",
    "</div>  "
   ]
  },
  {
   "cell_type": "code",
   "execution_count": 6,
   "metadata": {},
   "outputs": [],
   "source": [
    "%sql sqlite:///example_db.db"
   ]
  },
  {
   "cell_type": "markdown",
   "metadata": {},
   "source": [
    "### Création des tables"
   ]
  },
  {
   "cell_type": "code",
   "execution_count": 8,
   "metadata": {},
   "outputs": [
    {
     "name": "stdout",
     "output_type": "stream",
     "text": [
      " * sqlite:///example_db.db\n",
      "(sqlite3.OperationalError) table ouvrages already exists\n",
      "[SQL: CREATE TABLE ouvrages( nom TEXT PRIMARY KEY,\n",
      "    commune TEXT  \n",
      ");]\n",
      "(Background on this error at: http://sqlalche.me/e/13/e3q8)\n"
     ]
    }
   ],
   "source": [
    "%%sql \n",
    "CREATE TABLE ouvrages(\n",
    "    nom TEXT PRIMARY KEY,\n",
    "    commune TEXT  \n",
    ");"
   ]
  },
  {
   "cell_type": "code",
   "execution_count": 9,
   "metadata": {},
   "outputs": [
    {
     "name": "stdout",
     "output_type": "stream",
     "text": [
      " * sqlite:///example_db.db\n",
      "Done.\n"
     ]
    },
    {
     "data": {
      "text/plain": [
       "[]"
      ]
     },
     "execution_count": 9,
     "metadata": {},
     "output_type": "execute_result"
    }
   ],
   "source": [
    "%%sql\n",
    "CREATE TABLE piezometres(\n",
    "    nom TEXT, \n",
    "    enregistreur TEXT,\n",
    "    PRIMARY KEY(nom),\n",
    "    FOREIGN KEY(nom) REFERENCES ouvrages(nom) ON DELETE CASCADE\n",
    ");"
   ]
  },
  {
   "cell_type": "code",
   "execution_count": 10,
   "metadata": {},
   "outputs": [
    {
     "name": "stdout",
     "output_type": "stream",
     "text": [
      " * sqlite:///example_db.db\n",
      "Done.\n"
     ]
    },
    {
     "data": {
      "text/plain": [
       "[]"
      ]
     },
     "execution_count": 10,
     "metadata": {},
     "output_type": "execute_result"
    }
   ],
   "source": [
    "%%sql\n",
    "CREATE TABLE puits_captages(\n",
    "    nom TEXT,\n",
    "    type_pompe TEXT,\n",
    "    PRIMARY KEY(nom),\n",
    "    FOREIGN KEY(nom) REFERENCES ouvrages(nom) ON DELETE CASCADE\n",
    ");"
   ]
  },
  {
   "cell_type": "code",
   "execution_count": 11,
   "metadata": {},
   "outputs": [
    {
     "name": "stdout",
     "output_type": "stream",
     "text": [
      " * sqlite:///example_db.db\n",
      "Done.\n"
     ]
    },
    {
     "data": {
      "text/plain": [
       "[]"
      ]
     },
     "execution_count": 11,
     "metadata": {},
     "output_type": "execute_result"
    }
   ],
   "source": [
    "%%sql\n",
    "CREATE TABLE prelevements(\n",
    "    nom_puits TEXT,\n",
    "    annee INTEGER,\n",
    "    volume REAL,\n",
    "    PRIMARY KEY(nom_puits, annee),\n",
    "    FOREIGN KEY(nom_puits) REFERENCES puits_captages(nom) ON DELETE CASCADE\n",
    "    );"
   ]
  },
  {
   "cell_type": "markdown",
   "metadata": {},
   "source": [
    "### Afficher le schéma de la base de données sous forme graphique  \n",
    "<div class=\"alert alert-block alert-info\">\n",
    "    <b>Tip:</b> render_er crée un fichier .svg du schéma de la base de données qui est ensuite affiché dans le notebook avec la commande SVG()\n",
    "</div>  "
   ]
  },
  {
   "cell_type": "code",
   "execution_count": 12,
   "metadata": {},
   "outputs": [
    {
     "data": {
      "image/svg+xml": [
       "<svg height=\"211pt\" viewBox=\"0.00 0.00 572.00 210.50\" width=\"572pt\" xmlns=\"http://www.w3.org/2000/svg\" xmlns:xlink=\"http://www.w3.org/1999/xlink\">\n",
       "<g class=\"graph\" id=\"graph0\" transform=\"scale(1 1) rotate(0) translate(4 206.5)\">\n",
       "<title>%3</title>\n",
       "<polygon fill=\"#ffffff\" points=\"-4,4 -4,-206.5 568,-206.5 568,4 -4,4\" stroke=\"transparent\"/>\n",
       "<!-- ouvrages -->\n",
       "<g class=\"node\" id=\"node1\">\n",
       "<title>ouvrages</title>\n",
       "<polygon fill=\"none\" points=\"8.5,-118.5 8.5,-146.5 125.5,-146.5 125.5,-118.5 8.5,-118.5\" stroke=\"#000000\"/>\n",
       "<text fill=\"#000000\" font-family=\"Helvetica,sans-Serif\" font-size=\"16.00\" font-weight=\"bold\" text-anchor=\"start\" x=\"31\" y=\"-129.7\">ouvrages</text>\n",
       "<polygon fill=\"none\" points=\"8.5,-93.5 8.5,-118.5 125.5,-118.5 125.5,-93.5 8.5,-93.5\" stroke=\"#000000\"/>\n",
       "<text fill=\"#000000\" font-family=\"Helvetica,sans-Serif\" font-size=\"14.00\" text-anchor=\"start\" text-decoration=\"underline\" x=\"13.5\" y=\"-103.3\">nom</text>\n",
       "<text fill=\"#000000\" font-family=\"Helvetica,sans-Serif\" font-size=\"14.00\" text-anchor=\"start\" x=\"41.5\" y=\"-103.3\"> [TEXT]</text>\n",
       "<polygon fill=\"none\" points=\"8.5,-68.5 8.5,-93.5 125.5,-93.5 125.5,-68.5 8.5,-68.5\" stroke=\"#000000\"/>\n",
       "<text fill=\"#000000\" font-family=\"Helvetica,sans-Serif\" font-size=\"14.00\" text-anchor=\"start\" x=\"13.5\" y=\"-78.3\">commune</text>\n",
       "<text fill=\"#000000\" font-family=\"Helvetica,sans-Serif\" font-size=\"14.00\" text-anchor=\"start\" x=\"74.5\" y=\"-78.3\"> [TEXT]</text>\n",
       "</g>\n",
       "<!-- piezometres -->\n",
       "<g class=\"node\" id=\"node2\">\n",
       "<title>piezometres</title>\n",
       "<polygon fill=\"none\" points=\"216,-170.5 216,-198.5 345,-198.5 345,-170.5 216,-170.5\" stroke=\"#000000\"/>\n",
       "<text fill=\"#000000\" font-family=\"Helvetica,sans-Serif\" font-size=\"16.00\" font-weight=\"bold\" text-anchor=\"start\" x=\"233.5\" y=\"-181.7\">piezometres</text>\n",
       "<polygon fill=\"none\" points=\"216,-145.5 216,-170.5 345,-170.5 345,-145.5 216,-145.5\" stroke=\"#000000\"/>\n",
       "<text fill=\"#000000\" font-family=\"Helvetica,sans-Serif\" font-size=\"14.00\" text-anchor=\"start\" text-decoration=\"underline\" x=\"221\" y=\"-155.3\">nom</text>\n",
       "<text fill=\"#000000\" font-family=\"Helvetica,sans-Serif\" font-size=\"14.00\" text-anchor=\"start\" x=\"249\" y=\"-155.3\"> [TEXT]</text>\n",
       "<polygon fill=\"none\" points=\"216,-120.5 216,-145.5 345,-145.5 345,-120.5 216,-120.5\" stroke=\"#000000\"/>\n",
       "<text fill=\"#000000\" font-family=\"Helvetica,sans-Serif\" font-size=\"14.00\" text-anchor=\"start\" x=\"221\" y=\"-130.3\">enregistreur</text>\n",
       "<text fill=\"#000000\" font-family=\"Helvetica,sans-Serif\" font-size=\"14.00\" text-anchor=\"start\" x=\"294\" y=\"-130.3\"> [TEXT]</text>\n",
       "</g>\n",
       "<!-- ouvrages&#45;&#45;piezometres -->\n",
       "<g class=\"edge\" id=\"edge1\">\n",
       "<title>ouvrages--piezometres</title>\n",
       "<path d=\"M133.1745,-123.7392C156.6658,-129.4608 183.1859,-135.92 207.1598,-141.7591\" fill=\"none\" stroke=\"#7f7f7f\" stroke-dasharray=\"5,2\"/>\n",
       "<text fill=\"#000000\" font-family=\"Times,serif\" font-size=\"14.00\" text-anchor=\"start\" x=\"176.1598\" y=\"-130.5591\">{0,1}</text>\n",
       "<text fill=\"#000000\" font-family=\"Times,serif\" font-size=\"14.00\" text-anchor=\"start\" x=\"133.1745\" y=\"-112.5392\">0..N</text>\n",
       "</g>\n",
       "<!-- puits_captages -->\n",
       "<g class=\"node\" id=\"node3\">\n",
       "<title>puits_captages</title>\n",
       "<polygon fill=\"none\" points=\"214,-66.5 214,-94.5 346,-94.5 346,-66.5 214,-66.5\" stroke=\"#000000\"/>\n",
       "<text fill=\"#000000\" font-family=\"Helvetica,sans-Serif\" font-size=\"16.00\" font-weight=\"bold\" text-anchor=\"start\" x=\"221\" y=\"-77.7\">puits_captages</text>\n",
       "<polygon fill=\"none\" points=\"214,-41.5 214,-66.5 346,-66.5 346,-41.5 214,-41.5\" stroke=\"#000000\"/>\n",
       "<text fill=\"#000000\" font-family=\"Helvetica,sans-Serif\" font-size=\"14.00\" text-anchor=\"start\" text-decoration=\"underline\" x=\"219\" y=\"-51.3\">nom</text>\n",
       "<text fill=\"#000000\" font-family=\"Helvetica,sans-Serif\" font-size=\"14.00\" text-anchor=\"start\" x=\"247\" y=\"-51.3\"> [TEXT]</text>\n",
       "<polygon fill=\"none\" points=\"214,-16.5 214,-41.5 346,-41.5 346,-16.5 214,-16.5\" stroke=\"#000000\"/>\n",
       "<text fill=\"#000000\" font-family=\"Helvetica,sans-Serif\" font-size=\"14.00\" text-anchor=\"start\" x=\"219\" y=\"-26.3\">type_pompe</text>\n",
       "<text fill=\"#000000\" font-family=\"Helvetica,sans-Serif\" font-size=\"14.00\" text-anchor=\"start\" x=\"295\" y=\"-26.3\"> [TEXT]</text>\n",
       "</g>\n",
       "<!-- ouvrages&#45;&#45;puits_captages -->\n",
       "<g class=\"edge\" id=\"edge2\">\n",
       "<title>ouvrages--puits_captages</title>\n",
       "<path d=\"M133.1745,-91.2608C156.1764,-85.6584 182.0822,-79.3488 205.6582,-73.6067\" fill=\"none\" stroke=\"#7f7f7f\" stroke-dasharray=\"5,2\"/>\n",
       "<text fill=\"#000000\" font-family=\"Times,serif\" font-size=\"14.00\" text-anchor=\"start\" x=\"174.6582\" y=\"-62.4067\">{0,1}</text>\n",
       "<text fill=\"#000000\" font-family=\"Times,serif\" font-size=\"14.00\" text-anchor=\"start\" x=\"133.1745\" y=\"-80.0608\">0..N</text>\n",
       "</g>\n",
       "<!-- prelevements -->\n",
       "<g class=\"node\" id=\"node4\">\n",
       "<title>prelevements</title>\n",
       "<polygon fill=\"none\" points=\"435.5,-78.5 435.5,-106.5 556.5,-106.5 556.5,-78.5 435.5,-78.5\" stroke=\"#000000\"/>\n",
       "<text fill=\"#000000\" font-family=\"Helvetica,sans-Serif\" font-size=\"16.00\" font-weight=\"bold\" text-anchor=\"start\" x=\"444\" y=\"-89.7\">prelevements</text>\n",
       "<polygon fill=\"none\" points=\"435.5,-53.5 435.5,-78.5 556.5,-78.5 556.5,-53.5 435.5,-53.5\" stroke=\"#000000\"/>\n",
       "<text fill=\"#000000\" font-family=\"Helvetica,sans-Serif\" font-size=\"14.00\" text-anchor=\"start\" text-decoration=\"underline\" x=\"440.5\" y=\"-63.3\">nom_puits</text>\n",
       "<text fill=\"#000000\" font-family=\"Helvetica,sans-Serif\" font-size=\"14.00\" text-anchor=\"start\" x=\"504.5\" y=\"-63.3\"> [TEXT]</text>\n",
       "<polygon fill=\"none\" points=\"435.5,-28.5 435.5,-53.5 556.5,-53.5 556.5,-28.5 435.5,-28.5\" stroke=\"#000000\"/>\n",
       "<text fill=\"#000000\" font-family=\"Helvetica,sans-Serif\" font-size=\"14.00\" text-anchor=\"start\" text-decoration=\"underline\" x=\"440.5\" y=\"-38.3\">annee</text>\n",
       "<text fill=\"#000000\" font-family=\"Helvetica,sans-Serif\" font-size=\"14.00\" text-anchor=\"start\" x=\"478.5\" y=\"-38.3\"> [INTEGER]</text>\n",
       "<polygon fill=\"none\" points=\"435.5,-3.5 435.5,-28.5 556.5,-28.5 556.5,-3.5 435.5,-3.5\" stroke=\"#000000\"/>\n",
       "<text fill=\"#000000\" font-family=\"Helvetica,sans-Serif\" font-size=\"14.00\" text-anchor=\"start\" x=\"440.5\" y=\"-13.3\">volume</text>\n",
       "<text fill=\"#000000\" font-family=\"Helvetica,sans-Serif\" font-size=\"14.00\" text-anchor=\"start\" x=\"485.5\" y=\"-13.3\"> [REAL]</text>\n",
       "</g>\n",
       "<!-- puits_captages&#45;&#45;prelevements -->\n",
       "<g class=\"edge\" id=\"edge3\">\n",
       "<title>puits_captages--prelevements</title>\n",
       "<path d=\"M354.1629,-55.5C377.7825,-55.5 403.7947,-55.5 426.9952,-55.5\" fill=\"none\" stroke=\"#7f7f7f\" stroke-dasharray=\"5,2\"/>\n",
       "<text fill=\"#000000\" font-family=\"Times,serif\" font-size=\"14.00\" text-anchor=\"start\" x=\"395.9952\" y=\"-44.3\">{0,1}</text>\n",
       "<text fill=\"#000000\" font-family=\"Times,serif\" font-size=\"14.00\" text-anchor=\"start\" x=\"354.1629\" y=\"-44.3\">0..N</text>\n",
       "</g>\n",
       "</g>\n",
       "</svg>"
      ],
      "text/plain": [
       "<IPython.core.display.SVG object>"
      ]
     },
     "execution_count": 12,
     "metadata": {},
     "output_type": "execute_result"
    }
   ],
   "source": [
    "render_er('sqlite:///example_db.db', 'example_db_schema.svg')\n",
    "SVG('example_db_schema.svg')"
   ]
  },
  {
   "cell_type": "markdown",
   "metadata": {},
   "source": [
    "<div class=\"alert alert-block alert-success\">\n",
    "    Ajouter la définition de la table \"niveaux\" reprenant les niveaux relevés dans les piezomètres.<br> \n",
    "    Les champs seront nommés \"nom_piezo\", \"date_releve\" et \"niveau\"\n",
    "</div>  "
   ]
  },
  {
   "cell_type": "code",
   "execution_count": null,
   "metadata": {},
   "outputs": [],
   "source": []
  },
  {
   "cell_type": "markdown",
   "metadata": {},
   "source": [
    "### Activer de l'intégrité référentielle\n",
    "<div class=\"alert alert-block alert-info\">\n",
    "    <b>Tip:</b> pour des raisons de rétro-compatibilité, l'intégrité référentielle n'est pas activée par défaut dans sqlite...\n",
    "</div>  "
   ]
  },
  {
   "cell_type": "code",
   "execution_count": null,
   "metadata": {},
   "outputs": [],
   "source": [
    "%%sql\n",
    "PRAGMA foreign_keys = ON;\n",
    "PRAGMA foreign_keys;"
   ]
  },
  {
   "cell_type": "markdown",
   "metadata": {},
   "source": [
    "### Afficher le schéma complété sous forme graphique"
   ]
  },
  {
   "cell_type": "markdown",
   "metadata": {},
   "source": [
    "<div class=\"alert alert-block alert-success\">\n",
    "    Ajouter les commandes nécessaires pour afficher le schéma complété de la base de données\n",
    "</div>  "
   ]
  },
  {
   "cell_type": "code",
   "execution_count": null,
   "metadata": {},
   "outputs": [],
   "source": []
  },
  {
   "cell_type": "markdown",
   "metadata": {},
   "source": [
    "### Afficher les tables de la base de données\n",
    "<div class=\"alert alert-block alert-info\">\n",
    "    <b>Tip:</b> sqlite_master est une table particulière dans laquelle SQLite stocke les informations propres à la structure de la base de données\n",
    "</div>  "
   ]
  },
  {
   "cell_type": "code",
   "execution_count": null,
   "metadata": {
    "scrolled": true
   },
   "outputs": [],
   "source": [
    "%%sql\n",
    "SELECT name, sql FROM sqlite_master\n",
    "WHERE type='table'\n",
    "ORDER BY name;"
   ]
  },
  {
   "cell_type": "markdown",
   "metadata": {},
   "source": [
    "### Insérer des données"
   ]
  },
  {
   "cell_type": "code",
   "execution_count": null,
   "metadata": {},
   "outputs": [],
   "source": [
    "%%sql\n",
    "INSERT INTO ouvrages VALUES('A','Beloeil');"
   ]
  },
  {
   "cell_type": "markdown",
   "metadata": {},
   "source": [
    "<div class=\"alert alert-block alert-success\">\n",
    "    Insérer le fait que la pompe installée dans le captage A est du type RK822W\n",
    "</div>  "
   ]
  },
  {
   "cell_type": "code",
   "execution_count": null,
   "metadata": {},
   "outputs": [],
   "source": []
  },
  {
   "cell_type": "markdown",
   "metadata": {},
   "source": [
    "<div class=\"alert alert-block alert-success\">\n",
    "    Vérifier que l'information a bien été ajoutée\n",
    "</div>  "
   ]
  },
  {
   "cell_type": "code",
   "execution_count": null,
   "metadata": {},
   "outputs": [],
   "source": []
  },
  {
   "cell_type": "markdown",
   "metadata": {},
   "source": [
    "### Effacer un enregistrement et ceux qui y sont liés en cascade"
   ]
  },
  {
   "cell_type": "code",
   "execution_count": null,
   "metadata": {},
   "outputs": [],
   "source": [
    "%%sql\n",
    "DELETE FROM ouvrages WHERE nom='A';"
   ]
  },
  {
   "cell_type": "markdown",
   "metadata": {},
   "source": [
    "<div class=\"alert alert-block alert-success\">\n",
    "    Ecrire une requête pour vérifier que l'integrité référentielle a bien fonctionné\n",
    "</div>  "
   ]
  },
  {
   "cell_type": "code",
   "execution_count": null,
   "metadata": {},
   "outputs": [],
   "source": []
  },
  {
   "cell_type": "markdown",
   "metadata": {},
   "source": [
    "### Insertion des valeurs dans la table des ouvrages"
   ]
  },
  {
   "cell_type": "code",
   "execution_count": null,
   "metadata": {},
   "outputs": [],
   "source": [
    "%%sql\n",
    "INSERT INTO ouvrages VALUES('A','Beloeil');\n",
    "INSERT INTO ouvrages VALUES('B','Mons');\n",
    "INSERT INTO ouvrages VALUES('C','Quevaucamps');\n",
    "INSERT INTO ouvrages VALUES('D','Ciply');\n",
    "INSERT INTO ouvrages VALUES('E','Hyon');"
   ]
  },
  {
   "cell_type": "code",
   "execution_count": null,
   "metadata": {},
   "outputs": [],
   "source": [
    "%%sql \n",
    "SELECT * FROM ouvrages;"
   ]
  },
  {
   "cell_type": "code",
   "execution_count": null,
   "metadata": {},
   "outputs": [],
   "source": [
    "%%sql\n",
    "SELECT * FROM puits_captages;"
   ]
  },
  {
   "cell_type": "markdown",
   "metadata": {},
   "source": [
    "### Insertion de valeurs dans la table des puits de captage"
   ]
  },
  {
   "cell_type": "code",
   "execution_count": null,
   "metadata": {},
   "outputs": [],
   "source": [
    "%%sql\n",
    "INSERT INTO puits_captages ('nom','type_pompe') VALUES ('A','RK822W');\n",
    "INSERT INTO puits_captages ('nom','type_pompe') VALUES ('B','RK622W');\n",
    "INSERT INTO puits_captages ('nom','type_pompe') VALUES ('C','ABB226');\n",
    "INSERT INTO puits_captages ('nom','type_pompe') VALUES ('D','6-DDR-3');\n",
    "INSERT INTO puits_captages ('nom','type_pompe') VALUES ('E','RK822W');"
   ]
  },
  {
   "cell_type": "code",
   "execution_count": null,
   "metadata": {},
   "outputs": [],
   "source": [
    "%%sql\n",
    "SELECT * FROM puits_captages;"
   ]
  },
  {
   "cell_type": "markdown",
   "metadata": {},
   "source": [
    "### Insertion de volumes captés"
   ]
  },
  {
   "cell_type": "code",
   "execution_count": null,
   "metadata": {},
   "outputs": [],
   "source": [
    "%%sql\n",
    "INSERT INTO prelevements ('nom_puits', 'annee', 'volume') VALUES ('A','2014', 144208);\n",
    "INSERT INTO prelevements ('nom_puits', 'annee', 'volume') VALUES ('A','2015', 98537);\n",
    "INSERT INTO prelevements ('nom_puits', 'annee', 'volume') VALUES ('A','2016', 37145);\n",
    "INSERT INTO prelevements ('nom_puits', 'annee', 'volume') VALUES ('B','2016', 178403);\n",
    "INSERT INTO prelevements ('nom_puits', 'annee', 'volume') VALUES ('C','2016', 17528);\n",
    "INSERT INTO prelevements ('nom_puits', 'annee', 'volume') VALUES ('A','2017', 24454);\n",
    "INSERT INTO prelevements ('nom_puits', 'annee', 'volume') VALUES ('B','2017', 224269);\n",
    "INSERT INTO prelevements ('nom_puits', 'annee', 'volume') VALUES ('C','2017', 47364);\n",
    "INSERT INTO prelevements ('nom_puits', 'annee', 'volume') VALUES ('D','2017', 341077);\n",
    "INSERT INTO prelevements ('nom_puits', 'annee', 'volume') VALUES ('E','2017', 72354);\n",
    "INSERT INTO prelevements ('nom_puits', 'annee', 'volume') VALUES ('A','2018', 98759);\n",
    "INSERT INTO prelevements ('nom_puits', 'annee', 'volume') VALUES ('B','2018', 517541);\n",
    "INSERT INTO prelevements ('nom_puits', 'annee', 'volume') VALUES ('C','2018', 64);\n",
    "INSERT INTO prelevements ('nom_puits', 'annee', 'volume') VALUES ('D','2018', 34717);"
   ]
  },
  {
   "cell_type": "markdown",
   "metadata": {},
   "source": [
    "<div class=\"alert alert-block alert-success\">\n",
    "    Ajouter les volumes captés suivants pour l'année 2019:<br>\n",
    "    <table style=\"width:30%\">\n",
    "      <tr>\n",
    "        <th>Captage</th>\n",
    "        <th>Volume</th>\n",
    "      </tr>\n",
    "      <tr>\n",
    "        <td>A</td>\n",
    "        <td>22354</td>\n",
    "      </tr>\n",
    "      <tr>\n",
    "        <td>B</td>\n",
    "        <td>174256</td>\n",
    "      </tr>\n",
    "            <tr>\n",
    "        <td>C</td>\n",
    "        <td>122634</td>\n",
    "      </tr>\n",
    "      <tr>\n",
    "        <td>D</td>\n",
    "        <td>374456</td>\n",
    "      </tr>\n",
    "    </table> \n",
    "</div>  "
   ]
  },
  {
   "cell_type": "code",
   "execution_count": null,
   "metadata": {},
   "outputs": [],
   "source": []
  },
  {
   "cell_type": "markdown",
   "metadata": {},
   "source": [
    "<div class=\"alert alert-block alert-success\">\n",
    "    Ecrire une requête pour calculer la somme des volumes captés en 2018\n",
    "</div>  "
   ]
  },
  {
   "cell_type": "code",
   "execution_count": null,
   "metadata": {},
   "outputs": [],
   "source": []
  },
  {
   "cell_type": "markdown",
   "metadata": {},
   "source": [
    "<div class=\"alert alert-block alert-success\">\n",
    "    Ecrire une requête calculer la somme, pour chacun des captages, des volumes captés entre début 2017 et fin 2019\n",
    "</div>  "
   ]
  },
  {
   "cell_type": "code",
   "execution_count": null,
   "metadata": {
    "scrolled": true
   },
   "outputs": [],
   "source": []
  },
  {
   "cell_type": "markdown",
   "metadata": {},
   "source": [
    "### Utiliser pandas pour afficher l'historique des prélèvements sur le captage 'A'\n",
    "<div class=\"alert alert-block alert-info\">\n",
    "    <b>Tip:</b> Grâce à l'extension ipython-sql, il est possible de récupérer la réponse à une requête SQL dans un dataframe pandas et d'utiliser le dataframe pour produire une sortie graphique. <br> Pour information, il est aussi possible d'interroger directement une base de données avec pandas via une requête sql (cf. <code>pd.read_sql(...)</code>)\n",
    "</div>  "
   ]
  },
  {
   "cell_type": "code",
   "execution_count": null,
   "metadata": {},
   "outputs": [],
   "source": []
  },
  {
   "cell_type": "markdown",
   "metadata": {},
   "source": [
    "### Insertion des releves piezométriques"
   ]
  },
  {
   "cell_type": "markdown",
   "metadata": {},
   "source": [
    "<div class=\"alert alert-block alert-success\">\n",
    "    Les enregistreurs suivants sont présents dans les piezomètres:<br>   \n",
    "    <table style=\"width:50%\">\n",
    "      <tr>\n",
    "        <th>Piezomètre</th>\n",
    "        <th>Commune</th>\n",
    "        <th>Type d'enregistreur</th>\n",
    "      </tr>\n",
    "      <tr>\n",
    "        <td>F</td>\n",
    "        <td>Mons</td>\n",
    "        <td>SLB-Diver</td>\n",
    "      </tr>\n",
    "      <tr>\n",
    "        <td>G</td>\n",
    "        <td>Harmignies</td>\n",
    "        <td>SLB-Diver</td>\n",
    "      </tr>\n",
    "      <tr>\n",
    "        <td>H</td>\n",
    "        <td>Genly</td>\n",
    "        <td>SLB-Diver-2</td>\n",
    "      </tr>\n",
    "      <tr>\n",
    "        <td>I</td>\n",
    "        <td>Flénu</td>\n",
    "        <td>SLB-Diver</td>\n",
    "      </tr>\n",
    "      <tr>\n",
    "        <td>J</td>\n",
    "        <td>Cuesmes</td>\n",
    "        <td>SLB-Diver-2</td>\n",
    "      </tr>\n",
    "    </table> <br>\n",
    "    Entrer ces données dans la base de données\n",
    "</div>  "
   ]
  },
  {
   "cell_type": "code",
   "execution_count": null,
   "metadata": {},
   "outputs": [],
   "source": []
  },
  {
   "cell_type": "markdown",
   "metadata": {},
   "source": [
    "### Insertion de valeurs dans la table des piézomètres"
   ]
  },
  {
   "cell_type": "code",
   "execution_count": null,
   "metadata": {},
   "outputs": [],
   "source": [
    "%%sql\n",
    "INSERT INTO piezometres ('nom','enregistreur') VALUES ('F','SLB-Diver');\n",
    "INSERT INTO piezometres ('nom','enregistreur') VALUES ('G','SLB-Diver');\n",
    "INSERT INTO piezometres ('nom','enregistreur') VALUES ('H','SLB-Diver-2');\n",
    "INSERT INTO piezometres ('nom','enregistreur') VALUES ('I','SLB-Diver');\n",
    "INSERT INTO piezometres ('nom','enregistreur') VALUES ('J','SLB-Diver-2');"
   ]
  },
  {
   "cell_type": "code",
   "execution_count": null,
   "metadata": {},
   "outputs": [],
   "source": [
    "%%sql\n",
    "SELECT * FROM piezometres;"
   ]
  },
  {
   "cell_type": "code",
   "execution_count": null,
   "metadata": {},
   "outputs": [],
   "source": [
    "%%sql\n",
    "INSERT INTO piezometres ('nom','enregistreur') VALUES ('E','SLB-Diver-CTD');"
   ]
  },
  {
   "cell_type": "markdown",
   "metadata": {},
   "source": [
    "### Insertion de niveaux enregistrés"
   ]
  },
  {
   "cell_type": "code",
   "execution_count": null,
   "metadata": {},
   "outputs": [],
   "source": [
    "%%sql\n",
    "INSERT INTO niveaux ('nom_piezo', 'date_releve', 'niveau') VALUES ('F','2016-04-27', '23.4');\n",
    "INSERT INTO niveaux ('nom_piezo', 'date_releve', 'niveau') VALUES ('G','2016-02-17', '22.3');\n",
    "INSERT INTO niveaux ('nom_piezo', 'date_releve', 'niveau') VALUES ('I','2016-07-19', '22.8');\n",
    "INSERT INTO niveaux ('nom_piezo', 'date_releve', 'niveau') VALUES ('F','2016-09-07', '23.4');\n",
    "INSERT INTO niveaux ('nom_piezo', 'date_releve', 'niveau') VALUES ('F','2016-11-13', '21.3');\n",
    "INSERT INTO niveaux ('nom_piezo', 'date_releve', 'niveau') VALUES ('F','2017-02-28', '20.1');\n",
    "INSERT INTO niveaux ('nom_piezo', 'date_releve', 'niveau') VALUES ('H','2017-02-17', '36.6');\n",
    "INSERT INTO niveaux ('nom_piezo', 'date_releve', 'niveau') VALUES ('H','2018-06-27', '36.1');\n",
    "INSERT INTO niveaux ('nom_piezo', 'date_releve', 'niveau') VALUES ('G','2016-09-22', '21.0');\n",
    "INSERT INTO niveaux ('nom_piezo', 'date_releve', 'niveau') VALUES ('G','2017-02-22', '21.0');\n",
    "INSERT INTO niveaux ('nom_piezo', 'date_releve', 'niveau') VALUES ('F','2017-07-04', '19.6');\n",
    "INSERT INTO niveaux ('nom_piezo', 'date_releve', 'niveau') VALUES ('F','2017-10-14', '20.5');\n",
    "INSERT INTO niveaux ('nom_piezo', 'date_releve', 'niveau') VALUES ('F','2017-12-11', '23.4');\n",
    "INSERT INTO niveaux ('nom_piezo', 'date_releve', 'niveau') VALUES ('F','2018-05-17', '19.2');\n",
    "INSERT INTO niveaux ('nom_piezo', 'date_releve', 'niveau') VALUES ('F','2018-08-14', '21.9');\n",
    "INSERT INTO niveaux ('nom_piezo', 'date_releve', 'niveau') VALUES ('F','2018-12-09', '22.7');\n",
    "INSERT INTO niveaux ('nom_piezo', 'date_releve', 'niveau') VALUES ('F','2019-02-17', '23.9');\n",
    "INSERT INTO niveaux ('nom_piezo', 'date_releve', 'niveau') VALUES ('F','2019-07-29', '22.5');\n",
    "INSERT INTO niveaux ('nom_piezo', 'date_releve', 'niveau') VALUES ('E','2018-12-17', '48.1');\n",
    "INSERT INTO niveaux ('nom_piezo', 'date_releve', 'niveau') VALUES ('E','2019-01-21', '42.4');\n",
    "INSERT INTO niveaux ('nom_piezo', 'date_releve', 'niveau') VALUES ('E','2019-07-12', '40.7');\n",
    "INSERT INTO niveaux ('nom_piezo', 'date_releve', 'niveau') VALUES ('E','2019-08-01', '39.9');\n",
    "INSERT INTO niveaux ('nom_piezo', 'date_releve', 'niveau') VALUES ('E','2019-10-22', '37.1');\n",
    "INSERT INTO niveaux ('nom_piezo', 'date_releve', 'niveau') VALUES ('E','2017-11-09', '38.9');\n",
    "INSERT INTO niveaux ('nom_piezo', 'date_releve', 'niveau') VALUES ('E','2020-01-20', '40.5');"
   ]
  },
  {
   "cell_type": "code",
   "execution_count": null,
   "metadata": {
    "scrolled": true
   },
   "outputs": [],
   "source": [
    "%%sql\n",
    "SELECT * FROM niveaux ORDER BY nom_piezo, date_releve;"
   ]
  },
  {
   "cell_type": "markdown",
   "metadata": {},
   "source": [
    "### Rechercher les enregistreurs installés dans les piezomètres ainsi que tous les niveaux enregistrés"
   ]
  },
  {
   "cell_type": "markdown",
   "metadata": {},
   "source": [
    "<div class=\"alert alert-block alert-success\">\n",
    "    Ecrire une requête premettant d'afficher pour chaque piézomètre le type d'enregistreur installé et les niveaux relevés\n",
    "</div>  "
   ]
  },
  {
   "cell_type": "code",
   "execution_count": null,
   "metadata": {},
   "outputs": [],
   "source": []
  },
  {
   "cell_type": "markdown",
   "metadata": {},
   "source": [
    "### Utiliser pandas pour afficher l'historique des relevés sur  différents piézomètres\n",
    "<div class=\"alert alert-block alert-info\">\n",
    "    <b>Tip:</b> Grâce à l'extension ipython-sql, il est possible de récupérer la réponse à une requête SQL dans un dataframe pandas et d'utiliser le dataframe pour produire une sortie graphique. <br> Pour information, il est aussi possible d'interroger directement une base de données avec pandas via une requête sql (cf. <code>pd.read_sql(...)</code>)\n",
    "</div>  "
   ]
  },
  {
   "cell_type": "markdown",
   "metadata": {},
   "source": [
    "Afficher un graphique de l'évolution temporelle des niveaux dans le pizéomètre F"
   ]
  },
  {
   "cell_type": "code",
   "execution_count": null,
   "metadata": {},
   "outputs": [],
   "source": [
    "out = %sql SELECT date_releve, niveau FROM piezometres INNER JOIN niveaux ON piezometres.nom=niveaux.nom_piezo WHERE piezometres.nom=='F' ORDER BY date_releve;\n",
    "df = out.DataFrame()"
   ]
  },
  {
   "cell_type": "code",
   "execution_count": null,
   "metadata": {},
   "outputs": [],
   "source": [
    "df.head()"
   ]
  },
  {
   "cell_type": "code",
   "execution_count": null,
   "metadata": {},
   "outputs": [],
   "source": [
    "df['date_releve'] = pd.to_datetime(df['date_releve'])\n",
    "df.set_index('date_releve', inplace=True)"
   ]
  },
  {
   "cell_type": "code",
   "execution_count": null,
   "metadata": {},
   "outputs": [],
   "source": [
    "fig, ax = plt.subplots(figsize=(10,6))\n",
    "df.plot(title='Evolution des niveaux dans le piézomètre F', ax=ax, style='o-')\n",
    "ax.set_xlabel(\"date\")\n",
    "ax.set_ylabel(\"niveau [m]\")"
   ]
  },
  {
   "cell_type": "markdown",
   "metadata": {},
   "source": [
    "<div class=\"alert alert-block alert-success\">\n",
    "    Ecrire une requête et le code python associé pour afficher un graphique montrant au cours du temps les niveaux inférieurs à 40m dans les relevés du pizéomètre E \n",
    "</div>  "
   ]
  },
  {
   "cell_type": "code",
   "execution_count": null,
   "metadata": {},
   "outputs": [],
   "source": []
  }
 ],
 "metadata": {
  "kernelspec": {
   "display_name": "Python 3",
   "language": "python",
   "name": "python3"
  },
  "language_info": {
   "codemirror_mode": {
    "name": "ipython",
    "version": 3
   },
   "file_extension": ".py",
   "mimetype": "text/x-python",
   "name": "python",
   "nbconvert_exporter": "python",
   "pygments_lexer": "ipython3",
   "version": "3.6.9"
  }
 },
 "nbformat": 4,
 "nbformat_minor": 1
}
