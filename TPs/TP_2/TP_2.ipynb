{
 "cells": [
  {
   "cell_type": "markdown",
   "metadata": {},
   "source": [
    "# Séance 2 : Introduction aux SIG \n",
    " \n",
    "### SIG et Géomatique – Travaux Pratiques\n",
    "O. Kaufmann, 2020, 2023.\n"
   ]
  },
  {
   "cell_type": "code",
   "execution_count": 1,
   "metadata": {},
   "outputs": [
    {
     "name": "stdout",
     "output_type": "stream",
     "text": [
      "# @info: Exécutez-moi pour cacher le code, puis sauvegardez le notebook\n"
     ]
    }
   ],
   "source": [
    "# @info: Exécutez-moi pour activer les questions interactives\n",
    "# -----------------------------------------------------------\n",
    "\n",
    "from IPython.display import HTML\n",
    "import codecs\n",
    "\n",
    "# @hidden\n",
    "HTML('''\n",
    "<script>\n",
    "code_show=true;\n",
    "function code_toggle() {\n",
    " if (code_show){\n",
    "  $('.cm-comment:contains(@hidden)').closest('div.input').hide();\n",
    " } else {\n",
    "  $('.cm-comment:contains(@hidden)').closest('div.input').show();\n",
    " }\n",
    " code_show = !code_show\n",
    "}\n",
    "$( document ).ready(code_toggle);\n",
    "</script>\n",
    "<div># @info: Exécutez-moi pour activer les questions interactives </div>\n",
    "''')"
   ]
  },
  {
   "cell_type": "markdown",
   "metadata": {},
   "source": [
    "***\n",
    "## 1. Imports"
   ]
  },
  {
   "cell_type": "code",
   "execution_count": 2,
   "metadata": {},
   "outputs": [],
   "source": [
    "%matplotlib inline\n",
    "import pandas as pd\n",
    "import geopandas as gpd\n",
    "import numpy as np"
   ]
  },
  {
   "cell_type": "markdown",
   "metadata": {},
   "source": [
    "***\n",
    "## 2. Partie 1 - QGIS"
   ]
  },
  {
   "cell_type": "markdown",
   "metadata": {},
   "source": [
    "<div class=\"alert alert-block alert-success\">\n",
    "\t<b>2.1 Préparation</b>\n",
    "</div>"
   ]
  },
  {
   "cell_type": "markdown",
   "metadata": {},
   "source": [
    "<div class=\"alert alert-block alert-warning\">\n",
    "<b>Question: </b><br>1. Ouvrir une nouvelle carte dans QGIS. Définir le CRS de la carte en coordonnées Lambert Belge 72. Y ajouter les cartes topographiques 58_5 et 58_6.\n",
    "</div>"
   ]
  },
  {
   "cell_type": "markdown",
   "metadata": {},
   "source": [
    "<div class=\"alert alert-block alert-warning\">\n",
    "<b>Question: </b><br>2. Ajouter l’extrait de la carte géologique au 1/40.000 de la région référencée à la séance précédente (une carte nommée cartegeol_modified.tif est mise à votre disposition si vous ne souhaitez pas continuer avec le résultat que vous avez obtenu lors de la séance précédente).\n",
    "</div>"
   ]
  },
  {
   "cell_type": "markdown",
   "metadata": {},
   "source": [
    "<div class=\"alert alert-block alert-success\">\n",
    "\t<b>2.2 Vectoriser les aires d’affleurement des étages du Primaire dans une aire d’intérêt </b>\n",
    "</div>"
   ]
  },
  {
   "cell_type": "markdown",
   "metadata": {},
   "source": [
    "<div class=\"alert alert-block alert-warning\">\n",
    "<b>Question: </b><br>1. Créer une couche figurant l’extension de l’aire d’intérêt dans le geopackage et la nommer aoi.\n",
    "    \n",
    "    aoi : 168200 m <XL< 173200 m ; 85500 m <YL< 88000 m.\n",
    "</div>"
   ]
  },
  {
   "cell_type": "markdown",
   "metadata": {},
   "source": [
    "<div class=\"alert alert-block alert-warning\">\n",
    "<b>Question: </b><br>2. Avant de débuter l’édition ajouter les plug-ins ‘Geometry checker’ et ‘Topology checker’ charger la barre d’outils ‘advanced digitizing tools’ et examiner les options d’édition. Examiner les options de ‘snapping’ et d’édition topologique.\n",
    "</div>"
   ]
  },
  {
   "cell_type": "markdown",
   "metadata": {},
   "source": [
    "<div class=\"alert alert-block alert-warning\">\n",
    "<b>Question: </b><br>3. Créer la couche ‘etages’ pour y stocker les aires d’affleurement. Démarrer en créant une zone couvrant toute l’aire d’intérêt, puis procéder en la découpant selon les limites entre étages. Stocker l’abréviation associée à l’étage géologique dans un attribut (Les abréviations sont parfois peu lisibles. Les valeurs rencontrées sont Fr1p, Fr1m, Fr1o, Gvb, Gva, Cobm, Cobn, Coa et Bt.\n",
    "</div>"
   ]
  },
  {
   "cell_type": "markdown",
   "metadata": {},
   "source": [
    "<div class=\"alert alert-block alert-warning\">\n",
    "<b>Question: </b><br>4. Utiliser les outils d’édition topologiques pour contrôler le résultat, notamment l’absence de trous et de recouvrement et pour modifier les frontières là où c’est nécessaire.\n",
    "</div>"
   ]
  },
  {
   "cell_type": "markdown",
   "metadata": {},
   "source": [
    "<div class=\"alert alert-block alert-warning\">\n",
    "<b>Question: </b><br>5. Une fois tous les ensembles de la zone vectorisés, calculer l’aire occupée par chacune des surfaces crées et l'ajouter dans un champ.\n",
    "</div>"
   ]
  },
  {
   "cell_type": "markdown",
   "metadata": {},
   "source": [
    "<div class=\"alert alert-block alert-warning\">\n",
    "<b>Question: </b><br>6. Vectoriser également le tracé des filons minéralisés dans cette zone en distinguant les tracés en trait plein des tracés hypothétiques en pointillés et en indiquant le type de minéralisation que l’on y rencontre (Py : pyrite, Fe : oxydes de Fer, Ba : Barite, Pb : galène...). Assurez-vous que le SCR de la couche est en Lambert 72.\n",
    "</div>"
   ]
  },
  {
   "cell_type": "markdown",
   "metadata": {},
   "source": [
    "<div class=\"alert alert-block alert-success\">\n",
    "\t<b>2.3 Analyser et traiter des informations (Vecteur)</b>\n",
    "</div>"
   ]
  },
  {
   "cell_type": "markdown",
   "metadata": {},
   "source": [
    "<div class=\"alert alert-block alert-warning\">\n",
    "<b>Question: </b><br>1. En utilisant les outils de geoprocessing, construire une zone tampon de 50m de part et d’autre des filons.\n",
    "</div>"
   ]
  },
  {
   "cell_type": "markdown",
   "metadata": {},
   "source": [
    "<div class=\"alert alert-block alert-warning\">\n",
    "<b>Question: </b><br>2. Sélectionner les zones où l’étage Givétien affleure et situées à 50m au plus d’un filon minéralisé en plomb (Pb sur la carte). Sauvez la sélection comme une nouvelle couche nommée ‘Pb_Gv’ dans le geopackage.\n",
    "</div>"
   ]
  },
  {
   "cell_type": "markdown",
   "metadata": {},
   "source": [
    "<div class=\"alert alert-block alert-warning\">\n",
    "<b>Question: </b><br>3. Calculer l’aire correspondant à cette sélection spatiale.\n",
    "</div>"
   ]
  },
  {
   "cell_type": "markdown",
   "metadata": {},
   "source": [
    "***\n",
    "## 3. Partie 2 - Notebook"
   ]
  },
  {
   "cell_type": "markdown",
   "metadata": {},
   "source": [
    "<div class=\"alert alert-block alert-success\">\n",
    "\t<b>3.1 Préparation</b>\n",
    "</div>"
   ]
  },
  {
   "cell_type": "code",
   "execution_count": 3,
   "metadata": {},
   "outputs": [],
   "source": [
    "geology_geopackage = 'Data/geol.gpkg' # mettre ici le chemin relatif vers votre geopackage\n",
    "layer = 'etages' # mettre ici le nom de la couche où les polygones relatifs aux différents étages géologiques ont été stockés\n",
    "mesures_filename = 'Data/mesures.csv' # mettre ici le chemin relatif vers le fichier des mesures"
   ]
  },
  {
   "cell_type": "markdown",
   "metadata": {},
   "source": [
    "<div class=\"alert alert-block alert-warning\">\n",
    "<b>Question: </b><br>1. Charger la couche des étages géologiques dans un GéoDataframe depuis le geopackage téléchargé\n",
    "</div>"
   ]
  },
  {
   "cell_type": "code",
   "execution_count": null,
   "metadata": {},
   "outputs": [
    {
     "data": {
      "text/html": [
       "<div>\n",
       "<style scoped>\n",
       "    .dataframe tbody tr th:only-of-type {\n",
       "        vertical-align: middle;\n",
       "    }\n",
       "\n",
       "    .dataframe tbody tr th {\n",
       "        vertical-align: top;\n",
       "    }\n",
       "\n",
       "    .dataframe thead th {\n",
       "        text-align: right;\n",
       "    }\n",
       "</style>\n",
       "<table border=\"1\" class=\"dataframe\">\n",
       "  <thead>\n",
       "    <tr style=\"text-align: right;\">\n",
       "      <th></th>\n",
       "      <th>Etage</th>\n",
       "      <th>Aire</th>\n",
       "      <th>geometry</th>\n",
       "    </tr>\n",
       "  </thead>\n",
       "  <tbody>\n",
       "    <tr>\n",
       "      <th>0</th>\n",
       "      <td>Gva</td>\n",
       "      <td>1.539277e+06</td>\n",
       "      <td>POLYGON ((172200.000 88000.000, 171970.000 878...</td>\n",
       "    </tr>\n",
       "    <tr>\n",
       "      <th>1</th>\n",
       "      <td>Fr1p</td>\n",
       "      <td>1.188538e+06</td>\n",
       "      <td>POLYGON ((168200.000 87540.000, 168520.000 876...</td>\n",
       "    </tr>\n",
       "    <tr>\n",
       "      <th>2</th>\n",
       "      <td>Fr1m</td>\n",
       "      <td>3.027757e+05</td>\n",
       "      <td>POLYGON ((171160.000 88000.000, 171080.000 879...</td>\n",
       "    </tr>\n",
       "    <tr>\n",
       "      <th>3</th>\n",
       "      <td>Fr1m</td>\n",
       "      <td>3.950200e+04</td>\n",
       "      <td>POLYGON ((169820.000 88000.000, 169750.000 879...</td>\n",
       "    </tr>\n",
       "    <tr>\n",
       "      <th>4</th>\n",
       "      <td>Fr1m</td>\n",
       "      <td>1.878639e+05</td>\n",
       "      <td>POLYGON ((168200.000 87830.000, 168270.000 878...</td>\n",
       "    </tr>\n",
       "  </tbody>\n",
       "</table>\n",
       "</div>"
      ],
      "text/plain": [
       "  Etage          Aire                                           geometry\n",
       "0   Gva  1.539277e+06  POLYGON ((172200.000 88000.000, 171970.000 878...\n",
       "1  Fr1p  1.188538e+06  POLYGON ((168200.000 87540.000, 168520.000 876...\n",
       "2  Fr1m  3.027757e+05  POLYGON ((171160.000 88000.000, 171080.000 879...\n",
       "3  Fr1m  3.950200e+04  POLYGON ((169820.000 88000.000, 169750.000 879...\n",
       "4  Fr1m  1.878639e+05  POLYGON ((168200.000 87830.000, 168270.000 878..."
      ]
     },
     "execution_count": 4,
     "metadata": {},
     "output_type": "execute_result"
    }
   ],
   "source": [
    "# Résultat attendu ci-dessous..."
   ]
  },
  {
   "cell_type": "markdown",
   "metadata": {},
   "source": [
    "<div class=\"alert alert-block alert-warning\">\n",
    "<b>Question: </b><br>2. Affichez une carte des étages\n",
    "</div>"
   ]
  },
  {
   "cell_type": "code",
   "execution_count": null,
   "metadata": {},
   "outputs": [
    {
     "data": {
      "text/plain": [
       "<AxesSubplot:>"
      ]
     },
     "execution_count": 5,
     "metadata": {},
     "output_type": "execute_result"
    },
    {
     "data": {
      "image/png": "[encoded data removed]",
      "text/plain": [
       "<Figure size 432x288 with 1 Axes>"
      ]
     },
     "metadata": {
      "needs_background": "light"
     },
     "output_type": "display_data"
    }
   ],
   "source": [
    "# Résultat attendu ci-dessous..."
   ]
  },
  {
   "cell_type": "markdown",
   "metadata": {},
   "source": [
    "<div class=\"alert alert-block alert-warning\">\n",
    "<b>Question: </b><br>3. Créer un ensemble de stations réparties tous les 50m sur un profil de 2 km de long ayant pour origine le point de coordonnées (171000, 86000) dans le système EPSG:31300 et d'Azimut N330°\n",
    "</div>"
   ]
  },
  {
   "cell_type": "markdown",
   "metadata": {},
   "source": [
    "<div class=\"alert alert-block alert-info\">\n",
    "<b>Info:</b><br> Créer tout d'abord un vecteur reprenant les distances à l'origine des différentes stations du profil dans un repère local.  <br>\n",
    "Attention, on souhaite une station à chacune des deux extrémités du profil.\n",
    "</div>"
   ]
  },
  {
   "cell_type": "code",
   "execution_count": 6,
   "metadata": {},
   "outputs": [],
   "source": []
  },
  {
   "cell_type": "code",
   "execution_count": null,
   "metadata": {},
   "outputs": [
    {
     "data": {
      "text/plain": [
       "array([   0,   50,  100,  150,  200,  250,  300,  350,  400,  450,  500,\n",
       "        550,  600,  650,  700,  750,  800,  850,  900,  950, 1000, 1050,\n",
       "       1100, 1150, 1200, 1250, 1300, 1350, 1400, 1450, 1500, 1550, 1600,\n",
       "       1650, 1700, 1750, 1800, 1850, 1900, 1950, 2000])"
      ]
     },
     "execution_count": 7,
     "metadata": {},
     "output_type": "execute_result"
    }
   ],
   "source": [
    "# Résultat attendu ci-dessous..."
   ]
  },
  {
   "cell_type": "markdown",
   "metadata": {},
   "source": [
    "<div class=\"alert alert-block alert-info\">\n",
    "<b>Info:</b><br> Créer ensuite les vecteurs XL et YL reprenant les coordonnées des mesures dans le repère global dans le système EPSG:31370.\n",
    "</div>"
   ]
  },
  {
   "cell_type": "code",
   "execution_count": 8,
   "metadata": {},
   "outputs": [
    {
     "name": "stdout",
     "output_type": "stream",
     "text": [
      "# @info: Exécutez-moi pour accéder à l'aide interactive\n"
     ]
    }
   ],
   "source": [
    "# @hidden\n",
    "sx=b'3c64697620636c6173733d22616c65727420616c6572742d626c6f636b20616c6572742d7761726e696e67223e0a09536920766f757320c3aa74726520626c6f7175c3a92865292c0a2020202020202020202020202020202020202020616666696368657a20756e6520736f6c7574696f6e20656e207072657373616e7420737572206c6520626f75746f6e2063692d646573736f75732e3c62723e0a095665696c6c657a20c3a0203c623e636f6d7072656e6472653c2f623e206c6120736f6c7574696f6e0a2020202020202020202020202020202020202020657420c3a0206c61207465737465722070617220766f75732d6dc3aa6d652e0a3c2f6469763e203c62723e0a0a3c627574746f6e20646174612d746f67676c653d22636f6c6c617073652220646174612d7461726765743d222372657665616c5f30303030223e0a20202020202020202020202020202020202020204166666963686572206c6520636f64653c2f627574746f6e3e0a3c6469762069643d2272657665616c5f303030302220636c6173733d22636f6c6c61707365223e0a3c62723e3c636f64653e584c5f6f726967696e203d203137313030302e3c62723e0a594c5f6f726967696e203d2038363030302e3c62723e0a617a696d7574203d203333302e2a6e702e70692f3138302e202320616e676c652065787072696dc3a920656e2072616469616e730a3c2f636f64653e0a3c2f6469763e0a0a2020202020202020202020202020202020202020'\n",
    "HTML(codecs.decode(codecs.decode(sx,'hex'), 'utf8'))"
   ]
  },
  {
   "cell_type": "code",
   "execution_count": 9,
   "metadata": {},
   "outputs": [
    {
     "name": "stdout",
     "output_type": "stream",
     "text": [
      "# @info: Exécutez-moi pour accéder à l'aide interactive\n"
     ]
    }
   ],
   "source": [
    "# @hidden\n",
    "sx=b'3c64697620636c6173733d22616c65727420616c6572742d626c6f636b20616c6572742d7761726e696e67223e0a09536920766f757320c3aa74726520626c6f7175c3a92865292c0a2020202020202020202020202020202020202020616666696368657a20756e6520736f6c7574696f6e20656e207072657373616e7420737572206c6520626f75746f6e2063692d646573736f75732e3c62723e0a095665696c6c657a20c3a0203c623e636f6d7072656e6472653c2f623e206c6120736f6c7574696f6e0a2020202020202020202020202020202020202020657420c3a0206c61207465737465722070617220766f75732d6dc3aa6d652e0a3c2f6469763e203c62723e0a0a3c627574746f6e20646174612d746f67676c653d22636f6c6c617073652220646174612d7461726765743d222372657665616c5f30303031223e0a20202020202020202020202020202020202020204166666963686572206c6520636f64653c2f627574746f6e3e0a3c6469762069643d2272657665616c5f303030312220636c6173733d22636f6c6c61707365223e0a3c62723e3c636f64653e584c203d20584c5f6f726967696e2b642a6e702e73696e28617a696d7574293c62723e0a584c0a3c2f636f64653e0a3c2f6469763e0a0a2020202020202020202020202020202020202020'\n",
    "HTML(codecs.decode(codecs.decode(sx,'hex'), 'utf8'))"
   ]
  },
  {
   "cell_type": "code",
   "execution_count": 10,
   "metadata": {},
   "outputs": [],
   "source": []
  },
  {
   "cell_type": "code",
   "execution_count": null,
   "metadata": {},
   "outputs": [
    {
     "data": {
      "text/plain": [
       "array([86000.        , 86043.30127019, 86086.60254038, 86129.90381057,\n",
       "       86173.20508076, 86216.50635095, 86259.80762114, 86303.10889132,\n",
       "       86346.41016151, 86389.7114317 , 86433.01270189, 86476.31397208,\n",
       "       86519.61524227, 86562.91651246, 86606.21778265, 86649.51905284,\n",
       "       86692.82032303, 86736.12159322, 86779.42286341, 86822.7241336 ,\n",
       "       86866.02540378, 86909.32667397, 86952.62794416, 86995.92921435,\n",
       "       87039.23048454, 87082.53175473, 87125.83302492, 87169.13429511,\n",
       "       87212.4355653 , 87255.73683549, 87299.03810568, 87342.33937587,\n",
       "       87385.64064606, 87428.94191624, 87472.24318643, 87515.54445662,\n",
       "       87558.84572681, 87602.146997  , 87645.44826719, 87688.74953738,\n",
       "       87732.05080757])"
      ]
     },
     "execution_count": 11,
     "metadata": {},
     "output_type": "execute_result"
    }
   ],
   "source": [
    "# Résultat attendu ci-dessous..."
   ]
  },
  {
   "cell_type": "markdown",
   "metadata": {},
   "source": [
    "<div class=\"alert alert-block alert-info\">\n",
    "<b>Info:</b><br> Rassemblez toutes les informations dans un Dataframe.\n",
    "</div>"
   ]
  },
  {
   "cell_type": "code",
   "execution_count": 12,
   "metadata": {},
   "outputs": [
    {
     "name": "stdout",
     "output_type": "stream",
     "text": [
      "# @info: Exécutez-moi pour accéder à l'aide interactive\n"
     ]
    }
   ],
   "source": [
    "# @hidden\n",
    "sx=b'3c64697620636c6173733d22616c65727420616c6572742d626c6f636b20616c6572742d7761726e696e67223e0a09536920766f757320c3aa74726520626c6f7175c3a92865292c0a2020202020202020202020202020202020202020616666696368657a20756e6520736f6c7574696f6e20656e207072657373616e7420737572206c6520626f75746f6e2063692d646573736f75732e3c62723e0a095665696c6c657a20c3a0203c623e636f6d7072656e6472653c2f623e206c6120736f6c7574696f6e0a2020202020202020202020202020202020202020657420c3a0206c61207465737465722070617220766f75732d6dc3aa6d652e0a3c2f6469763e203c62723e0a0a3c627574746f6e20646174612d746f67676c653d22636f6c6c617073652220646174612d7461726765743d222372657665616c5f30303032223e0a20202020202020202020202020202020202020204166666963686572206c6520636f64653c2f627574746f6e3e0a3c6469762069643d2272657665616c5f303030322220636c6173733d22636f6c6c61707365223e0a3c62723e3c636f64653e6466203d2070642e446174614672616d652e66726f6d5f64696374287b2764697374616e6365273a642c2027584c273a584c2c2027594c273a594c207d293c62723e0a64662e7365745f696e646578282764697374616e6365272c20696e706c6163653d54727565293c62723e0a64662e68656164283130290a3c2f636f64653e0a3c2f6469763e0a0a2020202020202020202020202020202020202020'\n",
    "HTML(codecs.decode(codecs.decode(sx,'hex'), 'utf8'))"
   ]
  },
  {
   "cell_type": "code",
   "execution_count": null,
   "metadata": {},
   "outputs": [
    {
     "data": {
      "text/html": [
       "<div>\n",
       "<style scoped>\n",
       "    .dataframe tbody tr th:only-of-type {\n",
       "        vertical-align: middle;\n",
       "    }\n",
       "\n",
       "    .dataframe tbody tr th {\n",
       "        vertical-align: top;\n",
       "    }\n",
       "\n",
       "    .dataframe thead th {\n",
       "        text-align: right;\n",
       "    }\n",
       "</style>\n",
       "<table border=\"1\" class=\"dataframe\">\n",
       "  <thead>\n",
       "    <tr style=\"text-align: right;\">\n",
       "      <th></th>\n",
       "      <th>XL</th>\n",
       "      <th>YL</th>\n",
       "    </tr>\n",
       "    <tr>\n",
       "      <th>distance</th>\n",
       "      <th></th>\n",
       "      <th></th>\n",
       "    </tr>\n",
       "  </thead>\n",
       "  <tbody>\n",
       "    <tr>\n",
       "      <th>0</th>\n",
       "      <td>171000.0</td>\n",
       "      <td>86000.000000</td>\n",
       "    </tr>\n",
       "    <tr>\n",
       "      <th>50</th>\n",
       "      <td>170975.0</td>\n",
       "      <td>86043.301270</td>\n",
       "    </tr>\n",
       "    <tr>\n",
       "      <th>100</th>\n",
       "      <td>170950.0</td>\n",
       "      <td>86086.602540</td>\n",
       "    </tr>\n",
       "    <tr>\n",
       "      <th>150</th>\n",
       "      <td>170925.0</td>\n",
       "      <td>86129.903811</td>\n",
       "    </tr>\n",
       "    <tr>\n",
       "      <th>200</th>\n",
       "      <td>170900.0</td>\n",
       "      <td>86173.205081</td>\n",
       "    </tr>\n",
       "    <tr>\n",
       "      <th>250</th>\n",
       "      <td>170875.0</td>\n",
       "      <td>86216.506351</td>\n",
       "    </tr>\n",
       "    <tr>\n",
       "      <th>300</th>\n",
       "      <td>170850.0</td>\n",
       "      <td>86259.807621</td>\n",
       "    </tr>\n",
       "    <tr>\n",
       "      <th>350</th>\n",
       "      <td>170825.0</td>\n",
       "      <td>86303.108891</td>\n",
       "    </tr>\n",
       "    <tr>\n",
       "      <th>400</th>\n",
       "      <td>170800.0</td>\n",
       "      <td>86346.410162</td>\n",
       "    </tr>\n",
       "    <tr>\n",
       "      <th>450</th>\n",
       "      <td>170775.0</td>\n",
       "      <td>86389.711432</td>\n",
       "    </tr>\n",
       "  </tbody>\n",
       "</table>\n",
       "</div>"
      ],
      "text/plain": [
       "                XL            YL\n",
       "distance                        \n",
       "0         171000.0  86000.000000\n",
       "50        170975.0  86043.301270\n",
       "100       170950.0  86086.602540\n",
       "150       170925.0  86129.903811\n",
       "200       170900.0  86173.205081\n",
       "250       170875.0  86216.506351\n",
       "300       170850.0  86259.807621\n",
       "350       170825.0  86303.108891\n",
       "400       170800.0  86346.410162\n",
       "450       170775.0  86389.711432"
      ]
     },
     "execution_count": 12,
     "metadata": {},
     "output_type": "execute_result"
    }
   ],
   "source": [
    "# Résultat attendu ci-dessous..."
   ]
  },
  {
   "cell_type": "markdown",
   "metadata": {},
   "source": [
    "<div class=\"alert alert-block alert-warning\">\n",
    "<b>Question: </b><br>4. Charger le fichier 'mesures.csv' \n",
    "</div>"
   ]
  },
  {
   "cell_type": "code",
   "execution_count": null,
   "metadata": {},
   "outputs": [
    {
     "data": {
      "text/html": [
       "<div>\n",
       "<style scoped>\n",
       "    .dataframe tbody tr th:only-of-type {\n",
       "        vertical-align: middle;\n",
       "    }\n",
       "\n",
       "    .dataframe tbody tr th {\n",
       "        vertical-align: top;\n",
       "    }\n",
       "\n",
       "    .dataframe thead th {\n",
       "        text-align: right;\n",
       "    }\n",
       "</style>\n",
       "<table border=\"1\" class=\"dataframe\">\n",
       "  <thead>\n",
       "    <tr style=\"text-align: right;\">\n",
       "      <th></th>\n",
       "      <th>mesure</th>\n",
       "    </tr>\n",
       "    <tr>\n",
       "      <th>d</th>\n",
       "      <th></th>\n",
       "    </tr>\n",
       "  </thead>\n",
       "  <tbody>\n",
       "    <tr>\n",
       "      <th>0</th>\n",
       "      <td>6.698253</td>\n",
       "    </tr>\n",
       "    <tr>\n",
       "      <th>50</th>\n",
       "      <td>-1.181209</td>\n",
       "    </tr>\n",
       "    <tr>\n",
       "      <th>100</th>\n",
       "      <td>-3.078386</td>\n",
       "    </tr>\n",
       "    <tr>\n",
       "      <th>150</th>\n",
       "      <td>-31.438602</td>\n",
       "    </tr>\n",
       "    <tr>\n",
       "      <th>200</th>\n",
       "      <td>-25.528216</td>\n",
       "    </tr>\n",
       "    <tr>\n",
       "      <th>250</th>\n",
       "      <td>-21.775117</td>\n",
       "    </tr>\n",
       "    <tr>\n",
       "      <th>300</th>\n",
       "      <td>-58.664446</td>\n",
       "    </tr>\n",
       "    <tr>\n",
       "      <th>350</th>\n",
       "      <td>-13.240636</td>\n",
       "    </tr>\n",
       "    <tr>\n",
       "      <th>400</th>\n",
       "      <td>-22.968503</td>\n",
       "    </tr>\n",
       "    <tr>\n",
       "      <th>450</th>\n",
       "      <td>24.361062</td>\n",
       "    </tr>\n",
       "  </tbody>\n",
       "</table>\n",
       "</div>"
      ],
      "text/plain": [
       "        mesure\n",
       "d             \n",
       "0     6.698253\n",
       "50   -1.181209\n",
       "100  -3.078386\n",
       "150 -31.438602\n",
       "200 -25.528216\n",
       "250 -21.775117\n",
       "300 -58.664446\n",
       "350 -13.240636\n",
       "400 -22.968503\n",
       "450  24.361062"
      ]
     },
     "execution_count": 13,
     "metadata": {},
     "output_type": "execute_result"
    }
   ],
   "source": [
    "# Résultat attendu ci-dessous..."
   ]
  },
  {
   "cell_type": "markdown",
   "metadata": {},
   "source": [
    "<div class=\"alert alert-block alert-warning\">\n",
    "<b>Question: </b><br>5. Faire une jointure entre les deux dataframes\n",
    "</div>"
   ]
  },
  {
   "cell_type": "code",
   "execution_count": null,
   "metadata": {},
   "outputs": [
    {
     "data": {
      "text/html": [
       "<div>\n",
       "<style scoped>\n",
       "    .dataframe tbody tr th:only-of-type {\n",
       "        vertical-align: middle;\n",
       "    }\n",
       "\n",
       "    .dataframe tbody tr th {\n",
       "        vertical-align: top;\n",
       "    }\n",
       "\n",
       "    .dataframe thead th {\n",
       "        text-align: right;\n",
       "    }\n",
       "</style>\n",
       "<table border=\"1\" class=\"dataframe\">\n",
       "  <thead>\n",
       "    <tr style=\"text-align: right;\">\n",
       "      <th></th>\n",
       "      <th>XL</th>\n",
       "      <th>YL</th>\n",
       "      <th>mesure</th>\n",
       "    </tr>\n",
       "    <tr>\n",
       "      <th>distance</th>\n",
       "      <th></th>\n",
       "      <th></th>\n",
       "      <th></th>\n",
       "    </tr>\n",
       "  </thead>\n",
       "  <tbody>\n",
       "    <tr>\n",
       "      <th>0</th>\n",
       "      <td>171000.0</td>\n",
       "      <td>86000.000000</td>\n",
       "      <td>6.698253</td>\n",
       "    </tr>\n",
       "    <tr>\n",
       "      <th>50</th>\n",
       "      <td>170975.0</td>\n",
       "      <td>86043.301270</td>\n",
       "      <td>-1.181209</td>\n",
       "    </tr>\n",
       "    <tr>\n",
       "      <th>100</th>\n",
       "      <td>170950.0</td>\n",
       "      <td>86086.602540</td>\n",
       "      <td>-3.078386</td>\n",
       "    </tr>\n",
       "    <tr>\n",
       "      <th>150</th>\n",
       "      <td>170925.0</td>\n",
       "      <td>86129.903811</td>\n",
       "      <td>-31.438602</td>\n",
       "    </tr>\n",
       "    <tr>\n",
       "      <th>200</th>\n",
       "      <td>170900.0</td>\n",
       "      <td>86173.205081</td>\n",
       "      <td>-25.528216</td>\n",
       "    </tr>\n",
       "    <tr>\n",
       "      <th>250</th>\n",
       "      <td>170875.0</td>\n",
       "      <td>86216.506351</td>\n",
       "      <td>-21.775117</td>\n",
       "    </tr>\n",
       "    <tr>\n",
       "      <th>300</th>\n",
       "      <td>170850.0</td>\n",
       "      <td>86259.807621</td>\n",
       "      <td>-58.664446</td>\n",
       "    </tr>\n",
       "    <tr>\n",
       "      <th>350</th>\n",
       "      <td>170825.0</td>\n",
       "      <td>86303.108891</td>\n",
       "      <td>-13.240636</td>\n",
       "    </tr>\n",
       "    <tr>\n",
       "      <th>400</th>\n",
       "      <td>170800.0</td>\n",
       "      <td>86346.410162</td>\n",
       "      <td>-22.968503</td>\n",
       "    </tr>\n",
       "    <tr>\n",
       "      <th>450</th>\n",
       "      <td>170775.0</td>\n",
       "      <td>86389.711432</td>\n",
       "      <td>24.361062</td>\n",
       "    </tr>\n",
       "  </tbody>\n",
       "</table>\n",
       "</div>"
      ],
      "text/plain": [
       "                XL            YL     mesure\n",
       "distance                                   \n",
       "0         171000.0  86000.000000   6.698253\n",
       "50        170975.0  86043.301270  -1.181209\n",
       "100       170950.0  86086.602540  -3.078386\n",
       "150       170925.0  86129.903811 -31.438602\n",
       "200       170900.0  86173.205081 -25.528216\n",
       "250       170875.0  86216.506351 -21.775117\n",
       "300       170850.0  86259.807621 -58.664446\n",
       "350       170825.0  86303.108891 -13.240636\n",
       "400       170800.0  86346.410162 -22.968503\n",
       "450       170775.0  86389.711432  24.361062"
      ]
     },
     "execution_count": 14,
     "metadata": {},
     "output_type": "execute_result"
    }
   ],
   "source": [
    "# Résultat attendu ci-dessous..."
   ]
  },
  {
   "cell_type": "markdown",
   "metadata": {},
   "source": [
    "<div class=\"alert alert-block alert-warning\">\n",
    "<b>Question: </b><br>6. Créer un geodataframe avec le résultat de l'étape précédente\n",
    "</div>"
   ]
  },
  {
   "cell_type": "code",
   "execution_count": 15,
   "metadata": {},
   "outputs": [],
   "source": [
    "gpd.points_from_xy?"
   ]
  },
  {
   "cell_type": "code",
   "execution_count": 16,
   "metadata": {},
   "outputs": [],
   "source": []
  },
  {
   "cell_type": "code",
   "execution_count": null,
   "metadata": {},
   "outputs": [
    {
     "data": {
      "text/plain": [
       "<AxesSubplot:>"
      ]
     },
     "execution_count": 17,
     "metadata": {},
     "output_type": "execute_result"
    },
    {
     "data": {
      "image/png": "[encoded data removed]",
      "text/plain": [
       "<Figure size 432x288 with 2 Axes>"
      ]
     },
     "metadata": {
      "needs_background": "light"
     },
     "output_type": "display_data"
    }
   ],
   "source": [
    "# Résultat attendu ci-dessous..."
   ]
  },
  {
   "cell_type": "markdown",
   "metadata": {},
   "source": [
    "<div class=\"alert alert-block alert-warning\">\n",
    "<b>Question: </b><br>7. Superposer les points sur la carte et afficher une légende\n",
    "</div>"
   ]
  },
  {
   "cell_type": "code",
   "execution_count": 18,
   "metadata": {},
   "outputs": [
    {
     "name": "stdout",
     "output_type": "stream",
     "text": [
      "# @info: Exécutez-moi pour accéder à l'aide interactive\n"
     ]
    }
   ],
   "source": [
    "# @hidden\n",
    "sx=b'3c64697620636c6173733d22616c65727420616c6572742d626c6f636b20616c6572742d7761726e696e67223e0a09536920766f757320c3aa74726520626c6f7175c3a92865292c0a2020202020202020202020202020202020202020616666696368657a20756e6520736f6c7574696f6e20656e207072657373616e7420737572206c6520626f75746f6e2063692d646573736f75732e3c62723e0a095665696c6c657a20c3a0203c623e636f6d7072656e6472653c2f623e206c6120736f6c7574696f6e0a2020202020202020202020202020202020202020657420c3a0206c61207465737465722070617220766f75732d6dc3aa6d652e0a3c2f6469763e203c62723e0a0a3c627574746f6e20646174612d746f67676c653d22636f6c6c617073652220646174612d7461726765743d222372657665616c5f30303033223e0a20202020202020202020202020202020202020204166666963686572206c6520636f64653c2f627574746f6e3e0a3c6469762069643d2272657665616c5f303030332220636c6173733d22636f6c6c61707365223e0a3c62723e3c636f64653e626173656d6170203d206574616765732e706c6f7428636f6c756d6e3d274574616765272c2066696773697a653d2831362c313029293c62723e0a73746174696f6e732e706c6f742861783d626173656d61702c20636f6c756d6e3d276d6573757265272c20636d61703d27686f74272c206c6567656e643d54727565292023206166666963686572206c657320706f696e7473206176656320756e6520636f756c657572207175692064c3a970656e64206465206c61206d65737572652c207574696c69736572206c612027636f6c6f726d61702720276a657427206574206166666963686572206c612027636f6c6f72626172270a3c2f636f64653e0a3c2f6469763e0a0a2020202020202020202020202020202020202020'\n",
    "HTML(codecs.decode(codecs.decode(sx,'hex'), 'utf8'))"
   ]
  },
  {
   "cell_type": "code",
   "execution_count": null,
   "metadata": {},
   "outputs": [
    {
     "data": {
      "text/plain": [
       "<AxesSubplot:>"
      ]
     },
     "execution_count": 18,
     "metadata": {},
     "output_type": "execute_result"
    },
    {
     "data": {
      "image/png": "[encoded data removed]",
      "text/plain": [
       "<Figure size 1152x720 with 2 Axes>"
      ]
     },
     "metadata": {
      "needs_background": "light"
     },
     "output_type": "display_data"
    }
   ],
   "source": [
    "# Résultat attendu ci-dessous..."
   ]
  },
  {
   "cell_type": "markdown",
   "metadata": {},
   "source": [
    "### Sauvegarder les points dans un geopackage"
   ]
  },
  {
   "cell_type": "code",
   "execution_count": 19,
   "metadata": {},
   "outputs": [
    {
     "name": "stdout",
     "output_type": "stream",
     "text": [
      "# @info: Exécutez-moi pour accéder à l'aide interactive\n"
     ]
    }
   ],
   "source": [
    "# @hidden\n",
    "sx=b'3c64697620636c6173733d22616c65727420616c6572742d626c6f636b20616c6572742d7761726e696e67223e0a09536920766f757320c3aa74726520626c6f7175c3a92865292c0a2020202020202020202020202020202020202020616666696368657a20756e6520736f6c7574696f6e20656e207072657373616e7420737572206c6520626f75746f6e2063692d646573736f75732e3c62723e0a095665696c6c657a20c3a0203c623e636f6d7072656e6472653c2f623e206c6120736f6c7574696f6e0a2020202020202020202020202020202020202020657420c3a0206c61207465737465722070617220766f75732d6dc3aa6d652e0a3c2f6469763e203c62723e0a0a3c627574746f6e20646174612d746f67676c653d22636f6c6c617073652220646174612d7461726765743d222372657665616c5f30303034223e0a20202020202020202020202020202020202020204166666963686572206c6520636f64653c2f627574746f6e3e0a3c6469762069643d2272657665616c5f303030342220636c6173733d22636f6c6c61707365223e0a3c62723e3c636f64653e73746174696f6e732e746f5f66696c65282773746174696f6e732e67706b67272c206472697665723d2247504b4722290a3c2f636f64653e0a3c2f6469763e0a0a2020202020202020202020202020202020202020'\n",
    "HTML(codecs.decode(codecs.decode(sx,'hex'), 'utf8'))"
   ]
  },
  {
   "cell_type": "markdown",
   "metadata": {},
   "source": [
    "### Recharger la couche dans le projet QGIS"
   ]
  }
 ],
 "metadata": {
  "kernelspec": {
   "display_name": "Python 3 (ipykernel)",
   "language": "python",
   "name": "python3"
  },
  "language_info": {
   "codemirror_mode": {
    "name": "ipython",
    "version": 3
   },
   "file_extension": ".py",
   "mimetype": "text/x-python",
   "name": "python",
   "nbconvert_exporter": "python",
   "pygments_lexer": "ipython3",
   "version": "3.8.10"
  }
 },
 "nbformat": 4,
 "nbformat_minor": 2
}
